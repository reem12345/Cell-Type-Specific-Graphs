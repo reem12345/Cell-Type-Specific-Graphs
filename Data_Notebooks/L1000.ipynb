{
 "cells": [
  {
   "cell_type": "markdown",
   "id": "d1a92d7a-d717-4aba-951a-9852ddf7ca6b",
   "metadata": {},
   "source": [
    "## This notebook processes the LINCS-L1000 dataset and generates the graphs and necessary files for subsequent model training."
   ]
  },
  {
   "cell_type": "code",
   "execution_count": null,
   "id": "a80c1726-d5ea-434e-80b2-d941c24edff4",
   "metadata": {},
   "outputs": [],
   "source": [
    "import scanpy as sc \n",
    "import pandas as pd\n",
    "import SEACells\n",
    "import numpy as np\n",
    "import matplotlib\n",
    "from statistics import mode\n",
    "import matplotlib.pyplot as plt\n",
    "from statistics import mode\n",
    "import sys \n",
    "sys.path.insert(0, '../')\n",
    "import utils\n",
    "from importlib import reload\n",
    "reload(utils)\n",
    "from utils import *\n",
    "import seaborn as sns\n",
    "# Some plotting aesthetics\n",
    "%matplotlib inline\n",
    "sns.set_style('ticks')\n",
    "matplotlib.rcParams['figure.dpi'] = 300\n",
    "\n",
    "# Input Data Directory\n",
    "data_path = \"/../Cell-Type-Specific-Graphs/Data/\"\n",
    "\n",
    "# Output Results Directory\n",
    "save_path_results = \"/../Cell-Type-Specific-Graphs/Results/\""
   ]
  },
  {
   "cell_type": "markdown",
   "id": "f5a0405c-7cb9-4733-a3b2-768cc3717fba",
   "metadata": {},
   "source": [
    "## Import the Data\n",
    "- Download from  https://f003.backblazeb2.com/file/chemCPA-datasets/lincs_full.h5ad.gz"
   ]
  },
  {
   "cell_type": "code",
   "execution_count": null,
   "id": "a94a9bb7-a5ae-42b1-ad54-4cf9b52a84ff",
   "metadata": {},
   "outputs": [],
   "source": [
    "adata = sc.read(f\"{data_path}lincs_full.h5ad\")\n",
    "adata"
   ]
  },
  {
   "cell_type": "code",
   "execution_count": null,
   "id": "3a2dbabd-d834-4cea-99a8-d0983b6f8896",
   "metadata": {},
   "outputs": [],
   "source": [
    "adata.var.reset_index(inplace = True)\n",
    "adata.var.rename({\"index\": \"gene_name\"}, axis=1, inplace=True)\n",
    "adata.var.set_index(\"gene_name\", inplace = True)\n",
    "adata.var"
   ]
  },
  {
   "cell_type": "code",
   "execution_count": null,
   "id": "ffd8ed04-2fb4-4253-8f5d-06e26fd3a1a2",
   "metadata": {},
   "outputs": [],
   "source": [
    "import re\n",
    "def remove_non_alphanumeric(input_string):\n",
    "    return re.sub(r'[^a-zA-Z0-9]', '', input_string)\n",
    "    \n",
    "adata.obs['condition'] = adata.obs['pert_iname'].apply(remove_non_alphanumeric)\n",
    "adata.obs.loc[adata.obs.condition == \"DMSO\", \"condition\"] = \"control\"\n",
    "print(adata.obs.condition.unique())\n",
    "adata.obs['cell_type'] = adata.obs['cell_id']\n",
    "adata.obs['dose_val'] = adata.obs['pert_dose'].astype(float) / np.max(adata.obs['pert_dose'].astype(float))\n",
    "adata.obs['cov_drug_dose'] = adata.obs.cell_type.astype(str) + '_' + adata.obs.condition.astype(str) + '_' + adata.obs.dose_val.astype(str)\n",
    "adata.obs['cov_drug'] = adata.obs.cell_type.astype(str) + '_' + adata.obs.condition.astype(str)\n",
    "adata.obs['eval_category'] = adata.obs['cov_drug']\n",
    "adata.obs['control'] = (adata.obs['condition'] == 'DMSO').astype(int)\n",
    "adata"
   ]
  },
  {
   "cell_type": "markdown",
   "id": "483ecb84-b8a6-4b3f-908f-36d74e78a357",
   "metadata": {},
   "source": [
    "## Plot a histogram of the number of samples available for each cell line–drug pair"
   ]
  },
  {
   "cell_type": "code",
   "execution_count": null,
   "id": "dcecf2d3-f9a1-49b4-a67c-1ecdcd4f35a3",
   "metadata": {},
   "outputs": [],
   "source": [
    "print(adata.obs.cov_drug.nunique())\n",
    "print(adata.obs.cell_type.nunique())\n",
    "print(adata.obs.condition.nunique())"
   ]
  },
  {
   "cell_type": "code",
   "execution_count": null,
   "id": "22fcc129-b275-4d1b-9d04-834d00381bc9",
   "metadata": {},
   "outputs": [],
   "source": [
    "cov_drug = adata.obs[\"cov_drug\"].astype(str).value_counts()\n",
    "cov_drug = cov_drug[cov_drug >= 50].sort_values(ascending=False)\n",
    "print(cov_drug.index.nunique())\n",
    "n = len(cov_drug)\n",
    "x = np.arange(n)\n",
    "font_size = 50\n",
    "plt.figure(figsize=(n/40 + 10, 20))   # ~40 bars per inch\n",
    "plt.bar(x, cov_drug.values, width=4.0, color = \"#B5345C\")\n",
    "plt.ylabel(\"Number of samples per cell line-drug pairs\", fontsize=font_size, labelpad=20)\n",
    "plt.xlabel(f\"(cell line-drug pairs) ={n}\", fontsize=font_size, labelpad=20)\n",
    "plt.xticks([])                           # keep labels hidden\n",
    "plt.yticks(fontsize=font_size) \n",
    "plt.tight_layout()\n",
    "plt.savefig(\"cov_drug_50.png\", dpi = 300, bbox_inches='tight')\n",
    "plt.show()"
   ]
  },
  {
   "cell_type": "code",
   "execution_count": null,
   "id": "c76481f3-d837-4adf-a261-b172360d8aba",
   "metadata": {},
   "outputs": [],
   "source": [
    "# y: counts per pair (e.g., cov_drug.values), sorted descending\n",
    "# x: bar positions you already use (e.g., np.arange(len(y)))\n",
    "y = cov_drug.values\n",
    "# x = np.arange(len(y))  # if you didn't define x elsewhere\n",
    "\n",
    "thr = 300  # your threshold\n",
    "\n",
    "# Filter by number of samples per cov_drug\n",
    "adata_thr = adata[adata.obs.cov_drug.value_counts()[adata.obs.cov_drug] >= thr]\n",
    "\n",
    "# Compute required values\n",
    "n_cell_types = adata_thr.obs[\"cell_type\"].nunique() \n",
    "n_cell_line_drug = adata_thr.obs[\"cov_drug\"].nunique() \n",
    "n_samples = adata_thr.n_obs  # total number of samples\n",
    "n_conditions = adata_thr.obs[\"condition\"].nunique() - (1 if \"control\" in adata_thr.obs[\"condition\"].unique() else 0)\n",
    "dataset_size = adata_thr.shape  # (samples, features)\n",
    "\n",
    "print(f\"Number of cell lines: {n_cell_types}\")\n",
    "print(f\"Number of drugs (excluding control): {n_conditions}\")\n",
    "print(f\"Number of cell line-drug pairs: {n_cell_line_drug}\")\n",
    "print(f\"Dataset size (cells × genes): {dataset_size}\")\n",
    "\n",
    "fig, ax = plt.subplots(figsize=(n/40 + 10, 20))\n",
    "ax.bar(x, y, width=4.0, color=\"#B5345C\")\n",
    "\n",
    "# ---- vertical line at the last bar with y >= thr ----\n",
    "idx_above = np.where(y >= thr)[0]\n",
    "if idx_above.size:\n",
    "    k = idx_above[-1]                 # last index where y >= thr\n",
    "    # place the line between bar k and k+1\n",
    "    dx = np.diff(x).mean() if len(x) > 1 else 1.0\n",
    "    cut_x = x[k] + dx/2\n",
    "    ax.axvline(cut_x, linestyle=\"--\", linewidth=5)\n",
    "\n",
    "\n",
    "ax.set_ylabel(\"Number of samples per cell line–drug pair\", fontsize=font_size, labelpad=20)\n",
    "ax.set_xlabel(f\"(cell line–drug pairs)\", fontsize=font_size, labelpad=20)\n",
    "ax.set_xticks([])             # keep x labels hidden\n",
    "ax.tick_params(axis='y', labelsize=font_size)\n",
    "plt.tight_layout()\n",
    "plt.savefig(\"cov_drug_300.png\", dpi = 300, bbox_inches='tight')\n",
    "plt.show()\n"
   ]
  },
  {
   "cell_type": "code",
   "execution_count": null,
   "id": "1e313bf0-39c8-476a-8fc5-73dbbf288024",
   "metadata": {},
   "outputs": [],
   "source": [
    "adata = adata[adata.obs.cov_drug.value_counts()[adata.obs.cov_drug] >= thr].copy()\n",
    "adata"
   ]
  },
  {
   "cell_type": "code",
   "execution_count": null,
   "id": "4d25a382-588d-4153-8df2-b269f1f1126b",
   "metadata": {},
   "outputs": [],
   "source": [
    "ct = pd.crosstab(\n",
    "    adata.obs[\"condition\"].astype(str),\n",
    "    adata.obs[\"cell_type\"].astype(str),\n",
    "    dropna=False,      # keep NaNs as \"nan\" categories; set True to drop\n",
    "    margins=True,      # add row/col totals\n",
    "    margins_name=\"Total\"\n",
    ")\n",
    "ct"
   ]
  },
  {
   "cell_type": "markdown",
   "id": "d0e72bd3-a205-4da9-b0ff-7fe00f0c799a",
   "metadata": {},
   "source": [
    "## Download drug information from GEO (https://www.ncbi.nlm.nih.gov/geo/query/acc.cgi?acc=GSE92742) and assign SMILES strings to each drug"
   ]
  },
  {
   "cell_type": "code",
   "execution_count": null,
   "id": "71eaab1a-4d40-4ea9-abfe-0a52bace4def",
   "metadata": {},
   "outputs": [],
   "source": [
    "pert_id_unique = adata.obs[\"pert_id\"].dropna().unique().tolist()\n",
    "bad = {'-666', 'restricted', 'nan'}\n",
    "reference_df = pd.read_csv(data_path + \"GSE92742_Broad_LINCS_pert_info.txt\", delimiter = \"\\t\")\n",
    "display(reference_df.loc[reference_df.pert_id == \"ERG-AZD2281\"])\n",
    "reference_df = reference_df.loc[reference_df.pert_id.isin(pert_id_unique), ['pert_id', 'canonical_smiles']]\n",
    "mask = reference_df[\"canonical_smiles\"].notna() & ~reference_df[\"canonical_smiles\"].isin(bad)\n",
    "reference_df = reference_df.loc[mask].copy()\n",
    "reference_df.canonical_smiles.value_counts()\n",
    "reference_df\n",
    "reference_dict = dict(zip(reference_df[\"pert_id\"], reference_df[\"canonical_smiles\"]))\n",
    "reference_df"
   ]
  },
  {
   "cell_type": "code",
   "execution_count": null,
   "id": "90390847-9e39-4745-9e59-0c1446dc6415",
   "metadata": {},
   "outputs": [],
   "source": [
    "adata.obs[\"SMILES\"] = adata.obs[\"pert_id\"].map(reference_dict)\n",
    "adata.obs.loc[adata.obs.pert_id == \"CMAP-ERG-AZD2281\", \"SMILES\"] = \"O=C(c1cc(Cc2n[nH]c(=O)c3ccccc23)ccc1F)N1CCN(C(=O)C2CC2)CC1\"\n",
    "# 2) Unique pert_id that FAILED to map to SMILES\n",
    "miss = adata.obs[\"SMILES\"].isna()\n",
    "uniq_unmapped = adata.obs.loc[miss, \"pert_id\"].dropna().unique()\n",
    "print(\"Unique unmapped pert_id:\", len(uniq_unmapped))\n",
    "print(uniq_unmapped[:20])  # preview first 20\n",
    "\n",
    "# 3) (Optional) the full set difference\n",
    "missing_keys = set(adata.obs[\"pert_id\"].dropna().unique()) - set(reference_dict.keys())\n",
    "print(\"Unique unmapped via set-diff:\", len(missing_keys))"
   ]
  },
  {
   "cell_type": "code",
   "execution_count": null,
   "id": "a4ec2884-6ec8-4286-9b43-71f6d7800d03",
   "metadata": {},
   "outputs": [],
   "source": [
    "adata"
   ]
  },
  {
   "cell_type": "code",
   "execution_count": null,
   "id": "0c560e4c-b2cc-45d3-8356-60036c643a19",
   "metadata": {},
   "outputs": [],
   "source": [
    "ct = pd.crosstab(\n",
    "    adata.obs[\"condition\"].astype(str),\n",
    "    adata.obs[\"cell_type\"].astype(str),\n",
    "    dropna=False,      # keep NaNs as \"nan\" categories; set True to drop\n",
    "    margins=True,      # add row/col totals\n",
    "    margins_name=\"Total\"\n",
    ")\n",
    "ct"
   ]
  },
  {
   "cell_type": "markdown",
   "id": "7f2eb5ad-c68a-4585-9951-44dd6aa96c6f",
   "metadata": {},
   "source": [
    "## Construct cell type graphs over control cells "
   ]
  },
  {
   "cell_type": "code",
   "execution_count": null,
   "id": "478a011d-f450-4fff-ba1e-0e47b5baa699",
   "metadata": {},
   "outputs": [],
   "source": [
    "ctrl_adata = adata[adata.obs.condition == \"control\", :].copy()\n",
    "ctrl_adata"
   ]
  },
  {
   "cell_type": "code",
   "execution_count": null,
   "id": "0af26fbb-f91d-4052-8221-5e9b915be36d",
   "metadata": {},
   "outputs": [],
   "source": [
    "ctrl_adata.X"
   ]
  },
  {
   "cell_type": "code",
   "execution_count": null,
   "id": "c8a85def-e074-471d-be3a-9c0a903ee392",
   "metadata": {},
   "outputs": [],
   "source": [
    "import os\n",
    "import networkx as nx\n",
    "from torch_geometric.utils.convert import from_networkx\n",
    "from sklearn.metrics import mean_squared_error\n",
    "from torch_geometric.data import InMemoryDataset, Data, download_url, extract_zip, HeteroData, Batch\n",
    "from torch_geometric.utils import *\n",
    "import torch\n",
    "from torch import nn\n",
    "cell_type_network = {}\n",
    "# Leaf directory \n",
    "directory = \"LINCS\"\n",
    "# Parent Directories \n",
    "parent_dir = \"/../Cell-Type-Specific-Graphs/graphs/\"\n",
    "# Path \n",
    "path = os.path.join(parent_dir, directory)\n",
    "print(path)\n",
    "try: \n",
    "    os.makedirs(path) \n",
    "except:\n",
    "    print(\"File exists!\")\n",
    "max_nodes = 0\n",
    "genes_pos = []\n",
    "for cell_type in ctrl_adata.obs.cell_type.unique():\n",
    "    print(cell_type)\n",
    "    cell = Correlation_matrix(ctrl_adata, cell_type, 'cell_type',\n",
    "                       hv_genes_cells = None, union_HVGs = True)\n",
    "    threshold = np.percentile(np.abs(cell[0].values), 99.0)\n",
    "    print(\"threshold:\", threshold)\n",
    "    g = create_coexpression_graph(ctrl_adata, cell, cell_type, threshold, 'gene_name')\n",
    "    if g.num_nodes >= max_nodes:\n",
    "        max_nodes = g.num_nodes\n",
    "    cell_type_network[cell_type] = g\n",
    "    genes_pos.append(cell_type_network[cell_type].pos)\n",
    "    cell_type_network[cell_type].pos = torch.tensor(cell_type_network[cell_type].pos)\n",
    "    torch.save(cell_type_network[cell_type] , os.path.join(path,cell_type+'_coexpr_graph.pkl'))\n",
    "\n",
    "cell_type_network"
   ]
  },
  {
   "cell_type": "markdown",
   "id": "dba0a96f-c00c-4024-9d0e-024040349048",
   "metadata": {},
   "source": [
    "## Match treatment and control cells"
   ]
  },
  {
   "cell_type": "code",
   "execution_count": null,
   "id": "6be694f3-12ed-4ffa-80f6-787d2b112b77",
   "metadata": {},
   "outputs": [],
   "source": [
    "import numpy as np\n",
    "import torch\n",
    "import tqdm as tq\n",
    "from scipy.spatial.distance import cdist\n",
    "\n",
    "# Separate stimulated and control data\n",
    "stim_data = adata[adata.obs.condition != 'control'].copy()\n",
    "stim_data.layers['ctrl_x'] = stim_data.X\n",
    "ctrl_data = adata[adata.obs.condition == 'control'].copy()\n",
    "\n",
    "# Pre-compute mean and variance for each cell type's control expression\n",
    "for cell_type in adata.obs.cell_type.unique():\n",
    "    genes = cell_type_network[cell_type].pos.tolist()\n",
    "    ctrl_subset = ctrl_data[ctrl_data.obs.cell_type == cell_type, genes].copy().X\n",
    "    ctrl_tensor = torch.tensor(ctrl_subset.toarray() if hasattr(ctrl_subset, \"toarray\") else ctrl_subset)\n",
    "    \n",
    "    mean = torch.mean(ctrl_tensor, dim=0)\n",
    "    std = torch.var(ctrl_tensor, dim=0)\n",
    "    \n",
    "    cell_type_network[cell_type].x = torch.cat([mean.unsqueeze(1), std.unsqueeze(1)], dim=1)\n",
    "\n",
    "# Random control selection for each drug-cell_type condition\n",
    "for cov_drug in tq.tqdm(stim_data.obs.cov_drug.unique()):\n",
    "    cell_type = cov_drug.split('_')[0]\n",
    "    \n",
    "    # Get control and stimulated samples for this cell type\n",
    "    ad_ctrl = ctrl_data[ctrl_data.obs.cell_type == cell_type].copy()\n",
    "    ad_stim = stim_data[stim_data.obs.cov_drug == cov_drug].copy()\n",
    "    \n",
    "    # Extract expression matrices\n",
    "    ctrl_X = ad_ctrl.X.toarray() if hasattr(ad_ctrl.X, \"toarray\") else ad_ctrl.X\n",
    "    stim_X = ad_stim.X.toarray() if hasattr(ad_stim.X, \"toarray\") else ad_stim.X\n",
    "    \n",
    "    # Randomly select one control index for each stimulated sample\n",
    "    rng = np.random.default_rng(seed=42)\n",
    "    if ctrl_X.shape[0] > stim_X.shape[0]:\n",
    "        random_ctrl_indices = rng.choice(ctrl_X.shape[0], size=stim_X.shape[0], replace=False)\n",
    "    else:\n",
    "        random_ctrl_indices = rng.choice(ctrl_X.shape[0], size=stim_X.shape[0], replace=True)\n",
    "    selected_ctrl_X = ctrl_X[random_ctrl_indices]\n",
    "\n",
    "    # Save in the 'ctrl_x' layer\n",
    "    stim_data[ad_stim.obs.index.values, :].layers['ctrl_x'] = selected_ctrl_X"
   ]
  },
  {
   "cell_type": "markdown",
   "id": "a0e7c4bb-177e-4e5e-b1a6-333d67bb96bc",
   "metadata": {},
   "source": [
    "## Plot the distance distribution between perturbation and control, and identify the conditions with maximum and minimum distances"
   ]
  },
  {
   "cell_type": "code",
   "execution_count": null,
   "id": "0506c567-0910-46bf-9b23-c8fcb97d3d26",
   "metadata": {},
   "outputs": [],
   "source": [
    "from scperturb import *\n",
    "estats = edist_to_control(adata, obs_key='condition', obsm_key='X_pca', dist='sqeuclidean')\n",
    "estats"
   ]
  },
  {
   "cell_type": "code",
   "execution_count": null,
   "id": "84975bd5-3055-4372-a048-e763a024583a",
   "metadata": {},
   "outputs": [],
   "source": [
    "# Series of distances; drop NaNs and the control=0\n",
    "dist = estats[\"distance\"].astype(float)\n",
    "dist = dist[dist > 0]\n",
    "\n",
    "d = dist.sort_values(ascending = False)                           # ascending\n",
    "\n",
    "plt.figure(figsize=(10,4))\n",
    "plt.bar(d.index, d.values) # line plot of sorted values\n",
    "plt.xlabel(f\"Conditions (n = {adata.obs.condition.nunique() - 1})\")\n",
    "plt.xticks(rotation=45, ha='right')\n",
    "plt.title(\"Distances from control\")\n",
    "plt.legend()\n",
    "plt.tight_layout()\n",
    "plt.show()"
   ]
  },
  {
   "cell_type": "code",
   "execution_count": null,
   "id": "d5a9080e-d0bb-4c25-8a7f-7ba6ce727372",
   "metadata": {},
   "outputs": [],
   "source": [
    "# distances as a Series indexed by condition/drug\n",
    "dist = estats[\"distance\"].astype(float).dropna()\n",
    "dist = dist[dist > 0]                       # drop control (0)\n",
    "\n",
    "# sort DESC so largest effects are first\n",
    "d = dist.sort_values(ascending=False)\n",
    "n = len(d)\n",
    "\n",
    "# top & lowest\n",
    "top_name,   top_val = d.index[0],   float(d.iloc[0])\n",
    "low_name,   low_val = d.index[-1],  float(d.iloc[-1])\n",
    "\n",
    "# quantile bins (top10%, 10–25%, 25–50%, 50–75%, 75–90%, 90–100%)\n",
    "qs = [0.10, 0.25, 0.50, 0.75, 0.90]\n",
    "idxs = [int(np.ceil(q*n)) for q in qs]\n",
    "bounds = [0] + idxs + [n]\n",
    "labels = [\"top 10%\", \"10–25%\", \"25–50%\", \"50–75%\", \"75–90%\", \"90–100%\"]\n",
    "\n",
    "seed = 123            # set your seed here\n",
    "rng = np.random.RandomState(seed)\n",
    "\n",
    "samples = []\n",
    "for (a, b), lab in zip(zip(bounds[:-1], bounds[1:]), labels):\n",
    "    if b - a <= 0:\n",
    "        samples.append((lab, None, np.nan))\n",
    "        continue\n",
    "    pos = rng.choice(np.arange(a, b))\n",
    "    samples.append((lab, d.index[pos], float(d.iloc[pos])))\n",
    "\n",
    "print(f\"TOP:     {top_name}  ({top_val:.3f})\")\n",
    "print(f\"LOWEST:  {low_name}  ({low_val:.3f})\")\n",
    "for lab, name, val in samples:\n",
    "    print(f\"{lab:8} {name}  ({val:.3f})\")"
   ]
  },
  {
   "cell_type": "code",
   "execution_count": null,
   "id": "9f904f01-f710-4ee4-bc4d-e60dfddbfec2",
   "metadata": {},
   "outputs": [],
   "source": [
    "adata.obs[\"split\"] = \"Train\"\n",
    "testing_drugs = [\"olaparib\", \"geldanamycin\"]\n",
    "adata.obs.loc[ adata.obs.condition.isin(testing_drugs) , \"split\"] = \"Test\"\n",
    "adata.obs.split.value_counts()"
   ]
  },
  {
   "cell_type": "code",
   "execution_count": null,
   "id": "c3de215b-7d90-425d-89fb-ccea9d9154e8",
   "metadata": {},
   "outputs": [],
   "source": [
    "adata.write(data_path + 'LINCS_L1000_processed.h5ad')"
   ]
  },
  {
   "cell_type": "markdown",
   "id": "aae3328f-ac3d-485b-891f-990a8da514ef",
   "metadata": {},
   "source": [
    "## Map drugs from their SMILES to their chemical descriptor features"
   ]
  },
  {
   "cell_type": "code",
   "execution_count": null,
   "id": "acfcb580-dd1a-4871-b47d-2e6fa265486b",
   "metadata": {},
   "outputs": [],
   "source": [
    "from rdkit import Chem\n",
    "from rdkit.Chem import AllChem\n",
    "from rdkit import Chem, DataStructs\n",
    "from tqdm import tqdm\n",
    "import pandas as pd\n",
    "\n",
    "file_path = data_path + \"SMILES_feat_all_datasets.csv\"\n",
    "\n",
    "df = pd.read_csv(file_path)\n",
    "train_smiles = adata.obs.loc[adata.obs.split == \"Train\"].SMILES.unique().tolist()\n",
    "df_train = df.loc[df.SMILES.isin(train_smiles)]\n",
    "\n",
    "test_smiles = adata.obs.loc[adata.obs.split == \"Test\"].SMILES.unique().tolist()\n",
    "df_test = df.loc[df.SMILES.isin(test_smiles)] \n",
    "display(df_train)\n",
    "display(df_test)"
   ]
  },
  {
   "cell_type": "code",
   "execution_count": null,
   "id": "c846bcda-b2c4-4764-833d-c86bf2f7c377",
   "metadata": {},
   "outputs": [],
   "source": [
    "from sklearn.preprocessing import StandardScaler\n",
    "\n",
    "# first column is \"SMILES\", the rest are numeric descriptors\n",
    "feat_cols = df_train.columns.drop(\"SMILES\")   # or: df_train.select_dtypes(\"number\").columns\n",
    "\n",
    "# --- fit on TRAIN only ---\n",
    "scaler = StandardScaler().fit(df_train[feat_cols])\n",
    "\n",
    "# --- transform train & test with the SAME scaler ---\n",
    "Xtr = pd.DataFrame(\n",
    "    scaler.transform(df_train[feat_cols]),\n",
    "    index=df_train.index, columns=feat_cols\n",
    ")\n",
    "Xte = pd.DataFrame(\n",
    "    scaler.transform(df_test[feat_cols]),\n",
    "    index=df_test.index, columns=feat_cols\n",
    ")\n",
    "\n",
    "# (optional) put SMILES back as the first column\n",
    "df_train_scaled = pd.concat([df_train[[\"SMILES\"]], Xtr], axis=1)\n",
    "df_test_scaled  = pd.concat([df_test[[\"SMILES\"]],  Xte], axis=1)\n",
    "\n",
    "# quick checks\n",
    "print(Xtr.mean().round(3).head())  # ~0 on train\n",
    "print(Xtr.std(ddof=0).round(3).head())  # ~1 on train"
   ]
  },
  {
   "cell_type": "code",
   "execution_count": null,
   "id": "81cf7d47-a408-4338-94b4-5621e2366be4",
   "metadata": {},
   "outputs": [],
   "source": [
    "train_scaled = df_train_scaled.copy()\n",
    "test_scaled  = df_test_scaled.copy()\n",
    "train_scaled[\"split\"] = \"Train\"\n",
    "test_scaled[\"split\"]  = \"Test\"\n",
    "\n",
    "df_all_scaled = pd.concat([train_scaled, test_scaled], axis=0, ignore_index=True)\n",
    "df_all_scaled"
   ]
  },
  {
   "cell_type": "code",
   "execution_count": null,
   "id": "7bc3153f-f502-4083-b363-12c706d74f5a",
   "metadata": {},
   "outputs": [],
   "source": [
    "\n",
    "# Define a list of drugs and their corresponding SMILES strings\n",
    "canonical_smiles = {}\n",
    "drug_smiles = adata.obs[['condition', 'SMILES']]\n",
    "drug_smiles = dict(zip(drug_smiles['condition'], drug_smiles['SMILES']))\n",
    "canonical_smiles = {}\n",
    "for drug_name, smile in drug_smiles.items():\n",
    "    candidates = list(df_all_scaled.loc[df_all_scaled.SMILES == smile].values[0][1:])\n",
    "    canonical_smiles[drug_name] = candidates[:-1]"
   ]
  },
  {
   "cell_type": "markdown",
   "id": "e431beef-0dd3-47f3-96d3-68ee258b7151",
   "metadata": {},
   "source": [
    "## Construct PyTorch Geometric (PyG) data objects for the cells to enable GNN training."
   ]
  },
  {
   "cell_type": "code",
   "execution_count": null,
   "id": "458143d8-2d16-4b5c-acde-39cbd0da1d01",
   "metadata": {},
   "outputs": [],
   "source": [
    "from importlib import reload\n",
    "import utils\n",
    "reload(utils)\n",
    "from utils import *\n",
    "import pickle\n",
    "\n",
    "cells_train = create_cells(stim_data, cell_type_network, canonical_smiles)\n",
    "with open(data_path+'cells_LINCS.pkl', 'wb') as f:\n",
    "    pickle.dump(cells_train, f)\n",
    "cells_train[0]"
   ]
  }
 ],
 "metadata": {
  "kernelspec": {
   "display_name": "Python 3 (ipykernel)",
   "language": "python",
   "name": "python3"
  },
  "language_info": {
   "codemirror_mode": {
    "name": "ipython",
    "version": 3
   },
   "file_extension": ".py",
   "mimetype": "text/x-python",
   "name": "python",
   "nbconvert_exporter": "python",
   "pygments_lexer": "ipython3",
   "version": "3.8.19"
  }
 },
 "nbformat": 4,
 "nbformat_minor": 5
}
