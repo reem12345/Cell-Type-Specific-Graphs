{
 "cells": [
  {
   "cell_type": "code",
   "execution_count": 1,
   "id": "3df138c2-5fc5-4b31-9b08-06d1e09fe924",
   "metadata": {},
   "outputs": [],
   "source": [
    "import scanpy as sc \n",
    "import pandas as pd\n",
    "import SEACells\n",
    "import numpy as np\n",
    "import matplotlib\n",
    "from statistics import mode\n",
    "import matplotlib.pyplot as plt\n",
    "from statistics import mode\n",
    "import sys \n",
    "sys.path.insert(0, '../')\n",
    "import utils\n",
    "from importlib import reload\n",
    "reload(utils)\n",
    "from utils import *\n",
    "import seaborn as sns\n",
    "# Some plotting aesthetics\n",
    "%matplotlib inline\n",
    "sns.set_style('ticks')\n",
    "matplotlib.rcParams['figure.figsize'] = [4, 4]\n",
    "matplotlib.rcParams['figure.dpi'] = 100\n",
    "\n",
    "\n",
    "# Input Data Directory\n",
    "data_path = \"../Cell-Type-Specific-Graphs/Data/\"\n",
    "# Output Results Directory\n",
    "save_path_results = \"../Cell-Type-Specific-Graphs/Results/\""
   ]
  },
  {
   "cell_type": "code",
   "execution_count": 2,
   "id": "b785eab8-b630-42b5-b3a5-fef24b2dfe1c",
   "metadata": {},
   "outputs": [
    {
     "data": {
      "text/plain": [
       "AnnData object with n_obs × n_vars = 883269 × 978\n",
       "    obs: 'cell_id', 'det_plate', 'det_well', 'lincs_phase', 'pert_dose', 'pert_dose_unit', 'pert_id', 'pert_iname', 'pert_mfc_id', 'pert_time', 'pert_time_unit', 'pert_type', 'rna_plate', 'rna_well', 'condition', 'cell_type', 'dose', 'cov_drug_dose_name', 'cov_drug_name', 'control', 'canonical_smiles', 'SMILES', 'paired_control_index', 'cell_type_split_0', 'cell_type_split_1', 'cell_type_split_2', 'cell_type_split_3', 'cell_type_split_4', 'random_split_0', 'random_split_1', 'random_split_2', 'random_split_3', 'random_split_4', 'drug_split_0', 'drug_split_1', 'drug_split_2', 'drug_split_3', 'drug_split_4', 'cov_drug_dose_name_split_0', 'cov_drug_dose_name_split_1', 'cov_drug_dose_name_split_2', 'cov_drug_dose_name_split_3', 'cov_drug_dose_name_split_4'\n",
       "    var: 'pr_gene_title', 'pr_is_lm', 'pr_is_bing'\n",
       "    uns: 'cydata_pull'"
      ]
     },
     "execution_count": 2,
     "metadata": {},
     "output_type": "execute_result"
    }
   ],
   "source": [
    "adata = sc.read(data_path + 'LINCS_L1000.h5ad')\n",
    "adata"
   ]
  },
  {
   "cell_type": "code",
   "execution_count": 3,
   "id": "e65f6edf-6eba-4d8f-bc8c-7095d2ff7165",
   "metadata": {},
   "outputs": [
    {
     "data": {
      "text/plain": [
       "DDR1      1\n",
       "PAX8      1\n",
       "RPS5      1\n",
       "ABCF1     1\n",
       "SPAG7     1\n",
       "         ..\n",
       "PPARD     1\n",
       "GNA11     1\n",
       "WDTC1     1\n",
       "PLSCR3    1\n",
       "NPEPL1    1\n",
       "Name: pr_is_lm, Length: 978, dtype: int64"
      ]
     },
     "execution_count": 3,
     "metadata": {},
     "output_type": "execute_result"
    }
   ],
   "source": [
    "adata.var.pr_is_lm"
   ]
  },
  {
   "cell_type": "code",
   "execution_count": 4,
   "id": "55f9be9e-87b3-4c2f-99c9-cf5380c8b7e1",
   "metadata": {},
   "outputs": [
    {
     "data": {
      "text/html": [
       "<div>\n",
       "<style scoped>\n",
       "    .dataframe tbody tr th:only-of-type {\n",
       "        vertical-align: middle;\n",
       "    }\n",
       "\n",
       "    .dataframe tbody tr th {\n",
       "        vertical-align: top;\n",
       "    }\n",
       "\n",
       "    .dataframe thead th {\n",
       "        text-align: right;\n",
       "    }\n",
       "</style>\n",
       "<table border=\"1\" class=\"dataframe\">\n",
       "  <thead>\n",
       "    <tr style=\"text-align: right;\">\n",
       "      <th></th>\n",
       "      <th>pr_gene_title</th>\n",
       "      <th>pr_is_lm</th>\n",
       "      <th>pr_is_bing</th>\n",
       "    </tr>\n",
       "  </thead>\n",
       "  <tbody>\n",
       "    <tr>\n",
       "      <th>DDR1</th>\n",
       "      <td>discoidin domain receptor tyrosine kinase 1</td>\n",
       "      <td>1</td>\n",
       "      <td>1</td>\n",
       "    </tr>\n",
       "    <tr>\n",
       "      <th>PAX8</th>\n",
       "      <td>paired box 8</td>\n",
       "      <td>1</td>\n",
       "      <td>1</td>\n",
       "    </tr>\n",
       "    <tr>\n",
       "      <th>RPS5</th>\n",
       "      <td>ribosomal protein S5</td>\n",
       "      <td>1</td>\n",
       "      <td>1</td>\n",
       "    </tr>\n",
       "    <tr>\n",
       "      <th>ABCF1</th>\n",
       "      <td>ATP binding cassette subfamily F member 1</td>\n",
       "      <td>1</td>\n",
       "      <td>1</td>\n",
       "    </tr>\n",
       "    <tr>\n",
       "      <th>SPAG7</th>\n",
       "      <td>sperm associated antigen 7</td>\n",
       "      <td>1</td>\n",
       "      <td>1</td>\n",
       "    </tr>\n",
       "    <tr>\n",
       "      <th>...</th>\n",
       "      <td>...</td>\n",
       "      <td>...</td>\n",
       "      <td>...</td>\n",
       "    </tr>\n",
       "    <tr>\n",
       "      <th>PPARD</th>\n",
       "      <td>peroxisome proliferator activated receptor delta</td>\n",
       "      <td>1</td>\n",
       "      <td>1</td>\n",
       "    </tr>\n",
       "    <tr>\n",
       "      <th>GNA11</th>\n",
       "      <td>guanine nucleotide binding protein (G protein)...</td>\n",
       "      <td>1</td>\n",
       "      <td>1</td>\n",
       "    </tr>\n",
       "    <tr>\n",
       "      <th>WDTC1</th>\n",
       "      <td>WD and tetratricopeptide repeats 1</td>\n",
       "      <td>1</td>\n",
       "      <td>1</td>\n",
       "    </tr>\n",
       "    <tr>\n",
       "      <th>PLSCR3</th>\n",
       "      <td>phospholipid scramblase 3</td>\n",
       "      <td>1</td>\n",
       "      <td>1</td>\n",
       "    </tr>\n",
       "    <tr>\n",
       "      <th>NPEPL1</th>\n",
       "      <td>aminopeptidase-like 1</td>\n",
       "      <td>1</td>\n",
       "      <td>1</td>\n",
       "    </tr>\n",
       "  </tbody>\n",
       "</table>\n",
       "<p>978 rows × 3 columns</p>\n",
       "</div>"
      ],
      "text/plain": [
       "                                            pr_gene_title  pr_is_lm  \\\n",
       "DDR1          discoidin domain receptor tyrosine kinase 1         1   \n",
       "PAX8                                         paired box 8         1   \n",
       "RPS5                                 ribosomal protein S5         1   \n",
       "ABCF1           ATP binding cassette subfamily F member 1         1   \n",
       "SPAG7                          sperm associated antigen 7         1   \n",
       "...                                                   ...       ...   \n",
       "PPARD    peroxisome proliferator activated receptor delta         1   \n",
       "GNA11   guanine nucleotide binding protein (G protein)...         1   \n",
       "WDTC1                  WD and tetratricopeptide repeats 1         1   \n",
       "PLSCR3                          phospholipid scramblase 3         1   \n",
       "NPEPL1                              aminopeptidase-like 1         1   \n",
       "\n",
       "        pr_is_bing  \n",
       "DDR1             1  \n",
       "PAX8             1  \n",
       "RPS5             1  \n",
       "ABCF1            1  \n",
       "SPAG7            1  \n",
       "...            ...  \n",
       "PPARD            1  \n",
       "GNA11            1  \n",
       "WDTC1            1  \n",
       "PLSCR3           1  \n",
       "NPEPL1           1  \n",
       "\n",
       "[978 rows x 3 columns]"
      ]
     },
     "execution_count": 4,
     "metadata": {},
     "output_type": "execute_result"
    }
   ],
   "source": [
    "adata.var.loc[adata.var.pr_is_lm == 1]"
   ]
  },
  {
   "cell_type": "code",
   "execution_count": 5,
   "id": "e1b8943e-9164-4de6-bbb9-3bc053cde34a",
   "metadata": {},
   "outputs": [
    {
     "data": {
      "text/html": [
       "<div>\n",
       "<style scoped>\n",
       "    .dataframe tbody tr th:only-of-type {\n",
       "        vertical-align: middle;\n",
       "    }\n",
       "\n",
       "    .dataframe tbody tr th {\n",
       "        vertical-align: top;\n",
       "    }\n",
       "\n",
       "    .dataframe thead th {\n",
       "        text-align: right;\n",
       "    }\n",
       "</style>\n",
       "<table border=\"1\" class=\"dataframe\">\n",
       "  <thead>\n",
       "    <tr style=\"text-align: right;\">\n",
       "      <th>condition</th>\n",
       "      <th>1,2,3,4,5,6-hexabromocyclohexane</th>\n",
       "      <th>1,2,3,4-tetrahydroisoquinoline</th>\n",
       "      <th>1,2-dichlorobenzene</th>\n",
       "      <th>1,2-propylene-glycol</th>\n",
       "      <th>1-benzylimidazole</th>\n",
       "      <th>1-methylisoquinoline</th>\n",
       "      <th>1-monopalmitin</th>\n",
       "      <th>1-phenylbiguanide</th>\n",
       "      <th>2',5'-dideoxyadenosine</th>\n",
       "      <th>2-(4-methoxybenzylthio)-6-methylpyrimidin-4-ol</th>\n",
       "      <th>...</th>\n",
       "      <th>zimelidine</th>\n",
       "      <th>ziprasidone</th>\n",
       "      <th>zolantidine</th>\n",
       "      <th>zolmitriptan</th>\n",
       "      <th>zolpidem</th>\n",
       "      <th>zonisamide</th>\n",
       "      <th>zopiclone</th>\n",
       "      <th>zosuquidar</th>\n",
       "      <th>zoxazolamine</th>\n",
       "      <th>zuclopenthixol</th>\n",
       "    </tr>\n",
       "    <tr>\n",
       "      <th>cell_type</th>\n",
       "      <th></th>\n",
       "      <th></th>\n",
       "      <th></th>\n",
       "      <th></th>\n",
       "      <th></th>\n",
       "      <th></th>\n",
       "      <th></th>\n",
       "      <th></th>\n",
       "      <th></th>\n",
       "      <th></th>\n",
       "      <th></th>\n",
       "      <th></th>\n",
       "      <th></th>\n",
       "      <th></th>\n",
       "      <th></th>\n",
       "      <th></th>\n",
       "      <th></th>\n",
       "      <th></th>\n",
       "      <th></th>\n",
       "      <th></th>\n",
       "      <th></th>\n",
       "    </tr>\n",
       "  </thead>\n",
       "  <tbody>\n",
       "    <tr>\n",
       "      <th>A375</th>\n",
       "      <td>5</td>\n",
       "      <td>0</td>\n",
       "      <td>3</td>\n",
       "      <td>0</td>\n",
       "      <td>4</td>\n",
       "      <td>0</td>\n",
       "      <td>5</td>\n",
       "      <td>5</td>\n",
       "      <td>30</td>\n",
       "      <td>4</td>\n",
       "      <td>...</td>\n",
       "      <td>6</td>\n",
       "      <td>21</td>\n",
       "      <td>5</td>\n",
       "      <td>7</td>\n",
       "      <td>26</td>\n",
       "      <td>23</td>\n",
       "      <td>0</td>\n",
       "      <td>20</td>\n",
       "      <td>6</td>\n",
       "      <td>3</td>\n",
       "    </tr>\n",
       "    <tr>\n",
       "      <th>A549</th>\n",
       "      <td>5</td>\n",
       "      <td>0</td>\n",
       "      <td>6</td>\n",
       "      <td>0</td>\n",
       "      <td>4</td>\n",
       "      <td>0</td>\n",
       "      <td>4</td>\n",
       "      <td>3</td>\n",
       "      <td>7</td>\n",
       "      <td>4</td>\n",
       "      <td>...</td>\n",
       "      <td>6</td>\n",
       "      <td>6</td>\n",
       "      <td>5</td>\n",
       "      <td>9</td>\n",
       "      <td>8</td>\n",
       "      <td>6</td>\n",
       "      <td>0</td>\n",
       "      <td>6</td>\n",
       "      <td>5</td>\n",
       "      <td>6</td>\n",
       "    </tr>\n",
       "    <tr>\n",
       "      <th>A673</th>\n",
       "      <td>0</td>\n",
       "      <td>0</td>\n",
       "      <td>0</td>\n",
       "      <td>0</td>\n",
       "      <td>0</td>\n",
       "      <td>0</td>\n",
       "      <td>0</td>\n",
       "      <td>0</td>\n",
       "      <td>2</td>\n",
       "      <td>0</td>\n",
       "      <td>...</td>\n",
       "      <td>0</td>\n",
       "      <td>0</td>\n",
       "      <td>0</td>\n",
       "      <td>0</td>\n",
       "      <td>0</td>\n",
       "      <td>0</td>\n",
       "      <td>0</td>\n",
       "      <td>0</td>\n",
       "      <td>0</td>\n",
       "      <td>0</td>\n",
       "    </tr>\n",
       "    <tr>\n",
       "      <th>AGS</th>\n",
       "      <td>0</td>\n",
       "      <td>0</td>\n",
       "      <td>0</td>\n",
       "      <td>0</td>\n",
       "      <td>0</td>\n",
       "      <td>0</td>\n",
       "      <td>0</td>\n",
       "      <td>0</td>\n",
       "      <td>2</td>\n",
       "      <td>0</td>\n",
       "      <td>...</td>\n",
       "      <td>0</td>\n",
       "      <td>0</td>\n",
       "      <td>0</td>\n",
       "      <td>0</td>\n",
       "      <td>0</td>\n",
       "      <td>0</td>\n",
       "      <td>0</td>\n",
       "      <td>0</td>\n",
       "      <td>0</td>\n",
       "      <td>0</td>\n",
       "    </tr>\n",
       "    <tr>\n",
       "      <th>ASC</th>\n",
       "      <td>3</td>\n",
       "      <td>0</td>\n",
       "      <td>4</td>\n",
       "      <td>0</td>\n",
       "      <td>0</td>\n",
       "      <td>0</td>\n",
       "      <td>2</td>\n",
       "      <td>1</td>\n",
       "      <td>0</td>\n",
       "      <td>0</td>\n",
       "      <td>...</td>\n",
       "      <td>0</td>\n",
       "      <td>3</td>\n",
       "      <td>3</td>\n",
       "      <td>4</td>\n",
       "      <td>0</td>\n",
       "      <td>0</td>\n",
       "      <td>0</td>\n",
       "      <td>3</td>\n",
       "      <td>4</td>\n",
       "      <td>4</td>\n",
       "    </tr>\n",
       "    <tr>\n",
       "      <th>...</th>\n",
       "      <td>...</td>\n",
       "      <td>...</td>\n",
       "      <td>...</td>\n",
       "      <td>...</td>\n",
       "      <td>...</td>\n",
       "      <td>...</td>\n",
       "      <td>...</td>\n",
       "      <td>...</td>\n",
       "      <td>...</td>\n",
       "      <td>...</td>\n",
       "      <td>...</td>\n",
       "      <td>...</td>\n",
       "      <td>...</td>\n",
       "      <td>...</td>\n",
       "      <td>...</td>\n",
       "      <td>...</td>\n",
       "      <td>...</td>\n",
       "      <td>...</td>\n",
       "      <td>...</td>\n",
       "      <td>...</td>\n",
       "      <td>...</td>\n",
       "    </tr>\n",
       "    <tr>\n",
       "      <th>U266</th>\n",
       "      <td>0</td>\n",
       "      <td>0</td>\n",
       "      <td>0</td>\n",
       "      <td>0</td>\n",
       "      <td>0</td>\n",
       "      <td>0</td>\n",
       "      <td>0</td>\n",
       "      <td>0</td>\n",
       "      <td>0</td>\n",
       "      <td>0</td>\n",
       "      <td>...</td>\n",
       "      <td>0</td>\n",
       "      <td>0</td>\n",
       "      <td>0</td>\n",
       "      <td>0</td>\n",
       "      <td>0</td>\n",
       "      <td>0</td>\n",
       "      <td>0</td>\n",
       "      <td>0</td>\n",
       "      <td>0</td>\n",
       "      <td>0</td>\n",
       "    </tr>\n",
       "    <tr>\n",
       "      <th>U937</th>\n",
       "      <td>0</td>\n",
       "      <td>0</td>\n",
       "      <td>0</td>\n",
       "      <td>0</td>\n",
       "      <td>0</td>\n",
       "      <td>0</td>\n",
       "      <td>0</td>\n",
       "      <td>0</td>\n",
       "      <td>2</td>\n",
       "      <td>0</td>\n",
       "      <td>...</td>\n",
       "      <td>0</td>\n",
       "      <td>0</td>\n",
       "      <td>0</td>\n",
       "      <td>0</td>\n",
       "      <td>0</td>\n",
       "      <td>0</td>\n",
       "      <td>0</td>\n",
       "      <td>0</td>\n",
       "      <td>0</td>\n",
       "      <td>0</td>\n",
       "    </tr>\n",
       "    <tr>\n",
       "      <th>VCAP</th>\n",
       "      <td>0</td>\n",
       "      <td>0</td>\n",
       "      <td>12</td>\n",
       "      <td>0</td>\n",
       "      <td>10</td>\n",
       "      <td>0</td>\n",
       "      <td>0</td>\n",
       "      <td>0</td>\n",
       "      <td>9</td>\n",
       "      <td>10</td>\n",
       "      <td>...</td>\n",
       "      <td>9</td>\n",
       "      <td>10</td>\n",
       "      <td>7</td>\n",
       "      <td>17</td>\n",
       "      <td>19</td>\n",
       "      <td>9</td>\n",
       "      <td>0</td>\n",
       "      <td>10</td>\n",
       "      <td>10</td>\n",
       "      <td>12</td>\n",
       "    </tr>\n",
       "    <tr>\n",
       "      <th>WSUDLCL2</th>\n",
       "      <td>0</td>\n",
       "      <td>0</td>\n",
       "      <td>0</td>\n",
       "      <td>0</td>\n",
       "      <td>0</td>\n",
       "      <td>0</td>\n",
       "      <td>0</td>\n",
       "      <td>0</td>\n",
       "      <td>2</td>\n",
       "      <td>0</td>\n",
       "      <td>...</td>\n",
       "      <td>0</td>\n",
       "      <td>0</td>\n",
       "      <td>0</td>\n",
       "      <td>0</td>\n",
       "      <td>0</td>\n",
       "      <td>0</td>\n",
       "      <td>0</td>\n",
       "      <td>0</td>\n",
       "      <td>0</td>\n",
       "      <td>0</td>\n",
       "    </tr>\n",
       "    <tr>\n",
       "      <th>YAPC</th>\n",
       "      <td>0</td>\n",
       "      <td>0</td>\n",
       "      <td>0</td>\n",
       "      <td>0</td>\n",
       "      <td>0</td>\n",
       "      <td>0</td>\n",
       "      <td>0</td>\n",
       "      <td>0</td>\n",
       "      <td>18</td>\n",
       "      <td>0</td>\n",
       "      <td>...</td>\n",
       "      <td>0</td>\n",
       "      <td>18</td>\n",
       "      <td>0</td>\n",
       "      <td>0</td>\n",
       "      <td>18</td>\n",
       "      <td>18</td>\n",
       "      <td>0</td>\n",
       "      <td>17</td>\n",
       "      <td>0</td>\n",
       "      <td>0</td>\n",
       "    </tr>\n",
       "  </tbody>\n",
       "</table>\n",
       "<p>82 rows × 17203 columns</p>\n",
       "</div>"
      ],
      "text/plain": [
       "condition  1,2,3,4,5,6-hexabromocyclohexane  1,2,3,4-tetrahydroisoquinoline  \\\n",
       "cell_type                                                                     \n",
       "A375                                      5                               0   \n",
       "A549                                      5                               0   \n",
       "A673                                      0                               0   \n",
       "AGS                                       0                               0   \n",
       "ASC                                       3                               0   \n",
       "...                                     ...                             ...   \n",
       "U266                                      0                               0   \n",
       "U937                                      0                               0   \n",
       "VCAP                                      0                               0   \n",
       "WSUDLCL2                                  0                               0   \n",
       "YAPC                                      0                               0   \n",
       "\n",
       "condition  1,2-dichlorobenzene  1,2-propylene-glycol  1-benzylimidazole  \\\n",
       "cell_type                                                                 \n",
       "A375                         3                     0                  4   \n",
       "A549                         6                     0                  4   \n",
       "A673                         0                     0                  0   \n",
       "AGS                          0                     0                  0   \n",
       "ASC                          4                     0                  0   \n",
       "...                        ...                   ...                ...   \n",
       "U266                         0                     0                  0   \n",
       "U937                         0                     0                  0   \n",
       "VCAP                        12                     0                 10   \n",
       "WSUDLCL2                     0                     0                  0   \n",
       "YAPC                         0                     0                  0   \n",
       "\n",
       "condition  1-methylisoquinoline  1-monopalmitin  1-phenylbiguanide  \\\n",
       "cell_type                                                            \n",
       "A375                          0               5                  5   \n",
       "A549                          0               4                  3   \n",
       "A673                          0               0                  0   \n",
       "AGS                           0               0                  0   \n",
       "ASC                           0               2                  1   \n",
       "...                         ...             ...                ...   \n",
       "U266                          0               0                  0   \n",
       "U937                          0               0                  0   \n",
       "VCAP                          0               0                  0   \n",
       "WSUDLCL2                      0               0                  0   \n",
       "YAPC                          0               0                  0   \n",
       "\n",
       "condition  2',5'-dideoxyadenosine  \\\n",
       "cell_type                           \n",
       "A375                           30   \n",
       "A549                            7   \n",
       "A673                            2   \n",
       "AGS                             2   \n",
       "ASC                             0   \n",
       "...                           ...   \n",
       "U266                            0   \n",
       "U937                            2   \n",
       "VCAP                            9   \n",
       "WSUDLCL2                        2   \n",
       "YAPC                           18   \n",
       "\n",
       "condition  2-(4-methoxybenzylthio)-6-methylpyrimidin-4-ol  ...  zimelidine  \\\n",
       "cell_type                                                  ...               \n",
       "A375                                                    4  ...           6   \n",
       "A549                                                    4  ...           6   \n",
       "A673                                                    0  ...           0   \n",
       "AGS                                                     0  ...           0   \n",
       "ASC                                                     0  ...           0   \n",
       "...                                                   ...  ...         ...   \n",
       "U266                                                    0  ...           0   \n",
       "U937                                                    0  ...           0   \n",
       "VCAP                                                   10  ...           9   \n",
       "WSUDLCL2                                                0  ...           0   \n",
       "YAPC                                                    0  ...           0   \n",
       "\n",
       "condition  ziprasidone  zolantidine  zolmitriptan  zolpidem  zonisamide  \\\n",
       "cell_type                                                                 \n",
       "A375                21            5             7        26          23   \n",
       "A549                 6            5             9         8           6   \n",
       "A673                 0            0             0         0           0   \n",
       "AGS                  0            0             0         0           0   \n",
       "ASC                  3            3             4         0           0   \n",
       "...                ...          ...           ...       ...         ...   \n",
       "U266                 0            0             0         0           0   \n",
       "U937                 0            0             0         0           0   \n",
       "VCAP                10            7            17        19           9   \n",
       "WSUDLCL2             0            0             0         0           0   \n",
       "YAPC                18            0             0        18          18   \n",
       "\n",
       "condition  zopiclone  zosuquidar  zoxazolamine  zuclopenthixol  \n",
       "cell_type                                                       \n",
       "A375               0          20             6               3  \n",
       "A549               0           6             5               6  \n",
       "A673               0           0             0               0  \n",
       "AGS                0           0             0               0  \n",
       "ASC                0           3             4               4  \n",
       "...              ...         ...           ...             ...  \n",
       "U266               0           0             0               0  \n",
       "U937               0           0             0               0  \n",
       "VCAP               0          10            10              12  \n",
       "WSUDLCL2           0           0             0               0  \n",
       "YAPC               0          17             0               0  \n",
       "\n",
       "[82 rows x 17203 columns]"
      ]
     },
     "execution_count": 5,
     "metadata": {},
     "output_type": "execute_result"
    }
   ],
   "source": [
    "cross_tab = pd.crosstab(adata.obs['cell_type'], adata.obs['condition'])\n",
    "cross_tab"
   ]
  },
  {
   "cell_type": "code",
   "execution_count": 6,
   "id": "7fd0b52f-8fb0-4fe7-a266-febdce71568e",
   "metadata": {},
   "outputs": [
    {
     "data": {
      "text/plain": [
       "['MCF7', 'VCAP', 'PC3', 'A375', 'HT29']"
      ]
     },
     "execution_count": 6,
     "metadata": {},
     "output_type": "execute_result"
    }
   ],
   "source": [
    "cell_lines = list(adata.obs.cell_type.value_counts().head(5).index.values)\n",
    "cell_lines"
   ]
  },
  {
   "cell_type": "code",
   "execution_count": 7,
   "id": "59caf6df-99c1-42eb-a1c6-aa1c17a0d892",
   "metadata": {},
   "outputs": [
    {
     "data": {
      "text/plain": [
       "View of AnnData object with n_obs × n_vars = 503196 × 978\n",
       "    obs: 'cell_id', 'det_plate', 'det_well', 'lincs_phase', 'pert_dose', 'pert_dose_unit', 'pert_id', 'pert_iname', 'pert_mfc_id', 'pert_time', 'pert_time_unit', 'pert_type', 'rna_plate', 'rna_well', 'condition', 'cell_type', 'dose', 'cov_drug_dose_name', 'cov_drug_name', 'control', 'canonical_smiles', 'SMILES', 'paired_control_index', 'cell_type_split_0', 'cell_type_split_1', 'cell_type_split_2', 'cell_type_split_3', 'cell_type_split_4', 'random_split_0', 'random_split_1', 'random_split_2', 'random_split_3', 'random_split_4', 'drug_split_0', 'drug_split_1', 'drug_split_2', 'drug_split_3', 'drug_split_4', 'cov_drug_dose_name_split_0', 'cov_drug_dose_name_split_1', 'cov_drug_dose_name_split_2', 'cov_drug_dose_name_split_3', 'cov_drug_dose_name_split_4'\n",
       "    var: 'pr_gene_title', 'pr_is_lm', 'pr_is_bing'\n",
       "    uns: 'cydata_pull'"
      ]
     },
     "execution_count": 7,
     "metadata": {},
     "output_type": "execute_result"
    }
   ],
   "source": [
    "adata = adata[adata.obs.cell_type.isin(cell_lines), adata.var.pr_is_lm == 1]\n",
    "adata"
   ]
  },
  {
   "cell_type": "code",
   "execution_count": 8,
   "id": "cf30ec85-f325-4a4d-8784-6e192a88360c",
   "metadata": {},
   "outputs": [],
   "source": [
    "adata.obs.pert_id.unique()\n",
    "adata.obs['pert_id'] = adata.obs['pert_id'].replace('DMSO', 'control')"
   ]
  },
  {
   "cell_type": "code",
   "execution_count": 9,
   "id": "3846aa1f-d5ce-4609-8585-74dd87e5855f",
   "metadata": {},
   "outputs": [
    {
     "data": {
      "text/plain": [
       "cell_type\n",
       "MCF7    6447\n",
       "PC3     5932\n",
       "VCAP    4900\n",
       "A375    4235\n",
       "HT29    4014\n",
       "Name: count, dtype: int64"
      ]
     },
     "execution_count": 9,
     "metadata": {},
     "output_type": "execute_result"
    }
   ],
   "source": [
    "adata.obs.loc[adata.obs.pert_id == \"control\"].cell_type.value_counts()"
   ]
  },
  {
   "cell_type": "code",
   "execution_count": 10,
   "id": "f5378885-7539-4dbc-bf29-d8f6afdf7449",
   "metadata": {},
   "outputs": [
    {
     "data": {
      "text/html": [
       "<div>\n",
       "<style scoped>\n",
       "    .dataframe tbody tr th:only-of-type {\n",
       "        vertical-align: middle;\n",
       "    }\n",
       "\n",
       "    .dataframe tbody tr th {\n",
       "        vertical-align: top;\n",
       "    }\n",
       "\n",
       "    .dataframe thead th {\n",
       "        text-align: right;\n",
       "    }\n",
       "</style>\n",
       "<table border=\"1\" class=\"dataframe\">\n",
       "  <thead>\n",
       "    <tr style=\"text-align: right;\">\n",
       "      <th></th>\n",
       "      <th>pr_gene_title</th>\n",
       "      <th>pr_is_lm</th>\n",
       "      <th>pr_is_bing</th>\n",
       "    </tr>\n",
       "    <tr>\n",
       "      <th>gene_name</th>\n",
       "      <th></th>\n",
       "      <th></th>\n",
       "      <th></th>\n",
       "    </tr>\n",
       "  </thead>\n",
       "  <tbody>\n",
       "    <tr>\n",
       "      <th>DDR1</th>\n",
       "      <td>discoidin domain receptor tyrosine kinase 1</td>\n",
       "      <td>1</td>\n",
       "      <td>1</td>\n",
       "    </tr>\n",
       "    <tr>\n",
       "      <th>PAX8</th>\n",
       "      <td>paired box 8</td>\n",
       "      <td>1</td>\n",
       "      <td>1</td>\n",
       "    </tr>\n",
       "    <tr>\n",
       "      <th>RPS5</th>\n",
       "      <td>ribosomal protein S5</td>\n",
       "      <td>1</td>\n",
       "      <td>1</td>\n",
       "    </tr>\n",
       "    <tr>\n",
       "      <th>ABCF1</th>\n",
       "      <td>ATP binding cassette subfamily F member 1</td>\n",
       "      <td>1</td>\n",
       "      <td>1</td>\n",
       "    </tr>\n",
       "    <tr>\n",
       "      <th>SPAG7</th>\n",
       "      <td>sperm associated antigen 7</td>\n",
       "      <td>1</td>\n",
       "      <td>1</td>\n",
       "    </tr>\n",
       "    <tr>\n",
       "      <th>...</th>\n",
       "      <td>...</td>\n",
       "      <td>...</td>\n",
       "      <td>...</td>\n",
       "    </tr>\n",
       "    <tr>\n",
       "      <th>PPARD</th>\n",
       "      <td>peroxisome proliferator activated receptor delta</td>\n",
       "      <td>1</td>\n",
       "      <td>1</td>\n",
       "    </tr>\n",
       "    <tr>\n",
       "      <th>GNA11</th>\n",
       "      <td>guanine nucleotide binding protein (G protein)...</td>\n",
       "      <td>1</td>\n",
       "      <td>1</td>\n",
       "    </tr>\n",
       "    <tr>\n",
       "      <th>WDTC1</th>\n",
       "      <td>WD and tetratricopeptide repeats 1</td>\n",
       "      <td>1</td>\n",
       "      <td>1</td>\n",
       "    </tr>\n",
       "    <tr>\n",
       "      <th>PLSCR3</th>\n",
       "      <td>phospholipid scramblase 3</td>\n",
       "      <td>1</td>\n",
       "      <td>1</td>\n",
       "    </tr>\n",
       "    <tr>\n",
       "      <th>NPEPL1</th>\n",
       "      <td>aminopeptidase-like 1</td>\n",
       "      <td>1</td>\n",
       "      <td>1</td>\n",
       "    </tr>\n",
       "  </tbody>\n",
       "</table>\n",
       "<p>978 rows × 3 columns</p>\n",
       "</div>"
      ],
      "text/plain": [
       "                                               pr_gene_title  pr_is_lm  \\\n",
       "gene_name                                                                \n",
       "DDR1             discoidin domain receptor tyrosine kinase 1         1   \n",
       "PAX8                                            paired box 8         1   \n",
       "RPS5                                    ribosomal protein S5         1   \n",
       "ABCF1              ATP binding cassette subfamily F member 1         1   \n",
       "SPAG7                             sperm associated antigen 7         1   \n",
       "...                                                      ...       ...   \n",
       "PPARD       peroxisome proliferator activated receptor delta         1   \n",
       "GNA11      guanine nucleotide binding protein (G protein)...         1   \n",
       "WDTC1                     WD and tetratricopeptide repeats 1         1   \n",
       "PLSCR3                             phospholipid scramblase 3         1   \n",
       "NPEPL1                                 aminopeptidase-like 1         1   \n",
       "\n",
       "           pr_is_bing  \n",
       "gene_name              \n",
       "DDR1                1  \n",
       "PAX8                1  \n",
       "RPS5                1  \n",
       "ABCF1               1  \n",
       "SPAG7               1  \n",
       "...               ...  \n",
       "PPARD               1  \n",
       "GNA11               1  \n",
       "WDTC1               1  \n",
       "PLSCR3              1  \n",
       "NPEPL1              1  \n",
       "\n",
       "[978 rows x 3 columns]"
      ]
     },
     "execution_count": 10,
     "metadata": {},
     "output_type": "execute_result"
    }
   ],
   "source": [
    "adata.var.reset_index(inplace = True)\n",
    "adata.var.rename({\"index\": \"gene_name\"}, axis=1, inplace=True)\n",
    "adata.var.set_index(\"gene_name\", inplace = True)\n",
    "adata.var"
   ]
  },
  {
   "cell_type": "code",
   "execution_count": 11,
   "id": "b3c2cac0-08fe-4c11-a6e8-a6e18860d225",
   "metadata": {},
   "outputs": [
    {
     "data": {
      "text/plain": [
       "AnnData object with n_obs × n_vars = 25528 × 978\n",
       "    obs: 'cell_id', 'det_plate', 'det_well', 'lincs_phase', 'pert_dose', 'pert_dose_unit', 'pert_id', 'pert_iname', 'pert_mfc_id', 'pert_time', 'pert_time_unit', 'pert_type', 'rna_plate', 'rna_well', 'condition', 'cell_type', 'dose', 'cov_drug_dose_name', 'cov_drug_name', 'control', 'canonical_smiles', 'SMILES', 'paired_control_index', 'cell_type_split_0', 'cell_type_split_1', 'cell_type_split_2', 'cell_type_split_3', 'cell_type_split_4', 'random_split_0', 'random_split_1', 'random_split_2', 'random_split_3', 'random_split_4', 'drug_split_0', 'drug_split_1', 'drug_split_2', 'drug_split_3', 'drug_split_4', 'cov_drug_dose_name_split_0', 'cov_drug_dose_name_split_1', 'cov_drug_dose_name_split_2', 'cov_drug_dose_name_split_3', 'cov_drug_dose_name_split_4'\n",
       "    var: 'pr_gene_title', 'pr_is_lm', 'pr_is_bing'\n",
       "    uns: 'cydata_pull'"
      ]
     },
     "execution_count": 11,
     "metadata": {},
     "output_type": "execute_result"
    }
   ],
   "source": [
    "ctrl_adata = adata[adata.obs.pert_id == \"control\", :].copy()\n",
    "ctrl_adata"
   ]
  },
  {
   "cell_type": "code",
   "execution_count": 12,
   "id": "b0976657-1609-42bb-b124-82cba7088497",
   "metadata": {},
   "outputs": [
    {
     "data": {
      "text/plain": [
       "array([[ 9.3698   ,  4.418    ,  8.467    , ...,  8.0524   ,  8.2463   ,\n",
       "         6.734    ],\n",
       "       [ 6.868    ,  5.3619   ,  9.3663   , ...,  8.5473   ,  7.0152   ,\n",
       "         6.763    ],\n",
       "       [ 6.7837   ,  4.1719   ,  9.0224   , ...,  7.7894   ,  7.1739   ,\n",
       "         6.7942   ],\n",
       "       ...,\n",
       "       [ 6.7612495,  3.94315  ,  8.539499 , ..., 10.82785  ,  9.295349 ,\n",
       "         8.622351 ],\n",
       "       [ 6.7283497,  4.15     ,  8.5402   , ..., 10.76325  ,  9.37595  ,\n",
       "         6.9753   ],\n",
       "       [ 6.00595  ,  3.5609498,  9.451225 , ...,  9.59755  ,  9.4889   ,\n",
       "         7.0133   ]], dtype=float32)"
      ]
     },
     "execution_count": 12,
     "metadata": {},
     "output_type": "execute_result"
    }
   ],
   "source": [
    "ctrl_adata.X"
   ]
  },
  {
   "cell_type": "code",
   "execution_count": 13,
   "id": "078e9dc0-0e21-4a2e-be99-ba7f9bd83e88",
   "metadata": {},
   "outputs": [
    {
     "name": "stdout",
     "output_type": "stream",
     "text": [
      "/../Cell-Type-Specific-Graphs/graphs/LINCS\n",
      "File exists!\n",
      "A375\n",
      "threshold: 0.6265973127553554\n",
      "number_of_edges before the threshold (5000 x 5000):  956484\n",
      "number_of_edges after the threshold:  9566\n",
      "number_of_edges after removing self loops:  8588\n",
      "final number_of_edges:  8588\n",
      "HT29\n",
      "threshold: 0.6296268183968503\n",
      "number_of_edges before the threshold (5000 x 5000):  956484\n",
      "number_of_edges after the threshold:  9566\n",
      "number_of_edges after removing self loops:  8588\n",
      "final number_of_edges:  8588\n",
      "MCF7\n",
      "threshold: 0.579240238949252\n",
      "number_of_edges before the threshold (5000 x 5000):  956484\n",
      "number_of_edges after the threshold:  9566\n",
      "number_of_edges after removing self loops:  8588\n",
      "final number_of_edges:  8588\n",
      "PC3\n",
      "threshold: 0.5902245646273322\n",
      "number_of_edges before the threshold (5000 x 5000):  956484\n",
      "number_of_edges after the threshold:  9566\n",
      "number_of_edges after removing self loops:  8588\n",
      "final number_of_edges:  8588\n",
      "VCAP\n",
      "threshold: 0.6098745953060718\n",
      "number_of_edges before the threshold (5000 x 5000):  956484\n",
      "number_of_edges after the threshold:  9566\n",
      "number_of_edges after removing self loops:  8588\n",
      "final number_of_edges:  8588\n"
     ]
    },
    {
     "data": {
      "text/plain": [
       "{'A375': Data(x=[405, 4235], edge_index=[2, 8588], edge_attr=[8588], pos=[405]),\n",
       " 'HT29': Data(x=[457, 4014], edge_index=[2, 8588], edge_attr=[8588], pos=[457]),\n",
       " 'MCF7': Data(x=[466, 6447], edge_index=[2, 8588], edge_attr=[8588], pos=[466]),\n",
       " 'PC3': Data(x=[460, 5932], edge_index=[2, 8588], edge_attr=[8588], pos=[460]),\n",
       " 'VCAP': Data(x=[374, 4900], edge_index=[2, 8588], edge_attr=[8588], pos=[374])}"
      ]
     },
     "execution_count": 13,
     "metadata": {},
     "output_type": "execute_result"
    }
   ],
   "source": [
    "import os\n",
    "import networkx as nx\n",
    "from torch_geometric.utils.convert import from_networkx\n",
    "from sklearn.metrics import mean_squared_error\n",
    "from torch_geometric.data import InMemoryDataset, Data, download_url, extract_zip, HeteroData, Batch\n",
    "from torch_geometric.utils import *\n",
    "import torch\n",
    "from torch import nn\n",
    "cell_type_network = {}\n",
    "# Leaf directory \n",
    "directory = \"LINCS\"\n",
    "# Parent Directories \n",
    "parent_dir = \"/../Cell-Type-Specific-Graphs/graphs/\"\n",
    "# Path \n",
    "path = os.path.join(parent_dir, directory)\n",
    "print(path)\n",
    "try: \n",
    "    os.makedirs(path) \n",
    "except:\n",
    "    print(\"File exists!\")\n",
    "max_nodes = 0\n",
    "genes_pos = []\n",
    "for cell_type in ctrl_adata.obs.cell_type.unique():\n",
    "    print(cell_type)\n",
    "    cell = Correlation_matrix(ctrl_adata, cell_type, 'cell_type',\n",
    "                       hv_genes_cells = None, union_HVGs = True)\n",
    "    threshold = np.percentile(np.abs(cell[0].values), 99.0)\n",
    "    print(\"threshold:\", threshold)\n",
    "    g = create_coexpression_graph(ctrl_adata, cell, cell_type, threshold, 'gene_name')\n",
    "    if g.num_nodes >= max_nodes:\n",
    "        max_nodes = g.num_nodes\n",
    "    cell_type_network[cell_type] = g\n",
    "    genes_pos.append(cell_type_network[cell_type].pos)\n",
    "    cell_type_network[cell_type].pos = torch.tensor(cell_type_network[cell_type].pos)\n",
    "    torch.save(cell_type_network[cell_type] , os.path.join(path,cell_type+'_coexpr_graph.pkl'))\n",
    "\n",
    "cell_type_network"
   ]
  },
  {
   "cell_type": "code",
   "execution_count": 14,
   "id": "d6c75edf-c904-4d8e-ab86-eb8937910045",
   "metadata": {},
   "outputs": [
    {
     "data": {
      "text/plain": [
       "index\n",
       "REP.A001_A375_24H_X1_B22:A03-2       control\n",
       "REP.A001_A375_24H_X1_B22:A04-2       control\n",
       "REP.A001_A375_24H_X1_B22:A05-2       control\n",
       "REP.A001_A375_24H_X1_B22:A06-2       control\n",
       "REP.A001_A375_24H_X1_B22:B03-2       control\n",
       "                                     ...    \n",
       "PCLB003_PC3_24H_X3_B13:P20-1      wortmannin\n",
       "PCLB003_PC3_24H_X3_B13:P21-1      wortmannin\n",
       "PCLB003_PC3_24H_X3_B13:P22-1      wortmannin\n",
       "PCLB003_PC3_24H_X3_B13:P23-1      wortmannin\n",
       "PCLB003_PC3_24H_X3_B13:P24-1      wortmannin\n",
       "Name: condition, Length: 503196, dtype: category\n",
       "Categories (16782, object): ['1,2,3,4,5,6-hexabromocyclohexane', '1,2-dichlorobenzene', '1-benzylimidazole', '1-monopalmitin', ..., 'zopiclone', 'zosuquidar', 'zoxazolamine', 'zuclopenthixol']"
      ]
     },
     "execution_count": 14,
     "metadata": {},
     "output_type": "execute_result"
    }
   ],
   "source": [
    "adata.obs['condition'] = adata.obs['condition'].replace('DMSO', 'control')\n",
    "adata.obs['condition']"
   ]
  },
  {
   "cell_type": "code",
   "execution_count": 15,
   "id": "3a0e40b1-662d-4ddf-89e2-99d5e4d883b7",
   "metadata": {},
   "outputs": [],
   "source": [
    "# Compute the crosstab\n",
    "crosstab_result = pd.crosstab(adata.obs['cell_type'], adata.obs['condition'])\n",
    "\n",
    "# Identify drugs (conditions) that appear in at least one cell type with fewer than 30 samples\n",
    "drugs_to_remove = crosstab_result.columns[crosstab_result.lt(50).any()]\n",
    "\n",
    "# Filter out those drugs from the dataset\n",
    "adata = adata[~adata.obs['condition'].isin(drugs_to_remove)]"
   ]
  },
  {
   "cell_type": "code",
   "execution_count": 16,
   "id": "d35ebc73-4dcc-4194-8c50-d8f0f8c7523d",
   "metadata": {},
   "outputs": [
    {
     "data": {
      "text/plain": [
       "View of AnnData object with n_obs × n_vars = 39689 × 978\n",
       "    obs: 'cell_id', 'det_plate', 'det_well', 'lincs_phase', 'pert_dose', 'pert_dose_unit', 'pert_id', 'pert_iname', 'pert_mfc_id', 'pert_time', 'pert_time_unit', 'pert_type', 'rna_plate', 'rna_well', 'condition', 'cell_type', 'dose', 'cov_drug_dose_name', 'cov_drug_name', 'control', 'canonical_smiles', 'SMILES', 'paired_control_index', 'cell_type_split_0', 'cell_type_split_1', 'cell_type_split_2', 'cell_type_split_3', 'cell_type_split_4', 'random_split_0', 'random_split_1', 'random_split_2', 'random_split_3', 'random_split_4', 'drug_split_0', 'drug_split_1', 'drug_split_2', 'drug_split_3', 'drug_split_4', 'cov_drug_dose_name_split_0', 'cov_drug_dose_name_split_1', 'cov_drug_dose_name_split_2', 'cov_drug_dose_name_split_3', 'cov_drug_dose_name_split_4'\n",
       "    var: 'pr_gene_title', 'pr_is_lm', 'pr_is_bing'\n",
       "    uns: 'cydata_pull'"
      ]
     },
     "execution_count": 16,
     "metadata": {},
     "output_type": "execute_result"
    }
   ],
   "source": [
    "adata"
   ]
  },
  {
   "cell_type": "code",
   "execution_count": 17,
   "id": "7b051c17-484d-4bae-afef-c1d964222625",
   "metadata": {},
   "outputs": [],
   "source": [
    "adata.obs['cov_drug'] = adata.obs.cell_type.astype(str) + '_' + adata.obs.condition.astype(str)"
   ]
  },
  {
   "cell_type": "code",
   "execution_count": 18,
   "id": "cfa1eaa5-d172-4fcf-afcb-09dd6fb14f49",
   "metadata": {},
   "outputs": [
    {
     "data": {
      "text/plain": [
       "12"
      ]
     },
     "execution_count": 18,
     "metadata": {},
     "output_type": "execute_result"
    }
   ],
   "source": [
    "len(adata.obs['cov_drug'].unique())\n",
    "len(adata.obs['condition'].unique())"
   ]
  },
  {
   "cell_type": "code",
   "execution_count": 19,
   "id": "33dd4621-3bad-440a-8315-e29ad2131f30",
   "metadata": {},
   "outputs": [
    {
     "data": {
      "text/plain": [
       "AnnData object with n_obs × n_vars = 39689 × 978\n",
       "    obs: 'cell_id', 'det_plate', 'det_well', 'lincs_phase', 'pert_dose', 'pert_dose_unit', 'pert_id', 'pert_iname', 'pert_mfc_id', 'pert_time', 'pert_time_unit', 'pert_type', 'rna_plate', 'rna_well', 'condition', 'cell_type', 'dose', 'cov_drug_dose_name', 'cov_drug_name', 'control', 'canonical_smiles', 'SMILES', 'paired_control_index', 'cell_type_split_0', 'cell_type_split_1', 'cell_type_split_2', 'cell_type_split_3', 'cell_type_split_4', 'random_split_0', 'random_split_1', 'random_split_2', 'random_split_3', 'random_split_4', 'drug_split_0', 'drug_split_1', 'drug_split_2', 'drug_split_3', 'drug_split_4', 'cov_drug_dose_name_split_0', 'cov_drug_dose_name_split_1', 'cov_drug_dose_name_split_2', 'cov_drug_dose_name_split_3', 'cov_drug_dose_name_split_4', 'cov_drug'\n",
       "    var: 'pr_gene_title', 'pr_is_lm', 'pr_is_bing'\n",
       "    uns: 'cydata_pull'"
      ]
     },
     "execution_count": 19,
     "metadata": {},
     "output_type": "execute_result"
    }
   ],
   "source": [
    "adata.write(data_path + 'LINCS_L1000_processed.h5ad')\n",
    "adata"
   ]
  },
  {
   "cell_type": "code",
   "execution_count": 20,
   "id": "194fda43-76c6-4381-85fe-581f7fdd03a2",
   "metadata": {},
   "outputs": [
    {
     "name": "stderr",
     "output_type": "stream",
     "text": [
      "100%|██████████| 55/55 [00:33<00:00,  1.66it/s]\n"
     ]
    }
   ],
   "source": [
    "import numpy as np\n",
    "import torch\n",
    "import tqdm as tq\n",
    "from scipy.spatial.distance import cdist\n",
    "\n",
    "stim_data = adata[adata.obs.condition != 'control'].copy()\n",
    "stim_data.layers['ctrl_x'] = stim_data.X\n",
    "ctrl_data = adata[adata.obs.condition == 'control'].copy()\n",
    "\n",
    "for cell_type in adata.obs.cell_type.unique():\n",
    "    genes = cell_type_network[cell_type].pos.tolist()\n",
    "    cell_type_network[cell_type].x = torch.mean(torch.tensor(ctrl_data[ctrl_data.obs.cell_type == cell_type, genes].copy().X), dim = 0)\n",
    "    std = torch.var(torch.tensor(ctrl_data[ctrl_data.obs.cell_type == cell_type, genes].copy().X), dim = 0)\n",
    "    cell_type_network[cell_type].x = torch.cat([cell_type_network[cell_type].x.unsqueeze(1), std.unsqueeze(1)], dim = 1)    \n",
    "\n",
    "for cov_drug in tq.tqdm(stim_data.obs.cov_drug.unique()):\n",
    "    cell_type = cov_drug.split('_')[0]\n",
    "    \n",
    "    # Get control and stimulated samples for this cell type\n",
    "    ad_ctrl = ctrl_data[ctrl_data.obs.cell_type == cell_type].copy()\n",
    "    ad_stim = stim_data[stim_data.obs.cov_drug == cov_drug].copy()\n",
    "    \n",
    "    # Extract expression matrices\n",
    "    ctrl_X = ad_ctrl.X.toarray() if hasattr(ad_ctrl.X, \"toarray\") else ad_ctrl.X\n",
    "    stim_X = ad_stim.X.toarray() if hasattr(ad_stim.X, \"toarray\") else ad_stim.X\n",
    "    \n",
    "    # Compute pairwise Euclidean distances\n",
    "    distances = cdist(stim_X, ctrl_X, metric='euclidean')  # shape: (n_stim, n_ctrl)\n",
    "    \n",
    "    # Get the index of the closest control sample for each stim sample\n",
    "    closest_ctrl_indices = np.argmin(distances, axis=1)\n",
    "    selected_ctrl_X = ctrl_X[closest_ctrl_indices]\n",
    "    # Save in the 'ctrl_x' layer\n",
    "    stim_data[ad_stim.obs.index.values, :].layers['ctrl_x'] = selected_ctrl_X\n",
    "    "
   ]
  },
  {
   "cell_type": "code",
   "execution_count": 21,
   "id": "fb7f5924-02de-4a56-8b65-1472cd5a31bb",
   "metadata": {},
   "outputs": [],
   "source": [
    "from rdkit import Chem\n",
    "from rdkit.Chem import AllChem\n",
    "from rdkit import Chem, DataStructs\n",
    "from tqdm import tqdm\n",
    "\n",
    "import pandas as pd\n",
    "\n",
    "# Define the file path\n",
    "file_path = data_path + \"SMILES_feat_all_datasets.csv\"\n",
    "\n",
    "# Read the Parquet file into a DataFrames\n",
    "df = pd.read_csv(file_path)\n",
    "\n",
    "# Define a list of drugs and their corresponding SMILES strings\n",
    "canonical_smiles = {}\n",
    "drug_smiles = adata.obs[['condition', 'SMILES']]\n",
    "drug_smiles = dict(zip(drug_smiles['condition'], drug_smiles['SMILES']))\n",
    "canonical_smiles = {}\n",
    "for drug_name, smile in drug_smiles.items():\n",
    "    if drug_name == 'control':\n",
    "        continue  # Skip 'control'\n",
    "    candidates = list(df.loc[df.SMILES == smile].values[0][1:])\n",
    "    canonical_smiles[drug_name] = candidates"
   ]
  },
  {
   "cell_type": "code",
   "execution_count": 22,
   "id": "c297a0c9-f994-43c5-b57f-1a92f8c7788c",
   "metadata": {},
   "outputs": [
    {
     "name": "stdout",
     "output_type": "stream",
     "text": [
      "['A375', 'HT29', 'MCF7', 'PC3', 'VCAP']\n",
      "Categories (5, object): ['A375', 'HT29', 'MCF7', 'PC3', 'VCAP'] ['estradiol', 'genistein', 'olaparib', 'dexamethasone', 'sirolimus', ..., 'vorinostat', 'trichostatin-a', 'geldanamycin', 'wortmannin', 'fulvestrant']\n",
      "Length: 11\n",
      "Categories (11, object): ['dexamethasone', 'estradiol', 'fulvestrant', 'geldanamycin', ..., 'tamoxifen', 'trichostatin-a', 'vorinostat', 'wortmannin']\n"
     ]
    },
    {
     "data": {
      "application/vnd.jupyter.widget-view+json": {
       "model_id": "f3b383d2da7d4e75a54882a862d9c5a3",
       "version_major": 2,
       "version_minor": 0
      },
      "text/plain": [
       "Processing cov_drugs:   0%|          | 0/55 [00:00<?, ?it/s]"
      ]
     },
     "metadata": {},
     "output_type": "display_data"
    },
    {
     "data": {
      "application/vnd.jupyter.widget-view+json": {
       "model_id": "0837fdf86eae446990bdda364b423c6b",
       "version_major": 2,
       "version_minor": 0
      },
      "text/plain": [
       "Processing A375_estradiol samples:   0%|          | 0/86 [00:00<?, ?it/s]"
      ]
     },
     "metadata": {},
     "output_type": "display_data"
    },
    {
     "data": {
      "application/vnd.jupyter.widget-view+json": {
       "model_id": "6fa8de87d0e3443cb0ff1ddf049f7c57",
       "version_major": 2,
       "version_minor": 0
      },
      "text/plain": [
       "Processing HT29_estradiol samples:   0%|          | 0/91 [00:00<?, ?it/s]"
      ]
     },
     "metadata": {},
     "output_type": "display_data"
    },
    {
     "data": {
      "application/vnd.jupyter.widget-view+json": {
       "model_id": "63e1dcd71b2c43bf86e8a9582d33bd24",
       "version_major": 2,
       "version_minor": 0
      },
      "text/plain": [
       "Processing MCF7_estradiol samples:   0%|          | 0/343 [00:00<?, ?it/s]"
      ]
     },
     "metadata": {},
     "output_type": "display_data"
    },
    {
     "data": {
      "application/vnd.jupyter.widget-view+json": {
       "model_id": "0be3d4288a1d4faba93802caaa971686",
       "version_major": 2,
       "version_minor": 0
      },
      "text/plain": [
       "Processing PC3_estradiol samples:   0%|          | 0/191 [00:00<?, ?it/s]"
      ]
     },
     "metadata": {},
     "output_type": "display_data"
    },
    {
     "data": {
      "application/vnd.jupyter.widget-view+json": {
       "model_id": "e84d07f36f884cd4af05e4731d616119",
       "version_major": 2,
       "version_minor": 0
      },
      "text/plain": [
       "Processing A375_genistein samples:   0%|          | 0/111 [00:00<?, ?it/s]"
      ]
     },
     "metadata": {},
     "output_type": "display_data"
    },
    {
     "data": {
      "application/vnd.jupyter.widget-view+json": {
       "model_id": "a047afd479c1470b80025bf9edd34fa6",
       "version_major": 2,
       "version_minor": 0
      },
      "text/plain": [
       "Processing HT29_genistein samples:   0%|          | 0/117 [00:00<?, ?it/s]"
      ]
     },
     "metadata": {},
     "output_type": "display_data"
    },
    {
     "data": {
      "application/vnd.jupyter.widget-view+json": {
       "model_id": "6f1b1ef23ea0445083194d79157f6b14",
       "version_major": 2,
       "version_minor": 0
      },
      "text/plain": [
       "Processing MCF7_genistein samples:   0%|          | 0/153 [00:00<?, ?it/s]"
      ]
     },
     "metadata": {},
     "output_type": "display_data"
    },
    {
     "data": {
      "application/vnd.jupyter.widget-view+json": {
       "model_id": "c5b30554fdfc4d9889612adc98af9033",
       "version_major": 2,
       "version_minor": 0
      },
      "text/plain": [
       "Processing PC3_genistein samples:   0%|          | 0/203 [00:00<?, ?it/s]"
      ]
     },
     "metadata": {},
     "output_type": "display_data"
    },
    {
     "data": {
      "application/vnd.jupyter.widget-view+json": {
       "model_id": "35dd0caf4a4c482f8d048df90845d341",
       "version_major": 2,
       "version_minor": 0
      },
      "text/plain": [
       "Processing A375_olaparib samples:   0%|          | 0/69 [00:00<?, ?it/s]"
      ]
     },
     "metadata": {},
     "output_type": "display_data"
    },
    {
     "data": {
      "application/vnd.jupyter.widget-view+json": {
       "model_id": "29f58d70b8ac4213bbdea9fa2bb3a8d8",
       "version_major": 2,
       "version_minor": 0
      },
      "text/plain": [
       "Processing HT29_olaparib samples:   0%|          | 0/63 [00:00<?, ?it/s]"
      ]
     },
     "metadata": {},
     "output_type": "display_data"
    },
    {
     "data": {
      "application/vnd.jupyter.widget-view+json": {
       "model_id": "31e3f6f54dbb4d2f84d881c63bf94a11",
       "version_major": 2,
       "version_minor": 0
      },
      "text/plain": [
       "Processing MCF7_olaparib samples:   0%|          | 0/86 [00:00<?, ?it/s]"
      ]
     },
     "metadata": {},
     "output_type": "display_data"
    },
    {
     "data": {
      "application/vnd.jupyter.widget-view+json": {
       "model_id": "0993a21c01d7448cbb4164a5cc8f00d6",
       "version_major": 2,
       "version_minor": 0
      },
      "text/plain": [
       "Processing PC3_olaparib samples:   0%|          | 0/65 [00:00<?, ?it/s]"
      ]
     },
     "metadata": {},
     "output_type": "display_data"
    },
    {
     "data": {
      "application/vnd.jupyter.widget-view+json": {
       "model_id": "c05cbf8d5bb24e24a25629a18da427e7",
       "version_major": 2,
       "version_minor": 0
      },
      "text/plain": [
       "Processing A375_dexamethasone samples:   0%|          | 0/68 [00:00<?, ?it/s]"
      ]
     },
     "metadata": {},
     "output_type": "display_data"
    },
    {
     "data": {
      "application/vnd.jupyter.widget-view+json": {
       "model_id": "1ee727c86b99423bb868a166f9887b2c",
       "version_major": 2,
       "version_minor": 0
      },
      "text/plain": [
       "Processing HT29_dexamethasone samples:   0%|          | 0/67 [00:00<?, ?it/s]"
      ]
     },
     "metadata": {},
     "output_type": "display_data"
    },
    {
     "data": {
      "application/vnd.jupyter.widget-view+json": {
       "model_id": "a95b7afb7afe4923827151223d1ae75a",
       "version_major": 2,
       "version_minor": 0
      },
      "text/plain": [
       "Processing MCF7_dexamethasone samples:   0%|          | 0/106 [00:00<?, ?it/s]"
      ]
     },
     "metadata": {},
     "output_type": "display_data"
    },
    {
     "data": {
      "application/vnd.jupyter.widget-view+json": {
       "model_id": "25c0495af8014f0e8bd85e66e513538d",
       "version_major": 2,
       "version_minor": 0
      },
      "text/plain": [
       "Processing PC3_dexamethasone samples:   0%|          | 0/95 [00:00<?, ?it/s]"
      ]
     },
     "metadata": {},
     "output_type": "display_data"
    },
    {
     "data": {
      "application/vnd.jupyter.widget-view+json": {
       "model_id": "93ad690799b84ae0a24b04525e11ffe4",
       "version_major": 2,
       "version_minor": 0
      },
      "text/plain": [
       "Processing A375_sirolimus samples:   0%|          | 0/110 [00:00<?, ?it/s]"
      ]
     },
     "metadata": {},
     "output_type": "display_data"
    },
    {
     "data": {
      "application/vnd.jupyter.widget-view+json": {
       "model_id": "31d7641ac7b7465cbcfcdb85fc973a82",
       "version_major": 2,
       "version_minor": 0
      },
      "text/plain": [
       "Processing HT29_sirolimus samples:   0%|          | 0/106 [00:00<?, ?it/s]"
      ]
     },
     "metadata": {},
     "output_type": "display_data"
    },
    {
     "data": {
      "application/vnd.jupyter.widget-view+json": {
       "model_id": "5b2444b25ee84db7ba0f0ebcdfcea7aa",
       "version_major": 2,
       "version_minor": 0
      },
      "text/plain": [
       "Processing MCF7_sirolimus samples:   0%|          | 0/286 [00:00<?, ?it/s]"
      ]
     },
     "metadata": {},
     "output_type": "display_data"
    },
    {
     "data": {
      "application/vnd.jupyter.widget-view+json": {
       "model_id": "d96b8a05346f4d4682848427fc98231f",
       "version_major": 2,
       "version_minor": 0
      },
      "text/plain": [
       "Processing PC3_sirolimus samples:   0%|          | 0/223 [00:00<?, ?it/s]"
      ]
     },
     "metadata": {},
     "output_type": "display_data"
    },
    {
     "data": {
      "application/vnd.jupyter.widget-view+json": {
       "model_id": "bba22df0dd4a4a69bee1ce98e77f90d6",
       "version_major": 2,
       "version_minor": 0
      },
      "text/plain": [
       "Processing A375_tamoxifen samples:   0%|          | 0/106 [00:00<?, ?it/s]"
      ]
     },
     "metadata": {},
     "output_type": "display_data"
    },
    {
     "data": {
      "application/vnd.jupyter.widget-view+json": {
       "model_id": "fa8a7fd508b74d7ba0e79be84e87b42f",
       "version_major": 2,
       "version_minor": 0
      },
      "text/plain": [
       "Processing HT29_tamoxifen samples:   0%|          | 0/101 [00:00<?, ?it/s]"
      ]
     },
     "metadata": {},
     "output_type": "display_data"
    },
    {
     "data": {
      "application/vnd.jupyter.widget-view+json": {
       "model_id": "206f2715be804117b40c4d48056f7381",
       "version_major": 2,
       "version_minor": 0
      },
      "text/plain": [
       "Processing MCF7_tamoxifen samples:   0%|          | 0/140 [00:00<?, ?it/s]"
      ]
     },
     "metadata": {},
     "output_type": "display_data"
    },
    {
     "data": {
      "application/vnd.jupyter.widget-view+json": {
       "model_id": "fd0f4054ddf04e05902fdfc7f8e98c6c",
       "version_major": 2,
       "version_minor": 0
      },
      "text/plain": [
       "Processing PC3_tamoxifen samples:   0%|          | 0/144 [00:00<?, ?it/s]"
      ]
     },
     "metadata": {},
     "output_type": "display_data"
    },
    {
     "data": {
      "application/vnd.jupyter.widget-view+json": {
       "model_id": "98e566e79927414cb804f9f2100d3e5d",
       "version_major": 2,
       "version_minor": 0
      },
      "text/plain": [
       "Processing A375_vorinostat samples:   0%|          | 0/367 [00:00<?, ?it/s]"
      ]
     },
     "metadata": {},
     "output_type": "display_data"
    },
    {
     "data": {
      "application/vnd.jupyter.widget-view+json": {
       "model_id": "4a6e7e7a415e481ba8b85ff2eb70072b",
       "version_major": 2,
       "version_minor": 0
      },
      "text/plain": [
       "Processing PC3_vorinostat samples:   0%|          | 0/738 [00:00<?, ?it/s]"
      ]
     },
     "metadata": {},
     "output_type": "display_data"
    },
    {
     "data": {
      "application/vnd.jupyter.widget-view+json": {
       "model_id": "9fb27c1d1df64031904149eedc641be0",
       "version_major": 2,
       "version_minor": 0
      },
      "text/plain": [
       "Processing A375_trichostatin-a samples:   0%|          | 0/298 [00:00<?, ?it/s]"
      ]
     },
     "metadata": {},
     "output_type": "display_data"
    },
    {
     "data": {
      "application/vnd.jupyter.widget-view+json": {
       "model_id": "379bad68a95a4aab9f2ec90a121df09c",
       "version_major": 2,
       "version_minor": 0
      },
      "text/plain": [
       "Processing A375_geldanamycin samples:   0%|          | 0/240 [00:00<?, ?it/s]"
      ]
     },
     "metadata": {},
     "output_type": "display_data"
    },
    {
     "data": {
      "application/vnd.jupyter.widget-view+json": {
       "model_id": "e16adc6ad46a4fa9a46edb37116cd2e2",
       "version_major": 2,
       "version_minor": 0
      },
      "text/plain": [
       "Processing HT29_vorinostat samples:   0%|          | 0/291 [00:00<?, ?it/s]"
      ]
     },
     "metadata": {},
     "output_type": "display_data"
    },
    {
     "data": {
      "application/vnd.jupyter.widget-view+json": {
       "model_id": "470299f1d75e45c5a2c948dd3d7f4d1c",
       "version_major": 2,
       "version_minor": 0
      },
      "text/plain": [
       "Processing HT29_geldanamycin samples:   0%|          | 0/238 [00:00<?, ?it/s]"
      ]
     },
     "metadata": {},
     "output_type": "display_data"
    },
    {
     "data": {
      "application/vnd.jupyter.widget-view+json": {
       "model_id": "e015f5ea546242cdae4b1b37e33fa947",
       "version_major": 2,
       "version_minor": 0
      },
      "text/plain": [
       "Processing MCF7_trichostatin-a samples:   0%|          | 0/692 [00:00<?, ?it/s]"
      ]
     },
     "metadata": {},
     "output_type": "display_data"
    },
    {
     "data": {
      "application/vnd.jupyter.widget-view+json": {
       "model_id": "4cbe9af171ae444f974ae6ad707b280d",
       "version_major": 2,
       "version_minor": 0
      },
      "text/plain": [
       "Processing MCF7_geldanamycin samples:   0%|          | 0/732 [00:00<?, ?it/s]"
      ]
     },
     "metadata": {},
     "output_type": "display_data"
    },
    {
     "data": {
      "application/vnd.jupyter.widget-view+json": {
       "model_id": "911d8779eff94223a3755284e41f0dd1",
       "version_major": 2,
       "version_minor": 0
      },
      "text/plain": [
       "Processing MCF7_vorinostat samples:   0%|          | 0/937 [00:00<?, ?it/s]"
      ]
     },
     "metadata": {},
     "output_type": "display_data"
    },
    {
     "data": {
      "application/vnd.jupyter.widget-view+json": {
       "model_id": "0a186e19c7ad43acb9478273d554c129",
       "version_major": 2,
       "version_minor": 0
      },
      "text/plain": [
       "Processing PC3_trichostatin-a samples:   0%|          | 0/593 [00:00<?, ?it/s]"
      ]
     },
     "metadata": {},
     "output_type": "display_data"
    },
    {
     "data": {
      "application/vnd.jupyter.widget-view+json": {
       "model_id": "f13cf75ae4d1454f9a7b76335a3d4a63",
       "version_major": 2,
       "version_minor": 0
      },
      "text/plain": [
       "Processing PC3_geldanamycin samples:   0%|          | 0/579 [00:00<?, ?it/s]"
      ]
     },
     "metadata": {},
     "output_type": "display_data"
    },
    {
     "data": {
      "application/vnd.jupyter.widget-view+json": {
       "model_id": "2ff4e7166a08403a8a08281cfb445571",
       "version_major": 2,
       "version_minor": 0
      },
      "text/plain": [
       "Processing A375_wortmannin samples:   0%|          | 0/190 [00:00<?, ?it/s]"
      ]
     },
     "metadata": {},
     "output_type": "display_data"
    },
    {
     "data": {
      "application/vnd.jupyter.widget-view+json": {
       "model_id": "712d863f941e413f953176e43e3bee75",
       "version_major": 2,
       "version_minor": 0
      },
      "text/plain": [
       "Processing A375_fulvestrant samples:   0%|          | 0/83 [00:00<?, ?it/s]"
      ]
     },
     "metadata": {},
     "output_type": "display_data"
    },
    {
     "data": {
      "application/vnd.jupyter.widget-view+json": {
       "model_id": "543d0c14e1d141d29d2af23c5cefd1c7",
       "version_major": 2,
       "version_minor": 0
      },
      "text/plain": [
       "Processing HT29_wortmannin samples:   0%|          | 0/207 [00:00<?, ?it/s]"
      ]
     },
     "metadata": {},
     "output_type": "display_data"
    },
    {
     "data": {
      "application/vnd.jupyter.widget-view+json": {
       "model_id": "233f642c9bcc46cba0e73b999e5fab7d",
       "version_major": 2,
       "version_minor": 0
      },
      "text/plain": [
       "Processing HT29_fulvestrant samples:   0%|          | 0/82 [00:00<?, ?it/s]"
      ]
     },
     "metadata": {},
     "output_type": "display_data"
    },
    {
     "data": {
      "application/vnd.jupyter.widget-view+json": {
       "model_id": "3fc9257714ef4fb8998e91b872f0ab0b",
       "version_major": 2,
       "version_minor": 0
      },
      "text/plain": [
       "Processing HT29_trichostatin-a samples:   0%|          | 0/237 [00:00<?, ?it/s]"
      ]
     },
     "metadata": {},
     "output_type": "display_data"
    },
    {
     "data": {
      "application/vnd.jupyter.widget-view+json": {
       "model_id": "9b107a04c6434570870e8111e7678fca",
       "version_major": 2,
       "version_minor": 0
      },
      "text/plain": [
       "Processing MCF7_wortmannin samples:   0%|          | 0/640 [00:00<?, ?it/s]"
      ]
     },
     "metadata": {},
     "output_type": "display_data"
    },
    {
     "data": {
      "application/vnd.jupyter.widget-view+json": {
       "model_id": "f15c0717deab483a93adf260c0bdae8c",
       "version_major": 2,
       "version_minor": 0
      },
      "text/plain": [
       "Processing MCF7_fulvestrant samples:   0%|          | 0/130 [00:00<?, ?it/s]"
      ]
     },
     "metadata": {},
     "output_type": "display_data"
    },
    {
     "data": {
      "application/vnd.jupyter.widget-view+json": {
       "model_id": "7df9b16ba17946299a1fca04e5c19bb2",
       "version_major": 2,
       "version_minor": 0
      },
      "text/plain": [
       "Processing PC3_wortmannin samples:   0%|          | 0/523 [00:00<?, ?it/s]"
      ]
     },
     "metadata": {},
     "output_type": "display_data"
    },
    {
     "data": {
      "application/vnd.jupyter.widget-view+json": {
       "model_id": "d91ed6aa707d491ebb0acba30cc2002c",
       "version_major": 2,
       "version_minor": 0
      },
      "text/plain": [
       "Processing PC3_fulvestrant samples:   0%|          | 0/242 [00:00<?, ?it/s]"
      ]
     },
     "metadata": {},
     "output_type": "display_data"
    },
    {
     "data": {
      "application/vnd.jupyter.widget-view+json": {
       "model_id": "473466b80ca24e81ac22852d932df140",
       "version_major": 2,
       "version_minor": 0
      },
      "text/plain": [
       "Processing VCAP_dexamethasone samples:   0%|          | 0/63 [00:00<?, ?it/s]"
      ]
     },
     "metadata": {},
     "output_type": "display_data"
    },
    {
     "data": {
      "application/vnd.jupyter.widget-view+json": {
       "model_id": "1bcb8d0384534d67aa3240e793c354cc",
       "version_major": 2,
       "version_minor": 0
      },
      "text/plain": [
       "Processing VCAP_estradiol samples:   0%|          | 0/69 [00:00<?, ?it/s]"
      ]
     },
     "metadata": {},
     "output_type": "display_data"
    },
    {
     "data": {
      "application/vnd.jupyter.widget-view+json": {
       "model_id": "063e9de639fb4fafb597c35f8c6468d2",
       "version_major": 2,
       "version_minor": 0
      },
      "text/plain": [
       "Processing VCAP_genistein samples:   0%|          | 0/218 [00:00<?, ?it/s]"
      ]
     },
     "metadata": {},
     "output_type": "display_data"
    },
    {
     "data": {
      "application/vnd.jupyter.widget-view+json": {
       "model_id": "fc1cd9fd160443409d01625a396803f5",
       "version_major": 2,
       "version_minor": 0
      },
      "text/plain": [
       "Processing VCAP_tamoxifen samples:   0%|          | 0/50 [00:00<?, ?it/s]"
      ]
     },
     "metadata": {},
     "output_type": "display_data"
    },
    {
     "data": {
      "application/vnd.jupyter.widget-view+json": {
       "model_id": "18e0c75f27754d9098a6a70c868cbd4b",
       "version_major": 2,
       "version_minor": 0
      },
      "text/plain": [
       "Processing VCAP_wortmannin samples:   0%|          | 0/492 [00:00<?, ?it/s]"
      ]
     },
     "metadata": {},
     "output_type": "display_data"
    },
    {
     "data": {
      "application/vnd.jupyter.widget-view+json": {
       "model_id": "a50875035e364a37a2ea94a03051fd86",
       "version_major": 2,
       "version_minor": 0
      },
      "text/plain": [
       "Processing VCAP_fulvestrant samples:   0%|          | 0/344 [00:00<?, ?it/s]"
      ]
     },
     "metadata": {},
     "output_type": "display_data"
    },
    {
     "data": {
      "application/vnd.jupyter.widget-view+json": {
       "model_id": "4566a7d924714635985672e7eae8622d",
       "version_major": 2,
       "version_minor": 0
      },
      "text/plain": [
       "Processing VCAP_geldanamycin samples:   0%|          | 0/413 [00:00<?, ?it/s]"
      ]
     },
     "metadata": {},
     "output_type": "display_data"
    },
    {
     "data": {
      "application/vnd.jupyter.widget-view+json": {
       "model_id": "7380eec60d3d417bb1fe2b9d9eff32ba",
       "version_major": 2,
       "version_minor": 0
      },
      "text/plain": [
       "Processing VCAP_sirolimus samples:   0%|          | 0/252 [00:00<?, ?it/s]"
      ]
     },
     "metadata": {},
     "output_type": "display_data"
    },
    {
     "data": {
      "application/vnd.jupyter.widget-view+json": {
       "model_id": "9838c4dca66241f38b2f0cae5b6d91fb",
       "version_major": 2,
       "version_minor": 0
      },
      "text/plain": [
       "Processing VCAP_trichostatin-a samples:   0%|          | 0/411 [00:00<?, ?it/s]"
      ]
     },
     "metadata": {},
     "output_type": "display_data"
    },
    {
     "data": {
      "application/vnd.jupyter.widget-view+json": {
       "model_id": "3054f892ec1b43279372b5de9d1dba83",
       "version_major": 2,
       "version_minor": 0
      },
      "text/plain": [
       "Processing VCAP_vorinostat samples:   0%|          | 0/480 [00:00<?, ?it/s]"
      ]
     },
     "metadata": {},
     "output_type": "display_data"
    },
    {
     "data": {
      "application/vnd.jupyter.widget-view+json": {
       "model_id": "277e3963a48b477fb341e1f90c71ba3b",
       "version_major": 2,
       "version_minor": 0
      },
      "text/plain": [
       "Processing VCAP_olaparib samples:   0%|          | 0/200 [00:00<?, ?it/s]"
      ]
     },
     "metadata": {},
     "output_type": "display_data"
    }
   ],
   "source": [
    "from importlib import reload\n",
    "import utils\n",
    "reload(utils)\n",
    "from utils import *\n",
    "cells_train = create_cells(stim_data, cell_type_network, canonical_smiles)"
   ]
  },
  {
   "cell_type": "code",
   "execution_count": 23,
   "id": "657a816e-5fe7-4120-9a56-79dc6ec58c7e",
   "metadata": {},
   "outputs": [],
   "source": [
    "import pickle\n",
    "with open(data_path+'cells_LINCS.pkl', 'wb') as f:\n",
    "    pickle.dump(cells_train, f)"
   ]
  },
  {
   "cell_type": "code",
   "execution_count": 24,
   "id": "d61db262-89c6-4a7f-8fb3-6db9c2a0e2d1",
   "metadata": {},
   "outputs": [
    {
     "data": {
      "text/plain": [
       "Data(x=[1, 978], y=[1, 978], pert_label=[1, 124], cell_type='A375', cov_drug='A375_estradiol', drug='estradiol')"
      ]
     },
     "execution_count": 24,
     "metadata": {},
     "output_type": "execute_result"
    }
   ],
   "source": [
    "cells_train[0]"
   ]
  },
  {
   "cell_type": "code",
   "execution_count": 25,
   "id": "2431f384-8c83-4819-8fbf-2bb49d65c2fe",
   "metadata": {},
   "outputs": [
    {
     "name": "stderr",
     "output_type": "stream",
     "text": [
      "100%|██████████| 12/12 [00:04<00:00,  2.63it/s]\n"
     ]
    },
    {
     "name": "stdout",
     "output_type": "stream",
     "text": [
      "Closest drugs: ['dexamethasone']\n",
      "Farthest drugs: ['trichostatin-a']\n",
      "Testing drugs: ['dexamethasone', 'trichostatin-a']\n"
     ]
    }
   ],
   "source": [
    "from scperturb import *\n",
    "estats = edist_to_control(adata, obs_key='condition', obsm_key='X_pca', dist='sqeuclidean')\n",
    "# Sort the Series in ascending order:\n",
    "if 'control' in estats.index:\n",
    "    control_values = estats.drop('control')\n",
    "sorted_control = control_values.sort_values(by = 'distance' , ascending=True)\n",
    "\n",
    "# The 7 drugs with the smallest values are the closest to control\n",
    "closest_drugs = sorted_control.head(1).index.tolist()\n",
    "\n",
    "# The 7 drugs with the highest values are the farthest from control\n",
    "farthest_drugs = sorted_control.tail(1).index.tolist()\n",
    "\n",
    "# Combine them into a single list if desired\n",
    "testing_drugs = closest_drugs + farthest_drugs\n",
    "\n",
    "print(\"Closest drugs:\", closest_drugs)\n",
    "print(\"Farthest drugs:\", farthest_drugs)\n",
    "print(\"Testing drugs:\", testing_drugs)"
   ]
  },
  {
   "cell_type": "code",
   "execution_count": 26,
   "id": "52e0d9f4-d688-429c-a1ef-53c63e252c92",
   "metadata": {},
   "outputs": [
    {
     "data": {
      "image/png": "[encoded data removed]",
      "text/plain": [
       "<Figure size 800x700 with 1 Axes>"
      ]
     },
     "metadata": {},
     "output_type": "display_data"
    }
   ],
   "source": [
    "import matplotlib.pyplot as plt\n",
    "import seaborn as sns\n",
    "import pandas as pd\n",
    "\n",
    "def plot_distance_violin(sorted_control, num_selected=1, text_offset=0.1):\n",
    "    \"\"\"\n",
    "    Plots the distance distribution of drugs from the control group as a violin plot,\n",
    "    highlighting the top `num_selected` closest and farthest drugs while avoiding text overlap.\n",
    "\n",
    "    Parameters:\n",
    "    - sorted_control: Pandas DataFrame with 'distance' column (sorted in ascending order)\n",
    "    - num_selected: Number of closest and farthest drugs to highlight\n",
    "    - text_offset: Vertical offset to prevent text overlap\n",
    "    \"\"\"\n",
    "\n",
    "    # Extract distances\n",
    "    distances = sorted_control['distance'].values\n",
    "\n",
    "    # Extract selected drug names and distances\n",
    "    closest_drugs = sorted_control.index[:num_selected].tolist()\n",
    "    farthest_drugs = sorted_control.index[-num_selected:].tolist()\n",
    "    closest_distances = sorted_control['distance'][:num_selected].tolist()\n",
    "    farthest_distances = sorted_control['distance'][-num_selected:].tolist()\n",
    "    # Plot violin plot\n",
    "    plt.figure(figsize=(8, 7))\n",
    "    sns.violinplot(y=distances, color='#B5345C', inner=\"quartile\")\n",
    "\n",
    "    # Annotate closest drugs (adjusting y position to avoid overlap)\n",
    "    for i, (drug, dist) in enumerate(zip(closest_drugs, closest_distances)):\n",
    "        plt.text(x = (i-0.5) * (text_offset + 0.11), y=dist , s=drug, color=\"black\", fontsize=10, fontweight=\"bold\", verticalalignment='bottom')\n",
    "\n",
    "    # Annotate farthest drugs (adjusting y position to avoid overlap)\n",
    "    for i, (drug, dist) in enumerate(zip(farthest_drugs, farthest_distances)):\n",
    "        plt.text(x = 0, y=dist, s=drug, color=\"black\", fontsize=10, fontweight=\"bold\", verticalalignment='bottom')\n",
    "\n",
    "    # Labels and title\n",
    "    plt.ylabel(\"E-Distance to Control\")\n",
    "    # Show plot\n",
    "    plt.savefig('distance_dist.pdf', bbox_inches=\"tight\", dpi=300)\n",
    "    plt.show()\n",
    "\n",
    "# Example usage (assuming `sorted_control` is a DataFrame with a 'distance' column sorted in ascending order)\n",
    "plot_distance_violin(sorted_control)"
   ]
  },
  {
   "cell_type": "code",
   "execution_count": 27,
   "id": "94add01b-8ced-432f-b4e9-79f417143fd7",
   "metadata": {},
   "outputs": [
    {
     "data": {
      "text/html": [
       "<div>\n",
       "<style scoped>\n",
       "    .dataframe tbody tr th:only-of-type {\n",
       "        vertical-align: middle;\n",
       "    }\n",
       "\n",
       "    .dataframe tbody tr th {\n",
       "        vertical-align: top;\n",
       "    }\n",
       "\n",
       "    .dataframe thead th {\n",
       "        text-align: right;\n",
       "    }\n",
       "</style>\n",
       "<table border=\"1\" class=\"dataframe\">\n",
       "  <thead>\n",
       "    <tr style=\"text-align: right;\">\n",
       "      <th>condition</th>\n",
       "      <th>control</th>\n",
       "      <th>dexamethasone</th>\n",
       "      <th>estradiol</th>\n",
       "      <th>fulvestrant</th>\n",
       "      <th>geldanamycin</th>\n",
       "      <th>genistein</th>\n",
       "      <th>olaparib</th>\n",
       "      <th>sirolimus</th>\n",
       "      <th>tamoxifen</th>\n",
       "      <th>trichostatin-a</th>\n",
       "      <th>vorinostat</th>\n",
       "      <th>wortmannin</th>\n",
       "    </tr>\n",
       "    <tr>\n",
       "      <th>cell_type</th>\n",
       "      <th></th>\n",
       "      <th></th>\n",
       "      <th></th>\n",
       "      <th></th>\n",
       "      <th></th>\n",
       "      <th></th>\n",
       "      <th></th>\n",
       "      <th></th>\n",
       "      <th></th>\n",
       "      <th></th>\n",
       "      <th></th>\n",
       "      <th></th>\n",
       "    </tr>\n",
       "  </thead>\n",
       "  <tbody>\n",
       "    <tr>\n",
       "      <th>A375</th>\n",
       "      <td>4235</td>\n",
       "      <td>68</td>\n",
       "      <td>86</td>\n",
       "      <td>83</td>\n",
       "      <td>240</td>\n",
       "      <td>111</td>\n",
       "      <td>69</td>\n",
       "      <td>110</td>\n",
       "      <td>106</td>\n",
       "      <td>298</td>\n",
       "      <td>367</td>\n",
       "      <td>190</td>\n",
       "    </tr>\n",
       "    <tr>\n",
       "      <th>HT29</th>\n",
       "      <td>4014</td>\n",
       "      <td>67</td>\n",
       "      <td>91</td>\n",
       "      <td>82</td>\n",
       "      <td>238</td>\n",
       "      <td>117</td>\n",
       "      <td>63</td>\n",
       "      <td>106</td>\n",
       "      <td>101</td>\n",
       "      <td>237</td>\n",
       "      <td>291</td>\n",
       "      <td>207</td>\n",
       "    </tr>\n",
       "    <tr>\n",
       "      <th>MCF7</th>\n",
       "      <td>6447</td>\n",
       "      <td>106</td>\n",
       "      <td>343</td>\n",
       "      <td>130</td>\n",
       "      <td>732</td>\n",
       "      <td>153</td>\n",
       "      <td>86</td>\n",
       "      <td>286</td>\n",
       "      <td>140</td>\n",
       "      <td>692</td>\n",
       "      <td>937</td>\n",
       "      <td>640</td>\n",
       "    </tr>\n",
       "    <tr>\n",
       "      <th>PC3</th>\n",
       "      <td>5932</td>\n",
       "      <td>95</td>\n",
       "      <td>191</td>\n",
       "      <td>242</td>\n",
       "      <td>579</td>\n",
       "      <td>203</td>\n",
       "      <td>65</td>\n",
       "      <td>223</td>\n",
       "      <td>144</td>\n",
       "      <td>593</td>\n",
       "      <td>738</td>\n",
       "      <td>523</td>\n",
       "    </tr>\n",
       "    <tr>\n",
       "      <th>VCAP</th>\n",
       "      <td>4900</td>\n",
       "      <td>63</td>\n",
       "      <td>69</td>\n",
       "      <td>344</td>\n",
       "      <td>413</td>\n",
       "      <td>218</td>\n",
       "      <td>200</td>\n",
       "      <td>252</td>\n",
       "      <td>50</td>\n",
       "      <td>411</td>\n",
       "      <td>480</td>\n",
       "      <td>492</td>\n",
       "    </tr>\n",
       "  </tbody>\n",
       "</table>\n",
       "</div>"
      ],
      "text/plain": [
       "condition  control  dexamethasone  estradiol  fulvestrant  geldanamycin  \\\n",
       "cell_type                                                                 \n",
       "A375          4235             68         86           83           240   \n",
       "HT29          4014             67         91           82           238   \n",
       "MCF7          6447            106        343          130           732   \n",
       "PC3           5932             95        191          242           579   \n",
       "VCAP          4900             63         69          344           413   \n",
       "\n",
       "condition  genistein  olaparib  sirolimus  tamoxifen  trichostatin-a  \\\n",
       "cell_type                                                              \n",
       "A375             111        69        110        106             298   \n",
       "HT29             117        63        106        101             237   \n",
       "MCF7             153        86        286        140             692   \n",
       "PC3              203        65        223        144             593   \n",
       "VCAP             218       200        252         50             411   \n",
       "\n",
       "condition  vorinostat  wortmannin  \n",
       "cell_type                          \n",
       "A375              367         190  \n",
       "HT29              291         207  \n",
       "MCF7              937         640  \n",
       "PC3               738         523  \n",
       "VCAP              480         492  "
      ]
     },
     "execution_count": 27,
     "metadata": {},
     "output_type": "execute_result"
    }
   ],
   "source": [
    "cross_tab = pd.crosstab(adata.obs['cell_type'], adata.obs['condition'])\n",
    "cross_tab"
   ]
  },
  {
   "cell_type": "code",
   "execution_count": 28,
   "id": "2d7ad896-c069-40ca-b5c1-12c97437b07b",
   "metadata": {},
   "outputs": [
    {
     "data": {
      "text/plain": [
       "['A375', 'HT29', 'MCF7', 'PC3', 'VCAP']\n",
       "Categories (5, object): ['A375', 'HT29', 'MCF7', 'PC3', 'VCAP']"
      ]
     },
     "execution_count": 28,
     "metadata": {},
     "output_type": "execute_result"
    }
   ],
   "source": [
    "adata.obs.cell_type.unique()"
   ]
  },
  {
   "cell_type": "code",
   "execution_count": 29,
   "id": "97e36aec-321d-4b5a-9429-089efc0b0e23",
   "metadata": {},
   "outputs": [
    {
     "data": {
      "text/plain": [
       "AnnData object with n_obs × n_vars = 39689 × 978\n",
       "    obs: 'cell_id', 'det_plate', 'det_well', 'lincs_phase', 'pert_dose', 'pert_dose_unit', 'pert_id', 'pert_iname', 'pert_mfc_id', 'pert_time', 'pert_time_unit', 'pert_type', 'rna_plate', 'rna_well', 'condition', 'cell_type', 'dose', 'cov_drug_dose_name', 'cov_drug_name', 'control', 'canonical_smiles', 'SMILES', 'paired_control_index', 'cell_type_split_0', 'cell_type_split_1', 'cell_type_split_2', 'cell_type_split_3', 'cell_type_split_4', 'random_split_0', 'random_split_1', 'random_split_2', 'random_split_3', 'random_split_4', 'drug_split_0', 'drug_split_1', 'drug_split_2', 'drug_split_3', 'drug_split_4', 'cov_drug_dose_name_split_0', 'cov_drug_dose_name_split_1', 'cov_drug_dose_name_split_2', 'cov_drug_dose_name_split_3', 'cov_drug_dose_name_split_4', 'cov_drug'\n",
       "    var: 'pr_gene_title', 'pr_is_lm', 'pr_is_bing'\n",
       "    uns: 'cydata_pull', 'pca'\n",
       "    obsm: 'X_pca'\n",
       "    varm: 'PCs'"
      ]
     },
     "execution_count": 29,
     "metadata": {},
     "output_type": "execute_result"
    }
   ],
   "source": [
    "adata"
   ]
  },
  {
   "cell_type": "code",
   "execution_count": 30,
   "id": "5e5f2bc3-f67e-4b11-b09b-2b60f06790cd",
   "metadata": {},
   "outputs": [],
   "source": [
    "sc.pp.pca(adata)\n",
    "sc.pp.neighbors(adata)\n",
    "sc.tl.umap(adata)"
   ]
  },
  {
   "cell_type": "code",
   "execution_count": 31,
   "id": "c2a3019a-eb99-41ed-89f8-c404256d3883",
   "metadata": {},
   "outputs": [
    {
     "name": "stdout",
     "output_type": "stream",
     "text": [
      "WARNING: Length of palette colors is smaller than the number of categories (palette length: 11, categories length: 12. Some categories will have the same color.\n"
     ]
    },
    {
     "data": {
      "image/png": "[encoded data removed]",
      "text/plain": [
       "<Figure size 600x600 with 2 Axes>"
      ]
     },
     "metadata": {},
     "output_type": "display_data"
    }
   ],
   "source": [
    "fig, axes = plt.subplots(nrows=2, figsize=(6, 6))  # Adjust figsize as needed\n",
    "\n",
    "# Plot UMAP 1 in the first subplot\n",
    "sc.pl.umap(adata=adata, color=[\"condition\"], groups=[\"control\"], legend_fontsize=14, ax=axes[0],\n",
    "           title=\"Condition\", show=False, palette=sns.color_palette(\"hls\", 11),\n",
    "           frameon=False, size=30)  # <-- Increased dot size here\n",
    "\n",
    "# Plot UMAP 2 in the second subplot\n",
    "sc.pl.umap(adata=adata, color=[\"cell_type\"], legend_fontsize=14, ax=axes[1],\n",
    "           title=\"Cell Line\", show=False, palette=sns.color_palette(\"hls\", 7),\n",
    "           frameon=False, size=30)  # <-- Increased dot size here\n",
    "\n",
    "# Adjust spacing between subplots\n",
    "plt.tight_layout()\n",
    "\n",
    "# Save and show the plot\n",
    "plt.savefig('UMAP_LINCS.pdf', bbox_inches='tight')\n",
    "plt.show()\n"
   ]
  },
  {
   "cell_type": "code",
   "execution_count": 37,
   "id": "5a299b72-15a4-41cc-9e21-88ad6aacaba5",
   "metadata": {},
   "outputs": [
    {
     "data": {
      "image/png": "[encoded data removed]",
      "text/plain": [
       "<Figure size 1600x700 with 2 Axes>"
      ]
     },
     "metadata": {},
     "output_type": "display_data"
    }
   ],
   "source": [
    "import matplotlib.pyplot as plt\n",
    "import pandas as pd\n",
    "\n",
    "#   condition cell_type n_top_deg  r2_mean_deg  r2_var_deg\n",
    "# 0  dexamethasone      A375       100     0.988141    0.800519\n",
    "# 1  dexamethasone      A375       all     0.986007    0.731966\n",
    "# 2  dexamethasone      HT29       100     0.989522    0.904700\n",
    "# 3  dexamethasone      HT29       all     0.989439    0.840723\n",
    "# 4  dexamethasone      MCF7       100     0.988140    0.899935\n",
    "# 5  dexamethasone      MCF7       all     0.989807    0.785523\n",
    "# 6  dexamethasone       PC3       100     0.980290    0.839296\n",
    "# 7  dexamethasone       PC3       all     0.987200    0.804258\n",
    "# 8  dexamethasone      VCAP       100     0.992159    0.889096\n",
    "# 9  dexamethasone      VCAP       all     0.991169    0.741993\n",
    "\n",
    "#     condition cell_type n_top_deg  r2_mean_deg  r2_var_deg\n",
    "# 0  trichostatin-a      A375       100     0.988639    0.660413\n",
    "# 1  trichostatin-a      A375       all     0.987353    0.682772\n",
    "# 2  trichostatin-a      MCF7       100     0.984993    0.647214\n",
    "# 3  trichostatin-a      MCF7       all     0.987554    0.762194\n",
    "# 4  trichostatin-a       PC3       100     0.988152    0.649594\n",
    "# 5  trichostatin-a       PC3       all     0.987723    0.649613\n",
    "# 6  trichostatin-a      HT29       100     0.991061    0.681559\n",
    "# 7  trichostatin-a      HT29       all     0.989700    0.718806\n",
    "# 8  trichostatin-a      VCAP       100     0.987320    0.447114\n",
    "# 9  trichostatin-a      VCAP       all     0.988220    0.637819\n",
    "\n",
    "# Combined Cell-Type-Specific-Graphs data for both perturbations\n",
    "preprct = pd.DataFrame({\n",
    "    \"perturbation\": [\"trichostatin-a\"]*10 + [\"dexamethasone\"]*10,\n",
    "    \"cell_type\": [\"A375\", \"A375\", \"MCF7\", \"MCF7\", \"PC3\", \"PC3\", \"HT29\", \"HT29\", \"VCAP\", \"VCAP\"] * 2,\n",
    "    \"n_top_deg\": [\"100\", \"all\"] * 5 * 2,\n",
    "    \"r2_mean_deg\": [\n",
    "        0.988639,  0.987353, 0.984993, 0.987554, 0.988152, 0.987723, 0.991061,  0.989700, 0.987320, 0.988220,\n",
    "        0.988141,  0.986007, 0.989522, 0.989439, 0.988140, 0.989807, 0.980290 , 0.987200 , 0.992159, 0.991169,\n",
    "    ]\n",
    "})\n",
    "\n",
    "#      condition cell_type n_top_deg  r2_mean_deg  r2_var_deg\n",
    "# 0  trichostatin-a      A375       100     0.963580   -0.880031\n",
    "# 1  trichostatin-a      A375       all     0.966243   -0.484624\n",
    "# 2  trichostatin-a      MCF7       100     0.982530   -0.033649\n",
    "# 3  trichostatin-a      MCF7       all     0.979909   -0.169496\n",
    "# 4  trichostatin-a       PC3       100     0.984414   -0.581565\n",
    "# 5  trichostatin-a       PC3       all     0.970024   -0.689657\n",
    "# 6  trichostatin-a      HT29       100     0.964207   -0.529072\n",
    "# 7  trichostatin-a      HT29       all     0.972004   -0.409826\n",
    "# 8  trichostatin-a      VCAP       100     0.973892   -0.355348\n",
    "# 9  trichostatin-a      VCAP       all     0.979431   -0.684256\n",
    "\n",
    "#       condition cell_type n_top_deg  r2_mean_deg  r2_var_deg\n",
    "# 0  dexamethasone      A375       100     0.986944   -0.425566\n",
    "# 1  dexamethasone      A375       all     0.988271   -0.408576\n",
    "# 2  dexamethasone      HT29       100     0.996240   -0.053594\n",
    "# 3  dexamethasone      HT29       all     0.995325    0.100315\n",
    "# 4  dexamethasone      MCF7       100     0.996658   -0.123677\n",
    "# 5  dexamethasone      MCF7       all     0.996002   -0.159393\n",
    "# 6  dexamethasone       PC3       100     0.994549   -0.268867\n",
    "# 7  dexamethasone       PC3       all     0.992869   -0.140150\n",
    "# 8  dexamethasone      VCAP       100     0.991807   -0.737550\n",
    "# 9  dexamethasone      VCAP       all     0.988688   -0.375641\n",
    "\n",
    "# Combined CPA data for both perturbations\n",
    "cpa = pd.DataFrame({\n",
    "    \"perturbation\": [\"trichostatin-a\"]*10 + [\"dexamethasone\"]*10,\n",
    "    \"cell_type\": [\"A375\", \"A375\", \"MCF7\", \"MCF7\", \"PC3\", \"PC3\", \"HT29\", \"HT29\", \"VCAP\", \"VCAP\"] * 2,\n",
    "    \"n_top_deg\": [\"100\", \"all\"] * 5 * 2,\n",
    "    \"r2_mean_deg\": [\n",
    "        0.963580, 0.966243, 0.982530, 0.979909, 0.984414, 0.970024, 0.964207, 0.972004, 0.973892, 0.979431,\n",
    "        0.986944, 0.988271, 0.996240, 0.995325, 0.996658, 0.996002, 0.994549, 0.992869, 0.991807, 0.988688\n",
    "    ]\n",
    "})\n",
    "\n",
    "# Plot settings\n",
    "perturbation_markers = {\"trichostatin-a\": \"o\", \"dexamethasone\": \"s\"}\n",
    "deg_colors = {\"100\": \"teal\", \"all\": \"crimson\"}\n",
    "\n",
    "fig, axs = plt.subplots(1, 2, figsize=(16, 7), sharey=True)\n",
    "\n",
    "for ax, df, title in zip(axs, [preprct, cpa], [\"Cell-Type-Specific-Graphs\", \"CPA\"]):\n",
    "    for perturbation in df[\"perturbation\"].unique():\n",
    "        for n_deg in df[\"n_top_deg\"].unique():\n",
    "            subset = df[(df[\"perturbation\"] == perturbation) & (df[\"n_top_deg\"] == n_deg)]\n",
    "            ax.scatter(subset[\"cell_type\"], subset[\"r2_mean_deg\"],\n",
    "                       marker=perturbation_markers[perturbation],\n",
    "                       color=deg_colors[n_deg],\n",
    "                       label=f\"{perturbation} - top {n_deg}\")\n",
    "\n",
    "    ax.set_title(title, fontsize=16, weight=\"bold\")\n",
    "    ax.set_xlabel(\"Cell Line\", fontsize = 16)\n",
    "    ax.set_xticklabels(df[\"cell_type\"].unique(), rotation=0, fontsize = 16)\n",
    "    ax.grid(False)\n",
    "\n",
    "axs[0].set_ylabel(\"R² Score\", fontsize = 14)\n",
    "\n",
    "# Custom legends\n",
    "from matplotlib.lines import Line2D\n",
    "\n",
    "legend_elements = [\n",
    "    Line2D([0], [0], marker='o', color='w', label='trichostatin-a', markerfacecolor='gray', markersize=15),\n",
    "    Line2D([0], [0], marker='s', color='w', label='dexamethasone', markerfacecolor='gray', markersize=15),\n",
    "    Line2D([0], [0], marker='o', color='w', label='Top 100 DEGs', markerfacecolor='teal', markersize=15),\n",
    "    Line2D([0], [0], marker='o', color='w', label='All', markerfacecolor='crimson', markersize=15),\n",
    "]\n",
    "axs[1].legend(handles=legend_elements, title=\"Legend\", loc=\"lower right\", fontsize = 16)\n",
    "\n",
    "fig.suptitle(\"R² of Mean\", fontsize=16, weight=\"bold\")\n",
    "plt.tight_layout()\n",
    "plt.savefig(\"R2_LINCS.pdf\", format=\"pdf\", bbox_inches=\"tight\")\n",
    "plt.show()"
   ]
  },
  {
   "cell_type": "code",
   "execution_count": null,
   "id": "455b2074-1f85-44e5-b985-909dc0d29538",
   "metadata": {},
   "outputs": [],
   "source": []
  }
 ],
 "metadata": {
  "kernelspec": {
   "display_name": "Python 3 (ipykernel)",
   "language": "python",
   "name": "python3"
  },
  "language_info": {
   "codemirror_mode": {
    "name": "ipython",
    "version": 3
   },
   "file_extension": ".py",
   "mimetype": "text/x-python",
   "name": "python",
   "nbconvert_exporter": "python",
   "pygments_lexer": "ipython3",
   "version": "3.8.19"
  }
 },
 "nbformat": 4,
 "nbformat_minor": 5
}
