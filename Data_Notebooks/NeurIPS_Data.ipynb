{
 "cells": [
  {
   "cell_type": "code",
   "execution_count": 1,
   "id": "109c7120-9667-42d3-b964-d18e6232b507",
   "metadata": {},
   "outputs": [],
   "source": [
    "import scanpy as sc \n",
    "import pandas as pd\n",
    "import SEACells\n",
    "import numpy as np\n",
    "import matplotlib\n",
    "from statistics import mode\n",
    "import matplotlib.pyplot as plt\n",
    "from statistics import mode\n",
    "import sys \n",
    "sys.path.insert(0, '../')\n",
    "import utils\n",
    "from importlib import reload\n",
    "reload(utils)\n",
    "from utils import *\n",
    "import seaborn as sns\n",
    "# Some plotting aesthetics\n",
    "%matplotlib inline\n",
    "sns.set_style('ticks')\n",
    "matplotlib.rcParams['figure.figsize'] = [4, 4]\n",
    "matplotlib.rcParams['figure.dpi'] = 100\n",
    "\n",
    "\n",
    "data_path = \"/../PrePR-CT/Data/\"\n",
    "save_path_results = \"/../PrePR-CT/Results/\""
   ]
  },
  {
   "cell_type": "markdown",
   "id": "8b7fc7c6-42ae-484c-85f4-ba122efa5b2c",
   "metadata": {},
   "source": [
    "## Import the Data"
   ]
  },
  {
   "cell_type": "code",
   "execution_count": 2,
   "id": "4aa3c450-3055-48ee-8b44-8633a5914a76",
   "metadata": {},
   "outputs": [
    {
     "data": {
      "text/plain": [
       "AnnData object with n_obs × n_vars = 298087 × 21265\n",
       "    obs: 'dose_uM', 'timepoint_hr', 'well', 'row', 'col', 'plate_name', 'cell_id', 'cell_type', 'split', 'donor_id', 'sm_name', 'control', 'SMILES', 'sm_lincs_id', 'library_id', 'leiden_res1', 'group', 'cell_type_orig', 'plate_well_celltype_reannotated', 'cell_count_by_well_celltype', 'cell_count_by_plate_well'\n",
       "    var: 'highly_variable', 'means', 'dispersions', 'dispersions_norm'\n",
       "    uns: 'cell_type_colors', 'celltypist_celltype_colors', 'donor_id_colors', 'hvg', 'leiden_res1_colors', 'log1p', 'neighbors', 'over_clustering', 'rank_genes_groups'\n",
       "    obsm: 'HTO_clr', 'X_pca', 'X_umap', 'protein_counts'\n",
       "    obsp: 'connectivities', 'distances'"
      ]
     },
     "execution_count": 2,
     "metadata": {},
     "output_type": "execute_result"
    }
   ],
   "source": [
    "adata = sc.read(data_path + 'GSE279945_sc_counts_processed.h5ad')\n",
    "adata"
   ]
  },
  {
   "cell_type": "code",
   "execution_count": 3,
   "id": "9eb834b1-4aa1-4e69-b856-2f2c5cb57459",
   "metadata": {},
   "outputs": [
    {
     "data": {
      "text/plain": [
       "array([[0., 0., 0., ..., 0., 0., 0.],\n",
       "       [0., 0., 0., ..., 0., 0., 0.],\n",
       "       [0., 0., 0., ..., 0., 3., 0.],\n",
       "       ...,\n",
       "       [0., 0., 0., ..., 0., 1., 0.],\n",
       "       [0., 0., 0., ..., 0., 0., 0.],\n",
       "       [0., 0., 0., ..., 0., 0., 1.]])"
      ]
     },
     "execution_count": 3,
     "metadata": {},
     "output_type": "execute_result"
    }
   ],
   "source": [
    "adata.layers['published_normalized_counts'] = adata.X\n",
    "adata.layers['raw_counts'] = adata.raw.X\n",
    "adata.X = adata.layers['raw_counts']\n",
    "adata.X.A\n",
    "#del adata.raw"
   ]
  },
  {
   "cell_type": "code",
   "execution_count": 4,
   "id": "9599a03f-39e0-4d23-9bdd-3c97b5b54187",
   "metadata": {},
   "outputs": [
    {
     "data": {
      "text/plain": [
       "['B cells', 'T cells CD4+', 'Myeloid cells', 'NK cells', 'T regulatory cells', 'T cells CD8+']\n",
       "Categories (6, object): ['B cells', 'Myeloid cells', 'NK cells', 'T cells CD4+', 'T cells CD8+', 'T regulatory cells']"
      ]
     },
     "execution_count": 4,
     "metadata": {},
     "output_type": "execute_result"
    }
   ],
   "source": [
    "adata.obs.cell_type_orig.unique()"
   ]
  },
  {
   "cell_type": "code",
   "execution_count": 5,
   "id": "b70c7bb5-87bd-49b4-aa8d-bfb71eba7a2d",
   "metadata": {},
   "outputs": [
    {
     "data": {
      "text/plain": [
       "144"
      ]
     },
     "execution_count": 5,
     "metadata": {},
     "output_type": "execute_result"
    }
   ],
   "source": [
    "len(adata.obs.loc[adata.obs.cell_type_orig == 'B cells'].sm_name.unique())"
   ]
  },
  {
   "cell_type": "code",
   "execution_count": 6,
   "id": "a8e89796-dc05-41aa-b5c6-7bb8e330c8c2",
   "metadata": {},
   "outputs": [
    {
     "data": {
      "text/plain": [
       "dose_uM\n",
       "1.0     245580\n",
       "14.1     28452\n",
       "0.1      24055\n",
       "Name: count, dtype: int64"
      ]
     },
     "metadata": {},
     "output_type": "display_data"
    },
    {
     "data": {
      "text/plain": [
       "array([ True])"
      ]
     },
     "execution_count": 6,
     "metadata": {},
     "output_type": "execute_result"
    }
   ],
   "source": [
    "display(adata.obs['dose_uM'].value_counts())\n",
    "adata.obs.loc[adata.obs['dose_uM'].isin([0.1, 14.1])].control.unique()"
   ]
  },
  {
   "cell_type": "markdown",
   "id": "18b7daac-8d82-49c1-afb3-67cafddea8d2",
   "metadata": {},
   "source": [
    "## Removing mitochondrial and ribosomal genes"
   ]
  },
  {
   "cell_type": "code",
   "execution_count": 7,
   "id": "71df442e-3556-4fce-a3ee-70030a23cb31",
   "metadata": {},
   "outputs": [
    {
     "data": {
      "text/plain": [
       "View of AnnData object with n_obs × n_vars = 298087 × 20842\n",
       "    obs: 'dose_uM', 'timepoint_hr', 'well', 'row', 'col', 'plate_name', 'cell_id', 'cell_type', 'split', 'donor_id', 'sm_name', 'control', 'SMILES', 'sm_lincs_id', 'library_id', 'leiden_res1', 'group', 'cell_type_orig', 'plate_well_celltype_reannotated', 'cell_count_by_well_celltype', 'cell_count_by_plate_well'\n",
       "    var: 'highly_variable', 'means', 'dispersions', 'dispersions_norm', 'mt', 'ribo'\n",
       "    uns: 'cell_type_colors', 'celltypist_celltype_colors', 'donor_id_colors', 'hvg', 'leiden_res1_colors', 'log1p', 'neighbors', 'over_clustering', 'rank_genes_groups'\n",
       "    obsm: 'HTO_clr', 'X_pca', 'X_umap', 'protein_counts'\n",
       "    layers: 'published_normalized_counts', 'raw_counts'\n",
       "    obsp: 'connectivities', 'distances'"
      ]
     },
     "execution_count": 7,
     "metadata": {},
     "output_type": "execute_result"
    }
   ],
   "source": [
    "adata.var['mt'] = adata.var_names.str.startswith('MT-') \n",
    "adata.var['ribo'] = adata.var_names.str.startswith((\"RPS\",\"RPL\"))\n",
    "adata = adata[:, adata.var[(adata.var.mt == False) & (adata.var.ribo == False)].index.values]\n",
    "adata "
   ]
  },
  {
   "cell_type": "code",
   "execution_count": 8,
   "id": "8d3b5f95-4614-468c-920c-05d56ef4c9d5",
   "metadata": {},
   "outputs": [
    {
     "data": {
      "text/html": [
       "<div>\n",
       "<style scoped>\n",
       "    .dataframe tbody tr th:only-of-type {\n",
       "        vertical-align: middle;\n",
       "    }\n",
       "\n",
       "    .dataframe tbody tr th {\n",
       "        vertical-align: top;\n",
       "    }\n",
       "\n",
       "    .dataframe thead th {\n",
       "        text-align: right;\n",
       "    }\n",
       "</style>\n",
       "<table border=\"1\" class=\"dataframe\">\n",
       "  <thead>\n",
       "    <tr style=\"text-align: right;\">\n",
       "      <th></th>\n",
       "      <th>highly_variable</th>\n",
       "      <th>means</th>\n",
       "      <th>dispersions</th>\n",
       "      <th>dispersions_norm</th>\n",
       "      <th>mt</th>\n",
       "      <th>ribo</th>\n",
       "    </tr>\n",
       "    <tr>\n",
       "      <th>gene_name</th>\n",
       "      <th></th>\n",
       "      <th></th>\n",
       "      <th></th>\n",
       "      <th></th>\n",
       "      <th></th>\n",
       "      <th></th>\n",
       "    </tr>\n",
       "  </thead>\n",
       "  <tbody>\n",
       "    <tr>\n",
       "      <th>A1BG</th>\n",
       "      <td>False</td>\n",
       "      <td>0.021539</td>\n",
       "      <td>0.706191</td>\n",
       "      <td>-0.043717</td>\n",
       "      <td>False</td>\n",
       "      <td>False</td>\n",
       "    </tr>\n",
       "    <tr>\n",
       "      <th>A1BG-AS1</th>\n",
       "      <td>False</td>\n",
       "      <td>0.046920</td>\n",
       "      <td>0.663751</td>\n",
       "      <td>-0.182112</td>\n",
       "      <td>False</td>\n",
       "      <td>False</td>\n",
       "    </tr>\n",
       "    <tr>\n",
       "      <th>A2M</th>\n",
       "      <td>True</td>\n",
       "      <td>0.126748</td>\n",
       "      <td>1.005800</td>\n",
       "      <td>0.933302</td>\n",
       "      <td>False</td>\n",
       "      <td>False</td>\n",
       "    </tr>\n",
       "    <tr>\n",
       "      <th>A2M-AS1</th>\n",
       "      <td>True</td>\n",
       "      <td>0.185540</td>\n",
       "      <td>1.232164</td>\n",
       "      <td>1.671470</td>\n",
       "      <td>False</td>\n",
       "      <td>False</td>\n",
       "    </tr>\n",
       "    <tr>\n",
       "      <th>A2MP1</th>\n",
       "      <td>True</td>\n",
       "      <td>0.012711</td>\n",
       "      <td>0.979193</td>\n",
       "      <td>0.846538</td>\n",
       "      <td>False</td>\n",
       "      <td>False</td>\n",
       "    </tr>\n",
       "    <tr>\n",
       "      <th>...</th>\n",
       "      <td>...</td>\n",
       "      <td>...</td>\n",
       "      <td>...</td>\n",
       "      <td>...</td>\n",
       "      <td>...</td>\n",
       "      <td>...</td>\n",
       "    </tr>\n",
       "    <tr>\n",
       "      <th>ZXDC</th>\n",
       "      <td>False</td>\n",
       "      <td>0.088458</td>\n",
       "      <td>0.696352</td>\n",
       "      <td>-0.075800</td>\n",
       "      <td>False</td>\n",
       "      <td>False</td>\n",
       "    </tr>\n",
       "    <tr>\n",
       "      <th>ZYG11A</th>\n",
       "      <td>False</td>\n",
       "      <td>0.000616</td>\n",
       "      <td>0.728508</td>\n",
       "      <td>0.029061</td>\n",
       "      <td>False</td>\n",
       "      <td>False</td>\n",
       "    </tr>\n",
       "    <tr>\n",
       "      <th>ZYG11B</th>\n",
       "      <td>False</td>\n",
       "      <td>0.178275</td>\n",
       "      <td>0.670788</td>\n",
       "      <td>-0.159163</td>\n",
       "      <td>False</td>\n",
       "      <td>False</td>\n",
       "    </tr>\n",
       "    <tr>\n",
       "      <th>ZYX</th>\n",
       "      <td>False</td>\n",
       "      <td>0.369649</td>\n",
       "      <td>0.657992</td>\n",
       "      <td>-0.506479</td>\n",
       "      <td>False</td>\n",
       "      <td>False</td>\n",
       "    </tr>\n",
       "    <tr>\n",
       "      <th>ZZEF1</th>\n",
       "      <td>False</td>\n",
       "      <td>0.188622</td>\n",
       "      <td>0.716245</td>\n",
       "      <td>-0.010930</td>\n",
       "      <td>False</td>\n",
       "      <td>False</td>\n",
       "    </tr>\n",
       "  </tbody>\n",
       "</table>\n",
       "<p>20842 rows × 6 columns</p>\n",
       "</div>"
      ],
      "text/plain": [
       "           highly_variable     means  dispersions  dispersions_norm     mt  \\\n",
       "gene_name                                                                    \n",
       "A1BG                 False  0.021539     0.706191         -0.043717  False   \n",
       "A1BG-AS1             False  0.046920     0.663751         -0.182112  False   \n",
       "A2M                   True  0.126748     1.005800          0.933302  False   \n",
       "A2M-AS1               True  0.185540     1.232164          1.671470  False   \n",
       "A2MP1                 True  0.012711     0.979193          0.846538  False   \n",
       "...                    ...       ...          ...               ...    ...   \n",
       "ZXDC                 False  0.088458     0.696352         -0.075800  False   \n",
       "ZYG11A               False  0.000616     0.728508          0.029061  False   \n",
       "ZYG11B               False  0.178275     0.670788         -0.159163  False   \n",
       "ZYX                  False  0.369649     0.657992         -0.506479  False   \n",
       "ZZEF1                False  0.188622     0.716245         -0.010930  False   \n",
       "\n",
       "            ribo  \n",
       "gene_name         \n",
       "A1BG       False  \n",
       "A1BG-AS1   False  \n",
       "A2M        False  \n",
       "A2M-AS1    False  \n",
       "A2MP1      False  \n",
       "...          ...  \n",
       "ZXDC       False  \n",
       "ZYG11A     False  \n",
       "ZYG11B     False  \n",
       "ZYX        False  \n",
       "ZZEF1      False  \n",
       "\n",
       "[20842 rows x 6 columns]"
      ]
     },
     "execution_count": 8,
     "metadata": {},
     "output_type": "execute_result"
    }
   ],
   "source": [
    "adata.var.reset_index(inplace = True)\n",
    "adata.var.rename({\"index\": \"gene_name\"}, axis=1, inplace=True)\n",
    "adata.var.set_index(\"gene_name\", inplace = True)\n",
    "adata.var"
   ]
  },
  {
   "cell_type": "markdown",
   "id": "ed64ba59-d348-4825-8e84-f3acbeb7677e",
   "metadata": {},
   "source": [
    "## Filtering for cells with a minimum of 1000 counts and genes detected in fewer than 50 cells"
   ]
  },
  {
   "cell_type": "code",
   "execution_count": 9,
   "id": "4bee534b-e78c-4f6e-afbc-f1ba0b0bcea2",
   "metadata": {},
   "outputs": [
    {
     "data": {
      "text/plain": [
       "AnnData object with n_obs × n_vars = 298044 × 20375\n",
       "    obs: 'dose_uM', 'timepoint_hr', 'well', 'row', 'col', 'plate_name', 'cell_id', 'cell_type', 'split', 'donor_id', 'sm_name', 'control', 'SMILES', 'sm_lincs_id', 'library_id', 'leiden_res1', 'group', 'cell_type_orig', 'plate_well_celltype_reannotated', 'cell_count_by_well_celltype', 'cell_count_by_plate_well', 'n_counts'\n",
       "    var: 'highly_variable', 'means', 'dispersions', 'dispersions_norm', 'mt', 'ribo', 'n_cells'\n",
       "    uns: 'cell_type_colors', 'celltypist_celltype_colors', 'donor_id_colors', 'hvg', 'leiden_res1_colors', 'log1p', 'neighbors', 'over_clustering', 'rank_genes_groups'\n",
       "    obsm: 'HTO_clr', 'X_pca', 'X_umap', 'protein_counts'\n",
       "    layers: 'published_normalized_counts', 'raw_counts', 'counts'\n",
       "    obsp: 'connectivities', 'distances'"
      ]
     },
     "execution_count": 9,
     "metadata": {},
     "output_type": "execute_result"
    }
   ],
   "source": [
    "# basic qc and pp\n",
    "adata.layers['counts'] = adata.X.copy()\n",
    "\n",
    "# remove cells that have less than 1000 counts\n",
    "sc.pp.filter_cells(adata, min_counts=1000, inplace =True)\n",
    "\n",
    "# remove genes that are detected in less than 50 cells\n",
    "sc.pp.filter_genes(adata, min_cells=50, inplace =True)\n",
    "adata"
   ]
  },
  {
   "cell_type": "code",
   "execution_count": 11,
   "id": "802c4d03-3261-4f1d-913a-1af7c4698653",
   "metadata": {},
   "outputs": [],
   "source": [
    "adata.obs.rename(columns={\"sm_name\": \"condition\", \"dose_uM\": \"dose_value\"}, inplace=True)\n",
    "control_compound = \"Dimethyl Sulfoxide\"\n",
    "\n",
    "# Ensure \"control\" is part of the category list before assignment\n",
    "if \"control\" not in adata.obs[\"condition\"].cat.categories:\n",
    "    adata.obs[\"condition\"] = adata.obs[\"condition\"].cat.add_categories([\"control\"])\n",
    "\n",
    "# Now safely assign the new value\n",
    "adata.obs.loc[adata.obs[\"condition\"] == control_compound, \"condition\"] = \"control\""
   ]
  },
  {
   "cell_type": "code",
   "execution_count": 12,
   "id": "fd13b923-2e59-450d-99ca-7b788f81608e",
   "metadata": {},
   "outputs": [
    {
     "name": "stdout",
     "output_type": "stream",
     "text": [
      "['Belinostat', 'Dabrafenib', 'control', 'Atorvastatin', '5-(9-Isopropyl-8-methyl-2-morpholino-9H-purin..., ..., 'Ceritinib', 'Bosutinib', 'Vandetanib', 'Mometasone Furoate', 'Clotrimazole']\n",
      "Length: 144\n",
      "Categories (145, object): ['5-(9-Isopropyl-8-methyl-2-morpholino-9H-purin..., 'ABT737', 'ABT-199 (GDC-0199)', 'AMD-070 (hydrochloride)', ..., 'Vardenafil', 'Vorinostat', 'YK 4-279', 'control']\n",
      "[ 24  42 143  14   0 134  19   3   5  47  59  87  17 114 122  92  43  11\n",
      "  37 103  97  99  51  96  21  95 123  62  70  49  35 137  63 104 133  53\n",
      "  22   6 120 109  13 108 130  58 100  84  16  71  68  90 125  30  20 126\n",
      "  80  73  12  64  78  69  65 102  94 140  48  33  75  76 110 141 136  44\n",
      "  52  66 113  15 124  29  36  67 131 106  31 128  98 117 142 116  23  54\n",
      "  46  86   2  85  26  40  50  83  18   4  93 118  81  91 139   9  88   7\n",
      " 127  28 132  10 115  60  55   8  77  57 135 101  61  45  27 119  79  56\n",
      " 105  39 129  72 111 107 112  89   1 121  32  41  74  34  25 138  82  38]\n"
     ]
    }
   ],
   "source": [
    "from sklearn import preprocessing\n",
    "adata.obs['drug_dose_name'] = adata.obs.condition.astype(str) + '_' + adata.obs.dose_value.astype(str)\n",
    "adata.obs['cov_drug_dose_name'] = adata.obs.cell_type.astype(str) + '_' + adata.obs.drug_dose_name.astype(str)\n",
    "adata.obs['cov_drug'] = adata.obs.cell_type.astype(str) + '_' + adata.obs.condition.astype(str)\n",
    "label_encoder = preprocessing.LabelEncoder()\n",
    "adata.obs[\"condition_label\"] = label_encoder.fit_transform(adata.obs[\"condition\"])\n",
    "num_perts = adata.obs[\"condition_label\"].max()+1\n",
    "print(adata.obs[\"condition\"].unique())\n",
    "print(adata.obs[\"condition_label\"].unique())"
   ]
  },
  {
   "cell_type": "markdown",
   "id": "35e302bf-494e-452f-a9ba-0276c74b58c4",
   "metadata": {},
   "source": [
    "## Normalizing the count matrix & Selecting 5000 HVGs."
   ]
  },
  {
   "cell_type": "code",
   "execution_count": 13,
   "id": "7a360b3b-8ea0-4750-9355-45fe92fba257",
   "metadata": {},
   "outputs": [
    {
     "name": "stdout",
     "output_type": "stream",
     "text": [
      "WARNING: adata.X seems to be already log-transformed.\n"
     ]
    }
   ],
   "source": [
    "sc.pp.normalize_total(adata)\n",
    "sc.pp.log1p(adata)"
   ]
  },
  {
   "cell_type": "code",
   "execution_count": 14,
   "id": "3b4d8d52-bffc-409e-ab06-0b619a38f25a",
   "metadata": {},
   "outputs": [
    {
     "data": {
      "image/png": "[encoded data removed]",
      "text/plain": [
       "<Figure size 800x400 with 2 Axes>"
      ]
     },
     "metadata": {},
     "output_type": "display_data"
    }
   ],
   "source": [
    "sc.pp.highly_variable_genes(adata, subset=True, n_top_genes = 5000)\n",
    "sc.pl.highly_variable_genes(adata)"
   ]
  },
  {
   "cell_type": "markdown",
   "id": "e6403fd0-578d-46e7-b123-8a053cbe01c0",
   "metadata": {},
   "source": [
    "## UMAP Plot of cell types"
   ]
  },
  {
   "cell_type": "code",
   "execution_count": 15,
   "id": "af4e1464-ea53-4d62-be99-890587ad00d1",
   "metadata": {},
   "outputs": [],
   "source": [
    "sc.pp.pca(adata)\n",
    "sc.pp.neighbors(adata)\n",
    "sc.tl.umap(adata)"
   ]
  },
  {
   "cell_type": "code",
   "execution_count": 16,
   "id": "8bcc5011-aa62-4997-9c66-dbf4464a4b16",
   "metadata": {},
   "outputs": [
    {
     "data": {
      "image/png": "[encoded data removed]",
      "text/plain": [
       "<Figure size 600x600 with 2 Axes>"
      ]
     },
     "metadata": {},
     "output_type": "display_data"
    }
   ],
   "source": [
    "fig, axes = plt.subplots(nrows=2, figsize=(6, 6))  # Adjust figsize as needed\n",
    "# Plot UMAP 1 in the first subplot if it's not empty\n",
    "sc.pl.umap(adata=adata, color=[\"condition\"], groups = [\"control\"], legend_fontsize=14,ax = axes[0],\n",
    "           title = \"Condition\",\n",
    "           show=False, palette = sns.color_palette(\"hls\", num_perts),\n",
    "           frameon=False)\n",
    "\n",
    "sc.pl.umap(adata=adata, color=[\"cell_type\"],legend_fontsize=14,ax = axes[1],\n",
    "           title = \"Cell Line\",\n",
    "           show=False, palette = sns.color_palette(\"hls\", 7),\n",
    "           frameon=False)\n",
    "\n",
    "# Adjust spacing between subplots\n",
    "plt.tight_layout()\n",
    "\n",
    "# Show the merged plot\n",
    "plt.savefig(save_path_results+'UMAP_NeurIPS.pdf', bbox_inches='tight')\n",
    "plt.show()"
   ]
  },
  {
   "cell_type": "markdown",
   "id": "0ede56eb-d2b1-4a5c-9213-4a90b683e408",
   "metadata": {},
   "source": [
    "## Constructing cell type graphs over control cells "
   ]
  },
  {
   "cell_type": "code",
   "execution_count": 17,
   "id": "971d1962-4401-4ff5-9f01-f31f3031bfc4",
   "metadata": {},
   "outputs": [
    {
     "data": {
      "text/plain": [
       "AnnData object with n_obs × n_vars = 28452 × 5000\n",
       "    obs: 'dose_value', 'timepoint_hr', 'well', 'row', 'col', 'plate_name', 'cell_id', 'cell_type', 'split', 'donor_id', 'condition', 'control', 'SMILES', 'sm_lincs_id', 'library_id', 'leiden_res1', 'group', 'cell_type_orig', 'plate_well_celltype_reannotated', 'cell_count_by_well_celltype', 'cell_count_by_plate_well', 'n_counts', 'drug_dose_name', 'cov_drug_dose_name', 'cov_drug', 'condition_label'\n",
       "    var: 'highly_variable', 'means', 'dispersions', 'dispersions_norm', 'mt', 'ribo', 'n_cells'\n",
       "    uns: 'cell_type_colors', 'celltypist_celltype_colors', 'donor_id_colors', 'hvg', 'leiden_res1_colors', 'log1p', 'neighbors', 'over_clustering', 'rank_genes_groups', 'pca', 'umap', 'condition_colors'\n",
       "    obsm: 'HTO_clr', 'X_pca', 'X_umap', 'protein_counts'\n",
       "    varm: 'PCs'\n",
       "    layers: 'published_normalized_counts', 'raw_counts', 'counts'\n",
       "    obsp: 'connectivities', 'distances'"
      ]
     },
     "execution_count": 17,
     "metadata": {},
     "output_type": "execute_result"
    }
   ],
   "source": [
    "ctrl_data = adata[adata.obs.condition == 'control'].copy()\n",
    "ctrl_data"
   ]
  },
  {
   "cell_type": "code",
   "execution_count": 18,
   "id": "155828e2-6451-47d1-9403-282e9e03e81e",
   "metadata": {},
   "outputs": [
    {
     "data": {
      "text/plain": [
       "379"
      ]
     },
     "execution_count": 18,
     "metadata": {},
     "output_type": "execute_result"
    }
   ],
   "source": [
    "n_SEACells = int(len(ctrl_data) / 75)\n",
    "build_kernel_on = 'X_pca' # key in ad.obsm to use for computing metacells\n",
    "                          # This would be replaced by 'X_svd' for ATAC data\n",
    "\n",
    "## Additional parameters\n",
    "n_waypoint_eigs = 10 # Number of eigenvalues to consider when initializing metacells\n",
    "n_SEACells"
   ]
  },
  {
   "cell_type": "code",
   "execution_count": 19,
   "id": "54b6a127-58b0-4ba1-99e7-207e6f633680",
   "metadata": {},
   "outputs": [
    {
     "name": "stdout",
     "output_type": "stream",
     "text": [
      "Welcome to SEACells!\n"
     ]
    }
   ],
   "source": [
    "model = SEACells.core.SEACells(ctrl_data, \n",
    "                  build_kernel_on=build_kernel_on, \n",
    "                  n_SEACells=n_SEACells, \n",
    "                  n_waypoint_eigs=n_waypoint_eigs,\n",
    "                  convergence_epsilon = 1e-5)"
   ]
  },
  {
   "cell_type": "code",
   "execution_count": 20,
   "id": "be0c758b-5487-4689-ac60-977c728c0656",
   "metadata": {},
   "outputs": [
    {
     "name": "stdout",
     "output_type": "stream",
     "text": [
      "Computing kNN graph using scanpy NN ...\n",
      "Computing radius for adaptive bandwidth kernel...\n"
     ]
    },
    {
     "data": {
      "application/vnd.jupyter.widget-view+json": {
       "model_id": "c3fa65d4fcc349e190df5ebcb7055500",
       "version_major": 2,
       "version_minor": 0
      },
      "text/plain": [
       "  0%|          | 0/28452 [00:00<?, ?it/s]"
      ]
     },
     "metadata": {},
     "output_type": "display_data"
    },
    {
     "name": "stdout",
     "output_type": "stream",
     "text": [
      "Making graph symmetric...\n",
      "Parameter graph_construction = union being used to build KNN graph...\n",
      "Computing RBF kernel...\n"
     ]
    },
    {
     "data": {
      "application/vnd.jupyter.widget-view+json": {
       "model_id": "c6b2f62fa93c40ddb49a9e36fe3a0739",
       "version_major": 2,
       "version_minor": 0
      },
      "text/plain": [
       "  0%|          | 0/28452 [00:00<?, ?it/s]"
      ]
     },
     "metadata": {},
     "output_type": "display_data"
    },
    {
     "name": "stdout",
     "output_type": "stream",
     "text": [
      "Building similarity LIL matrix...\n"
     ]
    },
    {
     "data": {
      "application/vnd.jupyter.widget-view+json": {
       "model_id": "986c6071886f49c0a27810aaf8a80c11",
       "version_major": 2,
       "version_minor": 0
      },
      "text/plain": [
       "  0%|          | 0/28452 [00:00<?, ?it/s]"
      ]
     },
     "metadata": {},
     "output_type": "display_data"
    },
    {
     "name": "stdout",
     "output_type": "stream",
     "text": [
      "Constructing CSR matrix...\n"
     ]
    }
   ],
   "source": [
    "model.construct_kernel_matrix()\n",
    "M = model.kernel_matrix"
   ]
  },
  {
   "cell_type": "code",
   "execution_count": 21,
   "id": "1ebb95c3-a6b3-4a85-9e6a-170938044fbc",
   "metadata": {},
   "outputs": [
    {
     "name": "stdout",
     "output_type": "stream",
     "text": [
      "Building kernel on X_pca\n",
      "Computing diffusion components from X_pca for waypoint initialization ... \n",
      "Done.\n",
      "Sampling waypoints ...\n",
      "Done.\n",
      "Selecting 355 cells from waypoint initialization.\n",
      "Initializing residual matrix using greedy column selection\n",
      "Initializing f and g...\n"
     ]
    },
    {
     "name": "stderr",
     "output_type": "stream",
     "text": [
      "100%|██████████| 34/34 [00:01<00:00, 20.26it/s]"
     ]
    },
    {
     "name": "stdout",
     "output_type": "stream",
     "text": [
      "Selecting 24 cells from greedy initialization.\n"
     ]
    },
    {
     "name": "stderr",
     "output_type": "stream",
     "text": [
      "\n"
     ]
    }
   ],
   "source": [
    "model.initialize_archetypes()"
   ]
  },
  {
   "cell_type": "code",
   "execution_count": 22,
   "id": "fef479eb-e906-4388-aa69-9323b162c1f0",
   "metadata": {},
   "outputs": [
    {
     "data": {
      "image/png": "[encoded data removed]",
      "text/plain": [
       "<Figure size 400x400 with 1 Axes>"
      ]
     },
     "metadata": {},
     "output_type": "display_data"
    }
   ],
   "source": [
    "SEACells.plot.plot_initialization(ctrl_data, model)"
   ]
  },
  {
   "cell_type": "code",
   "execution_count": 23,
   "id": "5032ca09-abb1-43f7-9fe8-189ea9e596e5",
   "metadata": {},
   "outputs": [
    {
     "name": "stdout",
     "output_type": "stream",
     "text": [
      "Randomly initialized A matrix.\n",
      "Setting convergence threshold at 0.00311\n",
      "Starting iteration 1.\n",
      "Completed iteration 1.\n",
      "Starting iteration 10.\n",
      "Completed iteration 10.\n",
      "Starting iteration 20.\n",
      "Completed iteration 20.\n",
      "Converged after 26 iterations.\n"
     ]
    }
   ],
   "source": [
    "model.fit(min_iter=10, max_iter=100)"
   ]
  },
  {
   "cell_type": "code",
   "execution_count": 24,
   "id": "00745658-8c9b-46ba-9465-ef07c486f59b",
   "metadata": {},
   "outputs": [
    {
     "name": "stdout",
     "output_type": "stream",
     "text": [
      "Ran for 27 iterations\n",
      "Ran for 32 iterations\n"
     ]
    }
   ],
   "source": [
    "# You can force the model to run additional iterations step-wise using the .step() function\n",
    "print(f'Ran for {len(model.RSS_iters)} iterations')\n",
    "for _ in range(5):\n",
    "    model.step()\n",
    "print(f'Ran for {len(model.RSS_iters)} iterations')"
   ]
  },
  {
   "cell_type": "code",
   "execution_count": 25,
   "id": "7a90701e-6ba2-4f5d-a9e4-9837e3908606",
   "metadata": {},
   "outputs": [
    {
     "data": {
      "image/png": "[encoded data removed]",
      "text/plain": [
       "<Figure size 400x400 with 1 Axes>"
      ]
     },
     "metadata": {},
     "output_type": "display_data"
    }
   ],
   "source": [
    "model.plot_convergence()"
   ]
  },
  {
   "cell_type": "code",
   "execution_count": 26,
   "id": "eb672679-8cf9-4b28-ab79-9fe984b29ca8",
   "metadata": {},
   "outputs": [],
   "source": [
    "adata.obs['SEACell'] = 'None'\n",
    "adata.obs.loc[ctrl_data.obs.index.tolist(), 'SEACell'] = ctrl_data.obs['SEACell'].values"
   ]
  },
  {
   "cell_type": "code",
   "execution_count": 27,
   "id": "0b336e9f-ab02-4856-ae46-bc1604a08cfe",
   "metadata": {},
   "outputs": [
    {
     "name": "stderr",
     "output_type": "stream",
     "text": [
      "100%|██████████| 379/379 [05:57<00:00,  1.06it/s]\n"
     ]
    },
    {
     "data": {
      "text/plain": [
       "array([[0.00237316, 0.01867839, 0.00171644, ..., 0.21478414, 0.09727464,\n",
       "        0.03901574],\n",
       "       [0.52900684, 0.07758903, 0.        , ..., 0.70768178, 0.05145596,\n",
       "        0.11181139],\n",
       "       [0.        , 0.00249285, 0.        , ..., 0.25562621, 0.04420283,\n",
       "        0.06605432],\n",
       "       ...,\n",
       "       [0.00209345, 0.020788  , 0.00095436, ..., 0.19204857, 0.10860835,\n",
       "        0.05225633],\n",
       "       [0.02638017, 0.05438735, 0.        , ..., 0.27675909, 0.07535859,\n",
       "        0.05294023],\n",
       "       [0.34211941, 0.10514324, 0.        , ..., 0.54447286, 0.02560146,\n",
       "        0.0891926 ]])"
      ]
     },
     "execution_count": 27,
     "metadata": {},
     "output_type": "execute_result"
    }
   ],
   "source": [
    "SEACell_soft_ad = SEACells.core.summarize_by_soft_SEACell(ctrl_data,  model.A_, \n",
    "                                                          celltype_label='cell_type', summarize_layer = 'counts', minimum_weight = 0.05)\n",
    "SEACell_soft_ad.X.A"
   ]
  },
  {
   "cell_type": "code",
   "execution_count": 28,
   "id": "84566d66-dd40-4343-8b0e-62cf08f5ac83",
   "metadata": {},
   "outputs": [
    {
     "data": {
      "text/plain": [
       "cell_type\n",
       "T cells          212\n",
       "Myeloid cells     73\n",
       "B cells           66\n",
       "NK cells          28\n",
       "Name: count, dtype: int64"
      ]
     },
     "execution_count": 28,
     "metadata": {},
     "output_type": "execute_result"
    }
   ],
   "source": [
    "SEACell_soft_ad.obs\n",
    "SEACell_soft_ad.obs.rename({\"celltype\": \"cell_type\"}, axis=1, inplace=True)\n",
    "SEACell_soft_ad.obs.cell_type.value_counts()"
   ]
  },
  {
   "cell_type": "code",
   "execution_count": 29,
   "id": "dc341a2f-513c-4097-9384-4a0e95d704d4",
   "metadata": {},
   "outputs": [],
   "source": [
    "SEACell_soft_ad.write(data_path+'SEACell_soft_ad_Neurips.h5ad')"
   ]
  },
  {
   "cell_type": "code",
   "execution_count": 30,
   "id": "09cfb01e-8cc6-4c4e-b10c-e8ab9ea5a11d",
   "metadata": {},
   "outputs": [
    {
     "data": {
      "text/plain": [
       "AnnData object with n_obs × n_vars = 379 × 5000\n",
       "    obs: 'Pseudo-sizes', 'cell_type', 'celltype_purity'"
      ]
     },
     "execution_count": 30,
     "metadata": {},
     "output_type": "execute_result"
    }
   ],
   "source": [
    "SEACell_soft_ad = sc.read(data_path+'SEACell_soft_ad_Neurips.h5ad')\n",
    "SEACell_soft_ad"
   ]
  },
  {
   "cell_type": "code",
   "execution_count": 31,
   "id": "99f5f057-cca5-46b4-af93-519f8689019f",
   "metadata": {},
   "outputs": [
    {
     "name": "stdout",
     "output_type": "stream",
     "text": [
      "/ibex/scratch/alsulara/PrePR-CT/graphs/NeurIPS\n",
      "File exists!\n",
      "T cells\n"
     ]
    },
    {
     "name": "stderr",
     "output_type": "stream",
     "text": [
      "/home/alsulara/miniconda3/envs/PrePR-CT/lib/python3.8/site-packages/numpy/lib/function_base.py:2854: RuntimeWarning: invalid value encountered in divide\n",
      "  c /= stddev[:, None]\n",
      "/home/alsulara/miniconda3/envs/PrePR-CT/lib/python3.8/site-packages/numpy/lib/function_base.py:2855: RuntimeWarning: invalid value encountered in divide\n",
      "  c /= stddev[None, :]\n"
     ]
    },
    {
     "name": "stdout",
     "output_type": "stream",
     "text": [
      "threshold: 0.6245951304133606\n",
      "number_of_edges before the threshold (5000 x 5000):  25000000\n",
      "number_of_edges after the threshold:  250001\n",
      "number_of_edges after removing self loops:  245066\n",
      "final number_of_edges:  245066\n",
      "Myeloid cells\n"
     ]
    },
    {
     "name": "stderr",
     "output_type": "stream",
     "text": [
      "/home/alsulara/miniconda3/envs/PrePR-CT/lib/python3.8/site-packages/numpy/lib/function_base.py:2854: RuntimeWarning: invalid value encountered in divide\n",
      "  c /= stddev[:, None]\n",
      "/home/alsulara/miniconda3/envs/PrePR-CT/lib/python3.8/site-packages/numpy/lib/function_base.py:2855: RuntimeWarning: invalid value encountered in divide\n",
      "  c /= stddev[None, :]\n"
     ]
    },
    {
     "name": "stdout",
     "output_type": "stream",
     "text": [
      "threshold: 0.5131705496349035\n",
      "number_of_edges before the threshold (5000 x 5000):  25000000\n",
      "number_of_edges after the threshold:  250000\n",
      "number_of_edges after removing self loops:  245214\n",
      "final number_of_edges:  245214\n",
      "B cells\n"
     ]
    },
    {
     "name": "stderr",
     "output_type": "stream",
     "text": [
      "/home/alsulara/miniconda3/envs/PrePR-CT/lib/python3.8/site-packages/numpy/lib/function_base.py:2854: RuntimeWarning: invalid value encountered in divide\n",
      "  c /= stddev[:, None]\n",
      "/home/alsulara/miniconda3/envs/PrePR-CT/lib/python3.8/site-packages/numpy/lib/function_base.py:2855: RuntimeWarning: invalid value encountered in divide\n",
      "  c /= stddev[None, :]\n"
     ]
    },
    {
     "name": "stdout",
     "output_type": "stream",
     "text": [
      "threshold: 0.7477837878649678\n",
      "number_of_edges before the threshold (5000 x 5000):  25000000\n",
      "number_of_edges after the threshold:  250001\n",
      "number_of_edges after removing self loops:  245246\n",
      "final number_of_edges:  245246\n",
      "NK cells\n"
     ]
    },
    {
     "name": "stderr",
     "output_type": "stream",
     "text": [
      "/home/alsulara/miniconda3/envs/PrePR-CT/lib/python3.8/site-packages/numpy/lib/function_base.py:2854: RuntimeWarning: invalid value encountered in divide\n",
      "  c /= stddev[:, None]\n",
      "/home/alsulara/miniconda3/envs/PrePR-CT/lib/python3.8/site-packages/numpy/lib/function_base.py:2855: RuntimeWarning: invalid value encountered in divide\n",
      "  c /= stddev[None, :]\n"
     ]
    },
    {
     "name": "stdout",
     "output_type": "stream",
     "text": [
      "threshold: 0.7722197719228808\n",
      "number_of_edges before the threshold (5000 x 5000):  25000000\n",
      "number_of_edges after the threshold:  250000\n",
      "number_of_edges after removing self loops:  245562\n",
      "final number_of_edges:  245562\n"
     ]
    },
    {
     "data": {
      "text/plain": [
       "{'T cells': Data(x=[2342, 212], edge_index=[2, 245066], edge_attr=[245066], pos=[2342]),\n",
       " 'Myeloid cells': Data(x=[4198, 73], edge_index=[2, 245214], edge_attr=[245214], pos=[4198]),\n",
       " 'B cells': Data(x=[2832, 66], edge_index=[2, 245246], edge_attr=[245246], pos=[2832]),\n",
       " 'NK cells': Data(x=[2692, 28], edge_index=[2, 245562], edge_attr=[245562], pos=[2692])}"
      ]
     },
     "execution_count": 31,
     "metadata": {},
     "output_type": "execute_result"
    }
   ],
   "source": [
    "import os\n",
    "import networkx as nx\n",
    "from torch_geometric.utils.convert import from_networkx\n",
    "from sklearn.metrics import mean_squared_error\n",
    "from torch_geometric.data import InMemoryDataset, Data, download_url, extract_zip, HeteroData, Batch\n",
    "from torch_geometric.utils import *\n",
    "import torch\n",
    "from torch import nn\n",
    "cell_type_network = {}\n",
    "# Leaf directory \n",
    "directory = \"NeurIPS\"\n",
    "# Parent Directories \n",
    "parent_dir = \"/../PrePR-CT/graphs/\"\n",
    "# Path \n",
    "path = os.path.join(parent_dir, directory)\n",
    "print(path)\n",
    "try: \n",
    "    os.makedirs(path) \n",
    "except:\n",
    "    print(\"File exists!\")\n",
    "max_nodes = 0\n",
    "genes_pos = []\n",
    "for cell_type in SEACell_soft_ad.obs.cell_type.unique():\n",
    "    print(cell_type)\n",
    "    cell = Correlation_matrix(SEACell_soft_ad, cell_type, 'cell_type',\n",
    "                       hv_genes_cells = None, union_HVGs = True)\n",
    "    threshold = np.percentile(np.abs(cell[0].values), 99.0)\n",
    "    print(\"threshold:\", threshold)\n",
    "    g = create_coexpression_graph(SEACell_soft_ad, cell, cell_type, threshold, 'gene_name')\n",
    "    if g.num_nodes >= max_nodes:\n",
    "        max_nodes = g.num_nodes\n",
    "    cell_type_network[cell_type] = g\n",
    "    genes_pos.append(cell_type_network[cell_type].pos)\n",
    "    cell_type_network[cell_type].pos = torch.tensor(cell_type_network[cell_type].pos)\n",
    "    torch.save(cell_type_network[cell_type] , os.path.join(path,cell_type+'_coexpr_graph.pkl'))\n",
    "\n",
    "cell_type_network"
   ]
  },
  {
   "cell_type": "code",
   "execution_count": 33,
   "id": "c1133c86-d6d0-455b-9bfb-2b6c4de16f28",
   "metadata": {},
   "outputs": [
    {
     "name": "stdout",
     "output_type": "stream",
     "text": [
      "[3 0 0 0]\n",
      "T cells\n"
     ]
    },
    {
     "data": {
      "text/html": [
       "<div>\n",
       "<style scoped>\n",
       "    .dataframe tbody tr th:only-of-type {\n",
       "        vertical-align: middle;\n",
       "    }\n",
       "\n",
       "    .dataframe tbody tr th {\n",
       "        vertical-align: top;\n",
       "    }\n",
       "\n",
       "    .dataframe thead th {\n",
       "        text-align: right;\n",
       "    }\n",
       "</style>\n",
       "<table border=\"1\" class=\"dataframe\">\n",
       "  <thead>\n",
       "    <tr style=\"text-align: right;\">\n",
       "      <th></th>\n",
       "      <th>T cells</th>\n",
       "      <th>Myeloid cells</th>\n",
       "      <th>B cells</th>\n",
       "      <th>NK cells</th>\n",
       "    </tr>\n",
       "  </thead>\n",
       "  <tbody>\n",
       "    <tr>\n",
       "      <th>T cells</th>\n",
       "      <td>2342</td>\n",
       "      <td>2171</td>\n",
       "      <td>1701</td>\n",
       "      <td>1568</td>\n",
       "    </tr>\n",
       "    <tr>\n",
       "      <th>Myeloid cells</th>\n",
       "      <td>2171</td>\n",
       "      <td>4198</td>\n",
       "      <td>2534</td>\n",
       "      <td>2385</td>\n",
       "    </tr>\n",
       "    <tr>\n",
       "      <th>B cells</th>\n",
       "      <td>1701</td>\n",
       "      <td>2534</td>\n",
       "      <td>2832</td>\n",
       "      <td>1727</td>\n",
       "    </tr>\n",
       "    <tr>\n",
       "      <th>NK cells</th>\n",
       "      <td>1568</td>\n",
       "      <td>2385</td>\n",
       "      <td>1727</td>\n",
       "      <td>2692</td>\n",
       "    </tr>\n",
       "  </tbody>\n",
       "</table>\n",
       "</div>"
      ],
      "text/plain": [
       "              T cells Myeloid cells B cells NK cells\n",
       "T cells          2342          2171    1701     1568\n",
       "Myeloid cells    2171          4198    2534     2385\n",
       "B cells          1701          2534    2832     1727\n",
       "NK cells         1568          2385    1727     2692"
      ]
     },
     "execution_count": 33,
     "metadata": {},
     "output_type": "execute_result"
    }
   ],
   "source": [
    "overlap_df = pd.DataFrame(index = cell_type_network.keys(), columns = cell_type_network.keys())\n",
    "for key1 in cell_type_network.keys():\n",
    "    for key2 in cell_type_network.keys():\n",
    "        overlap_df.loc[key1, key2] = (len(np.intersect1d(cell_type_network[key1].pos, cell_type_network[key2].pos)))\n",
    "\n",
    "# identify the furthest cell type\n",
    "indices = np.argsort(overlap_df.values, axis=0)[-4, :]\n",
    "print(indices)\n",
    "testing_cell = overlap_df.columns[mode(indices)]\n",
    "print(testing_cell)\n",
    "overlap_df"
   ]
  },
  {
   "cell_type": "code",
   "execution_count": 34,
   "id": "412a3618-06ba-4f3c-abcd-5e55376357f4",
   "metadata": {},
   "outputs": [
    {
     "data": {
      "image/png": "[encoded data removed]",
      "text/plain": [
       "<Figure size 600x600 with 4 Axes>"
      ]
     },
     "metadata": {},
     "output_type": "display_data"
    }
   ],
   "source": [
    "# sns.set()\n",
    "cmap = sns.light_palette(\"#1C2E54\", as_cmap=True, n_colors = 5)\n",
    "sns.set_style( {'axes.grid' : False})\n",
    "g = sns.clustermap(overlap_df.astype(int), figsize=(6, 6), cmap = cmap\n",
    "                   , cbar_kws={'label': 'overlapped genes', 'location': 'left'})\n",
    "g.fig.subplots_adjust(right=0.7)\n",
    "g.ax_cbar.set_position((-0.1, .52, .03, .4))\n",
    "plt.savefig(save_path_results+'overlap_matrix_neurips.pdf', bbox_inches='tight')\n",
    "plt.show()\n",
    "sns.set()"
   ]
  },
  {
   "cell_type": "code",
   "execution_count": 2,
   "id": "49459600-4aa8-4bac-898f-e827b6009a31",
   "metadata": {},
   "outputs": [],
   "source": [
    "adata.write(data_path+'Neurips_Data_Processed.h5ad')\n",
    "adata"
   ]
  },
  {
   "cell_type": "code",
   "execution_count": 3,
   "id": "11bb2e48-ebf9-40e6-b914-efd15d89df26",
   "metadata": {},
   "outputs": [
    {
     "data": {
      "text/plain": [
       "AnnData object with n_obs × n_vars = 291793 × 5000\n",
       "    obs: 'dose_value', 'timepoint_hr', 'well', 'row', 'col', 'plate_name', 'cell_id', 'cell_type', 'split', 'donor_id', 'condition', 'control', 'SMILES', 'sm_lincs_id', 'library_id', 'leiden_res1', 'group', 'cell_type_orig', 'plate_well_celltype_reannotated', 'cell_count_by_well_celltype', 'cell_count_by_plate_well', 'n_counts', 'drug_dose_name', 'cov_drug_dose_name', 'cov_drug', 'condition_label', 'SEACell'\n",
       "    var: 'highly_variable', 'means', 'dispersions', 'dispersions_norm', 'mt', 'ribo', 'n_cells'\n",
       "    uns: 'cell_type_colors', 'celltypist_celltype_colors', 'condition_colors', 'donor_id_colors', 'hvg', 'leiden_res1_colors', 'log1p', 'neighbors', 'over_clustering', 'pca', 'rank_genes_groups', 'umap'\n",
       "    obsm: 'HTO_clr', 'X_pca', 'X_umap', 'protein_counts'\n",
       "    varm: 'PCs'\n",
       "    layers: 'counts', 'published_normalized_counts', 'raw_counts'\n",
       "    obsp: 'connectivities', 'distances'"
      ]
     },
     "execution_count": 3,
     "metadata": {},
     "output_type": "execute_result"
    }
   ],
   "source": [
    "adata = sc.read(data_path+'Neurips_Data_Processed.h5ad')\n",
    "adata"
   ]
  },
  {
   "cell_type": "code",
   "execution_count": 4,
   "id": "3c7570eb-aa04-4719-a07b-2e09ae9f4f4e",
   "metadata": {},
   "outputs": [
    {
     "name": "stdout",
     "output_type": "stream",
     "text": [
      "28452 263341\n",
      "291793\n"
     ]
    }
   ],
   "source": [
    "print(len(adata.obs.loc[adata.obs.condition == 'control']), len(adata.obs.loc[adata.obs.condition != 'control']))\n",
    "print(len(adata.obs.loc[adata.obs.condition == 'control']) + len(adata.obs.loc[adata.obs.condition != 'control']))"
   ]
  },
  {
   "cell_type": "code",
   "execution_count": 12,
   "id": "e2a73467-d334-42d1-8270-5b36cec10c4f",
   "metadata": {},
   "outputs": [
    {
     "data": {
      "text/html": [
       "<div>\n",
       "<style scoped>\n",
       "    .dataframe tbody tr th:only-of-type {\n",
       "        vertical-align: middle;\n",
       "    }\n",
       "\n",
       "    .dataframe tbody tr th {\n",
       "        vertical-align: top;\n",
       "    }\n",
       "\n",
       "    .dataframe thead th {\n",
       "        text-align: right;\n",
       "    }\n",
       "</style>\n",
       "<table border=\"1\" class=\"dataframe\">\n",
       "  <thead>\n",
       "    <tr style=\"text-align: right;\">\n",
       "      <th>condition</th>\n",
       "      <th>ABT-199 (GDC-0199)</th>\n",
       "      <th>AMD-070 (hydrochloride)</th>\n",
       "      <th>AT 7867</th>\n",
       "      <th>AVL-292</th>\n",
       "      <th>AZ628</th>\n",
       "      <th>AZD3514</th>\n",
       "      <th>AZD4547</th>\n",
       "      <th>AZD-8330</th>\n",
       "      <th>Alogliptin</th>\n",
       "      <th>Amiodarone</th>\n",
       "      <th>...</th>\n",
       "      <th>Tivozanib</th>\n",
       "      <th>Topotecan</th>\n",
       "      <th>Tosedostat</th>\n",
       "      <th>Trametinib</th>\n",
       "      <th>Vandetanib</th>\n",
       "      <th>Vanoxerine</th>\n",
       "      <th>Vardenafil</th>\n",
       "      <th>Vorinostat</th>\n",
       "      <th>YK 4-279</th>\n",
       "      <th>control</th>\n",
       "    </tr>\n",
       "    <tr>\n",
       "      <th>cell_type</th>\n",
       "      <th></th>\n",
       "      <th></th>\n",
       "      <th></th>\n",
       "      <th></th>\n",
       "      <th></th>\n",
       "      <th></th>\n",
       "      <th></th>\n",
       "      <th></th>\n",
       "      <th></th>\n",
       "      <th></th>\n",
       "      <th></th>\n",
       "      <th></th>\n",
       "      <th></th>\n",
       "      <th></th>\n",
       "      <th></th>\n",
       "      <th></th>\n",
       "      <th></th>\n",
       "      <th></th>\n",
       "      <th></th>\n",
       "      <th></th>\n",
       "      <th></th>\n",
       "    </tr>\n",
       "  </thead>\n",
       "  <tbody>\n",
       "    <tr>\n",
       "      <th>B cells</th>\n",
       "      <td>30</td>\n",
       "      <td>219</td>\n",
       "      <td>348</td>\n",
       "      <td>283</td>\n",
       "      <td>228</td>\n",
       "      <td>244</td>\n",
       "      <td>281</td>\n",
       "      <td>308</td>\n",
       "      <td>226</td>\n",
       "      <td>255</td>\n",
       "      <td>...</td>\n",
       "      <td>231</td>\n",
       "      <td>314</td>\n",
       "      <td>219</td>\n",
       "      <td>309</td>\n",
       "      <td>219</td>\n",
       "      <td>244</td>\n",
       "      <td>245</td>\n",
       "      <td>227</td>\n",
       "      <td>270</td>\n",
       "      <td>4396</td>\n",
       "    </tr>\n",
       "    <tr>\n",
       "      <th>Myeloid cells</th>\n",
       "      <td>402</td>\n",
       "      <td>242</td>\n",
       "      <td>367</td>\n",
       "      <td>133</td>\n",
       "      <td>77</td>\n",
       "      <td>229</td>\n",
       "      <td>234</td>\n",
       "      <td>109</td>\n",
       "      <td>259</td>\n",
       "      <td>256</td>\n",
       "      <td>...</td>\n",
       "      <td>290</td>\n",
       "      <td>324</td>\n",
       "      <td>240</td>\n",
       "      <td>146</td>\n",
       "      <td>229</td>\n",
       "      <td>288</td>\n",
       "      <td>266</td>\n",
       "      <td>108</td>\n",
       "      <td>327</td>\n",
       "      <td>5235</td>\n",
       "    </tr>\n",
       "    <tr>\n",
       "      <th>NK cells</th>\n",
       "      <td>115</td>\n",
       "      <td>116</td>\n",
       "      <td>151</td>\n",
       "      <td>131</td>\n",
       "      <td>109</td>\n",
       "      <td>105</td>\n",
       "      <td>92</td>\n",
       "      <td>127</td>\n",
       "      <td>122</td>\n",
       "      <td>112</td>\n",
       "      <td>...</td>\n",
       "      <td>123</td>\n",
       "      <td>130</td>\n",
       "      <td>87</td>\n",
       "      <td>116</td>\n",
       "      <td>123</td>\n",
       "      <td>116</td>\n",
       "      <td>98</td>\n",
       "      <td>95</td>\n",
       "      <td>132</td>\n",
       "      <td>1957</td>\n",
       "    </tr>\n",
       "    <tr>\n",
       "      <th>T cells</th>\n",
       "      <td>817</td>\n",
       "      <td>914</td>\n",
       "      <td>1126</td>\n",
       "      <td>1153</td>\n",
       "      <td>965</td>\n",
       "      <td>949</td>\n",
       "      <td>926</td>\n",
       "      <td>960</td>\n",
       "      <td>959</td>\n",
       "      <td>998</td>\n",
       "      <td>...</td>\n",
       "      <td>1154</td>\n",
       "      <td>1227</td>\n",
       "      <td>843</td>\n",
       "      <td>1071</td>\n",
       "      <td>949</td>\n",
       "      <td>891</td>\n",
       "      <td>946</td>\n",
       "      <td>1087</td>\n",
       "      <td>934</td>\n",
       "      <td>16864</td>\n",
       "    </tr>\n",
       "  </tbody>\n",
       "</table>\n",
       "<p>4 rows × 136 columns</p>\n",
       "</div>"
      ],
      "text/plain": [
       "condition      ABT-199 (GDC-0199)  AMD-070 (hydrochloride)  AT 7867  AVL-292  \\\n",
       "cell_type                                                                      \n",
       "B cells                        30                      219      348      283   \n",
       "Myeloid cells                 402                      242      367      133   \n",
       "NK cells                      115                      116      151      131   \n",
       "T cells                       817                      914     1126     1153   \n",
       "\n",
       "condition      AZ628  AZD3514  AZD4547  AZD-8330  Alogliptin  Amiodarone  ...  \\\n",
       "cell_type                                                                 ...   \n",
       "B cells          228      244      281       308         226         255  ...   \n",
       "Myeloid cells     77      229      234       109         259         256  ...   \n",
       "NK cells         109      105       92       127         122         112  ...   \n",
       "T cells          965      949      926       960         959         998  ...   \n",
       "\n",
       "condition      Tivozanib  Topotecan  Tosedostat  Trametinib  Vandetanib  \\\n",
       "cell_type                                                                 \n",
       "B cells              231        314         219         309         219   \n",
       "Myeloid cells        290        324         240         146         229   \n",
       "NK cells             123        130          87         116         123   \n",
       "T cells             1154       1227         843        1071         949   \n",
       "\n",
       "condition      Vanoxerine  Vardenafil  Vorinostat  YK 4-279  control  \n",
       "cell_type                                                             \n",
       "B cells               244         245         227       270     4396  \n",
       "Myeloid cells         288         266         108       327     5235  \n",
       "NK cells              116          98          95       132     1957  \n",
       "T cells               891         946        1087       934    16864  \n",
       "\n",
       "[4 rows x 136 columns]"
      ]
     },
     "execution_count": 12,
     "metadata": {},
     "output_type": "execute_result"
    }
   ],
   "source": [
    "cross_tab = pd.crosstab(adata.obs['cell_type'], adata.obs['condition'])\n",
    "cross_tab"
   ]
  },
  {
   "cell_type": "code",
   "execution_count": 13,
   "id": "b6bbb961-2559-480d-a41e-b72a4916bfbb",
   "metadata": {},
   "outputs": [
    {
     "name": "stdout",
     "output_type": "stream",
     "text": [
      "/ibex/scratch/alsulara/PrePR-CT/graphs/NeurIPS\n",
      "File exists!\n",
      "B cells\n",
      "T cells\n",
      "Myeloid cells\n",
      "NK cells\n",
      "4198\n"
     ]
    },
    {
     "data": {
      "text/plain": [
       "{'B cells': Data(x=[2832, 66], edge_index=[2, 245246], edge_attr=[245246], pos=[2832]),\n",
       " 'T cells': Data(x=[2342, 212], edge_index=[2, 245066], edge_attr=[245066], pos=[2342]),\n",
       " 'Myeloid cells': Data(x=[4198, 73], edge_index=[2, 245214], edge_attr=[245214], pos=[4198]),\n",
       " 'NK cells': Data(x=[2692, 28], edge_index=[2, 245562], edge_attr=[245562], pos=[2692])}"
      ]
     },
     "execution_count": 13,
     "metadata": {},
     "output_type": "execute_result"
    }
   ],
   "source": [
    "import os\n",
    "cell_type_network = {}\n",
    "# Leaf directory \n",
    "directory = \"NeurIPS\"\n",
    "# Parent Directories \n",
    "parent_dir = \"/../PrePR-CT/graphs/\"\n",
    "# Path \n",
    "path = os.path.join(parent_dir, directory)\n",
    "print(path)\n",
    "try: \n",
    "    os.makedirs(path) \n",
    "except:\n",
    "    print(\"File exists!\")\n",
    "max_nodes = 0\n",
    "genes_pos = []\n",
    "for cell_type in adata.obs.cell_type.unique():\n",
    "    print(cell_type)\n",
    "    cell_type_network[cell_type] = torch.load(os.path.join(path,cell_type+'_coexpr_graph.pkl'))\n",
    "    if cell_type_network[cell_type].num_nodes >= max_nodes:\n",
    "        max_nodes = cell_type_network[cell_type].num_nodes\n",
    "print(max_nodes)\n",
    "cell_type_network "
   ]
  },
  {
   "cell_type": "code",
   "execution_count": 14,
   "id": "55fdb327-3f3b-42bd-9a32-e404acfe4838",
   "metadata": {},
   "outputs": [],
   "source": [
    "# Compute the crosstab\n",
    "crosstab_result = pd.crosstab(adata.obs['cell_type'], adata.obs['condition'])\n",
    "\n",
    "# Identify drugs (conditions) that appear in at least one cell type with fewer than 30 samples\n",
    "drugs_to_remove = crosstab_result.columns[crosstab_result.lt(30).any()]\n",
    "\n",
    "# Filter out those drugs from the dataset\n",
    "adata = adata[~adata.obs['condition'].isin(drugs_to_remove)]"
   ]
  },
  {
   "cell_type": "code",
   "execution_count": 16,
   "id": "6db1e642-c3d9-4cbe-978e-8800f4a4488d",
   "metadata": {},
   "outputs": [
    {
     "name": "stderr",
     "output_type": "stream",
     "text": [
      "100%|██████████| 136/136 [01:37<00:00,  1.39it/s]\n"
     ]
    },
    {
     "name": "stdout",
     "output_type": "stream",
     "text": [
      "Closest drugs: ['Penfluridol', 'Flutamide', 'SCH-58261']\n",
      "Farthest drugs: ['Scriptaid', 'Ketoconazole', 'Dactolisib']\n",
      "Testing drugs: ['Penfluridol', 'Flutamide', 'SCH-58261', 'Scriptaid', 'Ketoconazole', 'Dactolisib']\n"
     ]
    }
   ],
   "source": [
    "from scperturb import *\n",
    "estats = edist_to_control(adata, obs_key='condition', obsm_key='X_pca', dist='sqeuclidean')\n",
    "# Sort the Series in ascending order:\n",
    "if 'control' in estats.index:\n",
    "    control_values = estats.drop('control')\n",
    "sorted_control = control_values.sort_values(by = 'distance' , ascending=True)\n",
    "\n",
    "# The 7 drugs with the smallest values are the closest to control\n",
    "closest_drugs = sorted_control.head(3).index.tolist()\n",
    "\n",
    "# The 7 drugs with the highest values are the farthest from control\n",
    "farthest_drugs = sorted_control.tail(3).index.tolist()\n",
    "\n",
    "# Combine them into a single list if desired\n",
    "testing_drugs = closest_drugs + farthest_drugs\n",
    "\n",
    "print(\"Closest drugs:\", closest_drugs)\n",
    "print(\"Farthest drugs:\", farthest_drugs)\n",
    "print(\"Testing drugs:\", testing_drugs)"
   ]
  },
  {
   "cell_type": "code",
   "execution_count": 17,
   "id": "80fb7ec7-d14d-42e2-81f4-27467796f3a3",
   "metadata": {},
   "outputs": [
    {
     "data": {
      "image/png": "[encoded data removed]",
      "text/plain": [
       "<Figure size 800x700 with 1 Axes>"
      ]
     },
     "metadata": {},
     "output_type": "display_data"
    }
   ],
   "source": [
    "import matplotlib.pyplot as plt\n",
    "import seaborn as sns\n",
    "import pandas as pd\n",
    "\n",
    "def plot_distance_violin(sorted_control, num_selected=3, text_offset=0.1):\n",
    "    \"\"\"\n",
    "    Plots the distance distribution of drugs from the control group as a violin plot,\n",
    "    highlighting the top `num_selected` closest and farthest drugs while avoiding text overlap.\n",
    "\n",
    "    Parameters:\n",
    "    - sorted_control: Pandas DataFrame with 'distance' column (sorted in ascending order)\n",
    "    - num_selected: Number of closest and farthest drugs to highlight\n",
    "    - text_offset: Vertical offset to prevent text overlap\n",
    "    \"\"\"\n",
    "\n",
    "    # Extract distances\n",
    "    distances = sorted_control['distance'].values\n",
    "\n",
    "    # Extract selected drug names and distances\n",
    "    closest_drugs = sorted_control.index[:num_selected].tolist()\n",
    "    farthest_drugs = sorted_control.index[-num_selected:].tolist()\n",
    "    closest_distances = sorted_control['distance'][:num_selected].tolist()\n",
    "    farthest_distances = sorted_control['distance'][-num_selected:].tolist()\n",
    "\n",
    "    # Plot violin plot\n",
    "    plt.figure(figsize=(8, 7))\n",
    "    sns.violinplot(y=distances, color='#B5345C', inner=\"quartile\")\n",
    "\n",
    "    # Annotate closest drugs (adjusting y position to avoid overlap)\n",
    "    for i, (drug, dist) in enumerate(zip(closest_drugs, closest_distances)):\n",
    "        plt.text(x = (i-0.5) * (text_offset + 0.08), y=dist , s=drug, color=\"black\", fontsize=10, fontweight=\"bold\", verticalalignment='bottom')\n",
    "\n",
    "    # Annotate farthest drugs (adjusting y position to avoid overlap)\n",
    "    for i, (drug, dist) in enumerate(zip(farthest_drugs, farthest_distances)):\n",
    "        plt.text(x = i * text_offset, y=dist, s=drug, color=\"black\", fontsize=10, fontweight=\"bold\", verticalalignment='bottom')\n",
    "\n",
    "    # Labels and title\n",
    "    plt.ylabel(\"E-Distance to Control\")\n",
    "    # Show plot\n",
    "    plt.savefig('distance_dist.pdf', bbox_inches=\"tight\", dpi=300)\n",
    "    plt.show()\n",
    "\n",
    "# Example usage (assuming `sorted_control` is a DataFrame with a 'distance' column sorted in ascending order)\n",
    "plot_distance_violin(sorted_control)\n"
   ]
  },
  {
   "cell_type": "code",
   "execution_count": 8,
   "id": "91b2ed09-f387-4318-bcb9-c2d38c10b701",
   "metadata": {},
   "outputs": [
    {
     "data": {
      "application/vnd.jupyter.widget-view+json": {
       "model_id": "a41a2cbffe2e40a1b350f4661c90c9c8",
       "version_major": 2,
       "version_minor": 0
      },
      "text/plain": [
       "  0%|          | 0/540 [00:00<?, ?it/s]"
      ]
     },
     "metadata": {},
     "output_type": "display_data"
    }
   ],
   "source": [
    "stim_data = adata[adata.obs.condition != 'control'].copy()\n",
    "stim_data.layers['ctrl_x'] = stim_data.X.A\n",
    "ctrl_data = adata[adata.obs.condition == 'control'].copy()\n",
    "\n",
    "for cell_type in adata.obs.cell_type.unique():\n",
    "    genes = cell_type_network[cell_type].pos.tolist()\n",
    "    cell_type_network[cell_type].x = torch.mean(torch.tensor(ctrl_data[ctrl_data.obs.cell_type == cell_type, genes].copy().X.A), dim = 0)\n",
    "    std = torch.var(torch.tensor(ctrl_data[ctrl_data.obs.cell_type == cell_type, genes].copy().X.A), dim = 0)\n",
    "    cell_type_network[cell_type].x = torch.cat([cell_type_network[cell_type].x.unsqueeze(1), std.unsqueeze(1)], dim = 1)    \n",
    "\n",
    "\n",
    "for cov_drug in tq.tqdm(stim_data.obs.cov_drug.unique()):\n",
    "    cell_type = cov_drug.split('_')[0]\n",
    "    ad_ctrl = ctrl_data[ctrl_data.obs.cell_type == cell_type].copy()\n",
    "    ad_stim = stim_data[stim_data.obs.cov_drug == cov_drug].copy()\n",
    "    num_samples = len(ad_stim)\n",
    "    sele_samples = balance_subsample(np.array(ad_ctrl.obs.index.values.tolist()), np.array(ad_ctrl.obs.SEACell.values.tolist()), num_samples)\n",
    "    stim_data[ ad_stim.obs.index.values,: ].layers['ctrl_x'] = ad_ctrl[sele_samples, :].copy().X.A"
   ]
  },
  {
   "cell_type": "code",
   "execution_count": 5,
   "id": "83272c05-687b-4856-b290-2d35d1d0db06",
   "metadata": {},
   "outputs": [],
   "source": [
    "from rdkit import Chem\n",
    "from rdkit.Chem import AllChem\n",
    "from rdkit import Chem, DataStructs\n",
    "from tqdm import tqdm\n",
    "\n",
    "import pandas as pd\n",
    "\n",
    "# Define the file path\n",
    "file_path = data_path + \"SMILES_feat_all_datasets.csv\"\n",
    "\n",
    "# Read the Parquet file into a DataFrames\n",
    "df = pd.read_csv(file_path)\n",
    "\n",
    "# Define a list of drugs and their corresponding SMILES strings\n",
    "canonical_smiles = {}\n",
    "drug_smiles = adata.obs[['condition', 'SMILES']]\n",
    "drug_smiles = drug_smiles.drop_duplicates()\n",
    "drug_smiles = dict(zip(drug_smiles['condition'], drug_smiles['SMILES']))\n",
    "canonical_smiles = {\n",
    "    drug_name: candidate \n",
    "    for drug_name, smile in drug_smiles.items() if drug_name != 'control'\n",
    "    for candidate in [list(list(df.loc[df['SMILES'] == smile].values)[0])[1:]]\n",
    "    if candidate  # Only include if candidate is non-empty\n",
    "}"
   ]
  },
  {
   "cell_type": "code",
   "execution_count": 57,
   "id": "fd4a8009-b6db-43db-8106-80f6b12ef03e",
   "metadata": {},
   "outputs": [
    {
     "name": "stdout",
     "output_type": "stream",
     "text": [
      "['B cells', 'T cells', 'Myeloid cells', 'NK cells']\n",
      "Categories (4, object): ['B cells', 'Myeloid cells', 'NK cells', 'T cells'] ['Belinostat', 'Dabrafenib', 'Atorvastatin', 'Topotecan', 'BMS-265246', ..., 'Ceritinib', 'Bosutinib', 'Vandetanib', 'Mometasone Furoate', 'Clotrimazole']\n",
      "Length: 135\n",
      "Categories (135, object): ['ABT-199 (GDC-0199)', 'AMD-070 (hydrochloride)', 'AT 7867', 'AVL-292', ..., 'Vanoxerine', 'Vardenafil', 'Vorinostat', 'YK 4-279']\n"
     ]
    },
    {
     "data": {
      "application/vnd.jupyter.widget-view+json": {
       "model_id": "077848f7f1534c5498e448594ea9bada",
       "version_major": 2,
       "version_minor": 0
      },
      "text/plain": [
       "Processing cov_drugs:   0%|          | 0/540 [00:00<?, ?it/s]"
      ]
     },
     "metadata": {},
     "output_type": "display_data"
    },
    {
     "data": {
      "application/vnd.jupyter.widget-view+json": {
       "model_id": "16f4f4f4c67c4b22893b4a227dcaf7a8",
       "version_major": 2,
       "version_minor": 0
      },
      "text/plain": [
       "Processing B cells_Belinostat samples:   0%|          | 0/4165 [00:00<?, ?it/s]"
      ]
     },
     "metadata": {},
     "output_type": "display_data"
    },
    {
     "data": {
      "application/vnd.jupyter.widget-view+json": {
       "model_id": "c8fa7b9a44f24ba6847d46813e679ae2",
       "version_major": 2,
       "version_minor": 0
      },
      "text/plain": [
       "Processing T cells_Belinostat samples:   0%|          | 0/15864 [00:00<?, ?it/s]"
      ]
     },
     "metadata": {},
     "output_type": "display_data"
    },
    {
     "data": {
      "application/vnd.jupyter.widget-view+json": {
       "model_id": "3b399ab237e44654a3f1c566bc064925",
       "version_major": 2,
       "version_minor": 0
      },
      "text/plain": [
       "Processing Myeloid cells_Belinostat samples:   0%|          | 0/2502 [00:00<?, ?it/s]"
      ]
     },
     "metadata": {},
     "output_type": "display_data"
    },
    {
     "data": {
      "application/vnd.jupyter.widget-view+json": {
       "model_id": "3be2f7a902cd487788070890db892908",
       "version_major": 2,
       "version_minor": 0
      },
      "text/plain": [
       "Processing NK cells_Belinostat samples:   0%|          | 0/1523 [00:00<?, ?it/s]"
      ]
     },
     "metadata": {},
     "output_type": "display_data"
    },
    {
     "data": {
      "application/vnd.jupyter.widget-view+json": {
       "model_id": "0f67c2109f054bb5818856cb8ce0d203",
       "version_major": 2,
       "version_minor": 0
      },
      "text/plain": [
       "Processing T cells_Dabrafenib samples:   0%|          | 0/14766 [00:00<?, ?it/s]"
      ]
     },
     "metadata": {},
     "output_type": "display_data"
    },
    {
     "data": {
      "application/vnd.jupyter.widget-view+json": {
       "model_id": "443dc61369084064bc266f246b087a2f",
       "version_major": 2,
       "version_minor": 0
      },
      "text/plain": [
       "Processing Myeloid cells_Dabrafenib samples:   0%|          | 0/6005 [00:00<?, ?it/s]"
      ]
     },
     "metadata": {},
     "output_type": "display_data"
    },
    {
     "data": {
      "application/vnd.jupyter.widget-view+json": {
       "model_id": "42c7c5753fda4b5cbac2f4d5d1eee0b1",
       "version_major": 2,
       "version_minor": 0
      },
      "text/plain": [
       "Processing B cells_Dabrafenib samples:   0%|          | 0/3936 [00:00<?, ?it/s]"
      ]
     },
     "metadata": {},
     "output_type": "display_data"
    },
    {
     "data": {
      "application/vnd.jupyter.widget-view+json": {
       "model_id": "98501d148cb941108faf8ad82844d6a1",
       "version_major": 2,
       "version_minor": 0
      },
      "text/plain": [
       "Processing NK cells_Dabrafenib samples:   0%|          | 0/1626 [00:00<?, ?it/s]"
      ]
     },
     "metadata": {},
     "output_type": "display_data"
    },
    {
     "data": {
      "application/vnd.jupyter.widget-view+json": {
       "model_id": "c1a966e6692a45de98f77b2d1dc838bc",
       "version_major": 2,
       "version_minor": 0
      },
      "text/plain": [
       "Processing Myeloid cells_Atorvastatin samples:   0%|          | 0/258 [00:00<?, ?it/s]"
      ]
     },
     "metadata": {},
     "output_type": "display_data"
    },
    {
     "data": {
      "application/vnd.jupyter.widget-view+json": {
       "model_id": "79f36c8f61ba4510a029e70467446cbf",
       "version_major": 2,
       "version_minor": 0
      },
      "text/plain": [
       "Processing T cells_Atorvastatin samples:   0%|          | 0/1091 [00:00<?, ?it/s]"
      ]
     },
     "metadata": {},
     "output_type": "display_data"
    },
    {
     "data": {
      "application/vnd.jupyter.widget-view+json": {
       "model_id": "1ccd8c82e289438a803eb1fb55723aff",
       "version_major": 2,
       "version_minor": 0
      },
      "text/plain": [
       "Processing B cells_Atorvastatin samples:   0%|          | 0/267 [00:00<?, ?it/s]"
      ]
     },
     "metadata": {},
     "output_type": "display_data"
    },
    {
     "data": {
      "application/vnd.jupyter.widget-view+json": {
       "model_id": "de49c3a3fca64901a74f2f0d86c8288c",
       "version_major": 2,
       "version_minor": 0
      },
      "text/plain": [
       "Processing NK cells_Atorvastatin samples:   0%|          | 0/122 [00:00<?, ?it/s]"
      ]
     },
     "metadata": {},
     "output_type": "display_data"
    },
    {
     "data": {
      "application/vnd.jupyter.widget-view+json": {
       "model_id": "82a538500e62408887a77a3caf12ffff",
       "version_major": 2,
       "version_minor": 0
      },
      "text/plain": [
       "Processing T cells_Topotecan samples:   0%|          | 0/1227 [00:00<?, ?it/s]"
      ]
     },
     "metadata": {},
     "output_type": "display_data"
    },
    {
     "data": {
      "application/vnd.jupyter.widget-view+json": {
       "model_id": "eb50bce71bdb4c9e82d5ceab95026650",
       "version_major": 2,
       "version_minor": 0
      },
      "text/plain": [
       "Processing NK cells_Topotecan samples:   0%|          | 0/130 [00:00<?, ?it/s]"
      ]
     },
     "metadata": {},
     "output_type": "display_data"
    },
    {
     "data": {
      "application/vnd.jupyter.widget-view+json": {
       "model_id": "c3b5b21a06bd4c6381cfb40ddb5ea64e",
       "version_major": 2,
       "version_minor": 0
      },
      "text/plain": [
       "Processing B cells_Topotecan samples:   0%|          | 0/314 [00:00<?, ?it/s]"
      ]
     },
     "metadata": {},
     "output_type": "display_data"
    },
    {
     "data": {
      "application/vnd.jupyter.widget-view+json": {
       "model_id": "46510b77bb60404cbac51c97af36e5d8",
       "version_major": 2,
       "version_minor": 0
      },
      "text/plain": [
       "Processing Myeloid cells_Topotecan samples:   0%|          | 0/324 [00:00<?, ?it/s]"
      ]
     },
     "metadata": {},
     "output_type": "display_data"
    },
    {
     "data": {
      "application/vnd.jupyter.widget-view+json": {
       "model_id": "3ca2db5d03c44b808b6d00247c69596e",
       "version_major": 2,
       "version_minor": 0
      },
      "text/plain": [
       "Processing T cells_BMS-265246 samples:   0%|          | 0/1339 [00:00<?, ?it/s]"
      ]
     },
     "metadata": {},
     "output_type": "display_data"
    },
    {
     "data": {
      "application/vnd.jupyter.widget-view+json": {
       "model_id": "a260b14e9f2c4f95be1402bbdfab8cbc",
       "version_major": 2,
       "version_minor": 0
      },
      "text/plain": [
       "Processing B cells_BMS-265246 samples:   0%|          | 0/409 [00:00<?, ?it/s]"
      ]
     },
     "metadata": {},
     "output_type": "display_data"
    },
    {
     "data": {
      "application/vnd.jupyter.widget-view+json": {
       "model_id": "cd3532fe4ffd4c07a7e24f36c06f0bac",
       "version_major": 2,
       "version_minor": 0
      },
      "text/plain": [
       "Processing NK cells_BMS-265246 samples:   0%|          | 0/129 [00:00<?, ?it/s]"
      ]
     },
     "metadata": {},
     "output_type": "display_data"
    },
    {
     "data": {
      "application/vnd.jupyter.widget-view+json": {
       "model_id": "1f527e07a72344b2a7de48f6cb1e3036",
       "version_major": 2,
       "version_minor": 0
      },
      "text/plain": [
       "Processing Myeloid cells_BMS-265246 samples:   0%|          | 0/432 [00:00<?, ?it/s]"
      ]
     },
     "metadata": {},
     "output_type": "display_data"
    },
    {
     "data": {
      "application/vnd.jupyter.widget-view+json": {
       "model_id": "f28a194fd9694f088abd3548b3dea9ce",
       "version_major": 2,
       "version_minor": 0
      },
      "text/plain": [
       "Processing B cells_AMD-070 (hydrochloride) samples:   0%|          | 0/219 [00:00<?, ?it/s]"
      ]
     },
     "metadata": {},
     "output_type": "display_data"
    },
    {
     "data": {
      "application/vnd.jupyter.widget-view+json": {
       "model_id": "97352ab4343647caac84c23da284084f",
       "version_major": 2,
       "version_minor": 0
      },
      "text/plain": [
       "Processing T cells_AMD-070 (hydrochloride) samples:   0%|          | 0/914 [00:00<?, ?it/s]"
      ]
     },
     "metadata": {},
     "output_type": "display_data"
    },
    {
     "data": {
      "application/vnd.jupyter.widget-view+json": {
       "model_id": "42362c3d66f84f52bb7c8e9cf76f01fa",
       "version_major": 2,
       "version_minor": 0
      },
      "text/plain": [
       "Processing Myeloid cells_AMD-070 (hydrochloride) samples:   0%|          | 0/242 [00:00<?, ?it/s]"
      ]
     },
     "metadata": {},
     "output_type": "display_data"
    },
    {
     "data": {
      "application/vnd.jupyter.widget-view+json": {
       "model_id": "86448f9c9b864d4da1907659162d747b",
       "version_major": 2,
       "version_minor": 0
      },
      "text/plain": [
       "Processing NK cells_AMD-070 (hydrochloride) samples:   0%|          | 0/116 [00:00<?, ?it/s]"
      ]
     },
     "metadata": {},
     "output_type": "display_data"
    },
    {
     "data": {
      "application/vnd.jupyter.widget-view+json": {
       "model_id": "f06f429ef44e41f39049d9ea5b4cfc51",
       "version_major": 2,
       "version_minor": 0
      },
      "text/plain": [
       "Processing T cells_Desloratadine samples:   0%|          | 0/997 [00:00<?, ?it/s]"
      ]
     },
     "metadata": {},
     "output_type": "display_data"
    },
    {
     "data": {
      "application/vnd.jupyter.widget-view+json": {
       "model_id": "7c0e0d06ec994090b469e9e7592035a0",
       "version_major": 2,
       "version_minor": 0
      },
      "text/plain": [
       "Processing B cells_Desloratadine samples:   0%|          | 0/258 [00:00<?, ?it/s]"
      ]
     },
     "metadata": {},
     "output_type": "display_data"
    },
    {
     "data": {
      "application/vnd.jupyter.widget-view+json": {
       "model_id": "da33755bf1984227ae37081f3ad35440",
       "version_major": 2,
       "version_minor": 0
      },
      "text/plain": [
       "Processing Myeloid cells_Desloratadine samples:   0%|          | 0/295 [00:00<?, ?it/s]"
      ]
     },
     "metadata": {},
     "output_type": "display_data"
    },
    {
     "data": {
      "application/vnd.jupyter.widget-view+json": {
       "model_id": "7085fad707f64e6f90b4caa0d645d23d",
       "version_major": 2,
       "version_minor": 0
      },
      "text/plain": [
       "Processing NK cells_Desloratadine samples:   0%|          | 0/111 [00:00<?, ?it/s]"
      ]
     },
     "metadata": {},
     "output_type": "display_data"
    },
    {
     "data": {
      "application/vnd.jupyter.widget-view+json": {
       "model_id": "980cbd4d29a743cda0bcbb87a4f5a5f4",
       "version_major": 2,
       "version_minor": 0
      },
      "text/plain": [
       "Processing Myeloid cells_O-Demethylated Adapalene samples:   0%|          | 0/201 [00:00<?, ?it/s]"
      ]
     },
     "metadata": {},
     "output_type": "display_data"
    },
    {
     "data": {
      "application/vnd.jupyter.widget-view+json": {
       "model_id": "c6ed3a2f7a134d1594f9542225a4d16f",
       "version_major": 2,
       "version_minor": 0
      },
      "text/plain": [
       "Processing NK cells_O-Demethylated Adapalene samples:   0%|          | 0/105 [00:00<?, ?it/s]"
      ]
     },
     "metadata": {},
     "output_type": "display_data"
    },
    {
     "data": {
      "application/vnd.jupyter.widget-view+json": {
       "model_id": "26fb2c19fa264a69b41fbe77914e7ffa",
       "version_major": 2,
       "version_minor": 0
      },
      "text/plain": [
       "Processing T cells_O-Demethylated Adapalene samples:   0%|          | 0/916 [00:00<?, ?it/s]"
      ]
     },
     "metadata": {},
     "output_type": "display_data"
    },
    {
     "data": {
      "application/vnd.jupyter.widget-view+json": {
       "model_id": "902ec9aa6b8841ffb8d12cbff412ff13",
       "version_major": 2,
       "version_minor": 0
      },
      "text/plain": [
       "Processing B cells_O-Demethylated Adapalene samples:   0%|          | 0/255 [00:00<?, ?it/s]"
      ]
     },
     "metadata": {},
     "output_type": "display_data"
    },
    {
     "data": {
      "application/vnd.jupyter.widget-view+json": {
       "model_id": "9a8085f6e43b4126a5a8f5b6256b5660",
       "version_major": 2,
       "version_minor": 0
      },
      "text/plain": [
       "Processing T cells_BAY 87-2243 samples:   0%|          | 0/1102 [00:00<?, ?it/s]"
      ]
     },
     "metadata": {},
     "output_type": "display_data"
    },
    {
     "data": {
      "application/vnd.jupyter.widget-view+json": {
       "model_id": "14e338e797a24020869c7ea89f34565e",
       "version_major": 2,
       "version_minor": 0
      },
      "text/plain": [
       "Processing Myeloid cells_BAY 87-2243 samples:   0%|          | 0/242 [00:00<?, ?it/s]"
      ]
     },
     "metadata": {},
     "output_type": "display_data"
    },
    {
     "data": {
      "application/vnd.jupyter.widget-view+json": {
       "model_id": "3a8f6ecd493d49a79c20ff7c639fc517",
       "version_major": 2,
       "version_minor": 0
      },
      "text/plain": [
       "Processing B cells_BAY 87-2243 samples:   0%|          | 0/260 [00:00<?, ?it/s]"
      ]
     },
     "metadata": {},
     "output_type": "display_data"
    },
    {
     "data": {
      "application/vnd.jupyter.widget-view+json": {
       "model_id": "adfe5dc9fada411baa6e2af5dac2684a",
       "version_major": 2,
       "version_minor": 0
      },
      "text/plain": [
       "Processing NK cells_BAY 87-2243 samples:   0%|          | 0/114 [00:00<?, ?it/s]"
      ]
     },
     "metadata": {},
     "output_type": "display_data"
    },
    {
     "data": {
      "application/vnd.jupyter.widget-view+json": {
       "model_id": "b20fdff8be154f5496d42d9158424c48",
       "version_major": 2,
       "version_minor": 0
      },
      "text/plain": [
       "Processing NK cells_Ruxolitinib samples:   0%|          | 0/109 [00:00<?, ?it/s]"
      ]
     },
     "metadata": {},
     "output_type": "display_data"
    },
    {
     "data": {
      "application/vnd.jupyter.widget-view+json": {
       "model_id": "4d58c92a30874805a4fca8ce0298ded5",
       "version_major": 2,
       "version_minor": 0
      },
      "text/plain": [
       "Processing T cells_Ruxolitinib samples:   0%|          | 0/938 [00:00<?, ?it/s]"
      ]
     },
     "metadata": {},
     "output_type": "display_data"
    },
    {
     "data": {
      "application/vnd.jupyter.widget-view+json": {
       "model_id": "adac410e5f4b4bbebaffb73d13dab7b7",
       "version_major": 2,
       "version_minor": 0
      },
      "text/plain": [
       "Processing B cells_Ruxolitinib samples:   0%|          | 0/205 [00:00<?, ?it/s]"
      ]
     },
     "metadata": {},
     "output_type": "display_data"
    },
    {
     "data": {
      "application/vnd.jupyter.widget-view+json": {
       "model_id": "0ea3f943ccc5488c857f216bdb7e53ab",
       "version_major": 2,
       "version_minor": 0
      },
      "text/plain": [
       "Processing Myeloid cells_Ruxolitinib samples:   0%|          | 0/94 [00:00<?, ?it/s]"
      ]
     },
     "metadata": {},
     "output_type": "display_data"
    },
    {
     "data": {
      "application/vnd.jupyter.widget-view+json": {
       "model_id": "ced38780f0f14b1fba2cceca0ac20c84",
       "version_major": 2,
       "version_minor": 0
      },
      "text/plain": [
       "Processing T cells_Sgc-cbp30 samples:   0%|          | 0/969 [00:00<?, ?it/s]"
      ]
     },
     "metadata": {},
     "output_type": "display_data"
    },
    {
     "data": {
      "application/vnd.jupyter.widget-view+json": {
       "model_id": "e35dc4960728486b945eb7e9cbc9e4c2",
       "version_major": 2,
       "version_minor": 0
      },
      "text/plain": [
       "Processing NK cells_Sgc-cbp30 samples:   0%|          | 0/120 [00:00<?, ?it/s]"
      ]
     },
     "metadata": {},
     "output_type": "display_data"
    },
    {
     "data": {
      "application/vnd.jupyter.widget-view+json": {
       "model_id": "4a5a2bad047940a9958073753ee31fb1",
       "version_major": 2,
       "version_minor": 0
      },
      "text/plain": [
       "Processing B cells_Sgc-cbp30 samples:   0%|          | 0/267 [00:00<?, ?it/s]"
      ]
     },
     "metadata": {},
     "output_type": "display_data"
    },
    {
     "data": {
      "application/vnd.jupyter.widget-view+json": {
       "model_id": "0e0df0b99cfe4a738cececdba2c45470",
       "version_major": 2,
       "version_minor": 0
      },
      "text/plain": [
       "Processing Myeloid cells_Sgc-cbp30 samples:   0%|          | 0/306 [00:00<?, ?it/s]"
      ]
     },
     "metadata": {},
     "output_type": "display_data"
    },
    {
     "data": {
      "application/vnd.jupyter.widget-view+json": {
       "model_id": "e7a60128ec6d4aefa7d215e898666028",
       "version_major": 2,
       "version_minor": 0
      },
      "text/plain": [
       "Processing T cells_PF-04691502 samples:   0%|          | 0/747 [00:00<?, ?it/s]"
      ]
     },
     "metadata": {},
     "output_type": "display_data"
    },
    {
     "data": {
      "application/vnd.jupyter.widget-view+json": {
       "model_id": "8313e3a0d26d49e3947aa69e4f7cdf05",
       "version_major": 2,
       "version_minor": 0
      },
      "text/plain": [
       "Processing B cells_PF-04691502 samples:   0%|          | 0/177 [00:00<?, ?it/s]"
      ]
     },
     "metadata": {},
     "output_type": "display_data"
    },
    {
     "data": {
      "application/vnd.jupyter.widget-view+json": {
       "model_id": "48b0bba684d942d9ae76caff2179db2f",
       "version_major": 2,
       "version_minor": 0
      },
      "text/plain": [
       "Processing NK cells_PF-04691502 samples:   0%|          | 0/76 [00:00<?, ?it/s]"
      ]
     },
     "metadata": {},
     "output_type": "display_data"
    },
    {
     "data": {
      "application/vnd.jupyter.widget-view+json": {
       "model_id": "20e4b86978134e0e80341fbd03e70393",
       "version_major": 2,
       "version_minor": 0
      },
      "text/plain": [
       "Processing Myeloid cells_PF-04691502 samples:   0%|          | 0/46 [00:00<?, ?it/s]"
      ]
     },
     "metadata": {},
     "output_type": "display_data"
    },
    {
     "data": {
      "application/vnd.jupyter.widget-view+json": {
       "model_id": "04e89320820a495da0ee4db5077c105d",
       "version_major": 2,
       "version_minor": 0
      },
      "text/plain": [
       "Processing T cells_Dactolisib samples:   0%|          | 0/1056 [00:00<?, ?it/s]"
      ]
     },
     "metadata": {},
     "output_type": "display_data"
    },
    {
     "data": {
      "application/vnd.jupyter.widget-view+json": {
       "model_id": "befa0eb596aa4474b526c90a8f510bc3",
       "version_major": 2,
       "version_minor": 0
      },
      "text/plain": [
       "Processing B cells_Dactolisib samples:   0%|          | 0/209 [00:00<?, ?it/s]"
      ]
     },
     "metadata": {},
     "output_type": "display_data"
    },
    {
     "data": {
      "application/vnd.jupyter.widget-view+json": {
       "model_id": "cd0b97a6dbe6466e8e1ca9f3ea6268fc",
       "version_major": 2,
       "version_minor": 0
      },
      "text/plain": [
       "Processing NK cells_Dactolisib samples:   0%|          | 0/115 [00:00<?, ?it/s]"
      ]
     },
     "metadata": {},
     "output_type": "display_data"
    },
    {
     "data": {
      "application/vnd.jupyter.widget-view+json": {
       "model_id": "9801cf2ac2a84a4f96b937c0fdcb9bff",
       "version_major": 2,
       "version_minor": 0
      },
      "text/plain": [
       "Processing Myeloid cells_Dactolisib samples:   0%|          | 0/87 [00:00<?, ?it/s]"
      ]
     },
     "metadata": {},
     "output_type": "display_data"
    },
    {
     "data": {
      "application/vnd.jupyter.widget-view+json": {
       "model_id": "6ecf02d2a9474610910a2bfbb2f123e4",
       "version_major": 2,
       "version_minor": 0
      },
      "text/plain": [
       "Processing T cells_Alogliptin samples:   0%|          | 0/959 [00:00<?, ?it/s]"
      ]
     },
     "metadata": {},
     "output_type": "display_data"
    },
    {
     "data": {
      "application/vnd.jupyter.widget-view+json": {
       "model_id": "0d7c257c2d2b442384c9851f6b9baff3",
       "version_major": 2,
       "version_minor": 0
      },
      "text/plain": [
       "Processing Myeloid cells_Alogliptin samples:   0%|          | 0/259 [00:00<?, ?it/s]"
      ]
     },
     "metadata": {},
     "output_type": "display_data"
    },
    {
     "data": {
      "application/vnd.jupyter.widget-view+json": {
       "model_id": "04c364abec7a4e6695f5c32e91b34c9e",
       "version_major": 2,
       "version_minor": 0
      },
      "text/plain": [
       "Processing B cells_Alogliptin samples:   0%|          | 0/226 [00:00<?, ?it/s]"
      ]
     },
     "metadata": {},
     "output_type": "display_data"
    },
    {
     "data": {
      "application/vnd.jupyter.widget-view+json": {
       "model_id": "e6199d09e3764a568227e8b913baff6a",
       "version_major": 2,
       "version_minor": 0
      },
      "text/plain": [
       "Processing NK cells_Alogliptin samples:   0%|          | 0/122 [00:00<?, ?it/s]"
      ]
     },
     "metadata": {},
     "output_type": "display_data"
    },
    {
     "data": {
      "application/vnd.jupyter.widget-view+json": {
       "model_id": "e980b0d079f3487bb0b2d97838690cda",
       "version_major": 2,
       "version_minor": 0
      },
      "text/plain": [
       "Processing T cells_Clomipramine samples:   0%|          | 0/1047 [00:00<?, ?it/s]"
      ]
     },
     "metadata": {},
     "output_type": "display_data"
    },
    {
     "data": {
      "application/vnd.jupyter.widget-view+json": {
       "model_id": "80e482f181874224984b3fef5dee2242",
       "version_major": 2,
       "version_minor": 0
      },
      "text/plain": [
       "Processing B cells_Clomipramine samples:   0%|          | 0/236 [00:00<?, ?it/s]"
      ]
     },
     "metadata": {},
     "output_type": "display_data"
    },
    {
     "data": {
      "application/vnd.jupyter.widget-view+json": {
       "model_id": "f9eca3c9d62a40aa8063af1c328f1906",
       "version_major": 2,
       "version_minor": 0
      },
      "text/plain": [
       "Processing Myeloid cells_Clomipramine samples:   0%|          | 0/297 [00:00<?, ?it/s]"
      ]
     },
     "metadata": {},
     "output_type": "display_data"
    },
    {
     "data": {
      "application/vnd.jupyter.widget-view+json": {
       "model_id": "616a87c06fb24e03a6f7d88d67af0f70",
       "version_major": 2,
       "version_minor": 0
      },
      "text/plain": [
       "Processing NK cells_Clomipramine samples:   0%|          | 0/137 [00:00<?, ?it/s]"
      ]
     },
     "metadata": {},
     "output_type": "display_data"
    },
    {
     "data": {
      "application/vnd.jupyter.widget-view+json": {
       "model_id": "5c3665be49de4af980f72c6ee5bb711f",
       "version_major": 2,
       "version_minor": 0
      },
      "text/plain": [
       "Processing T cells_Protriptyline samples:   0%|          | 0/1046 [00:00<?, ?it/s]"
      ]
     },
     "metadata": {},
     "output_type": "display_data"
    },
    {
     "data": {
      "application/vnd.jupyter.widget-view+json": {
       "model_id": "3e3a67ea13284b628ac9100ac2539f51",
       "version_major": 2,
       "version_minor": 0
      },
      "text/plain": [
       "Processing Myeloid cells_Protriptyline samples:   0%|          | 0/268 [00:00<?, ?it/s]"
      ]
     },
     "metadata": {},
     "output_type": "display_data"
    },
    {
     "data": {
      "application/vnd.jupyter.widget-view+json": {
       "model_id": "59e8a144784d4c918b2a7ff9b3b3401c",
       "version_major": 2,
       "version_minor": 0
      },
      "text/plain": [
       "Processing B cells_Protriptyline samples:   0%|          | 0/220 [00:00<?, ?it/s]"
      ]
     },
     "metadata": {},
     "output_type": "display_data"
    },
    {
     "data": {
      "application/vnd.jupyter.widget-view+json": {
       "model_id": "952fd59a6344480cb5538f11cc554a3b",
       "version_major": 2,
       "version_minor": 0
      },
      "text/plain": [
       "Processing NK cells_Protriptyline samples:   0%|          | 0/124 [00:00<?, ?it/s]"
      ]
     },
     "metadata": {},
     "output_type": "display_data"
    },
    {
     "data": {
      "application/vnd.jupyter.widget-view+json": {
       "model_id": "62cbd07296fd4888aa649385ebd86883",
       "version_major": 2,
       "version_minor": 0
      },
      "text/plain": [
       "Processing T cells_Phenylbutazone samples:   0%|          | 0/1220 [00:00<?, ?it/s]"
      ]
     },
     "metadata": {},
     "output_type": "display_data"
    },
    {
     "data": {
      "application/vnd.jupyter.widget-view+json": {
       "model_id": "6501687a34d4422d9042700ead815ed3",
       "version_major": 2,
       "version_minor": 0
      },
      "text/plain": [
       "Processing B cells_Phenylbutazone samples:   0%|          | 0/313 [00:00<?, ?it/s]"
      ]
     },
     "metadata": {},
     "output_type": "display_data"
    },
    {
     "data": {
      "application/vnd.jupyter.widget-view+json": {
       "model_id": "ad8de082eac44dfaa89f19b8329e8906",
       "version_major": 2,
       "version_minor": 0
      },
      "text/plain": [
       "Processing Myeloid cells_Phenylbutazone samples:   0%|          | 0/321 [00:00<?, ?it/s]"
      ]
     },
     "metadata": {},
     "output_type": "display_data"
    },
    {
     "data": {
      "application/vnd.jupyter.widget-view+json": {
       "model_id": "99dd55df056a4b21bfd75d41d999a080",
       "version_major": 2,
       "version_minor": 0
      },
      "text/plain": [
       "Processing NK cells_Phenylbutazone samples:   0%|          | 0/128 [00:00<?, ?it/s]"
      ]
     },
     "metadata": {},
     "output_type": "display_data"
    },
    {
     "data": {
      "application/vnd.jupyter.widget-view+json": {
       "model_id": "b78b1f764dbd4aecba2c1c5b9dda1dce",
       "version_major": 2,
       "version_minor": 0
      },
      "text/plain": [
       "Processing T cells_Pomalidomide samples:   0%|          | 0/1183 [00:00<?, ?it/s]"
      ]
     },
     "metadata": {},
     "output_type": "display_data"
    },
    {
     "data": {
      "application/vnd.jupyter.widget-view+json": {
       "model_id": "fa55a70f4f6741f1acb7e8f3f56fb998",
       "version_major": 2,
       "version_minor": 0
      },
      "text/plain": [
       "Processing Myeloid cells_Pomalidomide samples:   0%|          | 0/340 [00:00<?, ?it/s]"
      ]
     },
     "metadata": {},
     "output_type": "display_data"
    },
    {
     "data": {
      "application/vnd.jupyter.widget-view+json": {
       "model_id": "a82a9c58a99b49e487f1be906cafb2e0",
       "version_major": 2,
       "version_minor": 0
      },
      "text/plain": [
       "Processing NK cells_Pomalidomide samples:   0%|          | 0/135 [00:00<?, ?it/s]"
      ]
     },
     "metadata": {},
     "output_type": "display_data"
    },
    {
     "data": {
      "application/vnd.jupyter.widget-view+json": {
       "model_id": "6fc1aa92551b42a4a9d08ee50a57abbd",
       "version_major": 2,
       "version_minor": 0
      },
      "text/plain": [
       "Processing B cells_Pomalidomide samples:   0%|          | 0/291 [00:00<?, ?it/s]"
      ]
     },
     "metadata": {},
     "output_type": "display_data"
    },
    {
     "data": {
      "application/vnd.jupyter.widget-view+json": {
       "model_id": "5716fe53469a428fba9e122344dc1786",
       "version_major": 2,
       "version_minor": 0
      },
      "text/plain": [
       "Processing T cells_FK 866 samples:   0%|          | 0/800 [00:00<?, ?it/s]"
      ]
     },
     "metadata": {},
     "output_type": "display_data"
    },
    {
     "data": {
      "application/vnd.jupyter.widget-view+json": {
       "model_id": "6c6fc4812d99460fa0ff11cfec64fac1",
       "version_major": 2,
       "version_minor": 0
      },
      "text/plain": [
       "Processing Myeloid cells_FK 866 samples:   0%|          | 0/195 [00:00<?, ?it/s]"
      ]
     },
     "metadata": {},
     "output_type": "display_data"
    },
    {
     "data": {
      "application/vnd.jupyter.widget-view+json": {
       "model_id": "1ec77193d03c42678b585779a11f4460",
       "version_major": 2,
       "version_minor": 0
      },
      "text/plain": [
       "Processing B cells_FK 866 samples:   0%|          | 0/228 [00:00<?, ?it/s]"
      ]
     },
     "metadata": {},
     "output_type": "display_data"
    },
    {
     "data": {
      "application/vnd.jupyter.widget-view+json": {
       "model_id": "b37ba5c1f2f04dd587ce5087dbbce4bc",
       "version_major": 2,
       "version_minor": 0
      },
      "text/plain": [
       "Processing NK cells_FK 866 samples:   0%|          | 0/100 [00:00<?, ?it/s]"
      ]
     },
     "metadata": {},
     "output_type": "display_data"
    },
    {
     "data": {
      "application/vnd.jupyter.widget-view+json": {
       "model_id": "07280459111b48be900de9b3bf40b6a8",
       "version_major": 2,
       "version_minor": 0
      },
      "text/plain": [
       "Processing T cells_Perhexiline samples:   0%|          | 0/915 [00:00<?, ?it/s]"
      ]
     },
     "metadata": {},
     "output_type": "display_data"
    },
    {
     "data": {
      "application/vnd.jupyter.widget-view+json": {
       "model_id": "3df3bb3a804747ce8353840274133fb7",
       "version_major": 2,
       "version_minor": 0
      },
      "text/plain": [
       "Processing B cells_Perhexiline samples:   0%|          | 0/226 [00:00<?, ?it/s]"
      ]
     },
     "metadata": {},
     "output_type": "display_data"
    },
    {
     "data": {
      "application/vnd.jupyter.widget-view+json": {
       "model_id": "9934fca8eea64ed3aa9713195af8d64e",
       "version_major": 2,
       "version_minor": 0
      },
      "text/plain": [
       "Processing Myeloid cells_Perhexiline samples:   0%|          | 0/60 [00:00<?, ?it/s]"
      ]
     },
     "metadata": {},
     "output_type": "display_data"
    },
    {
     "data": {
      "application/vnd.jupyter.widget-view+json": {
       "model_id": "2e69776257ff493c91f10e36eaf95221",
       "version_major": 2,
       "version_minor": 0
      },
      "text/plain": [
       "Processing NK cells_Perhexiline samples:   0%|          | 0/78 [00:00<?, ?it/s]"
      ]
     },
     "metadata": {},
     "output_type": "display_data"
    },
    {
     "data": {
      "application/vnd.jupyter.widget-view+json": {
       "model_id": "e16964ca7a9042c1848b1f71ab4b2a2c",
       "version_major": 2,
       "version_minor": 0
      },
      "text/plain": [
       "Processing NK cells_BMS-536924 samples:   0%|          | 0/119 [00:00<?, ?it/s]"
      ]
     },
     "metadata": {},
     "output_type": "display_data"
    },
    {
     "data": {
      "application/vnd.jupyter.widget-view+json": {
       "model_id": "fbb4dd7daf4646ca92c2bc57f8cb0d2d",
       "version_major": 2,
       "version_minor": 0
      },
      "text/plain": [
       "Processing T cells_BMS-536924 samples:   0%|          | 0/885 [00:00<?, ?it/s]"
      ]
     },
     "metadata": {},
     "output_type": "display_data"
    },
    {
     "data": {
      "application/vnd.jupyter.widget-view+json": {
       "model_id": "4282a3af76004e4c8c9c4bf700276eaa",
       "version_major": 2,
       "version_minor": 0
      },
      "text/plain": [
       "Processing B cells_BMS-536924 samples:   0%|          | 0/201 [00:00<?, ?it/s]"
      ]
     },
     "metadata": {},
     "output_type": "display_data"
    },
    {
     "data": {
      "application/vnd.jupyter.widget-view+json": {
       "model_id": "79dbf5a6d9f2420bbb466661683df122",
       "version_major": 2,
       "version_minor": 0
      },
      "text/plain": [
       "Processing Myeloid cells_BMS-536924 samples:   0%|          | 0/53 [00:00<?, ?it/s]"
      ]
     },
     "metadata": {},
     "output_type": "display_data"
    },
    {
     "data": {
      "application/vnd.jupyter.widget-view+json": {
       "model_id": "ff605bf3afc64ff9bdfce21471daa4aa",
       "version_major": 2,
       "version_minor": 0
      },
      "text/plain": [
       "Processing T cells_Penfluridol samples:   0%|          | 0/1082 [00:00<?, ?it/s]"
      ]
     },
     "metadata": {},
     "output_type": "display_data"
    },
    {
     "data": {
      "application/vnd.jupyter.widget-view+json": {
       "model_id": "9029fa5a104343eca7d886d0fc45c4e4",
       "version_major": 2,
       "version_minor": 0
      },
      "text/plain": [
       "Processing B cells_Penfluridol samples:   0%|          | 0/259 [00:00<?, ?it/s]"
      ]
     },
     "metadata": {},
     "output_type": "display_data"
    },
    {
     "data": {
      "application/vnd.jupyter.widget-view+json": {
       "model_id": "dc32b83c29b44db58ab5fe4dda8b9a42",
       "version_major": 2,
       "version_minor": 0
      },
      "text/plain": [
       "Processing Myeloid cells_Penfluridol samples:   0%|          | 0/291 [00:00<?, ?it/s]"
      ]
     },
     "metadata": {},
     "output_type": "display_data"
    },
    {
     "data": {
      "application/vnd.jupyter.widget-view+json": {
       "model_id": "b3ef9df5c92345f49999da096e465c11",
       "version_major": 2,
       "version_minor": 0
      },
      "text/plain": [
       "Processing NK cells_Penfluridol samples:   0%|          | 0/111 [00:00<?, ?it/s]"
      ]
     },
     "metadata": {},
     "output_type": "display_data"
    },
    {
     "data": {
      "application/vnd.jupyter.widget-view+json": {
       "model_id": "6239492a0cd74332b64bbd9f7b5ee241",
       "version_major": 2,
       "version_minor": 0
      },
      "text/plain": [
       "Processing T cells_Sunitinib samples:   0%|          | 0/924 [00:00<?, ?it/s]"
      ]
     },
     "metadata": {},
     "output_type": "display_data"
    },
    {
     "data": {
      "application/vnd.jupyter.widget-view+json": {
       "model_id": "6b859c51cac244faac686268615f9a77",
       "version_major": 2,
       "version_minor": 0
      },
      "text/plain": [
       "Processing Myeloid cells_Sunitinib samples:   0%|          | 0/198 [00:00<?, ?it/s]"
      ]
     },
     "metadata": {},
     "output_type": "display_data"
    },
    {
     "data": {
      "application/vnd.jupyter.widget-view+json": {
       "model_id": "d28c320d7fc34108902a6a4697d1fed0",
       "version_major": 2,
       "version_minor": 0
      },
      "text/plain": [
       "Processing B cells_Sunitinib samples:   0%|          | 0/242 [00:00<?, ?it/s]"
      ]
     },
     "metadata": {},
     "output_type": "display_data"
    },
    {
     "data": {
      "application/vnd.jupyter.widget-view+json": {
       "model_id": "b78a165e523b4fa186063d9cfeab3e32",
       "version_major": 2,
       "version_minor": 0
      },
      "text/plain": [
       "Processing NK cells_Sunitinib samples:   0%|          | 0/108 [00:00<?, ?it/s]"
      ]
     },
     "metadata": {},
     "output_type": "display_data"
    },
    {
     "data": {
      "application/vnd.jupyter.widget-view+json": {
       "model_id": "2fb31426f34c41bab7b77e7207f68b2c",
       "version_major": 2,
       "version_minor": 0
      },
      "text/plain": [
       "Processing T cells_I-BET151 samples:   0%|          | 0/824 [00:00<?, ?it/s]"
      ]
     },
     "metadata": {},
     "output_type": "display_data"
    },
    {
     "data": {
      "application/vnd.jupyter.widget-view+json": {
       "model_id": "5bfafd5659844a669d43c793cc849fa5",
       "version_major": 2,
       "version_minor": 0
      },
      "text/plain": [
       "Processing Myeloid cells_I-BET151 samples:   0%|          | 0/126 [00:00<?, ?it/s]"
      ]
     },
     "metadata": {},
     "output_type": "display_data"
    },
    {
     "data": {
      "application/vnd.jupyter.widget-view+json": {
       "model_id": "6a1d303fbcbb4a67b1a6a14b07dbce3e",
       "version_major": 2,
       "version_minor": 0
      },
      "text/plain": [
       "Processing B cells_I-BET151 samples:   0%|          | 0/173 [00:00<?, ?it/s]"
      ]
     },
     "metadata": {},
     "output_type": "display_data"
    },
    {
     "data": {
      "application/vnd.jupyter.widget-view+json": {
       "model_id": "291233ebc4b34059b9028b830f68768d",
       "version_major": 2,
       "version_minor": 0
      },
      "text/plain": [
       "Processing NK cells_I-BET151 samples:   0%|          | 0/83 [00:00<?, ?it/s]"
      ]
     },
     "metadata": {},
     "output_type": "display_data"
    },
    {
     "data": {
      "application/vnd.jupyter.widget-view+json": {
       "model_id": "d29a0da412744bd5837ecf129afd85fc",
       "version_major": 2,
       "version_minor": 0
      },
      "text/plain": [
       "Processing T cells_K-02288 samples:   0%|          | 0/1092 [00:00<?, ?it/s]"
      ]
     },
     "metadata": {},
     "output_type": "display_data"
    },
    {
     "data": {
      "application/vnd.jupyter.widget-view+json": {
       "model_id": "48bafdea2ee2464b910c99983716d472",
       "version_major": 2,
       "version_minor": 0
      },
      "text/plain": [
       "Processing Myeloid cells_K-02288 samples:   0%|          | 0/328 [00:00<?, ?it/s]"
      ]
     },
     "metadata": {},
     "output_type": "display_data"
    },
    {
     "data": {
      "application/vnd.jupyter.widget-view+json": {
       "model_id": "0d86c3a2e6214eb0b2a1cce0249288c8",
       "version_major": 2,
       "version_minor": 0
      },
      "text/plain": [
       "Processing B cells_K-02288 samples:   0%|          | 0/231 [00:00<?, ?it/s]"
      ]
     },
     "metadata": {},
     "output_type": "display_data"
    },
    {
     "data": {
      "application/vnd.jupyter.widget-view+json": {
       "model_id": "86439e3dfe6748f88bad597cb94a4822",
       "version_major": 2,
       "version_minor": 0
      },
      "text/plain": [
       "Processing NK cells_K-02288 samples:   0%|          | 0/126 [00:00<?, ?it/s]"
      ]
     },
     "metadata": {},
     "output_type": "display_data"
    },
    {
     "data": {
      "application/vnd.jupyter.widget-view+json": {
       "model_id": "b5a99d0118c048b4afc2db4a9d5c0ad9",
       "version_major": 2,
       "version_minor": 0
      },
      "text/plain": [
       "Processing T cells_Dovitinib samples:   0%|          | 0/986 [00:00<?, ?it/s]"
      ]
     },
     "metadata": {},
     "output_type": "display_data"
    },
    {
     "data": {
      "application/vnd.jupyter.widget-view+json": {
       "model_id": "afa938c0db1d4090a305a4e0d4ccd31e",
       "version_major": 2,
       "version_minor": 0
      },
      "text/plain": [
       "Processing B cells_Dovitinib samples:   0%|          | 0/261 [00:00<?, ?it/s]"
      ]
     },
     "metadata": {},
     "output_type": "display_data"
    },
    {
     "data": {
      "application/vnd.jupyter.widget-view+json": {
       "model_id": "c84ff3703e974c9fa94319832366883b",
       "version_major": 2,
       "version_minor": 0
      },
      "text/plain": [
       "Processing NK cells_Dovitinib samples:   0%|          | 0/93 [00:00<?, ?it/s]"
      ]
     },
     "metadata": {},
     "output_type": "display_data"
    },
    {
     "data": {
      "application/vnd.jupyter.widget-view+json": {
       "model_id": "df429125b7f34820948698a3ae0eabba",
       "version_major": 2,
       "version_minor": 0
      },
      "text/plain": [
       "Processing Myeloid cells_Dovitinib samples:   0%|          | 0/170 [00:00<?, ?it/s]"
      ]
     },
     "metadata": {},
     "output_type": "display_data"
    },
    {
     "data": {
      "application/vnd.jupyter.widget-view+json": {
       "model_id": "c286625bb7c143b2b462d0b84c0ffffb",
       "version_major": 2,
       "version_minor": 0
      },
      "text/plain": [
       "Processing NK cells_Chlorpheniramine samples:   0%|          | 0/127 [00:00<?, ?it/s]"
      ]
     },
     "metadata": {},
     "output_type": "display_data"
    },
    {
     "data": {
      "application/vnd.jupyter.widget-view+json": {
       "model_id": "ae601af79421460b97a36348789df1f0",
       "version_major": 2,
       "version_minor": 0
      },
      "text/plain": [
       "Processing Myeloid cells_Chlorpheniramine samples:   0%|          | 0/269 [00:00<?, ?it/s]"
      ]
     },
     "metadata": {},
     "output_type": "display_data"
    },
    {
     "data": {
      "application/vnd.jupyter.widget-view+json": {
       "model_id": "ae066b94534843bba886410eaeb6fbba",
       "version_major": 2,
       "version_minor": 0
      },
      "text/plain": [
       "Processing T cells_Chlorpheniramine samples:   0%|          | 0/1022 [00:00<?, ?it/s]"
      ]
     },
     "metadata": {},
     "output_type": "display_data"
    },
    {
     "data": {
      "application/vnd.jupyter.widget-view+json": {
       "model_id": "088e934cadcd4d0992842a83490f8e9c",
       "version_major": 2,
       "version_minor": 0
      },
      "text/plain": [
       "Processing B cells_Chlorpheniramine samples:   0%|          | 0/294 [00:00<?, ?it/s]"
      ]
     },
     "metadata": {},
     "output_type": "display_data"
    },
    {
     "data": {
      "application/vnd.jupyter.widget-view+json": {
       "model_id": "af3c3109327f4902835f27c4b4ec6a58",
       "version_major": 2,
       "version_minor": 0
      },
      "text/plain": [
       "Processing T cells_IKK Inhibitor VII samples:   0%|          | 0/806 [00:00<?, ?it/s]"
      ]
     },
     "metadata": {},
     "output_type": "display_data"
    },
    {
     "data": {
      "application/vnd.jupyter.widget-view+json": {
       "model_id": "367180839dd24a1287801633a6bd8bfa",
       "version_major": 2,
       "version_minor": 0
      },
      "text/plain": [
       "Processing B cells_IKK Inhibitor VII samples:   0%|          | 0/180 [00:00<?, ?it/s]"
      ]
     },
     "metadata": {},
     "output_type": "display_data"
    },
    {
     "data": {
      "application/vnd.jupyter.widget-view+json": {
       "model_id": "9f834ab64f3b40d9b6abc4ba1668e04d",
       "version_major": 2,
       "version_minor": 0
      },
      "text/plain": [
       "Processing NK cells_IKK Inhibitor VII samples:   0%|          | 0/86 [00:00<?, ?it/s]"
      ]
     },
     "metadata": {},
     "output_type": "display_data"
    },
    {
     "data": {
      "application/vnd.jupyter.widget-view+json": {
       "model_id": "6c827abfb8004588a45e8ce7b48c4721",
       "version_major": 2,
       "version_minor": 0
      },
      "text/plain": [
       "Processing Myeloid cells_IKK Inhibitor VII samples:   0%|          | 0/67 [00:00<?, ?it/s]"
      ]
     },
     "metadata": {},
     "output_type": "display_data"
    },
    {
     "data": {
      "application/vnd.jupyter.widget-view+json": {
       "model_id": "75ae7e48f43040e9b7b95b54220a2ff8",
       "version_major": 2,
       "version_minor": 0
      },
      "text/plain": [
       "Processing B cells_Quizartinib samples:   0%|          | 0/309 [00:00<?, ?it/s]"
      ]
     },
     "metadata": {},
     "output_type": "display_data"
    },
    {
     "data": {
      "application/vnd.jupyter.widget-view+json": {
       "model_id": "8bfdb50edcdd4122971bd77899e23256",
       "version_major": 2,
       "version_minor": 0
      },
      "text/plain": [
       "Processing Myeloid cells_Quizartinib samples:   0%|          | 0/271 [00:00<?, ?it/s]"
      ]
     },
     "metadata": {},
     "output_type": "display_data"
    },
    {
     "data": {
      "application/vnd.jupyter.widget-view+json": {
       "model_id": "ac21c97e56f64a88b1de762ade81df19",
       "version_major": 2,
       "version_minor": 0
      },
      "text/plain": [
       "Processing T cells_Quizartinib samples:   0%|          | 0/957 [00:00<?, ?it/s]"
      ]
     },
     "metadata": {},
     "output_type": "display_data"
    },
    {
     "data": {
      "application/vnd.jupyter.widget-view+json": {
       "model_id": "bdbd8a9635164d0ea3160307bb830fae",
       "version_major": 2,
       "version_minor": 0
      },
      "text/plain": [
       "Processing NK cells_Quizartinib samples:   0%|          | 0/113 [00:00<?, ?it/s]"
      ]
     },
     "metadata": {},
     "output_type": "display_data"
    },
    {
     "data": {
      "application/vnd.jupyter.widget-view+json": {
       "model_id": "8c4586ef09994ef7a991152256a87754",
       "version_major": 2,
       "version_minor": 0
      },
      "text/plain": [
       "Processing T cells_Tivozanib samples:   0%|          | 0/1154 [00:00<?, ?it/s]"
      ]
     },
     "metadata": {},
     "output_type": "display_data"
    },
    {
     "data": {
      "application/vnd.jupyter.widget-view+json": {
       "model_id": "110499f6b5924f7d8aec169be652f626",
       "version_major": 2,
       "version_minor": 0
      },
      "text/plain": [
       "Processing Myeloid cells_Tivozanib samples:   0%|          | 0/290 [00:00<?, ?it/s]"
      ]
     },
     "metadata": {},
     "output_type": "display_data"
    },
    {
     "data": {
      "application/vnd.jupyter.widget-view+json": {
       "model_id": "cc93d7590f784d938ce049fec3249aec",
       "version_major": 2,
       "version_minor": 0
      },
      "text/plain": [
       "Processing B cells_Tivozanib samples:   0%|          | 0/231 [00:00<?, ?it/s]"
      ]
     },
     "metadata": {},
     "output_type": "display_data"
    },
    {
     "data": {
      "application/vnd.jupyter.widget-view+json": {
       "model_id": "f600a0bf558e40068b5c460f91c5e6da",
       "version_major": 2,
       "version_minor": 0
      },
      "text/plain": [
       "Processing NK cells_Tivozanib samples:   0%|          | 0/123 [00:00<?, ?it/s]"
      ]
     },
     "metadata": {},
     "output_type": "display_data"
    },
    {
     "data": {
      "application/vnd.jupyter.widget-view+json": {
       "model_id": "dff21646222c46ca91796d055bee5d96",
       "version_major": 2,
       "version_minor": 0
      },
      "text/plain": [
       "Processing T cells_Foretinib samples:   0%|          | 0/989 [00:00<?, ?it/s]"
      ]
     },
     "metadata": {},
     "output_type": "display_data"
    },
    {
     "data": {
      "application/vnd.jupyter.widget-view+json": {
       "model_id": "c751669a9c4f45cfa3de6672ddd91917",
       "version_major": 2,
       "version_minor": 0
      },
      "text/plain": [
       "Processing NK cells_Foretinib samples:   0%|          | 0/93 [00:00<?, ?it/s]"
      ]
     },
     "metadata": {},
     "output_type": "display_data"
    },
    {
     "data": {
      "application/vnd.jupyter.widget-view+json": {
       "model_id": "3194b8a7f387411db118a4fdcbc97577",
       "version_major": 2,
       "version_minor": 0
      },
      "text/plain": [
       "Processing B cells_Foretinib samples:   0%|          | 0/247 [00:00<?, ?it/s]"
      ]
     },
     "metadata": {},
     "output_type": "display_data"
    },
    {
     "data": {
      "application/vnd.jupyter.widget-view+json": {
       "model_id": "966843f69bc34a86b3fd04c7e1425d59",
       "version_major": 2,
       "version_minor": 0
      },
      "text/plain": [
       "Processing Myeloid cells_Foretinib samples:   0%|          | 0/85 [00:00<?, ?it/s]"
      ]
     },
     "metadata": {},
     "output_type": "display_data"
    },
    {
     "data": {
      "application/vnd.jupyter.widget-view+json": {
       "model_id": "a6b1d12917e2458fb7f3a94a80ac4717",
       "version_major": 2,
       "version_minor": 0
      },
      "text/plain": [
       "Processing T cells_BMS-777607 samples:   0%|          | 0/1088 [00:00<?, ?it/s]"
      ]
     },
     "metadata": {},
     "output_type": "display_data"
    },
    {
     "data": {
      "application/vnd.jupyter.widget-view+json": {
       "model_id": "c2c9ffcb4108480cbd0a5f362ba09a74",
       "version_major": 2,
       "version_minor": 0
      },
      "text/plain": [
       "Processing Myeloid cells_BMS-777607 samples:   0%|          | 0/197 [00:00<?, ?it/s]"
      ]
     },
     "metadata": {},
     "output_type": "display_data"
    },
    {
     "data": {
      "application/vnd.jupyter.widget-view+json": {
       "model_id": "72d53bcaf1644f56afe19481ecd1939f",
       "version_major": 2,
       "version_minor": 0
      },
      "text/plain": [
       "Processing B cells_BMS-777607 samples:   0%|          | 0/272 [00:00<?, ?it/s]"
      ]
     },
     "metadata": {},
     "output_type": "display_data"
    },
    {
     "data": {
      "application/vnd.jupyter.widget-view+json": {
       "model_id": "f8dba4b14b674d628f15a27b1a1b2829",
       "version_major": 2,
       "version_minor": 0
      },
      "text/plain": [
       "Processing NK cells_BMS-777607 samples:   0%|          | 0/104 [00:00<?, ?it/s]"
      ]
     },
     "metadata": {},
     "output_type": "display_data"
    },
    {
     "data": {
      "application/vnd.jupyter.widget-view+json": {
       "model_id": "8048fc5c945f4416b70293deb77dcf85",
       "version_major": 2,
       "version_minor": 0
      },
      "text/plain": [
       "Processing T cells_AVL-292 samples:   0%|          | 0/1153 [00:00<?, ?it/s]"
      ]
     },
     "metadata": {},
     "output_type": "display_data"
    },
    {
     "data": {
      "application/vnd.jupyter.widget-view+json": {
       "model_id": "285870a11f30455d84357a7be894ad01",
       "version_major": 2,
       "version_minor": 0
      },
      "text/plain": [
       "Processing B cells_AVL-292 samples:   0%|          | 0/283 [00:00<?, ?it/s]"
      ]
     },
     "metadata": {},
     "output_type": "display_data"
    },
    {
     "data": {
      "application/vnd.jupyter.widget-view+json": {
       "model_id": "e2f8d9930c60433283f618f275fd8347",
       "version_major": 2,
       "version_minor": 0
      },
      "text/plain": [
       "Processing Myeloid cells_AVL-292 samples:   0%|          | 0/133 [00:00<?, ?it/s]"
      ]
     },
     "metadata": {},
     "output_type": "display_data"
    },
    {
     "data": {
      "application/vnd.jupyter.widget-view+json": {
       "model_id": "830f7e0bcd324cf18d270f0a9724e361",
       "version_major": 2,
       "version_minor": 0
      },
      "text/plain": [
       "Processing NK cells_AVL-292 samples:   0%|          | 0/131 [00:00<?, ?it/s]"
      ]
     },
     "metadata": {},
     "output_type": "display_data"
    },
    {
     "data": {
      "application/vnd.jupyter.widget-view+json": {
       "model_id": "1553f188fa5244419f35d4d1b95db49f",
       "version_major": 2,
       "version_minor": 0
      },
      "text/plain": [
       "Processing B cells_Scriptaid samples:   0%|          | 0/247 [00:00<?, ?it/s]"
      ]
     },
     "metadata": {},
     "output_type": "display_data"
    },
    {
     "data": {
      "application/vnd.jupyter.widget-view+json": {
       "model_id": "215b8fea1ffa48ff8bf5735446a3f152",
       "version_major": 2,
       "version_minor": 0
      },
      "text/plain": [
       "Processing Myeloid cells_Scriptaid samples:   0%|          | 0/102 [00:00<?, ?it/s]"
      ]
     },
     "metadata": {},
     "output_type": "display_data"
    },
    {
     "data": {
      "application/vnd.jupyter.widget-view+json": {
       "model_id": "50fae9f7c9e6465cad5274970371ac6d",
       "version_major": 2,
       "version_minor": 0
      },
      "text/plain": [
       "Processing T cells_Scriptaid samples:   0%|          | 0/1173 [00:00<?, ?it/s]"
      ]
     },
     "metadata": {},
     "output_type": "display_data"
    },
    {
     "data": {
      "application/vnd.jupyter.widget-view+json": {
       "model_id": "1e54047a18b644b2b6bd63e44b21cc04",
       "version_major": 2,
       "version_minor": 0
      },
      "text/plain": [
       "Processing NK cells_Scriptaid samples:   0%|          | 0/107 [00:00<?, ?it/s]"
      ]
     },
     "metadata": {},
     "output_type": "display_data"
    },
    {
     "data": {
      "application/vnd.jupyter.widget-view+json": {
       "model_id": "340748e5a9c6480b8945219ed86331f4",
       "version_major": 2,
       "version_minor": 0
      },
      "text/plain": [
       "Processing T cells_RVX-208 samples:   0%|          | 0/1036 [00:00<?, ?it/s]"
      ]
     },
     "metadata": {},
     "output_type": "display_data"
    },
    {
     "data": {
      "application/vnd.jupyter.widget-view+json": {
       "model_id": "468a5b81bbce4641b12c252b8b564f4e",
       "version_major": 2,
       "version_minor": 0
      },
      "text/plain": [
       "Processing NK cells_RVX-208 samples:   0%|          | 0/132 [00:00<?, ?it/s]"
      ]
     },
     "metadata": {},
     "output_type": "display_data"
    },
    {
     "data": {
      "application/vnd.jupyter.widget-view+json": {
       "model_id": "d58a2a4c364640ec93aaf0627d442817",
       "version_major": 2,
       "version_minor": 0
      },
      "text/plain": [
       "Processing Myeloid cells_RVX-208 samples:   0%|          | 0/234 [00:00<?, ?it/s]"
      ]
     },
     "metadata": {},
     "output_type": "display_data"
    },
    {
     "data": {
      "application/vnd.jupyter.widget-view+json": {
       "model_id": "4e260a518a1d4d29a57263edf9991496",
       "version_major": 2,
       "version_minor": 0
      },
      "text/plain": [
       "Processing B cells_RVX-208 samples:   0%|          | 0/242 [00:00<?, ?it/s]"
      ]
     },
     "metadata": {},
     "output_type": "display_data"
    },
    {
     "data": {
      "application/vnd.jupyter.widget-view+json": {
       "model_id": "d095282d1ddb41b18257fd52d9de118d",
       "version_major": 2,
       "version_minor": 0
      },
      "text/plain": [
       "Processing Myeloid cells_Amiodarone samples:   0%|          | 0/256 [00:00<?, ?it/s]"
      ]
     },
     "metadata": {},
     "output_type": "display_data"
    },
    {
     "data": {
      "application/vnd.jupyter.widget-view+json": {
       "model_id": "730edaf8b7514a1d8f139e6f993d1e62",
       "version_major": 2,
       "version_minor": 0
      },
      "text/plain": [
       "Processing B cells_Amiodarone samples:   0%|          | 0/255 [00:00<?, ?it/s]"
      ]
     },
     "metadata": {},
     "output_type": "display_data"
    },
    {
     "data": {
      "application/vnd.jupyter.widget-view+json": {
       "model_id": "ece2713828d34d5589c47aefbcd4bb97",
       "version_major": 2,
       "version_minor": 0
      },
      "text/plain": [
       "Processing T cells_Amiodarone samples:   0%|          | 0/998 [00:00<?, ?it/s]"
      ]
     },
     "metadata": {},
     "output_type": "display_data"
    },
    {
     "data": {
      "application/vnd.jupyter.widget-view+json": {
       "model_id": "9c7a565a078d4fa59e372be1b86c46bc",
       "version_major": 2,
       "version_minor": 0
      },
      "text/plain": [
       "Processing NK cells_Amiodarone samples:   0%|          | 0/112 [00:00<?, ?it/s]"
      ]
     },
     "metadata": {},
     "output_type": "display_data"
    },
    {
     "data": {
      "application/vnd.jupyter.widget-view+json": {
       "model_id": "bf1fbc8067574925aaa3a8fe38672c10",
       "version_major": 2,
       "version_minor": 0
      },
      "text/plain": [
       "Processing Myeloid cells_RN-486 samples:   0%|          | 0/221 [00:00<?, ?it/s]"
      ]
     },
     "metadata": {},
     "output_type": "display_data"
    },
    {
     "data": {
      "application/vnd.jupyter.widget-view+json": {
       "model_id": "3eede2cc318e4ae68936c807feff9c9a",
       "version_major": 2,
       "version_minor": 0
      },
      "text/plain": [
       "Processing T cells_RN-486 samples:   0%|          | 0/991 [00:00<?, ?it/s]"
      ]
     },
     "metadata": {},
     "output_type": "display_data"
    },
    {
     "data": {
      "application/vnd.jupyter.widget-view+json": {
       "model_id": "66a6a21aa91b4e7dbdcd597bb0b0c130",
       "version_major": 2,
       "version_minor": 0
      },
      "text/plain": [
       "Processing B cells_RN-486 samples:   0%|          | 0/226 [00:00<?, ?it/s]"
      ]
     },
     "metadata": {},
     "output_type": "display_data"
    },
    {
     "data": {
      "application/vnd.jupyter.widget-view+json": {
       "model_id": "5f958345a6ef487d9004f108f312735a",
       "version_major": 2,
       "version_minor": 0
      },
      "text/plain": [
       "Processing NK cells_RN-486 samples:   0%|          | 0/96 [00:00<?, ?it/s]"
      ]
     },
     "metadata": {},
     "output_type": "display_data"
    },
    {
     "data": {
      "application/vnd.jupyter.widget-view+json": {
       "model_id": "dba1181185c64decb1d1fe446fae4387",
       "version_major": 2,
       "version_minor": 0
      },
      "text/plain": [
       "Processing T cells_Tamatinib samples:   0%|          | 0/987 [00:00<?, ?it/s]"
      ]
     },
     "metadata": {},
     "output_type": "display_data"
    },
    {
     "data": {
      "application/vnd.jupyter.widget-view+json": {
       "model_id": "a20477e0cd06499e9bdb7b8ccb5c3c99",
       "version_major": 2,
       "version_minor": 0
      },
      "text/plain": [
       "Processing NK cells_Tamatinib samples:   0%|          | 0/102 [00:00<?, ?it/s]"
      ]
     },
     "metadata": {},
     "output_type": "display_data"
    },
    {
     "data": {
      "application/vnd.jupyter.widget-view+json": {
       "model_id": "6632a7eb1f67477e9fd0bd464c915762",
       "version_major": 2,
       "version_minor": 0
      },
      "text/plain": [
       "Processing Myeloid cells_Tamatinib samples:   0%|          | 0/45 [00:00<?, ?it/s]"
      ]
     },
     "metadata": {},
     "output_type": "display_data"
    },
    {
     "data": {
      "application/vnd.jupyter.widget-view+json": {
       "model_id": "e3ce69ffde714c8f9a91d4555a9764a2",
       "version_major": 2,
       "version_minor": 0
      },
      "text/plain": [
       "Processing B cells_Tamatinib samples:   0%|          | 0/247 [00:00<?, ?it/s]"
      ]
     },
     "metadata": {},
     "output_type": "display_data"
    },
    {
     "data": {
      "application/vnd.jupyter.widget-view+json": {
       "model_id": "36dfef20b4da49faba1ff0ede74924bf",
       "version_major": 2,
       "version_minor": 0
      },
      "text/plain": [
       "Processing NK cells_GW843682X samples:   0%|          | 0/110 [00:00<?, ?it/s]"
      ]
     },
     "metadata": {},
     "output_type": "display_data"
    },
    {
     "data": {
      "application/vnd.jupyter.widget-view+json": {
       "model_id": "86cc262d987f4bec875a25fb72836542",
       "version_major": 2,
       "version_minor": 0
      },
      "text/plain": [
       "Processing B cells_GW843682X samples:   0%|          | 0/282 [00:00<?, ?it/s]"
      ]
     },
     "metadata": {},
     "output_type": "display_data"
    },
    {
     "data": {
      "application/vnd.jupyter.widget-view+json": {
       "model_id": "2e824bbd5d0d43fb8c3b2c91cbee892e",
       "version_major": 2,
       "version_minor": 0
      },
      "text/plain": [
       "Processing T cells_GW843682X samples:   0%|          | 0/1093 [00:00<?, ?it/s]"
      ]
     },
     "metadata": {},
     "output_type": "display_data"
    },
    {
     "data": {
      "application/vnd.jupyter.widget-view+json": {
       "model_id": "6821b93f4ea140cd8b95bba58cdaddde",
       "version_major": 2,
       "version_minor": 0
      },
      "text/plain": [
       "Processing Myeloid cells_GW843682X samples:   0%|          | 0/299 [00:00<?, ?it/s]"
      ]
     },
     "metadata": {},
     "output_type": "display_data"
    },
    {
     "data": {
      "application/vnd.jupyter.widget-view+json": {
       "model_id": "d84381e489674d5890a20adf06c029e8",
       "version_major": 2,
       "version_minor": 0
      },
      "text/plain": [
       "Processing B cells_Porcn Inhibitor III samples:   0%|          | 0/282 [00:00<?, ?it/s]"
      ]
     },
     "metadata": {},
     "output_type": "display_data"
    },
    {
     "data": {
      "application/vnd.jupyter.widget-view+json": {
       "model_id": "ffd798c94c70466b874b6d716a84f003",
       "version_major": 2,
       "version_minor": 0
      },
      "text/plain": [
       "Processing T cells_Porcn Inhibitor III samples:   0%|          | 0/1176 [00:00<?, ?it/s]"
      ]
     },
     "metadata": {},
     "output_type": "display_data"
    },
    {
     "data": {
      "application/vnd.jupyter.widget-view+json": {
       "model_id": "0e830a8744784e47965de4de030c1e07",
       "version_major": 2,
       "version_minor": 0
      },
      "text/plain": [
       "Processing NK cells_Porcn Inhibitor III samples:   0%|          | 0/125 [00:00<?, ?it/s]"
      ]
     },
     "metadata": {},
     "output_type": "display_data"
    },
    {
     "data": {
      "application/vnd.jupyter.widget-view+json": {
       "model_id": "132d48801ca548d7b4949f30ea50c93f",
       "version_major": 2,
       "version_minor": 0
      },
      "text/plain": [
       "Processing Myeloid cells_Porcn Inhibitor III samples:   0%|          | 0/317 [00:00<?, ?it/s]"
      ]
     },
     "metadata": {},
     "output_type": "display_data"
    },
    {
     "data": {
      "application/vnd.jupyter.widget-view+json": {
       "model_id": "8ed12d8bfaa54e9ca7df07c015a27c4e",
       "version_major": 2,
       "version_minor": 0
      },
      "text/plain": [
       "Processing T cells_Navitoclax samples:   0%|          | 0/904 [00:00<?, ?it/s]"
      ]
     },
     "metadata": {},
     "output_type": "display_data"
    },
    {
     "data": {
      "application/vnd.jupyter.widget-view+json": {
       "model_id": "370b31f7ae404b30bcbeace5c3bfea83",
       "version_major": 2,
       "version_minor": 0
      },
      "text/plain": [
       "Processing NK cells_Navitoclax samples:   0%|          | 0/75 [00:00<?, ?it/s]"
      ]
     },
     "metadata": {},
     "output_type": "display_data"
    },
    {
     "data": {
      "application/vnd.jupyter.widget-view+json": {
       "model_id": "d5930f71b16c4d13b63579e997a575c2",
       "version_major": 2,
       "version_minor": 0
      },
      "text/plain": [
       "Processing B cells_Navitoclax samples:   0%|          | 0/50 [00:00<?, ?it/s]"
      ]
     },
     "metadata": {},
     "output_type": "display_data"
    },
    {
     "data": {
      "application/vnd.jupyter.widget-view+json": {
       "model_id": "d6520ccd229c405da9399625f5900670",
       "version_major": 2,
       "version_minor": 0
      },
      "text/plain": [
       "Processing Myeloid cells_Navitoclax samples:   0%|          | 0/265 [00:00<?, ?it/s]"
      ]
     },
     "metadata": {},
     "output_type": "display_data"
    },
    {
     "data": {
      "application/vnd.jupyter.widget-view+json": {
       "model_id": "4e39a205052141199f0f251832a0e13b",
       "version_major": 2,
       "version_minor": 0
      },
      "text/plain": [
       "Processing T cells_BAY 61-3606 samples:   0%|          | 0/870 [00:00<?, ?it/s]"
      ]
     },
     "metadata": {},
     "output_type": "display_data"
    },
    {
     "data": {
      "application/vnd.jupyter.widget-view+json": {
       "model_id": "3d23ab1d54774842b20ad57dabfcbd12",
       "version_major": 2,
       "version_minor": 0
      },
      "text/plain": [
       "Processing NK cells_BAY 61-3606 samples:   0%|          | 0/84 [00:00<?, ?it/s]"
      ]
     },
     "metadata": {},
     "output_type": "display_data"
    },
    {
     "data": {
      "application/vnd.jupyter.widget-view+json": {
       "model_id": "583347e826b6439393b21ffcdfbc6cf7",
       "version_major": 2,
       "version_minor": 0
      },
      "text/plain": [
       "Processing B cells_BAY 61-3606 samples:   0%|          | 0/203 [00:00<?, ?it/s]"
      ]
     },
     "metadata": {},
     "output_type": "display_data"
    },
    {
     "data": {
      "application/vnd.jupyter.widget-view+json": {
       "model_id": "f84fb8d79e1f4f17a8b9202d77e8e0ea",
       "version_major": 2,
       "version_minor": 0
      },
      "text/plain": [
       "Processing Myeloid cells_BAY 61-3606 samples:   0%|          | 0/177 [00:00<?, ?it/s]"
      ]
     },
     "metadata": {},
     "output_type": "display_data"
    },
    {
     "data": {
      "application/vnd.jupyter.widget-view+json": {
       "model_id": "3ee7c252340f42f8833a02ce82d5272a",
       "version_major": 2,
       "version_minor": 0
      },
      "text/plain": [
       "Processing T cells_Ketoconazole samples:   0%|          | 0/937 [00:00<?, ?it/s]"
      ]
     },
     "metadata": {},
     "output_type": "display_data"
    },
    {
     "data": {
      "application/vnd.jupyter.widget-view+json": {
       "model_id": "07dd2df074df4df49757f54a1700eee8",
       "version_major": 2,
       "version_minor": 0
      },
      "text/plain": [
       "Processing B cells_Ketoconazole samples:   0%|          | 0/237 [00:00<?, ?it/s]"
      ]
     },
     "metadata": {},
     "output_type": "display_data"
    },
    {
     "data": {
      "application/vnd.jupyter.widget-view+json": {
       "model_id": "7047d61b45a44c13b24f5a63a3f35129",
       "version_major": 2,
       "version_minor": 0
      },
      "text/plain": [
       "Processing Myeloid cells_Ketoconazole samples:   0%|          | 0/175 [00:00<?, ?it/s]"
      ]
     },
     "metadata": {},
     "output_type": "display_data"
    },
    {
     "data": {
      "application/vnd.jupyter.widget-view+json": {
       "model_id": "9e1c4615fd6f4c5eb2c6b92051ff4673",
       "version_major": 2,
       "version_minor": 0
      },
      "text/plain": [
       "Processing NK cells_Ketoconazole samples:   0%|          | 0/84 [00:00<?, ?it/s]"
      ]
     },
     "metadata": {},
     "output_type": "display_data"
    },
    {
     "data": {
      "application/vnd.jupyter.widget-view+json": {
       "model_id": "627303ab9bb546fdb2ebf8727613acc5",
       "version_major": 2,
       "version_minor": 0
      },
      "text/plain": [
       "Processing B cells_Isoniazid samples:   0%|          | 0/242 [00:00<?, ?it/s]"
      ]
     },
     "metadata": {},
     "output_type": "display_data"
    },
    {
     "data": {
      "application/vnd.jupyter.widget-view+json": {
       "model_id": "b997f90bebad453cbb172dc1a5914f41",
       "version_major": 2,
       "version_minor": 0
      },
      "text/plain": [
       "Processing Myeloid cells_Isoniazid samples:   0%|          | 0/216 [00:00<?, ?it/s]"
      ]
     },
     "metadata": {},
     "output_type": "display_data"
    },
    {
     "data": {
      "application/vnd.jupyter.widget-view+json": {
       "model_id": "cffe55735bbf49518828b95f8538530c",
       "version_major": 2,
       "version_minor": 0
      },
      "text/plain": [
       "Processing T cells_Isoniazid samples:   0%|          | 0/931 [00:00<?, ?it/s]"
      ]
     },
     "metadata": {},
     "output_type": "display_data"
    },
    {
     "data": {
      "application/vnd.jupyter.widget-view+json": {
       "model_id": "668beef2be2649428131a7ddda8e42f5",
       "version_major": 2,
       "version_minor": 0
      },
      "text/plain": [
       "Processing NK cells_Isoniazid samples:   0%|          | 0/93 [00:00<?, ?it/s]"
      ]
     },
     "metadata": {},
     "output_type": "display_data"
    },
    {
     "data": {
      "application/vnd.jupyter.widget-view+json": {
       "model_id": "a20ff125a1f94c13ac85fab2b9e3dce7",
       "version_major": 2,
       "version_minor": 0
      },
      "text/plain": [
       "Processing NK cells_PD-0325901 samples:   0%|          | 0/86 [00:00<?, ?it/s]"
      ]
     },
     "metadata": {},
     "output_type": "display_data"
    },
    {
     "data": {
      "application/vnd.jupyter.widget-view+json": {
       "model_id": "542c51efe62d494da65be041c6661d82",
       "version_major": 2,
       "version_minor": 0
      },
      "text/plain": [
       "Processing T cells_PD-0325901 samples:   0%|          | 0/1049 [00:00<?, ?it/s]"
      ]
     },
     "metadata": {},
     "output_type": "display_data"
    },
    {
     "data": {
      "application/vnd.jupyter.widget-view+json": {
       "model_id": "1e55da680ded4ba786d5d69168b7246e",
       "version_major": 2,
       "version_minor": 0
      },
      "text/plain": [
       "Processing B cells_PD-0325901 samples:   0%|          | 0/262 [00:00<?, ?it/s]"
      ]
     },
     "metadata": {},
     "output_type": "display_data"
    },
    {
     "data": {
      "application/vnd.jupyter.widget-view+json": {
       "model_id": "c1d17323df62412f84bff7da0e49c255",
       "version_major": 2,
       "version_minor": 0
      },
      "text/plain": [
       "Processing Myeloid cells_PD-0325901 samples:   0%|          | 0/109 [00:00<?, ?it/s]"
      ]
     },
     "metadata": {},
     "output_type": "display_data"
    },
    {
     "data": {
      "application/vnd.jupyter.widget-view+json": {
       "model_id": "6c4f2b92231f4e9d8bc663cabf0c2347",
       "version_major": 2,
       "version_minor": 0
      },
      "text/plain": [
       "Processing Myeloid cells_TIE2 Kinase Inhibitor samples:   0%|          | 0/308 [00:00<?, ?it/s]"
      ]
     },
     "metadata": {},
     "output_type": "display_data"
    },
    {
     "data": {
      "application/vnd.jupyter.widget-view+json": {
       "model_id": "8480c488135d464fb2c4ce1f6afe4535",
       "version_major": 2,
       "version_minor": 0
      },
      "text/plain": [
       "Processing B cells_TIE2 Kinase Inhibitor samples:   0%|          | 0/273 [00:00<?, ?it/s]"
      ]
     },
     "metadata": {},
     "output_type": "display_data"
    },
    {
     "data": {
      "application/vnd.jupyter.widget-view+json": {
       "model_id": "17d9e820faba454e83b08a3cf39a5b37",
       "version_major": 2,
       "version_minor": 0
      },
      "text/plain": [
       "Processing T cells_TIE2 Kinase Inhibitor samples:   0%|          | 0/1142 [00:00<?, ?it/s]"
      ]
     },
     "metadata": {},
     "output_type": "display_data"
    },
    {
     "data": {
      "application/vnd.jupyter.widget-view+json": {
       "model_id": "223a4974b2484f1c9a2b82f78e7f021e",
       "version_major": 2,
       "version_minor": 0
      },
      "text/plain": [
       "Processing NK cells_TIE2 Kinase Inhibitor samples:   0%|          | 0/133 [00:00<?, ?it/s]"
      ]
     },
     "metadata": {},
     "output_type": "display_data"
    },
    {
     "data": {
      "application/vnd.jupyter.widget-view+json": {
       "model_id": "522683f1e9234379a4a8952a5ac3bde4",
       "version_major": 2,
       "version_minor": 0
      },
      "text/plain": [
       "Processing Myeloid cells_TL_HRAS26 samples:   0%|          | 0/208 [00:00<?, ?it/s]"
      ]
     },
     "metadata": {},
     "output_type": "display_data"
    },
    {
     "data": {
      "application/vnd.jupyter.widget-view+json": {
       "model_id": "8b2da543daef4135aa349a03b81f9f09",
       "version_major": 2,
       "version_minor": 0
      },
      "text/plain": [
       "Processing T cells_TL_HRAS26 samples:   0%|          | 0/930 [00:00<?, ?it/s]"
      ]
     },
     "metadata": {},
     "output_type": "display_data"
    },
    {
     "data": {
      "application/vnd.jupyter.widget-view+json": {
       "model_id": "82384b99439d42429294d94c6fb28e10",
       "version_major": 2,
       "version_minor": 0
      },
      "text/plain": [
       "Processing B cells_TL_HRAS26 samples:   0%|          | 0/217 [00:00<?, ?it/s]"
      ]
     },
     "metadata": {},
     "output_type": "display_data"
    },
    {
     "data": {
      "application/vnd.jupyter.widget-view+json": {
       "model_id": "b80d6e0f0f6445c09e6ee6cd433671f0",
       "version_major": 2,
       "version_minor": 0
      },
      "text/plain": [
       "Processing NK cells_TL_HRAS26 samples:   0%|          | 0/131 [00:00<?, ?it/s]"
      ]
     },
     "metadata": {},
     "output_type": "display_data"
    },
    {
     "data": {
      "application/vnd.jupyter.widget-view+json": {
       "model_id": "77e3cff10a7b42be8609383c4cbb5f63",
       "version_major": 2,
       "version_minor": 0
      },
      "text/plain": [
       "Processing B cells_Methotrexate samples:   0%|          | 0/367 [00:00<?, ?it/s]"
      ]
     },
     "metadata": {},
     "output_type": "display_data"
    },
    {
     "data": {
      "application/vnd.jupyter.widget-view+json": {
       "model_id": "6e8d17d0974f4e9d905dfce2f045fa13",
       "version_major": 2,
       "version_minor": 0
      },
      "text/plain": [
       "Processing T cells_Methotrexate samples:   0%|          | 0/1331 [00:00<?, ?it/s]"
      ]
     },
     "metadata": {},
     "output_type": "display_data"
    },
    {
     "data": {
      "application/vnd.jupyter.widget-view+json": {
       "model_id": "310a482083e04d16847d833fe723e333",
       "version_major": 2,
       "version_minor": 0
      },
      "text/plain": [
       "Processing NK cells_Methotrexate samples:   0%|          | 0/157 [00:00<?, ?it/s]"
      ]
     },
     "metadata": {},
     "output_type": "display_data"
    },
    {
     "data": {
      "application/vnd.jupyter.widget-view+json": {
       "model_id": "d3eb966bdfe442568bcee47fd80a291e",
       "version_major": 2,
       "version_minor": 0
      },
      "text/plain": [
       "Processing Myeloid cells_Methotrexate samples:   0%|          | 0/423 [00:00<?, ?it/s]"
      ]
     },
     "metadata": {},
     "output_type": "display_data"
    },
    {
     "data": {
      "application/vnd.jupyter.widget-view+json": {
       "model_id": "06a8560083cc4c9aaef7c3412745cf9a",
       "version_major": 2,
       "version_minor": 0
      },
      "text/plain": [
       "Processing T cells_LY2090314 samples:   0%|          | 0/1127 [00:00<?, ?it/s]"
      ]
     },
     "metadata": {},
     "output_type": "display_data"
    },
    {
     "data": {
      "application/vnd.jupyter.widget-view+json": {
       "model_id": "623109ccfe974b6ba949101eb23e49a5",
       "version_major": 2,
       "version_minor": 0
      },
      "text/plain": [
       "Processing Myeloid cells_LY2090314 samples:   0%|          | 0/397 [00:00<?, ?it/s]"
      ]
     },
     "metadata": {},
     "output_type": "display_data"
    },
    {
     "data": {
      "application/vnd.jupyter.widget-view+json": {
       "model_id": "68b4bcb50cd44c549a3ad1e89b3eef8d",
       "version_major": 2,
       "version_minor": 0
      },
      "text/plain": [
       "Processing B cells_LY2090314 samples:   0%|          | 0/228 [00:00<?, ?it/s]"
      ]
     },
     "metadata": {},
     "output_type": "display_data"
    },
    {
     "data": {
      "application/vnd.jupyter.widget-view+json": {
       "model_id": "3780764323244cb1868e8eed227c5e01",
       "version_major": 2,
       "version_minor": 0
      },
      "text/plain": [
       "Processing NK cells_LY2090314 samples:   0%|          | 0/118 [00:00<?, ?it/s]"
      ]
     },
     "metadata": {},
     "output_type": "display_data"
    },
    {
     "data": {
      "application/vnd.jupyter.widget-view+json": {
       "model_id": "0d78804f59a44c26be022a0d79f1cde4",
       "version_major": 2,
       "version_minor": 0
      },
      "text/plain": [
       "Processing T cells_IMD-0354 samples:   0%|          | 0/889 [00:00<?, ?it/s]"
      ]
     },
     "metadata": {},
     "output_type": "display_data"
    },
    {
     "data": {
      "application/vnd.jupyter.widget-view+json": {
       "model_id": "37d56641a6c84a82a63264a50f8c9e11",
       "version_major": 2,
       "version_minor": 0
      },
      "text/plain": [
       "Processing Myeloid cells_IMD-0354 samples:   0%|          | 0/140 [00:00<?, ?it/s]"
      ]
     },
     "metadata": {},
     "output_type": "display_data"
    },
    {
     "data": {
      "application/vnd.jupyter.widget-view+json": {
       "model_id": "61bc21103de64adea9c4867f23817cbd",
       "version_major": 2,
       "version_minor": 0
      },
      "text/plain": [
       "Processing B cells_IMD-0354 samples:   0%|          | 0/132 [00:00<?, ?it/s]"
      ]
     },
     "metadata": {},
     "output_type": "display_data"
    },
    {
     "data": {
      "application/vnd.jupyter.widget-view+json": {
       "model_id": "481dbc86e6eb4bb388e2d99da0a4a052",
       "version_major": 2,
       "version_minor": 0
      },
      "text/plain": [
       "Processing NK cells_IMD-0354 samples:   0%|          | 0/65 [00:00<?, ?it/s]"
      ]
     },
     "metadata": {},
     "output_type": "display_data"
    },
    {
     "data": {
      "application/vnd.jupyter.widget-view+json": {
       "model_id": "ef5f22bd5a7648ae903308546256fdf8",
       "version_major": 2,
       "version_minor": 0
      },
      "text/plain": [
       "Processing T cells_MK-5108 samples:   0%|          | 0/1142 [00:00<?, ?it/s]"
      ]
     },
     "metadata": {},
     "output_type": "display_data"
    },
    {
     "data": {
      "application/vnd.jupyter.widget-view+json": {
       "model_id": "c8ea8dcc8014421ebb7b7c88e8581617",
       "version_major": 2,
       "version_minor": 0
      },
      "text/plain": [
       "Processing Myeloid cells_MK-5108 samples:   0%|          | 0/356 [00:00<?, ?it/s]"
      ]
     },
     "metadata": {},
     "output_type": "display_data"
    },
    {
     "data": {
      "application/vnd.jupyter.widget-view+json": {
       "model_id": "4e871c68636d42229ea4fd148ff2da37",
       "version_major": 2,
       "version_minor": 0
      },
      "text/plain": [
       "Processing NK cells_MK-5108 samples:   0%|          | 0/127 [00:00<?, ?it/s]"
      ]
     },
     "metadata": {},
     "output_type": "display_data"
    },
    {
     "data": {
      "application/vnd.jupyter.widget-view+json": {
       "model_id": "cdbbe5c6307a4567a6048495e91463d2",
       "version_major": 2,
       "version_minor": 0
      },
      "text/plain": [
       "Processing B cells_MK-5108 samples:   0%|          | 0/280 [00:00<?, ?it/s]"
      ]
     },
     "metadata": {},
     "output_type": "display_data"
    },
    {
     "data": {
      "application/vnd.jupyter.widget-view+json": {
       "model_id": "92f32430e5f145219c646f23689a0b2d",
       "version_major": 2,
       "version_minor": 0
      },
      "text/plain": [
       "Processing B cells_Ixabepilone samples:   0%|          | 0/276 [00:00<?, ?it/s]"
      ]
     },
     "metadata": {},
     "output_type": "display_data"
    },
    {
     "data": {
      "application/vnd.jupyter.widget-view+json": {
       "model_id": "0438b73c3de848c38c2c163a58f6cbb5",
       "version_major": 2,
       "version_minor": 0
      },
      "text/plain": [
       "Processing T cells_Ixabepilone samples:   0%|          | 0/1182 [00:00<?, ?it/s]"
      ]
     },
     "metadata": {},
     "output_type": "display_data"
    },
    {
     "data": {
      "application/vnd.jupyter.widget-view+json": {
       "model_id": "01453fab3c3d4758b730f0f8337dacb7",
       "version_major": 2,
       "version_minor": 0
      },
      "text/plain": [
       "Processing Myeloid cells_Ixabepilone samples:   0%|          | 0/255 [00:00<?, ?it/s]"
      ]
     },
     "metadata": {},
     "output_type": "display_data"
    },
    {
     "data": {
      "application/vnd.jupyter.widget-view+json": {
       "model_id": "1fd75ad30a834a6fa9424cea5ffbc9dc",
       "version_major": 2,
       "version_minor": 0
      },
      "text/plain": [
       "Processing NK cells_Ixabepilone samples:   0%|          | 0/117 [00:00<?, ?it/s]"
      ]
     },
     "metadata": {},
     "output_type": "display_data"
    },
    {
     "data": {
      "application/vnd.jupyter.widget-view+json": {
       "model_id": "72999d4571b24815b51bf4a9ec52e958",
       "version_major": 2,
       "version_minor": 0
      },
      "text/plain": [
       "Processing Myeloid cells_IN1451 samples:   0%|          | 0/158 [00:00<?, ?it/s]"
      ]
     },
     "metadata": {},
     "output_type": "display_data"
    },
    {
     "data": {
      "application/vnd.jupyter.widget-view+json": {
       "model_id": "817f960a667041e080e7158316ede1fd",
       "version_major": 2,
       "version_minor": 0
      },
      "text/plain": [
       "Processing T cells_IN1451 samples:   0%|          | 0/868 [00:00<?, ?it/s]"
      ]
     },
     "metadata": {},
     "output_type": "display_data"
    },
    {
     "data": {
      "application/vnd.jupyter.widget-view+json": {
       "model_id": "26a35f52c3be4c35bba6e4e6242e2cd3",
       "version_major": 2,
       "version_minor": 0
      },
      "text/plain": [
       "Processing B cells_IN1451 samples:   0%|          | 0/81 [00:00<?, ?it/s]"
      ]
     },
     "metadata": {},
     "output_type": "display_data"
    },
    {
     "data": {
      "application/vnd.jupyter.widget-view+json": {
       "model_id": "31d3631a50354b8d8407ec02b8d6f9d2",
       "version_major": 2,
       "version_minor": 0
      },
      "text/plain": [
       "Processing NK cells_IN1451 samples:   0%|          | 0/35 [00:00<?, ?it/s]"
      ]
     },
     "metadata": {},
     "output_type": "display_data"
    },
    {
     "data": {
      "application/vnd.jupyter.widget-view+json": {
       "model_id": "1b4b3d0b40cd4b50ab1ab16fe2a33578",
       "version_major": 2,
       "version_minor": 0
      },
      "text/plain": [
       "Processing B cells_Proscillaridin A;Proscillaridin-A samples:   0%|          | 0/371 [00:00<?, ?it/s]"
      ]
     },
     "metadata": {},
     "output_type": "display_data"
    },
    {
     "data": {
      "application/vnd.jupyter.widget-view+json": {
       "model_id": "c3d3fc08f520433198a754398d317147",
       "version_major": 2,
       "version_minor": 0
      },
      "text/plain": [
       "Processing NK cells_Proscillaridin A;Proscillaridin-A samples:   0%|          | 0/100 [00:00<?, ?it/s]"
      ]
     },
     "metadata": {},
     "output_type": "display_data"
    },
    {
     "data": {
      "application/vnd.jupyter.widget-view+json": {
       "model_id": "fc3ba4ed5bbb476b8781c0a40337de2b",
       "version_major": 2,
       "version_minor": 0
      },
      "text/plain": [
       "Processing T cells_Proscillaridin A;Proscillaridin-A samples:   0%|          | 0/1167 [00:00<?, ?it/s]"
      ]
     },
     "metadata": {},
     "output_type": "display_data"
    },
    {
     "data": {
      "application/vnd.jupyter.widget-view+json": {
       "model_id": "8bf93a23415b415f804c19551bcbe656",
       "version_major": 2,
       "version_minor": 0
      },
      "text/plain": [
       "Processing Myeloid cells_Proscillaridin A;Proscillaridin-A samples:   0%|          | 0/153 [00:00<?, ?it/s]"
      ]
     },
     "metadata": {},
     "output_type": "display_data"
    },
    {
     "data": {
      "application/vnd.jupyter.widget-view+json": {
       "model_id": "c1d20d0c640647b4837ce60cb6357934",
       "version_major": 2,
       "version_minor": 0
      },
      "text/plain": [
       "Processing T cells_Palbociclib samples:   0%|          | 0/970 [00:00<?, ?it/s]"
      ]
     },
     "metadata": {},
     "output_type": "display_data"
    },
    {
     "data": {
      "application/vnd.jupyter.widget-view+json": {
       "model_id": "0f12c3cb5f6a4f3c903dff08b1377345",
       "version_major": 2,
       "version_minor": 0
      },
      "text/plain": [
       "Processing Myeloid cells_Palbociclib samples:   0%|          | 0/230 [00:00<?, ?it/s]"
      ]
     },
     "metadata": {},
     "output_type": "display_data"
    },
    {
     "data": {
      "application/vnd.jupyter.widget-view+json": {
       "model_id": "c698e16c03f849e488941daac5d2ec5e",
       "version_major": 2,
       "version_minor": 0
      },
      "text/plain": [
       "Processing B cells_Palbociclib samples:   0%|          | 0/244 [00:00<?, ?it/s]"
      ]
     },
     "metadata": {},
     "output_type": "display_data"
    },
    {
     "data": {
      "application/vnd.jupyter.widget-view+json": {
       "model_id": "6811693c14c04aff98d859fa8042eca6",
       "version_major": 2,
       "version_minor": 0
      },
      "text/plain": [
       "Processing NK cells_Palbociclib samples:   0%|          | 0/129 [00:00<?, ?it/s]"
      ]
     },
     "metadata": {},
     "output_type": "display_data"
    },
    {
     "data": {
      "application/vnd.jupyter.widget-view+json": {
       "model_id": "d43ae8015d984321ab6230788a07368e",
       "version_major": 2,
       "version_minor": 0
      },
      "text/plain": [
       "Processing B cells_Vardenafil samples:   0%|          | 0/245 [00:00<?, ?it/s]"
      ]
     },
     "metadata": {},
     "output_type": "display_data"
    },
    {
     "data": {
      "application/vnd.jupyter.widget-view+json": {
       "model_id": "086ced638e32438ba47febcce517818f",
       "version_major": 2,
       "version_minor": 0
      },
      "text/plain": [
       "Processing T cells_Vardenafil samples:   0%|          | 0/946 [00:00<?, ?it/s]"
      ]
     },
     "metadata": {},
     "output_type": "display_data"
    },
    {
     "data": {
      "application/vnd.jupyter.widget-view+json": {
       "model_id": "d90ba8f7b3c94fc49b6f50c46c4afa61",
       "version_major": 2,
       "version_minor": 0
      },
      "text/plain": [
       "Processing Myeloid cells_Vardenafil samples:   0%|          | 0/266 [00:00<?, ?it/s]"
      ]
     },
     "metadata": {},
     "output_type": "display_data"
    },
    {
     "data": {
      "application/vnd.jupyter.widget-view+json": {
       "model_id": "6f8b33a6731249e8990c933ed2a674cc",
       "version_major": 2,
       "version_minor": 0
      },
      "text/plain": [
       "Processing NK cells_Vardenafil samples:   0%|          | 0/98 [00:00<?, ?it/s]"
      ]
     },
     "metadata": {},
     "output_type": "display_data"
    },
    {
     "data": {
      "application/vnd.jupyter.widget-view+json": {
       "model_id": "19c83afd2bea47518a96f2c3a7b1fed9",
       "version_major": 2,
       "version_minor": 0
      },
      "text/plain": [
       "Processing T cells_Disulfiram samples:   0%|          | 0/815 [00:00<?, ?it/s]"
      ]
     },
     "metadata": {},
     "output_type": "display_data"
    },
    {
     "data": {
      "application/vnd.jupyter.widget-view+json": {
       "model_id": "aab63a6fa1dc46b6b069a6d611174071",
       "version_major": 2,
       "version_minor": 0
      },
      "text/plain": [
       "Processing Myeloid cells_Disulfiram samples:   0%|          | 0/173 [00:00<?, ?it/s]"
      ]
     },
     "metadata": {},
     "output_type": "display_data"
    },
    {
     "data": {
      "application/vnd.jupyter.widget-view+json": {
       "model_id": "9df8a28e06324a0a87c6ebf65e083d69",
       "version_major": 2,
       "version_minor": 0
      },
      "text/plain": [
       "Processing B cells_Disulfiram samples:   0%|          | 0/190 [00:00<?, ?it/s]"
      ]
     },
     "metadata": {},
     "output_type": "display_data"
    },
    {
     "data": {
      "application/vnd.jupyter.widget-view+json": {
       "model_id": "4111713b3f3449fe826bffb5947fd7a4",
       "version_major": 2,
       "version_minor": 0
      },
      "text/plain": [
       "Processing NK cells_Disulfiram samples:   0%|          | 0/103 [00:00<?, ?it/s]"
      ]
     },
     "metadata": {},
     "output_type": "display_data"
    },
    {
     "data": {
      "application/vnd.jupyter.widget-view+json": {
       "model_id": "68f59949fcc5491fb15f62a49be8ca4c",
       "version_major": 2,
       "version_minor": 0
      },
      "text/plain": [
       "Processing Myeloid cells_Canertinib samples:   0%|          | 0/173 [00:00<?, ?it/s]"
      ]
     },
     "metadata": {},
     "output_type": "display_data"
    },
    {
     "data": {
      "application/vnd.jupyter.widget-view+json": {
       "model_id": "a7af679d7bb2413bb0b02d90df3e9f76",
       "version_major": 2,
       "version_minor": 0
      },
      "text/plain": [
       "Processing B cells_Canertinib samples:   0%|          | 0/306 [00:00<?, ?it/s]"
      ]
     },
     "metadata": {},
     "output_type": "display_data"
    },
    {
     "data": {
      "application/vnd.jupyter.widget-view+json": {
       "model_id": "6ce9acd1ce6449ad8ea1c6673ef20546",
       "version_major": 2,
       "version_minor": 0
      },
      "text/plain": [
       "Processing T cells_Canertinib samples:   0%|          | 0/1350 [00:00<?, ?it/s]"
      ]
     },
     "metadata": {},
     "output_type": "display_data"
    },
    {
     "data": {
      "application/vnd.jupyter.widget-view+json": {
       "model_id": "0b51d3c3e31e4425b46c7772d5752bc1",
       "version_major": 2,
       "version_minor": 0
      },
      "text/plain": [
       "Processing NK cells_Canertinib samples:   0%|          | 0/129 [00:00<?, ?it/s]"
      ]
     },
     "metadata": {},
     "output_type": "display_data"
    },
    {
     "data": {
      "application/vnd.jupyter.widget-view+json": {
       "model_id": "7c6efa2d2b5a47d3a578996b331aebfe",
       "version_major": 2,
       "version_minor": 0
      },
      "text/plain": [
       "Processing T cells_Lapatinib samples:   0%|          | 0/1260 [00:00<?, ?it/s]"
      ]
     },
     "metadata": {},
     "output_type": "display_data"
    },
    {
     "data": {
      "application/vnd.jupyter.widget-view+json": {
       "model_id": "d567d595f5124b0eb5526aa15f68ddd4",
       "version_major": 2,
       "version_minor": 0
      },
      "text/plain": [
       "Processing B cells_Lapatinib samples:   0%|          | 0/334 [00:00<?, ?it/s]"
      ]
     },
     "metadata": {},
     "output_type": "display_data"
    },
    {
     "data": {
      "application/vnd.jupyter.widget-view+json": {
       "model_id": "c46907670b984389af5f6bba6b8aaab6",
       "version_major": 2,
       "version_minor": 0
      },
      "text/plain": [
       "Processing Myeloid cells_Lapatinib samples:   0%|          | 0/358 [00:00<?, ?it/s]"
      ]
     },
     "metadata": {},
     "output_type": "display_data"
    },
    {
     "data": {
      "application/vnd.jupyter.widget-view+json": {
       "model_id": "fe78141ab75c49248a6792b67ae7db31",
       "version_major": 2,
       "version_minor": 0
      },
      "text/plain": [
       "Processing NK cells_Lapatinib samples:   0%|          | 0/139 [00:00<?, ?it/s]"
      ]
     },
     "metadata": {},
     "output_type": "display_data"
    },
    {
     "data": {
      "application/vnd.jupyter.widget-view+json": {
       "model_id": "42dde252c836404b977840d7ff035c39",
       "version_major": 2,
       "version_minor": 0
      },
      "text/plain": [
       "Processing B cells_Linagliptin samples:   0%|          | 0/221 [00:00<?, ?it/s]"
      ]
     },
     "metadata": {},
     "output_type": "display_data"
    },
    {
     "data": {
      "application/vnd.jupyter.widget-view+json": {
       "model_id": "84a44e7021b84f989c62b87238221356",
       "version_major": 2,
       "version_minor": 0
      },
      "text/plain": [
       "Processing T cells_Linagliptin samples:   0%|          | 0/1006 [00:00<?, ?it/s]"
      ]
     },
     "metadata": {},
     "output_type": "display_data"
    },
    {
     "data": {
      "application/vnd.jupyter.widget-view+json": {
       "model_id": "1fa399094f47447eaa433b2ebba159ee",
       "version_major": 2,
       "version_minor": 0
      },
      "text/plain": [
       "Processing Myeloid cells_Linagliptin samples:   0%|          | 0/228 [00:00<?, ?it/s]"
      ]
     },
     "metadata": {},
     "output_type": "display_data"
    },
    {
     "data": {
      "application/vnd.jupyter.widget-view+json": {
       "model_id": "ca84632bab4944a5ad10df7e74fdaf63",
       "version_major": 2,
       "version_minor": 0
      },
      "text/plain": [
       "Processing NK cells_Linagliptin samples:   0%|          | 0/145 [00:00<?, ?it/s]"
      ]
     },
     "metadata": {},
     "output_type": "display_data"
    },
    {
     "data": {
      "application/vnd.jupyter.widget-view+json": {
       "model_id": "761e012a67634d0c90ff51745b6b0213",
       "version_major": 2,
       "version_minor": 0
      },
      "text/plain": [
       "Processing Myeloid cells_Raloxifene samples:   0%|          | 0/222 [00:00<?, ?it/s]"
      ]
     },
     "metadata": {},
     "output_type": "display_data"
    },
    {
     "data": {
      "application/vnd.jupyter.widget-view+json": {
       "model_id": "dea26f0507464cf59e5a6df513d6e372",
       "version_major": 2,
       "version_minor": 0
      },
      "text/plain": [
       "Processing NK cells_Raloxifene samples:   0%|          | 0/108 [00:00<?, ?it/s]"
      ]
     },
     "metadata": {},
     "output_type": "display_data"
    },
    {
     "data": {
      "application/vnd.jupyter.widget-view+json": {
       "model_id": "f34e4457f7a24fc2a9cc0eff1d4cd474",
       "version_major": 2,
       "version_minor": 0
      },
      "text/plain": [
       "Processing B cells_Raloxifene samples:   0%|          | 0/234 [00:00<?, ?it/s]"
      ]
     },
     "metadata": {},
     "output_type": "display_data"
    },
    {
     "data": {
      "application/vnd.jupyter.widget-view+json": {
       "model_id": "2717614296e641ce8bd61d7c7f385c53",
       "version_major": 2,
       "version_minor": 0
      },
      "text/plain": [
       "Processing T cells_Raloxifene samples:   0%|          | 0/997 [00:00<?, ?it/s]"
      ]
     },
     "metadata": {},
     "output_type": "display_data"
    },
    {
     "data": {
      "application/vnd.jupyter.widget-view+json": {
       "model_id": "2b5d6174085d4f75a61d8dec88b09025",
       "version_major": 2,
       "version_minor": 0
      },
      "text/plain": [
       "Processing T cells_Vorinostat samples:   0%|          | 0/1087 [00:00<?, ?it/s]"
      ]
     },
     "metadata": {},
     "output_type": "display_data"
    },
    {
     "data": {
      "application/vnd.jupyter.widget-view+json": {
       "model_id": "717edc8bc59f42fc879ee38216cbea8e",
       "version_major": 2,
       "version_minor": 0
      },
      "text/plain": [
       "Processing B cells_Vorinostat samples:   0%|          | 0/227 [00:00<?, ?it/s]"
      ]
     },
     "metadata": {},
     "output_type": "display_data"
    },
    {
     "data": {
      "application/vnd.jupyter.widget-view+json": {
       "model_id": "bba6004fe4d6452288d0abc43dabf21e",
       "version_major": 2,
       "version_minor": 0
      },
      "text/plain": [
       "Processing Myeloid cells_Vorinostat samples:   0%|          | 0/108 [00:00<?, ?it/s]"
      ]
     },
     "metadata": {},
     "output_type": "display_data"
    },
    {
     "data": {
      "application/vnd.jupyter.widget-view+json": {
       "model_id": "06a01f8d8ce043f985f92b4bf418dbc9",
       "version_major": 2,
       "version_minor": 0
      },
      "text/plain": [
       "Processing NK cells_Vorinostat samples:   0%|          | 0/95 [00:00<?, ?it/s]"
      ]
     },
     "metadata": {},
     "output_type": "display_data"
    },
    {
     "data": {
      "application/vnd.jupyter.widget-view+json": {
       "model_id": "b3ff0b9bf1bb4cde9d3238dea2978cc6",
       "version_major": 2,
       "version_minor": 0
      },
      "text/plain": [
       "Processing T cells_Trametinib samples:   0%|          | 0/1071 [00:00<?, ?it/s]"
      ]
     },
     "metadata": {},
     "output_type": "display_data"
    },
    {
     "data": {
      "application/vnd.jupyter.widget-view+json": {
       "model_id": "b4534914dad94e87b1b4b752731dc5e9",
       "version_major": 2,
       "version_minor": 0
      },
      "text/plain": [
       "Processing B cells_Trametinib samples:   0%|          | 0/309 [00:00<?, ?it/s]"
      ]
     },
     "metadata": {},
     "output_type": "display_data"
    },
    {
     "data": {
      "application/vnd.jupyter.widget-view+json": {
       "model_id": "f1a4db66a4b84b2db7d8a3810c83ea81",
       "version_major": 2,
       "version_minor": 0
      },
      "text/plain": [
       "Processing NK cells_Trametinib samples:   0%|          | 0/116 [00:00<?, ?it/s]"
      ]
     },
     "metadata": {},
     "output_type": "display_data"
    },
    {
     "data": {
      "application/vnd.jupyter.widget-view+json": {
       "model_id": "9634725c60084a229c06fd00baa59684",
       "version_major": 2,
       "version_minor": 0
      },
      "text/plain": [
       "Processing Myeloid cells_Trametinib samples:   0%|          | 0/146 [00:00<?, ?it/s]"
      ]
     },
     "metadata": {},
     "output_type": "display_data"
    },
    {
     "data": {
      "application/vnd.jupyter.widget-view+json": {
       "model_id": "6306cbde820e415aa72832d5cc57447c",
       "version_major": 2,
       "version_minor": 0
      },
      "text/plain": [
       "Processing B cells_Dasatinib samples:   0%|          | 0/174 [00:00<?, ?it/s]"
      ]
     },
     "metadata": {},
     "output_type": "display_data"
    },
    {
     "data": {
      "application/vnd.jupyter.widget-view+json": {
       "model_id": "b4896e25e18a48c9ad9cdefb756bd993",
       "version_major": 2,
       "version_minor": 0
      },
      "text/plain": [
       "Processing T cells_Dasatinib samples:   0%|          | 0/780 [00:00<?, ?it/s]"
      ]
     },
     "metadata": {},
     "output_type": "display_data"
    },
    {
     "data": {
      "application/vnd.jupyter.widget-view+json": {
       "model_id": "ab67296c7da84f94ac2f8868bd68fb6a",
       "version_major": 2,
       "version_minor": 0
      },
      "text/plain": [
       "Processing Myeloid cells_Dasatinib samples:   0%|          | 0/47 [00:00<?, ?it/s]"
      ]
     },
     "metadata": {},
     "output_type": "display_data"
    },
    {
     "data": {
      "application/vnd.jupyter.widget-view+json": {
       "model_id": "4ef372946b554443a8cd26746ae8f46a",
       "version_major": 2,
       "version_minor": 0
      },
      "text/plain": [
       "Processing NK cells_Dasatinib samples:   0%|          | 0/63 [00:00<?, ?it/s]"
      ]
     },
     "metadata": {},
     "output_type": "display_data"
    },
    {
     "data": {
      "application/vnd.jupyter.widget-view+json": {
       "model_id": "ebe61408bfe74ae5994ce13108326332",
       "version_major": 2,
       "version_minor": 0
      },
      "text/plain": [
       "Processing T cells_Flutamide samples:   0%|          | 0/723 [00:00<?, ?it/s]"
      ]
     },
     "metadata": {},
     "output_type": "display_data"
    },
    {
     "data": {
      "application/vnd.jupyter.widget-view+json": {
       "model_id": "f879a87b69ff46e5af9d39c07f2f4e52",
       "version_major": 2,
       "version_minor": 0
      },
      "text/plain": [
       "Processing Myeloid cells_Flutamide samples:   0%|          | 0/210 [00:00<?, ?it/s]"
      ]
     },
     "metadata": {},
     "output_type": "display_data"
    },
    {
     "data": {
      "application/vnd.jupyter.widget-view+json": {
       "model_id": "3a1f5bcee9cf42e8a6d575cadef534ce",
       "version_major": 2,
       "version_minor": 0
      },
      "text/plain": [
       "Processing B cells_Flutamide samples:   0%|          | 0/215 [00:00<?, ?it/s]"
      ]
     },
     "metadata": {},
     "output_type": "display_data"
    },
    {
     "data": {
      "application/vnd.jupyter.widget-view+json": {
       "model_id": "396293976575428d8ced51af1c7adc71",
       "version_major": 2,
       "version_minor": 0
      },
      "text/plain": [
       "Processing NK cells_Flutamide samples:   0%|          | 0/77 [00:00<?, ?it/s]"
      ]
     },
     "metadata": {},
     "output_type": "display_data"
    },
    {
     "data": {
      "application/vnd.jupyter.widget-view+json": {
       "model_id": "0801a87d5b4e44cc9d6ddb60ffbcd9ee",
       "version_major": 2,
       "version_minor": 0
      },
      "text/plain": [
       "Processing T cells_Idelalisib samples:   0%|          | 0/999 [00:00<?, ?it/s]"
      ]
     },
     "metadata": {},
     "output_type": "display_data"
    },
    {
     "data": {
      "application/vnd.jupyter.widget-view+json": {
       "model_id": "f2920c9629bd430a9062cea9603ae0d0",
       "version_major": 2,
       "version_minor": 0
      },
      "text/plain": [
       "Processing Myeloid cells_Idelalisib samples:   0%|          | 0/129 [00:00<?, ?it/s]"
      ]
     },
     "metadata": {},
     "output_type": "display_data"
    },
    {
     "data": {
      "application/vnd.jupyter.widget-view+json": {
       "model_id": "1b6cc464c87a4f269e43c21e0372c438",
       "version_major": 2,
       "version_minor": 0
      },
      "text/plain": [
       "Processing B cells_Idelalisib samples:   0%|          | 0/240 [00:00<?, ?it/s]"
      ]
     },
     "metadata": {},
     "output_type": "display_data"
    },
    {
     "data": {
      "application/vnd.jupyter.widget-view+json": {
       "model_id": "78053c8378464614a4706d3c4910f3e8",
       "version_major": 2,
       "version_minor": 0
      },
      "text/plain": [
       "Processing NK cells_Idelalisib samples:   0%|          | 0/98 [00:00<?, ?it/s]"
      ]
     },
     "metadata": {},
     "output_type": "display_data"
    },
    {
     "data": {
      "application/vnd.jupyter.widget-view+json": {
       "model_id": "ff2b794fbeb14c429cb844a05c783e9e",
       "version_major": 2,
       "version_minor": 0
      },
      "text/plain": [
       "Processing T cells_Riociguat samples:   0%|          | 0/1198 [00:00<?, ?it/s]"
      ]
     },
     "metadata": {},
     "output_type": "display_data"
    },
    {
     "data": {
      "application/vnd.jupyter.widget-view+json": {
       "model_id": "dcea8d8542f44a969f3fbe3a792598c7",
       "version_major": 2,
       "version_minor": 0
      },
      "text/plain": [
       "Processing B cells_Riociguat samples:   0%|          | 0/256 [00:00<?, ?it/s]"
      ]
     },
     "metadata": {},
     "output_type": "display_data"
    },
    {
     "data": {
      "application/vnd.jupyter.widget-view+json": {
       "model_id": "2fc40508cdb8412388817df8cf7c3a8c",
       "version_major": 2,
       "version_minor": 0
      },
      "text/plain": [
       "Processing NK cells_Riociguat samples:   0%|          | 0/125 [00:00<?, ?it/s]"
      ]
     },
     "metadata": {},
     "output_type": "display_data"
    },
    {
     "data": {
      "application/vnd.jupyter.widget-view+json": {
       "model_id": "082610a8c67045c3ae6f93e43dea5770",
       "version_major": 2,
       "version_minor": 0
      },
      "text/plain": [
       "Processing Myeloid cells_Riociguat samples:   0%|          | 0/278 [00:00<?, ?it/s]"
      ]
     },
     "metadata": {},
     "output_type": "display_data"
    },
    {
     "data": {
      "application/vnd.jupyter.widget-view+json": {
       "model_id": "2ad4e03a063d47d9959cb5d5787429ff",
       "version_major": 2,
       "version_minor": 0
      },
      "text/plain": [
       "Processing B cells_Azacitidine samples:   0%|          | 0/269 [00:00<?, ?it/s]"
      ]
     },
     "metadata": {},
     "output_type": "display_data"
    },
    {
     "data": {
      "application/vnd.jupyter.widget-view+json": {
       "model_id": "440a0df7ab1c4d3a8a935ac1a3386a0c",
       "version_major": 2,
       "version_minor": 0
      },
      "text/plain": [
       "Processing T cells_Azacitidine samples:   0%|          | 0/1053 [00:00<?, ?it/s]"
      ]
     },
     "metadata": {},
     "output_type": "display_data"
    },
    {
     "data": {
      "application/vnd.jupyter.widget-view+json": {
       "model_id": "bb1221d33be74bb6b463484749350c05",
       "version_major": 2,
       "version_minor": 0
      },
      "text/plain": [
       "Processing Myeloid cells_Azacitidine samples:   0%|          | 0/327 [00:00<?, ?it/s]"
      ]
     },
     "metadata": {},
     "output_type": "display_data"
    },
    {
     "data": {
      "application/vnd.jupyter.widget-view+json": {
       "model_id": "09d68966d7ae45df8cbd089e2814a3ef",
       "version_major": 2,
       "version_minor": 0
      },
      "text/plain": [
       "Processing NK cells_Azacitidine samples:   0%|          | 0/117 [00:00<?, ?it/s]"
      ]
     },
     "metadata": {},
     "output_type": "display_data"
    },
    {
     "data": {
      "application/vnd.jupyter.widget-view+json": {
       "model_id": "251b6f4f636d47459391b20ae4f06224",
       "version_major": 2,
       "version_minor": 0
      },
      "text/plain": [
       "Processing T cells_TGX 221 samples:   0%|          | 0/1011 [00:00<?, ?it/s]"
      ]
     },
     "metadata": {},
     "output_type": "display_data"
    },
    {
     "data": {
      "application/vnd.jupyter.widget-view+json": {
       "model_id": "d6ec9ba6bdb143d7aee710f4f5ab427c",
       "version_major": 2,
       "version_minor": 0
      },
      "text/plain": [
       "Processing Myeloid cells_TGX 221 samples:   0%|          | 0/204 [00:00<?, ?it/s]"
      ]
     },
     "metadata": {},
     "output_type": "display_data"
    },
    {
     "data": {
      "application/vnd.jupyter.widget-view+json": {
       "model_id": "2914404a61cc46ec92fc67f26586da23",
       "version_major": 2,
       "version_minor": 0
      },
      "text/plain": [
       "Processing B cells_TGX 221 samples:   0%|          | 0/269 [00:00<?, ?it/s]"
      ]
     },
     "metadata": {},
     "output_type": "display_data"
    },
    {
     "data": {
      "application/vnd.jupyter.widget-view+json": {
       "model_id": "30fa6ebb731f498ca1211e73074a1959",
       "version_major": 2,
       "version_minor": 0
      },
      "text/plain": [
       "Processing NK cells_TGX 221 samples:   0%|          | 0/105 [00:00<?, ?it/s]"
      ]
     },
     "metadata": {},
     "output_type": "display_data"
    },
    {
     "data": {
      "application/vnd.jupyter.widget-view+json": {
       "model_id": "7200948ca8934ed3baf59c94dc610e69",
       "version_major": 2,
       "version_minor": 0
      },
      "text/plain": [
       "Processing B cells_CGM-097 samples:   0%|          | 0/243 [00:00<?, ?it/s]"
      ]
     },
     "metadata": {},
     "output_type": "display_data"
    },
    {
     "data": {
      "application/vnd.jupyter.widget-view+json": {
       "model_id": "28b2df77f1c24f9db1d9985f86897236",
       "version_major": 2,
       "version_minor": 0
      },
      "text/plain": [
       "Processing T cells_CGM-097 samples:   0%|          | 0/870 [00:00<?, ?it/s]"
      ]
     },
     "metadata": {},
     "output_type": "display_data"
    },
    {
     "data": {
      "application/vnd.jupyter.widget-view+json": {
       "model_id": "4252c9737a554591b5e72161c1eb78c2",
       "version_major": 2,
       "version_minor": 0
      },
      "text/plain": [
       "Processing Myeloid cells_CGM-097 samples:   0%|          | 0/240 [00:00<?, ?it/s]"
      ]
     },
     "metadata": {},
     "output_type": "display_data"
    },
    {
     "data": {
      "application/vnd.jupyter.widget-view+json": {
       "model_id": "b9a070dcc7064c439417e68aa34b3fc8",
       "version_major": 2,
       "version_minor": 0
      },
      "text/plain": [
       "Processing NK cells_CGM-097 samples:   0%|          | 0/84 [00:00<?, ?it/s]"
      ]
     },
     "metadata": {},
     "output_type": "display_data"
    },
    {
     "data": {
      "application/vnd.jupyter.widget-view+json": {
       "model_id": "34d25073d85347cdb265c6c2014c98f0",
       "version_major": 2,
       "version_minor": 0
      },
      "text/plain": [
       "Processing NK cells_Clemastine samples:   0%|          | 0/134 [00:00<?, ?it/s]"
      ]
     },
     "metadata": {},
     "output_type": "display_data"
    },
    {
     "data": {
      "application/vnd.jupyter.widget-view+json": {
       "model_id": "0034227a6a08460da72cc671c1fd84d7",
       "version_major": 2,
       "version_minor": 0
      },
      "text/plain": [
       "Processing Myeloid cells_Clemastine samples:   0%|          | 0/318 [00:00<?, ?it/s]"
      ]
     },
     "metadata": {},
     "output_type": "display_data"
    },
    {
     "data": {
      "application/vnd.jupyter.widget-view+json": {
       "model_id": "8a07c06f07964e6995d84e423e600a65",
       "version_major": 2,
       "version_minor": 0
      },
      "text/plain": [
       "Processing T cells_Clemastine samples:   0%|          | 0/977 [00:00<?, ?it/s]"
      ]
     },
     "metadata": {},
     "output_type": "display_data"
    },
    {
     "data": {
      "application/vnd.jupyter.widget-view+json": {
       "model_id": "96104d972b8646bc815fe66183468b70",
       "version_major": 2,
       "version_minor": 0
      },
      "text/plain": [
       "Processing B cells_Clemastine samples:   0%|          | 0/324 [00:00<?, ?it/s]"
      ]
     },
     "metadata": {},
     "output_type": "display_data"
    },
    {
     "data": {
      "application/vnd.jupyter.widget-view+json": {
       "model_id": "fe957d0c4dbb44fd95bab33e205f499f",
       "version_major": 2,
       "version_minor": 0
      },
      "text/plain": [
       "Processing B cells_Imatinib samples:   0%|          | 0/252 [00:00<?, ?it/s]"
      ]
     },
     "metadata": {},
     "output_type": "display_data"
    },
    {
     "data": {
      "application/vnd.jupyter.widget-view+json": {
       "model_id": "83593a8faba34cb0a7094e30ce24b958",
       "version_major": 2,
       "version_minor": 0
      },
      "text/plain": [
       "Processing NK cells_Imatinib samples:   0%|          | 0/83 [00:00<?, ?it/s]"
      ]
     },
     "metadata": {},
     "output_type": "display_data"
    },
    {
     "data": {
      "application/vnd.jupyter.widget-view+json": {
       "model_id": "f5f6ef2b7c9e487085bb28e4cbf847c0",
       "version_major": 2,
       "version_minor": 0
      },
      "text/plain": [
       "Processing T cells_Imatinib samples:   0%|          | 0/904 [00:00<?, ?it/s]"
      ]
     },
     "metadata": {},
     "output_type": "display_data"
    },
    {
     "data": {
      "application/vnd.jupyter.widget-view+json": {
       "model_id": "02847fac5a3d4153a5d77d4ff11b4d41",
       "version_major": 2,
       "version_minor": 0
      },
      "text/plain": [
       "Processing Myeloid cells_Imatinib samples:   0%|          | 0/257 [00:00<?, ?it/s]"
      ]
     },
     "metadata": {},
     "output_type": "display_data"
    },
    {
     "data": {
      "application/vnd.jupyter.widget-view+json": {
       "model_id": "0a17facd9ea243bda65648e415aee217",
       "version_major": 2,
       "version_minor": 0
      },
      "text/plain": [
       "Processing Myeloid cells_Tipifarnib samples:   0%|          | 0/312 [00:00<?, ?it/s]"
      ]
     },
     "metadata": {},
     "output_type": "display_data"
    },
    {
     "data": {
      "application/vnd.jupyter.widget-view+json": {
       "model_id": "9b7317106c9c4a01917a3334918a7cbe",
       "version_major": 2,
       "version_minor": 0
      },
      "text/plain": [
       "Processing T cells_Tipifarnib samples:   0%|          | 0/892 [00:00<?, ?it/s]"
      ]
     },
     "metadata": {},
     "output_type": "display_data"
    },
    {
     "data": {
      "application/vnd.jupyter.widget-view+json": {
       "model_id": "05ab56e2bcab49d78995fbc4bda542c8",
       "version_major": 2,
       "version_minor": 0
      },
      "text/plain": [
       "Processing B cells_Tipifarnib samples:   0%|          | 0/235 [00:00<?, ?it/s]"
      ]
     },
     "metadata": {},
     "output_type": "display_data"
    },
    {
     "data": {
      "application/vnd.jupyter.widget-view+json": {
       "model_id": "4842169892cc47cfa7185dbc43f85d6e",
       "version_major": 2,
       "version_minor": 0
      },
      "text/plain": [
       "Processing NK cells_Tipifarnib samples:   0%|          | 0/113 [00:00<?, ?it/s]"
      ]
     },
     "metadata": {},
     "output_type": "display_data"
    },
    {
     "data": {
      "application/vnd.jupyter.widget-view+json": {
       "model_id": "6c174a5945554f4c9d08165ff0f3113b",
       "version_major": 2,
       "version_minor": 0
      },
      "text/plain": [
       "Processing T cells_RG7090 samples:   0%|          | 0/1130 [00:00<?, ?it/s]"
      ]
     },
     "metadata": {},
     "output_type": "display_data"
    },
    {
     "data": {
      "application/vnd.jupyter.widget-view+json": {
       "model_id": "2c6b8e01af1e4d8880cf59ae7362ad40",
       "version_major": 2,
       "version_minor": 0
      },
      "text/plain": [
       "Processing Myeloid cells_RG7090 samples:   0%|          | 0/296 [00:00<?, ?it/s]"
      ]
     },
     "metadata": {},
     "output_type": "display_data"
    },
    {
     "data": {
      "application/vnd.jupyter.widget-view+json": {
       "model_id": "9dbe9bb957db46669d618dd5580dd03a",
       "version_major": 2,
       "version_minor": 0
      },
      "text/plain": [
       "Processing B cells_RG7090 samples:   0%|          | 0/268 [00:00<?, ?it/s]"
      ]
     },
     "metadata": {},
     "output_type": "display_data"
    },
    {
     "data": {
      "application/vnd.jupyter.widget-view+json": {
       "model_id": "6b06eded79514912919eed4b84d8167e",
       "version_major": 2,
       "version_minor": 0
      },
      "text/plain": [
       "Processing NK cells_RG7090 samples:   0%|          | 0/102 [00:00<?, ?it/s]"
      ]
     },
     "metadata": {},
     "output_type": "display_data"
    },
    {
     "data": {
      "application/vnd.jupyter.widget-view+json": {
       "model_id": "2a9e37e038634bd689682efcf7b8d24e",
       "version_major": 2,
       "version_minor": 0
      },
      "text/plain": [
       "Processing T cells_CHIR-99021 samples:   0%|          | 0/1127 [00:00<?, ?it/s]"
      ]
     },
     "metadata": {},
     "output_type": "display_data"
    },
    {
     "data": {
      "application/vnd.jupyter.widget-view+json": {
       "model_id": "6abb934e7d7a455dbb0ed0f353adf930",
       "version_major": 2,
       "version_minor": 0
      },
      "text/plain": [
       "Processing Myeloid cells_CHIR-99021 samples:   0%|          | 0/254 [00:00<?, ?it/s]"
      ]
     },
     "metadata": {},
     "output_type": "display_data"
    },
    {
     "data": {
      "application/vnd.jupyter.widget-view+json": {
       "model_id": "c2d05b2f10f24495bd277f40db883c5e",
       "version_major": 2,
       "version_minor": 0
      },
      "text/plain": [
       "Processing B cells_CHIR-99021 samples:   0%|          | 0/288 [00:00<?, ?it/s]"
      ]
     },
     "metadata": {},
     "output_type": "display_data"
    },
    {
     "data": {
      "application/vnd.jupyter.widget-view+json": {
       "model_id": "a19275114e2e4779aad642b8bd5d2d1b",
       "version_major": 2,
       "version_minor": 0
      },
      "text/plain": [
       "Processing NK cells_CHIR-99021 samples:   0%|          | 0/129 [00:00<?, ?it/s]"
      ]
     },
     "metadata": {},
     "output_type": "display_data"
    },
    {
     "data": {
      "application/vnd.jupyter.widget-view+json": {
       "model_id": "a19fc0f6a7eb4d3da3d8e644bb6da83e",
       "version_major": 2,
       "version_minor": 0
      },
      "text/plain": [
       "Processing T cells_TR-14035 samples:   0%|          | 0/967 [00:00<?, ?it/s]"
      ]
     },
     "metadata": {},
     "output_type": "display_data"
    },
    {
     "data": {
      "application/vnd.jupyter.widget-view+json": {
       "model_id": "20d3028a868043e2a1bee4f84d7c6285",
       "version_major": 2,
       "version_minor": 0
      },
      "text/plain": [
       "Processing NK cells_TR-14035 samples:   0%|          | 0/153 [00:00<?, ?it/s]"
      ]
     },
     "metadata": {},
     "output_type": "display_data"
    },
    {
     "data": {
      "application/vnd.jupyter.widget-view+json": {
       "model_id": "25cfe172d37e442db10c4954de1b16bd",
       "version_major": 2,
       "version_minor": 0
      },
      "text/plain": [
       "Processing Myeloid cells_TR-14035 samples:   0%|          | 0/269 [00:00<?, ?it/s]"
      ]
     },
     "metadata": {},
     "output_type": "display_data"
    },
    {
     "data": {
      "application/vnd.jupyter.widget-view+json": {
       "model_id": "d4b5ca0768dd4ebd99f5ac9ec539f33f",
       "version_major": 2,
       "version_minor": 0
      },
      "text/plain": [
       "Processing B cells_TR-14035 samples:   0%|          | 0/254 [00:00<?, ?it/s]"
      ]
     },
     "metadata": {},
     "output_type": "display_data"
    },
    {
     "data": {
      "application/vnd.jupyter.widget-view+json": {
       "model_id": "a0bcd8c4ff3c47b599299e574219c5f7",
       "version_major": 2,
       "version_minor": 0
      },
      "text/plain": [
       "Processing T cells_Pitavastatin Calcium samples:   0%|          | 0/1095 [00:00<?, ?it/s]"
      ]
     },
     "metadata": {},
     "output_type": "display_data"
    },
    {
     "data": {
      "application/vnd.jupyter.widget-view+json": {
       "model_id": "b7a7f7ae6f9f4190ab0c0a70d06a51f7",
       "version_major": 2,
       "version_minor": 0
      },
      "text/plain": [
       "Processing B cells_Pitavastatin Calcium samples:   0%|          | 0/281 [00:00<?, ?it/s]"
      ]
     },
     "metadata": {},
     "output_type": "display_data"
    },
    {
     "data": {
      "application/vnd.jupyter.widget-view+json": {
       "model_id": "4e1ae00b1d584b0db2012c1bdbeac43b",
       "version_major": 2,
       "version_minor": 0
      },
      "text/plain": [
       "Processing NK cells_Pitavastatin Calcium samples:   0%|          | 0/138 [00:00<?, ?it/s]"
      ]
     },
     "metadata": {},
     "output_type": "display_data"
    },
    {
     "data": {
      "application/vnd.jupyter.widget-view+json": {
       "model_id": "e570b578144d4bb3b28946a9e8bed4fc",
       "version_major": 2,
       "version_minor": 0
      },
      "text/plain": [
       "Processing Myeloid cells_Pitavastatin Calcium samples:   0%|          | 0/260 [00:00<?, ?it/s]"
      ]
     },
     "metadata": {},
     "output_type": "display_data"
    },
    {
     "data": {
      "application/vnd.jupyter.widget-view+json": {
       "model_id": "5706a9844c6e480798ba3aeb8af0468b",
       "version_major": 2,
       "version_minor": 0
      },
      "text/plain": [
       "Processing NK cells_SLx-2119 samples:   0%|          | 0/123 [00:00<?, ?it/s]"
      ]
     },
     "metadata": {},
     "output_type": "display_data"
    },
    {
     "data": {
      "application/vnd.jupyter.widget-view+json": {
       "model_id": "57fab18dd2cd4a849850e876f6bc712a",
       "version_major": 2,
       "version_minor": 0
      },
      "text/plain": [
       "Processing T cells_SLx-2119 samples:   0%|          | 0/926 [00:00<?, ?it/s]"
      ]
     },
     "metadata": {},
     "output_type": "display_data"
    },
    {
     "data": {
      "application/vnd.jupyter.widget-view+json": {
       "model_id": "cd3ce8a438f5403f8bd59cdce8e95ede",
       "version_major": 2,
       "version_minor": 0
      },
      "text/plain": [
       "Processing B cells_SLx-2119 samples:   0%|          | 0/292 [00:00<?, ?it/s]"
      ]
     },
     "metadata": {},
     "output_type": "display_data"
    },
    {
     "data": {
      "application/vnd.jupyter.widget-view+json": {
       "model_id": "44c74f21757d48c09353a63dad999a23",
       "version_major": 2,
       "version_minor": 0
      },
      "text/plain": [
       "Processing Myeloid cells_SLx-2119 samples:   0%|          | 0/411 [00:00<?, ?it/s]"
      ]
     },
     "metadata": {},
     "output_type": "display_data"
    },
    {
     "data": {
      "application/vnd.jupyter.widget-view+json": {
       "model_id": "590e3206854b46348fa3157a1b2d463a",
       "version_major": 2,
       "version_minor": 0
      },
      "text/plain": [
       "Processing Myeloid cells_YK 4-279 samples:   0%|          | 0/327 [00:00<?, ?it/s]"
      ]
     },
     "metadata": {},
     "output_type": "display_data"
    },
    {
     "data": {
      "application/vnd.jupyter.widget-view+json": {
       "model_id": "85dcffe3f0ce41ffb310ed36e3006422",
       "version_major": 2,
       "version_minor": 0
      },
      "text/plain": [
       "Processing T cells_YK 4-279 samples:   0%|          | 0/934 [00:00<?, ?it/s]"
      ]
     },
     "metadata": {},
     "output_type": "display_data"
    },
    {
     "data": {
      "application/vnd.jupyter.widget-view+json": {
       "model_id": "31549e5982a54f54b981efc4f63c3fdc",
       "version_major": 2,
       "version_minor": 0
      },
      "text/plain": [
       "Processing B cells_YK 4-279 samples:   0%|          | 0/270 [00:00<?, ?it/s]"
      ]
     },
     "metadata": {},
     "output_type": "display_data"
    },
    {
     "data": {
      "application/vnd.jupyter.widget-view+json": {
       "model_id": "7bfb7f4d1c204530b76defed76bed526",
       "version_major": 2,
       "version_minor": 0
      },
      "text/plain": [
       "Processing NK cells_YK 4-279 samples:   0%|          | 0/132 [00:00<?, ?it/s]"
      ]
     },
     "metadata": {},
     "output_type": "display_data"
    },
    {
     "data": {
      "application/vnd.jupyter.widget-view+json": {
       "model_id": "1f9a2349ff104ee19f95fbb5e459410c",
       "version_major": 2,
       "version_minor": 0
      },
      "text/plain": [
       "Processing Myeloid cells_SCH-58261 samples:   0%|          | 0/312 [00:00<?, ?it/s]"
      ]
     },
     "metadata": {},
     "output_type": "display_data"
    },
    {
     "data": {
      "application/vnd.jupyter.widget-view+json": {
       "model_id": "1652fbd0d71248e28a3114a12595d7e4",
       "version_major": 2,
       "version_minor": 0
      },
      "text/plain": [
       "Processing B cells_SCH-58261 samples:   0%|          | 0/265 [00:00<?, ?it/s]"
      ]
     },
     "metadata": {},
     "output_type": "display_data"
    },
    {
     "data": {
      "application/vnd.jupyter.widget-view+json": {
       "model_id": "7e7cd69b86514ba584cd7facc242b700",
       "version_major": 2,
       "version_minor": 0
      },
      "text/plain": [
       "Processing T cells_SCH-58261 samples:   0%|          | 0/875 [00:00<?, ?it/s]"
      ]
     },
     "metadata": {},
     "output_type": "display_data"
    },
    {
     "data": {
      "application/vnd.jupyter.widget-view+json": {
       "model_id": "e759b751644d4f2c92269305e3f1c117",
       "version_major": 2,
       "version_minor": 0
      },
      "text/plain": [
       "Processing NK cells_SCH-58261 samples:   0%|          | 0/94 [00:00<?, ?it/s]"
      ]
     },
     "metadata": {},
     "output_type": "display_data"
    },
    {
     "data": {
      "application/vnd.jupyter.widget-view+json": {
       "model_id": "1c401077a4bf4a3fa6479c7b3e32b270",
       "version_major": 2,
       "version_minor": 0
      },
      "text/plain": [
       "Processing T cells_BX 912 samples:   0%|          | 0/753 [00:00<?, ?it/s]"
      ]
     },
     "metadata": {},
     "output_type": "display_data"
    },
    {
     "data": {
      "application/vnd.jupyter.widget-view+json": {
       "model_id": "612e3f9262834745a6505e4efb8885e7",
       "version_major": 2,
       "version_minor": 0
      },
      "text/plain": [
       "Processing B cells_BX 912 samples:   0%|          | 0/218 [00:00<?, ?it/s]"
      ]
     },
     "metadata": {},
     "output_type": "display_data"
    },
    {
     "data": {
      "application/vnd.jupyter.widget-view+json": {
       "model_id": "b1d08f6d8e434443972e013c3a2619cb",
       "version_major": 2,
       "version_minor": 0
      },
      "text/plain": [
       "Processing Myeloid cells_BX 912 samples:   0%|          | 0/169 [00:00<?, ?it/s]"
      ]
     },
     "metadata": {},
     "output_type": "display_data"
    },
    {
     "data": {
      "application/vnd.jupyter.widget-view+json": {
       "model_id": "3ac9b062fcef4a2c807ef787162b245d",
       "version_major": 2,
       "version_minor": 0
      },
      "text/plain": [
       "Processing NK cells_BX 912 samples:   0%|          | 0/102 [00:00<?, ?it/s]"
      ]
     },
     "metadata": {},
     "output_type": "display_data"
    },
    {
     "data": {
      "application/vnd.jupyter.widget-view+json": {
       "model_id": "7b4290f50aa54fd2a8ca644a5c6279d1",
       "version_major": 2,
       "version_minor": 0
      },
      "text/plain": [
       "Processing B cells_GLPG0634 samples:   0%|          | 0/278 [00:00<?, ?it/s]"
      ]
     },
     "metadata": {},
     "output_type": "display_data"
    },
    {
     "data": {
      "application/vnd.jupyter.widget-view+json": {
       "model_id": "8805579b515948c492e1d46f1854ea9d",
       "version_major": 2,
       "version_minor": 0
      },
      "text/plain": [
       "Processing T cells_GLPG0634 samples:   0%|          | 0/933 [00:00<?, ?it/s]"
      ]
     },
     "metadata": {},
     "output_type": "display_data"
    },
    {
     "data": {
      "application/vnd.jupyter.widget-view+json": {
       "model_id": "6c2833781ed5483e8e2013e0d5ddeb31",
       "version_major": 2,
       "version_minor": 0
      },
      "text/plain": [
       "Processing Myeloid cells_GLPG0634 samples:   0%|          | 0/171 [00:00<?, ?it/s]"
      ]
     },
     "metadata": {},
     "output_type": "display_data"
    },
    {
     "data": {
      "application/vnd.jupyter.widget-view+json": {
       "model_id": "51397d97c7954542a57f4d037df34f2a",
       "version_major": 2,
       "version_minor": 0
      },
      "text/plain": [
       "Processing NK cells_GLPG0634 samples:   0%|          | 0/121 [00:00<?, ?it/s]"
      ]
     },
     "metadata": {},
     "output_type": "display_data"
    },
    {
     "data": {
      "application/vnd.jupyter.widget-view+json": {
       "model_id": "8216d2a2293b41a092bb7eb5e6e17c85",
       "version_major": 2,
       "version_minor": 0
      },
      "text/plain": [
       "Processing NK cells_Defactinib samples:   0%|          | 0/102 [00:00<?, ?it/s]"
      ]
     },
     "metadata": {},
     "output_type": "display_data"
    },
    {
     "data": {
      "application/vnd.jupyter.widget-view+json": {
       "model_id": "ee342e320de048bfba16f9f3b78edc91",
       "version_major": 2,
       "version_minor": 0
      },
      "text/plain": [
       "Processing Myeloid cells_Defactinib samples:   0%|          | 0/249 [00:00<?, ?it/s]"
      ]
     },
     "metadata": {},
     "output_type": "display_data"
    },
    {
     "data": {
      "application/vnd.jupyter.widget-view+json": {
       "model_id": "d5fcacc6eeba4b6b87aba19a664b7c19",
       "version_major": 2,
       "version_minor": 0
      },
      "text/plain": [
       "Processing T cells_Defactinib samples:   0%|          | 0/1090 [00:00<?, ?it/s]"
      ]
     },
     "metadata": {},
     "output_type": "display_data"
    },
    {
     "data": {
      "application/vnd.jupyter.widget-view+json": {
       "model_id": "bd713b8b3d5e41eda61d679886795087",
       "version_major": 2,
       "version_minor": 0
      },
      "text/plain": [
       "Processing B cells_Defactinib samples:   0%|          | 0/260 [00:00<?, ?it/s]"
      ]
     },
     "metadata": {},
     "output_type": "display_data"
    },
    {
     "data": {
      "application/vnd.jupyter.widget-view+json": {
       "model_id": "52c10b80916441688437aba4fd2e95d7",
       "version_major": 2,
       "version_minor": 0
      },
      "text/plain": [
       "Processing T cells_Nilotinib samples:   0%|          | 0/839 [00:00<?, ?it/s]"
      ]
     },
     "metadata": {},
     "output_type": "display_data"
    },
    {
     "data": {
      "application/vnd.jupyter.widget-view+json": {
       "model_id": "0fc89c6828154bff80396cbfd0c7e2a5",
       "version_major": 2,
       "version_minor": 0
      },
      "text/plain": [
       "Processing B cells_Nilotinib samples:   0%|          | 0/203 [00:00<?, ?it/s]"
      ]
     },
     "metadata": {},
     "output_type": "display_data"
    },
    {
     "data": {
      "application/vnd.jupyter.widget-view+json": {
       "model_id": "f676fcadca5941e195a1ca803b782f47",
       "version_major": 2,
       "version_minor": 0
      },
      "text/plain": [
       "Processing Myeloid cells_Nilotinib samples:   0%|          | 0/118 [00:00<?, ?it/s]"
      ]
     },
     "metadata": {},
     "output_type": "display_data"
    },
    {
     "data": {
      "application/vnd.jupyter.widget-view+json": {
       "model_id": "271b04a455814baba1b855721c9e1e2c",
       "version_major": 2,
       "version_minor": 0
      },
      "text/plain": [
       "Processing NK cells_Nilotinib samples:   0%|          | 0/91 [00:00<?, ?it/s]"
      ]
     },
     "metadata": {},
     "output_type": "display_data"
    },
    {
     "data": {
      "application/vnd.jupyter.widget-view+json": {
       "model_id": "2958565085dc41569d195030faabccd0",
       "version_major": 2,
       "version_minor": 0
      },
      "text/plain": [
       "Processing T cells_Nefazodone samples:   0%|          | 0/877 [00:00<?, ?it/s]"
      ]
     },
     "metadata": {},
     "output_type": "display_data"
    },
    {
     "data": {
      "application/vnd.jupyter.widget-view+json": {
       "model_id": "24e6981ba2e24ff689421e15fa3f957f",
       "version_major": 2,
       "version_minor": 0
      },
      "text/plain": [
       "Processing B cells_Nefazodone samples:   0%|          | 0/185 [00:00<?, ?it/s]"
      ]
     },
     "metadata": {},
     "output_type": "display_data"
    },
    {
     "data": {
      "application/vnd.jupyter.widget-view+json": {
       "model_id": "835bf53cc7394e1d93fb27e346364a4c",
       "version_major": 2,
       "version_minor": 0
      },
      "text/plain": [
       "Processing NK cells_Nefazodone samples:   0%|          | 0/96 [00:00<?, ?it/s]"
      ]
     },
     "metadata": {},
     "output_type": "display_data"
    },
    {
     "data": {
      "application/vnd.jupyter.widget-view+json": {
       "model_id": "7160b53c4d2d48e0b208852f14591537",
       "version_major": 2,
       "version_minor": 0
      },
      "text/plain": [
       "Processing Myeloid cells_Nefazodone samples:   0%|          | 0/263 [00:00<?, ?it/s]"
      ]
     },
     "metadata": {},
     "output_type": "display_data"
    },
    {
     "data": {
      "application/vnd.jupyter.widget-view+json": {
       "model_id": "cd07df6ca347416db237e78ecd2998d2",
       "version_major": 2,
       "version_minor": 0
      },
      "text/plain": [
       "Processing NK cells_Buspirone samples:   0%|          | 0/147 [00:00<?, ?it/s]"
      ]
     },
     "metadata": {},
     "output_type": "display_data"
    },
    {
     "data": {
      "application/vnd.jupyter.widget-view+json": {
       "model_id": "2e6ffc464e8e4d5e855e804493fc6330",
       "version_major": 2,
       "version_minor": 0
      },
      "text/plain": [
       "Processing Myeloid cells_Buspirone samples:   0%|          | 0/460 [00:00<?, ?it/s]"
      ]
     },
     "metadata": {},
     "output_type": "display_data"
    },
    {
     "data": {
      "application/vnd.jupyter.widget-view+json": {
       "model_id": "59b2b395e91848d49eb0d4ce5206fb26",
       "version_major": 2,
       "version_minor": 0
      },
      "text/plain": [
       "Processing T cells_Buspirone samples:   0%|          | 0/1090 [00:00<?, ?it/s]"
      ]
     },
     "metadata": {},
     "output_type": "display_data"
    },
    {
     "data": {
      "application/vnd.jupyter.widget-view+json": {
       "model_id": "b46650fb9a644a40b51a005c348ef4b1",
       "version_major": 2,
       "version_minor": 0
      },
      "text/plain": [
       "Processing B cells_Buspirone samples:   0%|          | 0/299 [00:00<?, ?it/s]"
      ]
     },
     "metadata": {},
     "output_type": "display_data"
    },
    {
     "data": {
      "application/vnd.jupyter.widget-view+json": {
       "model_id": "e223253431f34464b533b0e356267da5",
       "version_major": 2,
       "version_minor": 0
      },
      "text/plain": [
       "Processing T cells_Colforsin samples:   0%|          | 0/940 [00:00<?, ?it/s]"
      ]
     },
     "metadata": {},
     "output_type": "display_data"
    },
    {
     "data": {
      "application/vnd.jupyter.widget-view+json": {
       "model_id": "3324c37653a249c29b057289f20ec036",
       "version_major": 2,
       "version_minor": 0
      },
      "text/plain": [
       "Processing B cells_Colforsin samples:   0%|          | 0/223 [00:00<?, ?it/s]"
      ]
     },
     "metadata": {},
     "output_type": "display_data"
    },
    {
     "data": {
      "application/vnd.jupyter.widget-view+json": {
       "model_id": "5798166279d84f339663d4d5c779715f",
       "version_major": 2,
       "version_minor": 0
      },
      "text/plain": [
       "Processing Myeloid cells_Colforsin samples:   0%|          | 0/319 [00:00<?, ?it/s]"
      ]
     },
     "metadata": {},
     "output_type": "display_data"
    },
    {
     "data": {
      "application/vnd.jupyter.widget-view+json": {
       "model_id": "20a04ab267b34d17a13c5a243acf2a0c",
       "version_major": 2,
       "version_minor": 0
      },
      "text/plain": [
       "Processing NK cells_Colforsin samples:   0%|          | 0/120 [00:00<?, ?it/s]"
      ]
     },
     "metadata": {},
     "output_type": "display_data"
    },
    {
     "data": {
      "application/vnd.jupyter.widget-view+json": {
       "model_id": "0028f9301eaf45a1a7933c54777bada6",
       "version_major": 2,
       "version_minor": 0
      },
      "text/plain": [
       "Processing T cells_Doxorubicin samples:   0%|          | 0/842 [00:00<?, ?it/s]"
      ]
     },
     "metadata": {},
     "output_type": "display_data"
    },
    {
     "data": {
      "application/vnd.jupyter.widget-view+json": {
       "model_id": "f213af5a033442c199e4824bdd07b56e",
       "version_major": 2,
       "version_minor": 0
      },
      "text/plain": [
       "Processing NK cells_Doxorubicin samples:   0%|          | 0/102 [00:00<?, ?it/s]"
      ]
     },
     "metadata": {},
     "output_type": "display_data"
    },
    {
     "data": {
      "application/vnd.jupyter.widget-view+json": {
       "model_id": "ab7b81a7c0aa4829a895dc8da5158d1e",
       "version_major": 2,
       "version_minor": 0
      },
      "text/plain": [
       "Processing B cells_Doxorubicin samples:   0%|          | 0/185 [00:00<?, ?it/s]"
      ]
     },
     "metadata": {},
     "output_type": "display_data"
    },
    {
     "data": {
      "application/vnd.jupyter.widget-view+json": {
       "model_id": "f8fa7c05b66f4bbe8abee395dcafd9b0",
       "version_major": 2,
       "version_minor": 0
      },
      "text/plain": [
       "Processing Myeloid cells_Doxorubicin samples:   0%|          | 0/129 [00:00<?, ?it/s]"
      ]
     },
     "metadata": {},
     "output_type": "display_data"
    },
    {
     "data": {
      "application/vnd.jupyter.widget-view+json": {
       "model_id": "4e890fef7fc84945ae7750c3d1568be9",
       "version_major": 2,
       "version_minor": 0
      },
      "text/plain": [
       "Processing T cells_Mubritinib (TAK 165) samples:   0%|          | 0/1019 [00:00<?, ?it/s]"
      ]
     },
     "metadata": {},
     "output_type": "display_data"
    },
    {
     "data": {
      "application/vnd.jupyter.widget-view+json": {
       "model_id": "ff7947b12d834999979de7b74d43dd3c",
       "version_major": 2,
       "version_minor": 0
      },
      "text/plain": [
       "Processing B cells_Mubritinib (TAK 165) samples:   0%|          | 0/236 [00:00<?, ?it/s]"
      ]
     },
     "metadata": {},
     "output_type": "display_data"
    },
    {
     "data": {
      "application/vnd.jupyter.widget-view+json": {
       "model_id": "94c1f12d7ea04118af4089b786fb21f4",
       "version_major": 2,
       "version_minor": 0
      },
      "text/plain": [
       "Processing Myeloid cells_Mubritinib (TAK 165) samples:   0%|          | 0/294 [00:00<?, ?it/s]"
      ]
     },
     "metadata": {},
     "output_type": "display_data"
    },
    {
     "data": {
      "application/vnd.jupyter.widget-view+json": {
       "model_id": "cd1b8b4267414023afe6f6be2decd914",
       "version_major": 2,
       "version_minor": 0
      },
      "text/plain": [
       "Processing NK cells_Mubritinib (TAK 165) samples:   0%|          | 0/99 [00:00<?, ?it/s]"
      ]
     },
     "metadata": {},
     "output_type": "display_data"
    },
    {
     "data": {
      "application/vnd.jupyter.widget-view+json": {
       "model_id": "f64867a593cd43e0b5a4333fb5d6f4d8",
       "version_major": 2,
       "version_minor": 0
      },
      "text/plain": [
       "Processing T cells_BI-D1870 samples:   0%|          | 0/965 [00:00<?, ?it/s]"
      ]
     },
     "metadata": {},
     "output_type": "display_data"
    },
    {
     "data": {
      "application/vnd.jupyter.widget-view+json": {
       "model_id": "60bba8f221024243ad3c19a7841a0217",
       "version_major": 2,
       "version_minor": 0
      },
      "text/plain": [
       "Processing Myeloid cells_BI-D1870 samples:   0%|          | 0/262 [00:00<?, ?it/s]"
      ]
     },
     "metadata": {},
     "output_type": "display_data"
    },
    {
     "data": {
      "application/vnd.jupyter.widget-view+json": {
       "model_id": "a98086265602449e99a50986e12e1e28",
       "version_major": 2,
       "version_minor": 0
      },
      "text/plain": [
       "Processing B cells_BI-D1870 samples:   0%|          | 0/246 [00:00<?, ?it/s]"
      ]
     },
     "metadata": {},
     "output_type": "display_data"
    },
    {
     "data": {
      "application/vnd.jupyter.widget-view+json": {
       "model_id": "7bfb1e70099f450cb985879f6345488e",
       "version_major": 2,
       "version_minor": 0
      },
      "text/plain": [
       "Processing NK cells_BI-D1870 samples:   0%|          | 0/78 [00:00<?, ?it/s]"
      ]
     },
     "metadata": {},
     "output_type": "display_data"
    },
    {
     "data": {
      "application/vnd.jupyter.widget-view+json": {
       "model_id": "6a7c1e181eec47068cad076f353b2791",
       "version_major": 2,
       "version_minor": 0
      },
      "text/plain": [
       "Processing NK cells_AT 7867 samples:   0%|          | 0/151 [00:00<?, ?it/s]"
      ]
     },
     "metadata": {},
     "output_type": "display_data"
    },
    {
     "data": {
      "application/vnd.jupyter.widget-view+json": {
       "model_id": "c7d5ec6dc6e94291b871ece671e9e642",
       "version_major": 2,
       "version_minor": 0
      },
      "text/plain": [
       "Processing T cells_AT 7867 samples:   0%|          | 0/1126 [00:00<?, ?it/s]"
      ]
     },
     "metadata": {},
     "output_type": "display_data"
    },
    {
     "data": {
      "application/vnd.jupyter.widget-view+json": {
       "model_id": "4cf3463fdc5e45bea2d39c8b1894f674",
       "version_major": 2,
       "version_minor": 0
      },
      "text/plain": [
       "Processing B cells_AT 7867 samples:   0%|          | 0/348 [00:00<?, ?it/s]"
      ]
     },
     "metadata": {},
     "output_type": "display_data"
    },
    {
     "data": {
      "application/vnd.jupyter.widget-view+json": {
       "model_id": "f562fdd6851f4aa5a87303ec4041d7b9",
       "version_major": 2,
       "version_minor": 0
      },
      "text/plain": [
       "Processing Myeloid cells_AT 7867 samples:   0%|          | 0/367 [00:00<?, ?it/s]"
      ]
     },
     "metadata": {},
     "output_type": "display_data"
    },
    {
     "data": {
      "application/vnd.jupyter.widget-view+json": {
       "model_id": "ddb21d5ee3e3418895e38642e4a7b4d6",
       "version_major": 2,
       "version_minor": 0
      },
      "text/plain": [
       "Processing T cells_PRT-062607 samples:   0%|          | 0/938 [00:00<?, ?it/s]"
      ]
     },
     "metadata": {},
     "output_type": "display_data"
    },
    {
     "data": {
      "application/vnd.jupyter.widget-view+json": {
       "model_id": "15fc36c90a4a4716ba8bf4a644bf3ed8",
       "version_major": 2,
       "version_minor": 0
      },
      "text/plain": [
       "Processing Myeloid cells_PRT-062607 samples:   0%|          | 0/74 [00:00<?, ?it/s]"
      ]
     },
     "metadata": {},
     "output_type": "display_data"
    },
    {
     "data": {
      "application/vnd.jupyter.widget-view+json": {
       "model_id": "0b7c154922904c99aac5903f73baa5cc",
       "version_major": 2,
       "version_minor": 0
      },
      "text/plain": [
       "Processing B cells_PRT-062607 samples:   0%|          | 0/225 [00:00<?, ?it/s]"
      ]
     },
     "metadata": {},
     "output_type": "display_data"
    },
    {
     "data": {
      "application/vnd.jupyter.widget-view+json": {
       "model_id": "c9539903367447c3b6395fe5e6aabe2f",
       "version_major": 2,
       "version_minor": 0
      },
      "text/plain": [
       "Processing NK cells_PRT-062607 samples:   0%|          | 0/110 [00:00<?, ?it/s]"
      ]
     },
     "metadata": {},
     "output_type": "display_data"
    },
    {
     "data": {
      "application/vnd.jupyter.widget-view+json": {
       "model_id": "a0bf106705694b44ae4f51af4303f184",
       "version_major": 2,
       "version_minor": 0
      },
      "text/plain": [
       "Processing B cells_STK219801 samples:   0%|          | 0/279 [00:00<?, ?it/s]"
      ]
     },
     "metadata": {},
     "output_type": "display_data"
    },
    {
     "data": {
      "application/vnd.jupyter.widget-view+json": {
       "model_id": "bb9d7fbc62b34727919251d473483835",
       "version_major": 2,
       "version_minor": 0
      },
      "text/plain": [
       "Processing T cells_STK219801 samples:   0%|          | 0/976 [00:00<?, ?it/s]"
      ]
     },
     "metadata": {},
     "output_type": "display_data"
    },
    {
     "data": {
      "application/vnd.jupyter.widget-view+json": {
       "model_id": "594dd5c32f82412fa98abaf9c676b1b9",
       "version_major": 2,
       "version_minor": 0
      },
      "text/plain": [
       "Processing Myeloid cells_STK219801 samples:   0%|          | 0/357 [00:00<?, ?it/s]"
      ]
     },
     "metadata": {},
     "output_type": "display_data"
    },
    {
     "data": {
      "application/vnd.jupyter.widget-view+json": {
       "model_id": "87194254250d498c876042053cf2124b",
       "version_major": 2,
       "version_minor": 0
      },
      "text/plain": [
       "Processing NK cells_STK219801 samples:   0%|          | 0/124 [00:00<?, ?it/s]"
      ]
     },
     "metadata": {},
     "output_type": "display_data"
    },
    {
     "data": {
      "application/vnd.jupyter.widget-view+json": {
       "model_id": "0fe6bc93ea284e0a8a1dbc8c6c9067c6",
       "version_major": 2,
       "version_minor": 0
      },
      "text/plain": [
       "Processing T cells_Midostaurin samples:   0%|          | 0/752 [00:00<?, ?it/s]"
      ]
     },
     "metadata": {},
     "output_type": "display_data"
    },
    {
     "data": {
      "application/vnd.jupyter.widget-view+json": {
       "model_id": "c64b93dec47942269ba742683765bc98",
       "version_major": 2,
       "version_minor": 0
      },
      "text/plain": [
       "Processing Myeloid cells_Midostaurin samples:   0%|          | 0/233 [00:00<?, ?it/s]"
      ]
     },
     "metadata": {},
     "output_type": "display_data"
    },
    {
     "data": {
      "application/vnd.jupyter.widget-view+json": {
       "model_id": "3cc05bc5658a4dc78d8846573ae09435",
       "version_major": 2,
       "version_minor": 0
      },
      "text/plain": [
       "Processing NK cells_Midostaurin samples:   0%|          | 0/112 [00:00<?, ?it/s]"
      ]
     },
     "metadata": {},
     "output_type": "display_data"
    },
    {
     "data": {
      "application/vnd.jupyter.widget-view+json": {
       "model_id": "88dea4d2b3db402c81e692f0ef076f4c",
       "version_major": 2,
       "version_minor": 0
      },
      "text/plain": [
       "Processing B cells_Midostaurin samples:   0%|          | 0/207 [00:00<?, ?it/s]"
      ]
     },
     "metadata": {},
     "output_type": "display_data"
    },
    {
     "data": {
      "application/vnd.jupyter.widget-view+json": {
       "model_id": "b4ebc50cbc0e4a57a2976e55e8ba16ea",
       "version_major": 2,
       "version_minor": 0
      },
      "text/plain": [
       "Processing T cells_PF-03814735 samples:   0%|          | 0/902 [00:00<?, ?it/s]"
      ]
     },
     "metadata": {},
     "output_type": "display_data"
    },
    {
     "data": {
      "application/vnd.jupyter.widget-view+json": {
       "model_id": "f97d96155609483f81d0c948fb3aa3e3",
       "version_major": 2,
       "version_minor": 0
      },
      "text/plain": [
       "Processing NK cells_PF-03814735 samples:   0%|          | 0/119 [00:00<?, ?it/s]"
      ]
     },
     "metadata": {},
     "output_type": "display_data"
    },
    {
     "data": {
      "application/vnd.jupyter.widget-view+json": {
       "model_id": "2ca0c5b1bbf84c7b8c7f15928e21a552",
       "version_major": 2,
       "version_minor": 0
      },
      "text/plain": [
       "Processing B cells_PF-03814735 samples:   0%|          | 0/251 [00:00<?, ?it/s]"
      ]
     },
     "metadata": {},
     "output_type": "display_data"
    },
    {
     "data": {
      "application/vnd.jupyter.widget-view+json": {
       "model_id": "c64f962bd7614371b732ba2e07afc59e",
       "version_major": 2,
       "version_minor": 0
      },
      "text/plain": [
       "Processing Myeloid cells_PF-03814735 samples:   0%|          | 0/101 [00:00<?, ?it/s]"
      ]
     },
     "metadata": {},
     "output_type": "display_data"
    },
    {
     "data": {
      "application/vnd.jupyter.widget-view+json": {
       "model_id": "154672f45ac44b518df9a13a6d28b862",
       "version_major": 2,
       "version_minor": 0
      },
      "text/plain": [
       "Processing T cells_Vanoxerine samples:   0%|          | 0/891 [00:00<?, ?it/s]"
      ]
     },
     "metadata": {},
     "output_type": "display_data"
    },
    {
     "data": {
      "application/vnd.jupyter.widget-view+json": {
       "model_id": "29bfdb4b75fd4f3486c26ddec305e7f2",
       "version_major": 2,
       "version_minor": 0
      },
      "text/plain": [
       "Processing Myeloid cells_Vanoxerine samples:   0%|          | 0/288 [00:00<?, ?it/s]"
      ]
     },
     "metadata": {},
     "output_type": "display_data"
    },
    {
     "data": {
      "application/vnd.jupyter.widget-view+json": {
       "model_id": "e21c203d52e742a482f935edb8a6903a",
       "version_major": 2,
       "version_minor": 0
      },
      "text/plain": [
       "Processing B cells_Vanoxerine samples:   0%|          | 0/244 [00:00<?, ?it/s]"
      ]
     },
     "metadata": {},
     "output_type": "display_data"
    },
    {
     "data": {
      "application/vnd.jupyter.widget-view+json": {
       "model_id": "a01c51e130514ff29d86aad3315e7ca2",
       "version_major": 2,
       "version_minor": 0
      },
      "text/plain": [
       "Processing NK cells_Vanoxerine samples:   0%|          | 0/116 [00:00<?, ?it/s]"
      ]
     },
     "metadata": {},
     "output_type": "display_data"
    },
    {
     "data": {
      "application/vnd.jupyter.widget-view+json": {
       "model_id": "ade92be7fa3a4702b07ab0f171ece219",
       "version_major": 2,
       "version_minor": 0
      },
      "text/plain": [
       "Processing T cells_AZD3514 samples:   0%|          | 0/949 [00:00<?, ?it/s]"
      ]
     },
     "metadata": {},
     "output_type": "display_data"
    },
    {
     "data": {
      "application/vnd.jupyter.widget-view+json": {
       "model_id": "74617ced601c45b9b561ec20deec5a03",
       "version_major": 2,
       "version_minor": 0
      },
      "text/plain": [
       "Processing Myeloid cells_AZD3514 samples:   0%|          | 0/229 [00:00<?, ?it/s]"
      ]
     },
     "metadata": {},
     "output_type": "display_data"
    },
    {
     "data": {
      "application/vnd.jupyter.widget-view+json": {
       "model_id": "03eba856e168481cbbb7f34c88379d11",
       "version_major": 2,
       "version_minor": 0
      },
      "text/plain": [
       "Processing B cells_AZD3514 samples:   0%|          | 0/244 [00:00<?, ?it/s]"
      ]
     },
     "metadata": {},
     "output_type": "display_data"
    },
    {
     "data": {
      "application/vnd.jupyter.widget-view+json": {
       "model_id": "6bc2796a7f1243bc8438bfc2acc9f153",
       "version_major": 2,
       "version_minor": 0
      },
      "text/plain": [
       "Processing NK cells_AZD3514 samples:   0%|          | 0/105 [00:00<?, ?it/s]"
      ]
     },
     "metadata": {},
     "output_type": "display_data"
    },
    {
     "data": {
      "application/vnd.jupyter.widget-view+json": {
       "model_id": "3be639eb8d7a4998baf3c83f32fbaddf",
       "version_major": 2,
       "version_minor": 0
      },
      "text/plain": [
       "Processing Myeloid cells_OSI-930 samples:   0%|          | 0/330 [00:00<?, ?it/s]"
      ]
     },
     "metadata": {},
     "output_type": "display_data"
    },
    {
     "data": {
      "application/vnd.jupyter.widget-view+json": {
       "model_id": "6c29971d37bf49ed9c0ccc3c703028b9",
       "version_major": 2,
       "version_minor": 0
      },
      "text/plain": [
       "Processing T cells_OSI-930 samples:   0%|          | 0/1022 [00:00<?, ?it/s]"
      ]
     },
     "metadata": {},
     "output_type": "display_data"
    },
    {
     "data": {
      "application/vnd.jupyter.widget-view+json": {
       "model_id": "e932f92eb940435f9bb5e2c2cb0567e2",
       "version_major": 2,
       "version_minor": 0
      },
      "text/plain": [
       "Processing B cells_OSI-930 samples:   0%|          | 0/264 [00:00<?, ?it/s]"
      ]
     },
     "metadata": {},
     "output_type": "display_data"
    },
    {
     "data": {
      "application/vnd.jupyter.widget-view+json": {
       "model_id": "55d6108aa204403aa60b239e444ea0de",
       "version_major": 2,
       "version_minor": 0
      },
      "text/plain": [
       "Processing NK cells_OSI-930 samples:   0%|          | 0/157 [00:00<?, ?it/s]"
      ]
     },
     "metadata": {},
     "output_type": "display_data"
    },
    {
     "data": {
      "application/vnd.jupyter.widget-view+json": {
       "model_id": "73bcb69ec08c46f3be82c02702d486d4",
       "version_major": 2,
       "version_minor": 0
      },
      "text/plain": [
       "Processing B cells_AZ628 samples:   0%|          | 0/228 [00:00<?, ?it/s]"
      ]
     },
     "metadata": {},
     "output_type": "display_data"
    },
    {
     "data": {
      "application/vnd.jupyter.widget-view+json": {
       "model_id": "7c58b04cd1e5448ea4bfe533e871a00f",
       "version_major": 2,
       "version_minor": 0
      },
      "text/plain": [
       "Processing NK cells_AZ628 samples:   0%|          | 0/109 [00:00<?, ?it/s]"
      ]
     },
     "metadata": {},
     "output_type": "display_data"
    },
    {
     "data": {
      "application/vnd.jupyter.widget-view+json": {
       "model_id": "687c25c20f694c818395c8e58bf2e9b8",
       "version_major": 2,
       "version_minor": 0
      },
      "text/plain": [
       "Processing T cells_AZ628 samples:   0%|          | 0/965 [00:00<?, ?it/s]"
      ]
     },
     "metadata": {},
     "output_type": "display_data"
    },
    {
     "data": {
      "application/vnd.jupyter.widget-view+json": {
       "model_id": "3ed1bd6b68fc412aac7edd54084f5155",
       "version_major": 2,
       "version_minor": 0
      },
      "text/plain": [
       "Processing Myeloid cells_AZ628 samples:   0%|          | 0/77 [00:00<?, ?it/s]"
      ]
     },
     "metadata": {},
     "output_type": "display_data"
    },
    {
     "data": {
      "application/vnd.jupyter.widget-view+json": {
       "model_id": "11fffd0c7646454db28e4304c6721602",
       "version_major": 2,
       "version_minor": 0
      },
      "text/plain": [
       "Processing B cells_TPCA-1 samples:   0%|          | 0/217 [00:00<?, ?it/s]"
      ]
     },
     "metadata": {},
     "output_type": "display_data"
    },
    {
     "data": {
      "application/vnd.jupyter.widget-view+json": {
       "model_id": "921b47058a7a4ff6bd9fc8223efee2fc",
       "version_major": 2,
       "version_minor": 0
      },
      "text/plain": [
       "Processing T cells_TPCA-1 samples:   0%|          | 0/933 [00:00<?, ?it/s]"
      ]
     },
     "metadata": {},
     "output_type": "display_data"
    },
    {
     "data": {
      "application/vnd.jupyter.widget-view+json": {
       "model_id": "c7fb90b3e0f0420e81c5d551b9d824b6",
       "version_major": 2,
       "version_minor": 0
      },
      "text/plain": [
       "Processing NK cells_TPCA-1 samples:   0%|          | 0/88 [00:00<?, ?it/s]"
      ]
     },
     "metadata": {},
     "output_type": "display_data"
    },
    {
     "data": {
      "application/vnd.jupyter.widget-view+json": {
       "model_id": "14201910b21e49cfb76dab4775c868a1",
       "version_major": 2,
       "version_minor": 0
      },
      "text/plain": [
       "Processing Myeloid cells_TPCA-1 samples:   0%|          | 0/43 [00:00<?, ?it/s]"
      ]
     },
     "metadata": {},
     "output_type": "display_data"
    },
    {
     "data": {
      "application/vnd.jupyter.widget-view+json": {
       "model_id": "c766e3b300fe4806b4fc3512867d4ca0",
       "version_major": 2,
       "version_minor": 0
      },
      "text/plain": [
       "Processing B cells_CEP-37440 samples:   0%|          | 0/337 [00:00<?, ?it/s]"
      ]
     },
     "metadata": {},
     "output_type": "display_data"
    },
    {
     "data": {
      "application/vnd.jupyter.widget-view+json": {
       "model_id": "caf7b6e75c2e4ea8babc9305c9e97edb",
       "version_major": 2,
       "version_minor": 0
      },
      "text/plain": [
       "Processing T cells_CEP-37440 samples:   0%|          | 0/1158 [00:00<?, ?it/s]"
      ]
     },
     "metadata": {},
     "output_type": "display_data"
    },
    {
     "data": {
      "application/vnd.jupyter.widget-view+json": {
       "model_id": "334cebf0ee5f4065a546b0edace7fd9b",
       "version_major": 2,
       "version_minor": 0
      },
      "text/plain": [
       "Processing Myeloid cells_CEP-37440 samples:   0%|          | 0/422 [00:00<?, ?it/s]"
      ]
     },
     "metadata": {},
     "output_type": "display_data"
    },
    {
     "data": {
      "application/vnd.jupyter.widget-view+json": {
       "model_id": "bc5f533e6df7438398ef1461066cc32b",
       "version_major": 2,
       "version_minor": 0
      },
      "text/plain": [
       "Processing NK cells_CEP-37440 samples:   0%|          | 0/147 [00:00<?, ?it/s]"
      ]
     },
     "metadata": {},
     "output_type": "display_data"
    },
    {
     "data": {
      "application/vnd.jupyter.widget-view+json": {
       "model_id": "3c7ff0df01074980b8325fc5eae1c218",
       "version_major": 2,
       "version_minor": 0
      },
      "text/plain": [
       "Processing B cells_Tivantinib samples:   0%|          | 0/217 [00:00<?, ?it/s]"
      ]
     },
     "metadata": {},
     "output_type": "display_data"
    },
    {
     "data": {
      "application/vnd.jupyter.widget-view+json": {
       "model_id": "cf3e8007231e4387bd5bc95a7ee05494",
       "version_major": 2,
       "version_minor": 0
      },
      "text/plain": [
       "Processing T cells_Tivantinib samples:   0%|          | 0/960 [00:00<?, ?it/s]"
      ]
     },
     "metadata": {},
     "output_type": "display_data"
    },
    {
     "data": {
      "application/vnd.jupyter.widget-view+json": {
       "model_id": "2e38461597f4493bb90f921454150c81",
       "version_major": 2,
       "version_minor": 0
      },
      "text/plain": [
       "Processing NK cells_Tivantinib samples:   0%|          | 0/92 [00:00<?, ?it/s]"
      ]
     },
     "metadata": {},
     "output_type": "display_data"
    },
    {
     "data": {
      "application/vnd.jupyter.widget-view+json": {
       "model_id": "6127c874936f47a08b821d6576a3e051",
       "version_major": 2,
       "version_minor": 0
      },
      "text/plain": [
       "Processing Myeloid cells_Tivantinib samples:   0%|          | 0/201 [00:00<?, ?it/s]"
      ]
     },
     "metadata": {},
     "output_type": "display_data"
    },
    {
     "data": {
      "application/vnd.jupyter.widget-view+json": {
       "model_id": "3923c5b202444a1191da12053cd02caa",
       "version_major": 2,
       "version_minor": 0
      },
      "text/plain": [
       "Processing T cells_AZD4547 samples:   0%|          | 0/926 [00:00<?, ?it/s]"
      ]
     },
     "metadata": {},
     "output_type": "display_data"
    },
    {
     "data": {
      "application/vnd.jupyter.widget-view+json": {
       "model_id": "86ae5f8cca8445ef9812fe587024990f",
       "version_major": 2,
       "version_minor": 0
      },
      "text/plain": [
       "Processing NK cells_AZD4547 samples:   0%|          | 0/92 [00:00<?, ?it/s]"
      ]
     },
     "metadata": {},
     "output_type": "display_data"
    },
    {
     "data": {
      "application/vnd.jupyter.widget-view+json": {
       "model_id": "7fb7f7e6cafe428e9129c65172e027b2",
       "version_major": 2,
       "version_minor": 0
      },
      "text/plain": [
       "Processing B cells_AZD4547 samples:   0%|          | 0/281 [00:00<?, ?it/s]"
      ]
     },
     "metadata": {},
     "output_type": "display_data"
    },
    {
     "data": {
      "application/vnd.jupyter.widget-view+json": {
       "model_id": "cc0330dd8cd844bf817a2704d9e2fb97",
       "version_major": 2,
       "version_minor": 0
      },
      "text/plain": [
       "Processing Myeloid cells_AZD4547 samples:   0%|          | 0/234 [00:00<?, ?it/s]"
      ]
     },
     "metadata": {},
     "output_type": "display_data"
    },
    {
     "data": {
      "application/vnd.jupyter.widget-view+json": {
       "model_id": "910f060bc1d74312a77fb1b3721ab90f",
       "version_major": 2,
       "version_minor": 0
      },
      "text/plain": [
       "Processing B cells_SB525334 samples:   0%|          | 0/256 [00:00<?, ?it/s]"
      ]
     },
     "metadata": {},
     "output_type": "display_data"
    },
    {
     "data": {
      "application/vnd.jupyter.widget-view+json": {
       "model_id": "c4f1b78b659543ae99660f15f55ae129",
       "version_major": 2,
       "version_minor": 0
      },
      "text/plain": [
       "Processing Myeloid cells_SB525334 samples:   0%|          | 0/378 [00:00<?, ?it/s]"
      ]
     },
     "metadata": {},
     "output_type": "display_data"
    },
    {
     "data": {
      "application/vnd.jupyter.widget-view+json": {
       "model_id": "d686d7c55a9945adbe7544722898edf1",
       "version_major": 2,
       "version_minor": 0
      },
      "text/plain": [
       "Processing T cells_SB525334 samples:   0%|          | 0/1127 [00:00<?, ?it/s]"
      ]
     },
     "metadata": {},
     "output_type": "display_data"
    },
    {
     "data": {
      "application/vnd.jupyter.widget-view+json": {
       "model_id": "87c1fb3bbbf04bb69e5568207956e017",
       "version_major": 2,
       "version_minor": 0
      },
      "text/plain": [
       "Processing NK cells_SB525334 samples:   0%|          | 0/123 [00:00<?, ?it/s]"
      ]
     },
     "metadata": {},
     "output_type": "display_data"
    },
    {
     "data": {
      "application/vnd.jupyter.widget-view+json": {
       "model_id": "a64122086ddf4f7b87f2e5677bdd2a05",
       "version_major": 2,
       "version_minor": 0
      },
      "text/plain": [
       "Processing B cells_HMN-214 samples:   0%|          | 0/359 [00:00<?, ?it/s]"
      ]
     },
     "metadata": {},
     "output_type": "display_data"
    },
    {
     "data": {
      "application/vnd.jupyter.widget-view+json": {
       "model_id": "aa5e7aef7f774202a946412da492b32a",
       "version_major": 2,
       "version_minor": 0
      },
      "text/plain": [
       "Processing T cells_HMN-214 samples:   0%|          | 0/1388 [00:00<?, ?it/s]"
      ]
     },
     "metadata": {},
     "output_type": "display_data"
    },
    {
     "data": {
      "application/vnd.jupyter.widget-view+json": {
       "model_id": "0975c6ac3a054b0eae070716b0971463",
       "version_major": 2,
       "version_minor": 0
      },
      "text/plain": [
       "Processing Myeloid cells_HMN-214 samples:   0%|          | 0/451 [00:00<?, ?it/s]"
      ]
     },
     "metadata": {},
     "output_type": "display_data"
    },
    {
     "data": {
      "application/vnd.jupyter.widget-view+json": {
       "model_id": "790209d36bc94eb0b127fba985ee6774",
       "version_major": 2,
       "version_minor": 0
      },
      "text/plain": [
       "Processing NK cells_HMN-214 samples:   0%|          | 0/139 [00:00<?, ?it/s]"
      ]
     },
     "metadata": {},
     "output_type": "display_data"
    },
    {
     "data": {
      "application/vnd.jupyter.widget-view+json": {
       "model_id": "d536777eec224be78a4b3bc7b30f057a",
       "version_major": 2,
       "version_minor": 0
      },
      "text/plain": [
       "Processing Myeloid cells_GO-6976 samples:   0%|          | 0/199 [00:00<?, ?it/s]"
      ]
     },
     "metadata": {},
     "output_type": "display_data"
    },
    {
     "data": {
      "application/vnd.jupyter.widget-view+json": {
       "model_id": "90674808f23942a4bbd6645bfc049f1d",
       "version_major": 2,
       "version_minor": 0
      },
      "text/plain": [
       "Processing T cells_GO-6976 samples:   0%|          | 0/911 [00:00<?, ?it/s]"
      ]
     },
     "metadata": {},
     "output_type": "display_data"
    },
    {
     "data": {
      "application/vnd.jupyter.widget-view+json": {
       "model_id": "9012dd4b7a9b4fedb8afbd1bb34426b6",
       "version_major": 2,
       "version_minor": 0
      },
      "text/plain": [
       "Processing B cells_GO-6976 samples:   0%|          | 0/230 [00:00<?, ?it/s]"
      ]
     },
     "metadata": {},
     "output_type": "display_data"
    },
    {
     "data": {
      "application/vnd.jupyter.widget-view+json": {
       "model_id": "7cc25eea49224028a5e98b978045db2c",
       "version_major": 2,
       "version_minor": 0
      },
      "text/plain": [
       "Processing NK cells_GO-6976 samples:   0%|          | 0/100 [00:00<?, ?it/s]"
      ]
     },
     "metadata": {},
     "output_type": "display_data"
    },
    {
     "data": {
      "application/vnd.jupyter.widget-view+json": {
       "model_id": "96cc3c62c9194b7f8639bf9f9ad84c4a",
       "version_major": 2,
       "version_minor": 0
      },
      "text/plain": [
       "Processing B cells_AZD-8330 samples:   0%|          | 0/308 [00:00<?, ?it/s]"
      ]
     },
     "metadata": {},
     "output_type": "display_data"
    },
    {
     "data": {
      "application/vnd.jupyter.widget-view+json": {
       "model_id": "dcfa64aa3e7a4c119a7c497cf4f7ee27",
       "version_major": 2,
       "version_minor": 0
      },
      "text/plain": [
       "Processing T cells_AZD-8330 samples:   0%|          | 0/960 [00:00<?, ?it/s]"
      ]
     },
     "metadata": {},
     "output_type": "display_data"
    },
    {
     "data": {
      "application/vnd.jupyter.widget-view+json": {
       "model_id": "186543e8eca444a398973e5de56b4d36",
       "version_major": 2,
       "version_minor": 0
      },
      "text/plain": [
       "Processing Myeloid cells_AZD-8330 samples:   0%|          | 0/109 [00:00<?, ?it/s]"
      ]
     },
     "metadata": {},
     "output_type": "display_data"
    },
    {
     "data": {
      "application/vnd.jupyter.widget-view+json": {
       "model_id": "83a3f50c560744b3aac7694f0f7fb066",
       "version_major": 2,
       "version_minor": 0
      },
      "text/plain": [
       "Processing NK cells_AZD-8330 samples:   0%|          | 0/127 [00:00<?, ?it/s]"
      ]
     },
     "metadata": {},
     "output_type": "display_data"
    },
    {
     "data": {
      "application/vnd.jupyter.widget-view+json": {
       "model_id": "f4b968a802ed4a768a35c4b985e74135",
       "version_major": 2,
       "version_minor": 0
      },
      "text/plain": [
       "Processing T cells_MGCD-265 samples:   0%|          | 0/1058 [00:00<?, ?it/s]"
      ]
     },
     "metadata": {},
     "output_type": "display_data"
    },
    {
     "data": {
      "application/vnd.jupyter.widget-view+json": {
       "model_id": "75bf9e7f520f4a5d8e75bacc34500121",
       "version_major": 2,
       "version_minor": 0
      },
      "text/plain": [
       "Processing B cells_MGCD-265 samples:   0%|          | 0/243 [00:00<?, ?it/s]"
      ]
     },
     "metadata": {},
     "output_type": "display_data"
    },
    {
     "data": {
      "application/vnd.jupyter.widget-view+json": {
       "model_id": "8ad29fd6c5fd4ec48b9b7bf67bf2a72d",
       "version_major": 2,
       "version_minor": 0
      },
      "text/plain": [
       "Processing Myeloid cells_MGCD-265 samples:   0%|          | 0/226 [00:00<?, ?it/s]"
      ]
     },
     "metadata": {},
     "output_type": "display_data"
    },
    {
     "data": {
      "application/vnd.jupyter.widget-view+json": {
       "model_id": "1ae0558524a2433f840a3a6350aa65f9",
       "version_major": 2,
       "version_minor": 0
      },
      "text/plain": [
       "Processing NK cells_MGCD-265 samples:   0%|          | 0/113 [00:00<?, ?it/s]"
      ]
     },
     "metadata": {},
     "output_type": "display_data"
    },
    {
     "data": {
      "application/vnd.jupyter.widget-view+json": {
       "model_id": "09c0947ad7db4caa8922c0474f495943",
       "version_major": 2,
       "version_minor": 0
      },
      "text/plain": [
       "Processing B cells_GSK256066 samples:   0%|          | 0/270 [00:00<?, ?it/s]"
      ]
     },
     "metadata": {},
     "output_type": "display_data"
    },
    {
     "data": {
      "application/vnd.jupyter.widget-view+json": {
       "model_id": "1237e9f61ce2452c8184e9a9be5b5cd0",
       "version_major": 2,
       "version_minor": 0
      },
      "text/plain": [
       "Processing T cells_GSK256066 samples:   0%|          | 0/1012 [00:00<?, ?it/s]"
      ]
     },
     "metadata": {},
     "output_type": "display_data"
    },
    {
     "data": {
      "application/vnd.jupyter.widget-view+json": {
       "model_id": "feb64ebd5bfa4e8eb418331bf8018656",
       "version_major": 2,
       "version_minor": 0
      },
      "text/plain": [
       "Processing Myeloid cells_GSK256066 samples:   0%|          | 0/509 [00:00<?, ?it/s]"
      ]
     },
     "metadata": {},
     "output_type": "display_data"
    },
    {
     "data": {
      "application/vnd.jupyter.widget-view+json": {
       "model_id": "e2d386a71f214c8d8428552777c1f35e",
       "version_major": 2,
       "version_minor": 0
      },
      "text/plain": [
       "Processing NK cells_GSK256066 samples:   0%|          | 0/140 [00:00<?, ?it/s]"
      ]
     },
     "metadata": {},
     "output_type": "display_data"
    },
    {
     "data": {
      "application/vnd.jupyter.widget-view+json": {
       "model_id": "7f6f57e61d5244a682f00d9e147e253f",
       "version_major": 2,
       "version_minor": 0
      },
      "text/plain": [
       "Processing Myeloid cells_Tosedostat samples:   0%|          | 0/240 [00:00<?, ?it/s]"
      ]
     },
     "metadata": {},
     "output_type": "display_data"
    },
    {
     "data": {
      "application/vnd.jupyter.widget-view+json": {
       "model_id": "ba2892b904dc472dbf730ddadef488e7",
       "version_major": 2,
       "version_minor": 0
      },
      "text/plain": [
       "Processing B cells_Tosedostat samples:   0%|          | 0/219 [00:00<?, ?it/s]"
      ]
     },
     "metadata": {},
     "output_type": "display_data"
    },
    {
     "data": {
      "application/vnd.jupyter.widget-view+json": {
       "model_id": "86bfb0dc6ee64fe9beb82adb5c4913b5",
       "version_major": 2,
       "version_minor": 0
      },
      "text/plain": [
       "Processing T cells_Tosedostat samples:   0%|          | 0/843 [00:00<?, ?it/s]"
      ]
     },
     "metadata": {},
     "output_type": "display_data"
    },
    {
     "data": {
      "application/vnd.jupyter.widget-view+json": {
       "model_id": "7d9083b891da4a838c8acffdd42a77a1",
       "version_major": 2,
       "version_minor": 0
      },
      "text/plain": [
       "Processing NK cells_Tosedostat samples:   0%|          | 0/87 [00:00<?, ?it/s]"
      ]
     },
     "metadata": {},
     "output_type": "display_data"
    },
    {
     "data": {
      "application/vnd.jupyter.widget-view+json": {
       "model_id": "9175646c490148f693944384b8cc1eaa",
       "version_major": 2,
       "version_minor": 0
      },
      "text/plain": [
       "Processing T cells_Prednisolone samples:   0%|          | 0/1102 [00:00<?, ?it/s]"
      ]
     },
     "metadata": {},
     "output_type": "display_data"
    },
    {
     "data": {
      "application/vnd.jupyter.widget-view+json": {
       "model_id": "e5cb3955778345adb55e341b180e033e",
       "version_major": 2,
       "version_minor": 0
      },
      "text/plain": [
       "Processing B cells_Prednisolone samples:   0%|          | 0/226 [00:00<?, ?it/s]"
      ]
     },
     "metadata": {},
     "output_type": "display_data"
    },
    {
     "data": {
      "application/vnd.jupyter.widget-view+json": {
       "model_id": "b5f45fea91974e17ba2f92edfd51ac7f",
       "version_major": 2,
       "version_minor": 0
      },
      "text/plain": [
       "Processing Myeloid cells_Prednisolone samples:   0%|          | 0/271 [00:00<?, ?it/s]"
      ]
     },
     "metadata": {},
     "output_type": "display_data"
    },
    {
     "data": {
      "application/vnd.jupyter.widget-view+json": {
       "model_id": "3d395124bacc4323bab74e0ac46962ad",
       "version_major": 2,
       "version_minor": 0
      },
      "text/plain": [
       "Processing NK cells_Prednisolone samples:   0%|          | 0/111 [00:00<?, ?it/s]"
      ]
     },
     "metadata": {},
     "output_type": "display_data"
    },
    {
     "data": {
      "application/vnd.jupyter.widget-view+json": {
       "model_id": "cac55bfaf506400cb44f3a1f5fe1992a",
       "version_major": 2,
       "version_minor": 0
      },
      "text/plain": [
       "Processing T cells_HYDROXYUREA samples:   0%|          | 0/809 [00:00<?, ?it/s]"
      ]
     },
     "metadata": {},
     "output_type": "display_data"
    },
    {
     "data": {
      "application/vnd.jupyter.widget-view+json": {
       "model_id": "b112dcdb5bb742289197dcda8f4a647d",
       "version_major": 2,
       "version_minor": 0
      },
      "text/plain": [
       "Processing Myeloid cells_HYDROXYUREA samples:   0%|          | 0/221 [00:00<?, ?it/s]"
      ]
     },
     "metadata": {},
     "output_type": "display_data"
    },
    {
     "data": {
      "application/vnd.jupyter.widget-view+json": {
       "model_id": "6d3d480baba942ca867fa411ad57621e",
       "version_major": 2,
       "version_minor": 0
      },
      "text/plain": [
       "Processing NK cells_HYDROXYUREA samples:   0%|          | 0/115 [00:00<?, ?it/s]"
      ]
     },
     "metadata": {},
     "output_type": "display_data"
    },
    {
     "data": {
      "application/vnd.jupyter.widget-view+json": {
       "model_id": "dc004a359737417ea716a4e9ad14d75c",
       "version_major": 2,
       "version_minor": 0
      },
      "text/plain": [
       "Processing B cells_HYDROXYUREA samples:   0%|          | 0/235 [00:00<?, ?it/s]"
      ]
     },
     "metadata": {},
     "output_type": "display_data"
    },
    {
     "data": {
      "application/vnd.jupyter.widget-view+json": {
       "model_id": "b8a62bbd633f451b99b96b269f323d02",
       "version_major": 2,
       "version_minor": 0
      },
      "text/plain": [
       "Processing T cells_Decitabine samples:   0%|          | 0/913 [00:00<?, ?it/s]"
      ]
     },
     "metadata": {},
     "output_type": "display_data"
    },
    {
     "data": {
      "application/vnd.jupyter.widget-view+json": {
       "model_id": "bc1a1991ae63464287891d9fdf4def45",
       "version_major": 2,
       "version_minor": 0
      },
      "text/plain": [
       "Processing B cells_Decitabine samples:   0%|          | 0/246 [00:00<?, ?it/s]"
      ]
     },
     "metadata": {},
     "output_type": "display_data"
    },
    {
     "data": {
      "application/vnd.jupyter.widget-view+json": {
       "model_id": "1484e9901b1943e4a3f33b72877ea0c9",
       "version_major": 2,
       "version_minor": 0
      },
      "text/plain": [
       "Processing Myeloid cells_Decitabine samples:   0%|          | 0/266 [00:00<?, ?it/s]"
      ]
     },
     "metadata": {},
     "output_type": "display_data"
    },
    {
     "data": {
      "application/vnd.jupyter.widget-view+json": {
       "model_id": "70e8dac23dea42c28c3eadab69172c42",
       "version_major": 2,
       "version_minor": 0
      },
      "text/plain": [
       "Processing NK cells_Decitabine samples:   0%|          | 0/102 [00:00<?, ?it/s]"
      ]
     },
     "metadata": {},
     "output_type": "display_data"
    },
    {
     "data": {
      "application/vnd.jupyter.widget-view+json": {
       "model_id": "c1f9437270dd48eba48d400ef2f8a75f",
       "version_major": 2,
       "version_minor": 0
      },
      "text/plain": [
       "Processing T cells_CC-401 samples:   0%|          | 0/1031 [00:00<?, ?it/s]"
      ]
     },
     "metadata": {},
     "output_type": "display_data"
    },
    {
     "data": {
      "application/vnd.jupyter.widget-view+json": {
       "model_id": "3b0f4b0b82f949ac9f5ed03a40863a72",
       "version_major": 2,
       "version_minor": 0
      },
      "text/plain": [
       "Processing B cells_CC-401 samples:   0%|          | 0/303 [00:00<?, ?it/s]"
      ]
     },
     "metadata": {},
     "output_type": "display_data"
    },
    {
     "data": {
      "application/vnd.jupyter.widget-view+json": {
       "model_id": "d78dd51068ca40f6b72f90de196bf042",
       "version_major": 2,
       "version_minor": 0
      },
      "text/plain": [
       "Processing Myeloid cells_CC-401 samples:   0%|          | 0/363 [00:00<?, ?it/s]"
      ]
     },
     "metadata": {},
     "output_type": "display_data"
    },
    {
     "data": {
      "application/vnd.jupyter.widget-view+json": {
       "model_id": "76f96b387238451d9e66fd552ee81b61",
       "version_major": 2,
       "version_minor": 0
      },
      "text/plain": [
       "Processing NK cells_CC-401 samples:   0%|          | 0/122 [00:00<?, ?it/s]"
      ]
     },
     "metadata": {},
     "output_type": "display_data"
    },
    {
     "data": {
      "application/vnd.jupyter.widget-view+json": {
       "model_id": "9d7511e24d9d4bd7995348eacddd6b68",
       "version_major": 2,
       "version_minor": 0
      },
      "text/plain": [
       "Processing T cells_Saracatinib samples:   0%|          | 0/1089 [00:00<?, ?it/s]"
      ]
     },
     "metadata": {},
     "output_type": "display_data"
    },
    {
     "data": {
      "application/vnd.jupyter.widget-view+json": {
       "model_id": "17faa9da1d654d9382686538120561ee",
       "version_major": 2,
       "version_minor": 0
      },
      "text/plain": [
       "Processing Myeloid cells_Saracatinib samples:   0%|          | 0/212 [00:00<?, ?it/s]"
      ]
     },
     "metadata": {},
     "output_type": "display_data"
    },
    {
     "data": {
      "application/vnd.jupyter.widget-view+json": {
       "model_id": "660a3c20eb35494795861df0b86f2b98",
       "version_major": 2,
       "version_minor": 0
      },
      "text/plain": [
       "Processing B cells_Saracatinib samples:   0%|          | 0/253 [00:00<?, ?it/s]"
      ]
     },
     "metadata": {},
     "output_type": "display_data"
    },
    {
     "data": {
      "application/vnd.jupyter.widget-view+json": {
       "model_id": "654917dc0faf495ca8389dd8386a7be5",
       "version_major": 2,
       "version_minor": 0
      },
      "text/plain": [
       "Processing NK cells_Saracatinib samples:   0%|          | 0/118 [00:00<?, ?it/s]"
      ]
     },
     "metadata": {},
     "output_type": "display_data"
    },
    {
     "data": {
      "application/vnd.jupyter.widget-view+json": {
       "model_id": "7e32bf9b787a4601a5675586a6efad8e",
       "version_major": 2,
       "version_minor": 0
      },
      "text/plain": [
       "Processing T cells_Masitinib samples:   0%|          | 0/1174 [00:00<?, ?it/s]"
      ]
     },
     "metadata": {},
     "output_type": "display_data"
    },
    {
     "data": {
      "application/vnd.jupyter.widget-view+json": {
       "model_id": "38609e70f149427cb04ee66c948df7c5",
       "version_major": 2,
       "version_minor": 0
      },
      "text/plain": [
       "Processing NK cells_Masitinib samples:   0%|          | 0/145 [00:00<?, ?it/s]"
      ]
     },
     "metadata": {},
     "output_type": "display_data"
    },
    {
     "data": {
      "application/vnd.jupyter.widget-view+json": {
       "model_id": "fe90cddb99a64366bdf61995f4ce5ca3",
       "version_major": 2,
       "version_minor": 0
      },
      "text/plain": [
       "Processing B cells_Masitinib samples:   0%|          | 0/268 [00:00<?, ?it/s]"
      ]
     },
     "metadata": {},
     "output_type": "display_data"
    },
    {
     "data": {
      "application/vnd.jupyter.widget-view+json": {
       "model_id": "7e4f6ab652ae41ffbf761d064ecfcc05",
       "version_major": 2,
       "version_minor": 0
      },
      "text/plain": [
       "Processing Myeloid cells_Masitinib samples:   0%|          | 0/312 [00:00<?, ?it/s]"
      ]
     },
     "metadata": {},
     "output_type": "display_data"
    },
    {
     "data": {
      "application/vnd.jupyter.widget-view+json": {
       "model_id": "4c1d7be3ed6146b2a77817b1ee76b097",
       "version_major": 2,
       "version_minor": 0
      },
      "text/plain": [
       "Processing Myeloid cells_GSK-1070916 samples:   0%|          | 0/319 [00:00<?, ?it/s]"
      ]
     },
     "metadata": {},
     "output_type": "display_data"
    },
    {
     "data": {
      "application/vnd.jupyter.widget-view+json": {
       "model_id": "7983842969a647aa9b70763bc204530a",
       "version_major": 2,
       "version_minor": 0
      },
      "text/plain": [
       "Processing T cells_GSK-1070916 samples:   0%|          | 0/934 [00:00<?, ?it/s]"
      ]
     },
     "metadata": {},
     "output_type": "display_data"
    },
    {
     "data": {
      "application/vnd.jupyter.widget-view+json": {
       "model_id": "8855ffe8b164473aa4250ec13a1a9450",
       "version_major": 2,
       "version_minor": 0
      },
      "text/plain": [
       "Processing B cells_GSK-1070916 samples:   0%|          | 0/276 [00:00<?, ?it/s]"
      ]
     },
     "metadata": {},
     "output_type": "display_data"
    },
    {
     "data": {
      "application/vnd.jupyter.widget-view+json": {
       "model_id": "68320ad40b8046aab7a935bd017bd0f2",
       "version_major": 2,
       "version_minor": 0
      },
      "text/plain": [
       "Processing NK cells_GSK-1070916 samples:   0%|          | 0/138 [00:00<?, ?it/s]"
      ]
     },
     "metadata": {},
     "output_type": "display_data"
    },
    {
     "data": {
      "application/vnd.jupyter.widget-view+json": {
       "model_id": "14eaf9e231c14def96987bf3210b9c7e",
       "version_major": 2,
       "version_minor": 0
      },
      "text/plain": [
       "Processing B cells_R428 samples:   0%|          | 0/219 [00:00<?, ?it/s]"
      ]
     },
     "metadata": {},
     "output_type": "display_data"
    },
    {
     "data": {
      "application/vnd.jupyter.widget-view+json": {
       "model_id": "3a242cee5fbf46aa87c082158156cc76",
       "version_major": 2,
       "version_minor": 0
      },
      "text/plain": [
       "Processing NK cells_R428 samples:   0%|          | 0/69 [00:00<?, ?it/s]"
      ]
     },
     "metadata": {},
     "output_type": "display_data"
    },
    {
     "data": {
      "application/vnd.jupyter.widget-view+json": {
       "model_id": "60caea8d6efc49839cea5192b91c7dfc",
       "version_major": 2,
       "version_minor": 0
      },
      "text/plain": [
       "Processing T cells_R428 samples:   0%|          | 0/925 [00:00<?, ?it/s]"
      ]
     },
     "metadata": {},
     "output_type": "display_data"
    },
    {
     "data": {
      "application/vnd.jupyter.widget-view+json": {
       "model_id": "515fdccc586940b7abcfc1b8b61c53aa",
       "version_major": 2,
       "version_minor": 0
      },
      "text/plain": [
       "Processing Myeloid cells_R428 samples:   0%|          | 0/207 [00:00<?, ?it/s]"
      ]
     },
     "metadata": {},
     "output_type": "display_data"
    },
    {
     "data": {
      "application/vnd.jupyter.widget-view+json": {
       "model_id": "127204b4e31d40e39da94889ee08c9fb",
       "version_major": 2,
       "version_minor": 0
      },
      "text/plain": [
       "Processing Myeloid cells_Colchicine samples:   0%|          | 0/262 [00:00<?, ?it/s]"
      ]
     },
     "metadata": {},
     "output_type": "display_data"
    },
    {
     "data": {
      "application/vnd.jupyter.widget-view+json": {
       "model_id": "b94b1bac3f3b4374a1ab64cf9b28f8d0",
       "version_major": 2,
       "version_minor": 0
      },
      "text/plain": [
       "Processing T cells_Colchicine samples:   0%|          | 0/704 [00:00<?, ?it/s]"
      ]
     },
     "metadata": {},
     "output_type": "display_data"
    },
    {
     "data": {
      "application/vnd.jupyter.widget-view+json": {
       "model_id": "9f34ba0ac8f24713b26abaa1ccf92aff",
       "version_major": 2,
       "version_minor": 0
      },
      "text/plain": [
       "Processing B cells_Colchicine samples:   0%|          | 0/147 [00:00<?, ?it/s]"
      ]
     },
     "metadata": {},
     "output_type": "display_data"
    },
    {
     "data": {
      "application/vnd.jupyter.widget-view+json": {
       "model_id": "d6d7ceb3dc0648cf976bfa4851b0ea98",
       "version_major": 2,
       "version_minor": 0
      },
      "text/plain": [
       "Processing NK cells_Colchicine samples:   0%|          | 0/100 [00:00<?, ?it/s]"
      ]
     },
     "metadata": {},
     "output_type": "display_data"
    },
    {
     "data": {
      "application/vnd.jupyter.widget-view+json": {
       "model_id": "28cfe7c5d345444ab86d3832d1ca31ac",
       "version_major": 2,
       "version_minor": 0
      },
      "text/plain": [
       "Processing B cells_Tacalcitol samples:   0%|          | 0/258 [00:00<?, ?it/s]"
      ]
     },
     "metadata": {},
     "output_type": "display_data"
    },
    {
     "data": {
      "application/vnd.jupyter.widget-view+json": {
       "model_id": "545c75c581174f1e8e22e7168fd755b8",
       "version_major": 2,
       "version_minor": 0
      },
      "text/plain": [
       "Processing T cells_Tacalcitol samples:   0%|          | 0/1040 [00:00<?, ?it/s]"
      ]
     },
     "metadata": {},
     "output_type": "display_data"
    },
    {
     "data": {
      "application/vnd.jupyter.widget-view+json": {
       "model_id": "eddd609224c141e49bcf291cbc644817",
       "version_major": 2,
       "version_minor": 0
      },
      "text/plain": [
       "Processing Myeloid cells_Tacalcitol samples:   0%|          | 0/400 [00:00<?, ?it/s]"
      ]
     },
     "metadata": {},
     "output_type": "display_data"
    },
    {
     "data": {
      "application/vnd.jupyter.widget-view+json": {
       "model_id": "cc56e1258e4241b8b07eae975197c3eb",
       "version_major": 2,
       "version_minor": 0
      },
      "text/plain": [
       "Processing NK cells_Tacalcitol samples:   0%|          | 0/98 [00:00<?, ?it/s]"
      ]
     },
     "metadata": {},
     "output_type": "display_data"
    },
    {
     "data": {
      "application/vnd.jupyter.widget-view+json": {
       "model_id": "abf989d658c54431be9f6fc05d71cae6",
       "version_major": 2,
       "version_minor": 0
      },
      "text/plain": [
       "Processing T cells_LDN 193189 samples:   0%|          | 0/1190 [00:00<?, ?it/s]"
      ]
     },
     "metadata": {},
     "output_type": "display_data"
    },
    {
     "data": {
      "application/vnd.jupyter.widget-view+json": {
       "model_id": "10627b7a45cd419e87e6252ee52bf071",
       "version_major": 2,
       "version_minor": 0
      },
      "text/plain": [
       "Processing Myeloid cells_LDN 193189 samples:   0%|          | 0/315 [00:00<?, ?it/s]"
      ]
     },
     "metadata": {},
     "output_type": "display_data"
    },
    {
     "data": {
      "application/vnd.jupyter.widget-view+json": {
       "model_id": "42b95d4cf1bb4df49e4c59e8b4ce00ce",
       "version_major": 2,
       "version_minor": 0
      },
      "text/plain": [
       "Processing B cells_LDN 193189 samples:   0%|          | 0/292 [00:00<?, ?it/s]"
      ]
     },
     "metadata": {},
     "output_type": "display_data"
    },
    {
     "data": {
      "application/vnd.jupyter.widget-view+json": {
       "model_id": "2691b7136a9245ba8acbcf35fbc31c14",
       "version_major": 2,
       "version_minor": 0
      },
      "text/plain": [
       "Processing NK cells_LDN 193189 samples:   0%|          | 0/141 [00:00<?, ?it/s]"
      ]
     },
     "metadata": {},
     "output_type": "display_data"
    },
    {
     "data": {
      "application/vnd.jupyter.widget-view+json": {
       "model_id": "36b21be0790d40ac8592de827ea42435",
       "version_major": 2,
       "version_minor": 0
      },
      "text/plain": [
       "Processing T cells_Resminostat samples:   0%|          | 0/1160 [00:00<?, ?it/s]"
      ]
     },
     "metadata": {},
     "output_type": "display_data"
    },
    {
     "data": {
      "application/vnd.jupyter.widget-view+json": {
       "model_id": "8077237414fe4777bb3d40929925ab9b",
       "version_major": 2,
       "version_minor": 0
      },
      "text/plain": [
       "Processing B cells_Resminostat samples:   0%|          | 0/259 [00:00<?, ?it/s]"
      ]
     },
     "metadata": {},
     "output_type": "display_data"
    },
    {
     "data": {
      "application/vnd.jupyter.widget-view+json": {
       "model_id": "2b5cc41ecec6471fba296134dc409d1b",
       "version_major": 2,
       "version_minor": 0
      },
      "text/plain": [
       "Processing Myeloid cells_Resminostat samples:   0%|          | 0/161 [00:00<?, ?it/s]"
      ]
     },
     "metadata": {},
     "output_type": "display_data"
    },
    {
     "data": {
      "application/vnd.jupyter.widget-view+json": {
       "model_id": "84db9ba591ce4d1aa5c37910b5f209de",
       "version_major": 2,
       "version_minor": 0
      },
      "text/plain": [
       "Processing NK cells_Resminostat samples:   0%|          | 0/111 [00:00<?, ?it/s]"
      ]
     },
     "metadata": {},
     "output_type": "display_data"
    },
    {
     "data": {
      "application/vnd.jupyter.widget-view+json": {
       "model_id": "d732f811205140dc92aa14f0f5f60642",
       "version_major": 2,
       "version_minor": 0
      },
      "text/plain": [
       "Processing T cells_RG7112 samples:   0%|          | 0/1144 [00:00<?, ?it/s]"
      ]
     },
     "metadata": {},
     "output_type": "display_data"
    },
    {
     "data": {
      "application/vnd.jupyter.widget-view+json": {
       "model_id": "b0ac731f35cc4a6c8b9ee76024072af1",
       "version_major": 2,
       "version_minor": 0
      },
      "text/plain": [
       "Processing B cells_RG7112 samples:   0%|          | 0/341 [00:00<?, ?it/s]"
      ]
     },
     "metadata": {},
     "output_type": "display_data"
    },
    {
     "data": {
      "application/vnd.jupyter.widget-view+json": {
       "model_id": "8692f12a90c149e4a1c66202c91524da",
       "version_major": 2,
       "version_minor": 0
      },
      "text/plain": [
       "Processing Myeloid cells_RG7112 samples:   0%|          | 0/462 [00:00<?, ?it/s]"
      ]
     },
     "metadata": {},
     "output_type": "display_data"
    },
    {
     "data": {
      "application/vnd.jupyter.widget-view+json": {
       "model_id": "2ffe03fa11aa484c8d4445febd6853e7",
       "version_major": 2,
       "version_minor": 0
      },
      "text/plain": [
       "Processing NK cells_RG7112 samples:   0%|          | 0/139 [00:00<?, ?it/s]"
      ]
     },
     "metadata": {},
     "output_type": "display_data"
    },
    {
     "data": {
      "application/vnd.jupyter.widget-view+json": {
       "model_id": "62e334628f7145b39db50f7cfa6bcb15",
       "version_major": 2,
       "version_minor": 0
      },
      "text/plain": [
       "Processing T cells_Ricolinostat samples:   0%|          | 0/1046 [00:00<?, ?it/s]"
      ]
     },
     "metadata": {},
     "output_type": "display_data"
    },
    {
     "data": {
      "application/vnd.jupyter.widget-view+json": {
       "model_id": "d69829f06be04f688cdce9fe5a71bb15",
       "version_major": 2,
       "version_minor": 0
      },
      "text/plain": [
       "Processing NK cells_Ricolinostat samples:   0%|          | 0/103 [00:00<?, ?it/s]"
      ]
     },
     "metadata": {},
     "output_type": "display_data"
    },
    {
     "data": {
      "application/vnd.jupyter.widget-view+json": {
       "model_id": "731ddf38e1c84c528e992f3551de857b",
       "version_major": 2,
       "version_minor": 0
      },
      "text/plain": [
       "Processing Myeloid cells_Ricolinostat samples:   0%|          | 0/345 [00:00<?, ?it/s]"
      ]
     },
     "metadata": {},
     "output_type": "display_data"
    },
    {
     "data": {
      "application/vnd.jupyter.widget-view+json": {
       "model_id": "b1f3ebe632c744aba5752fc8d727a36a",
       "version_major": 2,
       "version_minor": 0
      },
      "text/plain": [
       "Processing B cells_Ricolinostat samples:   0%|          | 0/295 [00:00<?, ?it/s]"
      ]
     },
     "metadata": {},
     "output_type": "display_data"
    },
    {
     "data": {
      "application/vnd.jupyter.widget-view+json": {
       "model_id": "f46d9279ff964f98b03369b59a89c473",
       "version_major": 2,
       "version_minor": 0
      },
      "text/plain": [
       "Processing NK cells_Oxybenzone samples:   0%|          | 0/107 [00:00<?, ?it/s]"
      ]
     },
     "metadata": {},
     "output_type": "display_data"
    },
    {
     "data": {
      "application/vnd.jupyter.widget-view+json": {
       "model_id": "00f9927928744f3f95d805920c6e9f03",
       "version_major": 2,
       "version_minor": 0
      },
      "text/plain": [
       "Processing Myeloid cells_Oxybenzone samples:   0%|          | 0/287 [00:00<?, ?it/s]"
      ]
     },
     "metadata": {},
     "output_type": "display_data"
    },
    {
     "data": {
      "application/vnd.jupyter.widget-view+json": {
       "model_id": "c10a4adaf40d4b2a956c212db32bfd2e",
       "version_major": 2,
       "version_minor": 0
      },
      "text/plain": [
       "Processing T cells_Oxybenzone samples:   0%|          | 0/1069 [00:00<?, ?it/s]"
      ]
     },
     "metadata": {},
     "output_type": "display_data"
    },
    {
     "data": {
      "application/vnd.jupyter.widget-view+json": {
       "model_id": "df082ef0bd024a2d8b93424858d4196b",
       "version_major": 2,
       "version_minor": 0
      },
      "text/plain": [
       "Processing B cells_Oxybenzone samples:   0%|          | 0/249 [00:00<?, ?it/s]"
      ]
     },
     "metadata": {},
     "output_type": "display_data"
    },
    {
     "data": {
      "application/vnd.jupyter.widget-view+json": {
       "model_id": "467df314ae5f4d0e8f77d88b046a6262",
       "version_major": 2,
       "version_minor": 0
      },
      "text/plain": [
       "Processing Myeloid cells_ABT-199 (GDC-0199) samples:   0%|          | 0/402 [00:00<?, ?it/s]"
      ]
     },
     "metadata": {},
     "output_type": "display_data"
    },
    {
     "data": {
      "application/vnd.jupyter.widget-view+json": {
       "model_id": "90ef299a3d8842458799530dbe45ca48",
       "version_major": 2,
       "version_minor": 0
      },
      "text/plain": [
       "Processing T cells_ABT-199 (GDC-0199) samples:   0%|          | 0/817 [00:00<?, ?it/s]"
      ]
     },
     "metadata": {},
     "output_type": "display_data"
    },
    {
     "data": {
      "application/vnd.jupyter.widget-view+json": {
       "model_id": "3fbd0d6b997b4111a3c9937e33c46aaa",
       "version_major": 2,
       "version_minor": 0
      },
      "text/plain": [
       "Processing NK cells_ABT-199 (GDC-0199) samples:   0%|          | 0/115 [00:00<?, ?it/s]"
      ]
     },
     "metadata": {},
     "output_type": "display_data"
    },
    {
     "data": {
      "application/vnd.jupyter.widget-view+json": {
       "model_id": "1af9665b151c4b8fb62105822db830db",
       "version_major": 2,
       "version_minor": 0
      },
      "text/plain": [
       "Processing B cells_ABT-199 (GDC-0199) samples:   0%|          | 0/30 [00:00<?, ?it/s]"
      ]
     },
     "metadata": {},
     "output_type": "display_data"
    },
    {
     "data": {
      "application/vnd.jupyter.widget-view+json": {
       "model_id": "042542d123e64904b8dddcebc30eea5f",
       "version_major": 2,
       "version_minor": 0
      },
      "text/plain": [
       "Processing Myeloid cells_Selumetinib samples:   0%|          | 0/127 [00:00<?, ?it/s]"
      ]
     },
     "metadata": {},
     "output_type": "display_data"
    },
    {
     "data": {
      "application/vnd.jupyter.widget-view+json": {
       "model_id": "4675bc5873bc4764a0840bf385dffc67",
       "version_major": 2,
       "version_minor": 0
      },
      "text/plain": [
       "Processing T cells_Selumetinib samples:   0%|          | 0/966 [00:00<?, ?it/s]"
      ]
     },
     "metadata": {},
     "output_type": "display_data"
    },
    {
     "data": {
      "application/vnd.jupyter.widget-view+json": {
       "model_id": "a9f547ba2d5d4880a5c1111a8afaf117",
       "version_major": 2,
       "version_minor": 0
      },
      "text/plain": [
       "Processing B cells_Selumetinib samples:   0%|          | 0/254 [00:00<?, ?it/s]"
      ]
     },
     "metadata": {},
     "output_type": "display_data"
    },
    {
     "data": {
      "application/vnd.jupyter.widget-view+json": {
       "model_id": "ebb15a652ec04d69a6cbffa1060355c3",
       "version_major": 2,
       "version_minor": 0
      },
      "text/plain": [
       "Processing NK cells_Selumetinib samples:   0%|          | 0/100 [00:00<?, ?it/s]"
      ]
     },
     "metadata": {},
     "output_type": "display_data"
    },
    {
     "data": {
      "application/vnd.jupyter.widget-view+json": {
       "model_id": "a2a6852f6102483e8d83eab2167491bc",
       "version_major": 2,
       "version_minor": 0
      },
      "text/plain": [
       "Processing T cells_Cabozantinib samples:   0%|          | 0/1167 [00:00<?, ?it/s]"
      ]
     },
     "metadata": {},
     "output_type": "display_data"
    },
    {
     "data": {
      "application/vnd.jupyter.widget-view+json": {
       "model_id": "9b3c1ac8db1c41e09f9055d65f4729b5",
       "version_major": 2,
       "version_minor": 0
      },
      "text/plain": [
       "Processing B cells_Cabozantinib samples:   0%|          | 0/313 [00:00<?, ?it/s]"
      ]
     },
     "metadata": {},
     "output_type": "display_data"
    },
    {
     "data": {
      "application/vnd.jupyter.widget-view+json": {
       "model_id": "5d7db4145ddf49a99e41ea609c34b874",
       "version_major": 2,
       "version_minor": 0
      },
      "text/plain": [
       "Processing NK cells_Cabozantinib samples:   0%|          | 0/119 [00:00<?, ?it/s]"
      ]
     },
     "metadata": {},
     "output_type": "display_data"
    },
    {
     "data": {
      "application/vnd.jupyter.widget-view+json": {
       "model_id": "6e1e81bede0e498f92811db141854d61",
       "version_major": 2,
       "version_minor": 0
      },
      "text/plain": [
       "Processing Myeloid cells_Cabozantinib samples:   0%|          | 0/292 [00:00<?, ?it/s]"
      ]
     },
     "metadata": {},
     "output_type": "display_data"
    },
    {
     "data": {
      "application/vnd.jupyter.widget-view+json": {
       "model_id": "3989d27b189d4d0daf232222ad9eef0c",
       "version_major": 2,
       "version_minor": 0
      },
      "text/plain": [
       "Processing T cells_Crizotinib samples:   0%|          | 0/841 [00:00<?, ?it/s]"
      ]
     },
     "metadata": {},
     "output_type": "display_data"
    },
    {
     "data": {
      "application/vnd.jupyter.widget-view+json": {
       "model_id": "3dc1638efc16492194b3c186f9293777",
       "version_major": 2,
       "version_minor": 0
      },
      "text/plain": [
       "Processing B cells_Crizotinib samples:   0%|          | 0/215 [00:00<?, ?it/s]"
      ]
     },
     "metadata": {},
     "output_type": "display_data"
    },
    {
     "data": {
      "application/vnd.jupyter.widget-view+json": {
       "model_id": "95e8f9edc63c4ec09d6a8eb75290b2a2",
       "version_major": 2,
       "version_minor": 0
      },
      "text/plain": [
       "Processing Myeloid cells_Crizotinib samples:   0%|          | 0/113 [00:00<?, ?it/s]"
      ]
     },
     "metadata": {},
     "output_type": "display_data"
    },
    {
     "data": {
      "application/vnd.jupyter.widget-view+json": {
       "model_id": "9259978388e442d2919b1bbf997f20b5",
       "version_major": 2,
       "version_minor": 0
      },
      "text/plain": [
       "Processing NK cells_Crizotinib samples:   0%|          | 0/98 [00:00<?, ?it/s]"
      ]
     },
     "metadata": {},
     "output_type": "display_data"
    },
    {
     "data": {
      "application/vnd.jupyter.widget-view+json": {
       "model_id": "938e2b6842f547debe8d145643600104",
       "version_major": 2,
       "version_minor": 0
      },
      "text/plain": [
       "Processing T cells_Lamivudine samples:   0%|          | 0/827 [00:00<?, ?it/s]"
      ]
     },
     "metadata": {},
     "output_type": "display_data"
    },
    {
     "data": {
      "application/vnd.jupyter.widget-view+json": {
       "model_id": "0f168068c3924c3c8059f3e6cf0ad875",
       "version_major": 2,
       "version_minor": 0
      },
      "text/plain": [
       "Processing NK cells_Lamivudine samples:   0%|          | 0/120 [00:00<?, ?it/s]"
      ]
     },
     "metadata": {},
     "output_type": "display_data"
    },
    {
     "data": {
      "application/vnd.jupyter.widget-view+json": {
       "model_id": "6be8fd9e8b704e0296b0cc4fd581aa9d",
       "version_major": 2,
       "version_minor": 0
      },
      "text/plain": [
       "Processing Myeloid cells_Lamivudine samples:   0%|          | 0/229 [00:00<?, ?it/s]"
      ]
     },
     "metadata": {},
     "output_type": "display_data"
    },
    {
     "data": {
      "application/vnd.jupyter.widget-view+json": {
       "model_id": "580c70caa4a347e0b9d59002028cb76f",
       "version_major": 2,
       "version_minor": 0
      },
      "text/plain": [
       "Processing B cells_Lamivudine samples:   0%|          | 0/232 [00:00<?, ?it/s]"
      ]
     },
     "metadata": {},
     "output_type": "display_data"
    },
    {
     "data": {
      "application/vnd.jupyter.widget-view+json": {
       "model_id": "e441ee4c25484078b5db850b90e32e10",
       "version_major": 2,
       "version_minor": 0
      },
      "text/plain": [
       "Processing T cells_Ceritinib samples:   0%|          | 0/950 [00:00<?, ?it/s]"
      ]
     },
     "metadata": {},
     "output_type": "display_data"
    },
    {
     "data": {
      "application/vnd.jupyter.widget-view+json": {
       "model_id": "4944370e67e44bbebb72f6d36c990d0e",
       "version_major": 2,
       "version_minor": 0
      },
      "text/plain": [
       "Processing B cells_Ceritinib samples:   0%|          | 0/285 [00:00<?, ?it/s]"
      ]
     },
     "metadata": {},
     "output_type": "display_data"
    },
    {
     "data": {
      "application/vnd.jupyter.widget-view+json": {
       "model_id": "74ae428a72d14fbdbc686f145e9fa24f",
       "version_major": 2,
       "version_minor": 0
      },
      "text/plain": [
       "Processing NK cells_Ceritinib samples:   0%|          | 0/131 [00:00<?, ?it/s]"
      ]
     },
     "metadata": {},
     "output_type": "display_data"
    },
    {
     "data": {
      "application/vnd.jupyter.widget-view+json": {
       "model_id": "070d94aa8c804579b644081af43203db",
       "version_major": 2,
       "version_minor": 0
      },
      "text/plain": [
       "Processing Myeloid cells_Ceritinib samples:   0%|          | 0/257 [00:00<?, ?it/s]"
      ]
     },
     "metadata": {},
     "output_type": "display_data"
    },
    {
     "data": {
      "application/vnd.jupyter.widget-view+json": {
       "model_id": "8fcb3653ffb740aab330c9fff3e1fd0d",
       "version_major": 2,
       "version_minor": 0
      },
      "text/plain": [
       "Processing T cells_Bosutinib samples:   0%|          | 0/778 [00:00<?, ?it/s]"
      ]
     },
     "metadata": {},
     "output_type": "display_data"
    },
    {
     "data": {
      "application/vnd.jupyter.widget-view+json": {
       "model_id": "59e23b8d84144548b4f807f12e744162",
       "version_major": 2,
       "version_minor": 0
      },
      "text/plain": [
       "Processing B cells_Bosutinib samples:   0%|          | 0/222 [00:00<?, ?it/s]"
      ]
     },
     "metadata": {},
     "output_type": "display_data"
    },
    {
     "data": {
      "application/vnd.jupyter.widget-view+json": {
       "model_id": "5d45db713404453a84792bea9e78c797",
       "version_major": 2,
       "version_minor": 0
      },
      "text/plain": [
       "Processing Myeloid cells_Bosutinib samples:   0%|          | 0/101 [00:00<?, ?it/s]"
      ]
     },
     "metadata": {},
     "output_type": "display_data"
    },
    {
     "data": {
      "application/vnd.jupyter.widget-view+json": {
       "model_id": "bfdc25f4b18b4852928fa618a80c1d47",
       "version_major": 2,
       "version_minor": 0
      },
      "text/plain": [
       "Processing NK cells_Bosutinib samples:   0%|          | 0/111 [00:00<?, ?it/s]"
      ]
     },
     "metadata": {},
     "output_type": "display_data"
    },
    {
     "data": {
      "application/vnd.jupyter.widget-view+json": {
       "model_id": "0d72095bd07c4ee0b30a46f277a58292",
       "version_major": 2,
       "version_minor": 0
      },
      "text/plain": [
       "Processing Myeloid cells_Vandetanib samples:   0%|          | 0/229 [00:00<?, ?it/s]"
      ]
     },
     "metadata": {},
     "output_type": "display_data"
    },
    {
     "data": {
      "application/vnd.jupyter.widget-view+json": {
       "model_id": "9a96dcc9459d4cc78133f0b073e57417",
       "version_major": 2,
       "version_minor": 0
      },
      "text/plain": [
       "Processing B cells_Vandetanib samples:   0%|          | 0/219 [00:00<?, ?it/s]"
      ]
     },
     "metadata": {},
     "output_type": "display_data"
    },
    {
     "data": {
      "application/vnd.jupyter.widget-view+json": {
       "model_id": "c421b37cad884ee4b15c4cf7eb118b0a",
       "version_major": 2,
       "version_minor": 0
      },
      "text/plain": [
       "Processing T cells_Vandetanib samples:   0%|          | 0/949 [00:00<?, ?it/s]"
      ]
     },
     "metadata": {},
     "output_type": "display_data"
    },
    {
     "data": {
      "application/vnd.jupyter.widget-view+json": {
       "model_id": "c4036a9411494737a6371fb0b1048527",
       "version_major": 2,
       "version_minor": 0
      },
      "text/plain": [
       "Processing NK cells_Vandetanib samples:   0%|          | 0/123 [00:00<?, ?it/s]"
      ]
     },
     "metadata": {},
     "output_type": "display_data"
    },
    {
     "data": {
      "application/vnd.jupyter.widget-view+json": {
       "model_id": "77890d7f9e954a1da16703f95b570c26",
       "version_major": 2,
       "version_minor": 0
      },
      "text/plain": [
       "Processing T cells_Mometasone Furoate samples:   0%|          | 0/881 [00:00<?, ?it/s]"
      ]
     },
     "metadata": {},
     "output_type": "display_data"
    },
    {
     "data": {
      "application/vnd.jupyter.widget-view+json": {
       "model_id": "111ca49281184ccea8dafa3109ff0130",
       "version_major": 2,
       "version_minor": 0
      },
      "text/plain": [
       "Processing Myeloid cells_Mometasone Furoate samples:   0%|          | 0/160 [00:00<?, ?it/s]"
      ]
     },
     "metadata": {},
     "output_type": "display_data"
    },
    {
     "data": {
      "application/vnd.jupyter.widget-view+json": {
       "model_id": "8299cbe69f554d6d98d635f98f1d01be",
       "version_major": 2,
       "version_minor": 0
      },
      "text/plain": [
       "Processing B cells_Mometasone Furoate samples:   0%|          | 0/182 [00:00<?, ?it/s]"
      ]
     },
     "metadata": {},
     "output_type": "display_data"
    },
    {
     "data": {
      "application/vnd.jupyter.widget-view+json": {
       "model_id": "846f24eef0814df681bca8dbc7c5677c",
       "version_major": 2,
       "version_minor": 0
      },
      "text/plain": [
       "Processing NK cells_Mometasone Furoate samples:   0%|          | 0/78 [00:00<?, ?it/s]"
      ]
     },
     "metadata": {},
     "output_type": "display_data"
    },
    {
     "data": {
      "application/vnd.jupyter.widget-view+json": {
       "model_id": "ad6cd7b0bb4a416bae324a35cd478a83",
       "version_major": 2,
       "version_minor": 0
      },
      "text/plain": [
       "Processing B cells_Clotrimazole samples:   0%|          | 0/257 [00:00<?, ?it/s]"
      ]
     },
     "metadata": {},
     "output_type": "display_data"
    },
    {
     "data": {
      "application/vnd.jupyter.widget-view+json": {
       "model_id": "d985122017724a0a8152c7908fcd622a",
       "version_major": 2,
       "version_minor": 0
      },
      "text/plain": [
       "Processing Myeloid cells_Clotrimazole samples:   0%|          | 0/281 [00:00<?, ?it/s]"
      ]
     },
     "metadata": {},
     "output_type": "display_data"
    },
    {
     "data": {
      "application/vnd.jupyter.widget-view+json": {
       "model_id": "f3a1640346554060abd05fe30a2051b7",
       "version_major": 2,
       "version_minor": 0
      },
      "text/plain": [
       "Processing T cells_Clotrimazole samples:   0%|          | 0/1022 [00:00<?, ?it/s]"
      ]
     },
     "metadata": {},
     "output_type": "display_data"
    },
    {
     "data": {
      "application/vnd.jupyter.widget-view+json": {
       "model_id": "978946f18ae74825b8cd3df8badd46f2",
       "version_major": 2,
       "version_minor": 0
      },
      "text/plain": [
       "Processing NK cells_Clotrimazole samples:   0%|          | 0/121 [00:00<?, ?it/s]"
      ]
     },
     "metadata": {},
     "output_type": "display_data"
    },
    {
     "ename": "NameError",
     "evalue": "name 'pickle' is not defined",
     "output_type": "error",
     "traceback": [
      "\u001b[0;31m---------------------------------------------------------------------------\u001b[0m",
      "\u001b[0;31mNameError\u001b[0m                                 Traceback (most recent call last)",
      "Cell \u001b[0;32mIn[57], line 7\u001b[0m\n\u001b[1;32m      5\u001b[0m cells_train \u001b[38;5;241m=\u001b[39m create_cells(stim_data, cell_type_network, canonical_smiles)\n\u001b[1;32m      6\u001b[0m \u001b[38;5;28;01mwith\u001b[39;00m \u001b[38;5;28mopen\u001b[39m(data_path\u001b[38;5;241m+\u001b[39m\u001b[38;5;124m'\u001b[39m\u001b[38;5;124mcells_NeurIPS.pkl\u001b[39m\u001b[38;5;124m'\u001b[39m, \u001b[38;5;124m'\u001b[39m\u001b[38;5;124mwb\u001b[39m\u001b[38;5;124m'\u001b[39m) \u001b[38;5;28;01mas\u001b[39;00m f:\n\u001b[0;32m----> 7\u001b[0m     \u001b[43mpickle\u001b[49m\u001b[38;5;241m.\u001b[39mdump(cells_train, f)\n",
      "\u001b[0;31mNameError\u001b[0m: name 'pickle' is not defined"
     ]
    }
   ],
   "source": [
    "from importlib import reload\n",
    "import utils\n",
    "reload(utils)\n",
    "from utils import *\n",
    "cells_train = create_cells(stim_data, cell_type_network, canonical_smiles)\n"
   ]
  },
  {
   "cell_type": "code",
   "execution_count": 58,
   "id": "151d5f1a-277e-49ba-b840-f121a7685989",
   "metadata": {},
   "outputs": [],
   "source": [
    "import pickle\n",
    "with open(data_path+'cells_NeurIPS.pkl', 'wb') as f:\n",
    "    pickle.dump(cells_train, f)"
   ]
  },
  {
   "cell_type": "code",
   "execution_count": 59,
   "id": "5c3e4d75-661b-466c-807f-f26cd68088f5",
   "metadata": {},
   "outputs": [
    {
     "data": {
      "text/plain": [
       "View of AnnData object with n_obs × n_vars = 291793 × 5000\n",
       "    obs: 'dose_value', 'timepoint_hr', 'well', 'row', 'col', 'plate_name', 'cell_id', 'cell_type', 'split', 'donor_id', 'condition', 'control', 'SMILES', 'sm_lincs_id', 'library_id', 'leiden_res1', 'group', 'cell_type_orig', 'plate_well_celltype_reannotated', 'cell_count_by_well_celltype', 'cell_count_by_plate_well', 'n_counts', 'drug_dose_name', 'cov_drug_dose_name', 'cov_drug', 'condition_label', 'SEACell'\n",
       "    var: 'highly_variable', 'means', 'dispersions', 'dispersions_norm', 'mt', 'ribo', 'n_cells'\n",
       "    uns: 'cell_type_colors', 'celltypist_celltype_colors', 'condition_colors', 'donor_id_colors', 'hvg', 'leiden_res1_colors', 'log1p', 'neighbors', 'over_clustering', 'pca', 'rank_genes_groups', 'umap'\n",
       "    obsm: 'HTO_clr', 'X_pca', 'X_umap', 'protein_counts'\n",
       "    varm: 'PCs'\n",
       "    layers: 'counts', 'published_normalized_counts', 'raw_counts'\n",
       "    obsp: 'connectivities', 'distances'"
      ]
     },
     "execution_count": 59,
     "metadata": {},
     "output_type": "execute_result"
    }
   ],
   "source": [
    "adata.write(data_path+'Neurips_Data_Processed.h5ad')\n",
    "adata"
   ]
  },
  {
   "cell_type": "code",
   "execution_count": null,
   "id": "98612957-906e-443e-bfc2-0260e85a23be",
   "metadata": {},
   "outputs": [],
   "source": []
  }
 ],
 "metadata": {
  "kernelspec": {
   "display_name": "Python 3 (ipykernel)",
   "language": "python",
   "name": "python3"
  },
  "language_info": {
   "codemirror_mode": {
    "name": "ipython",
    "version": 3
   },
   "file_extension": ".py",
   "mimetype": "text/x-python",
   "name": "python",
   "nbconvert_exporter": "python",
   "pygments_lexer": "ipython3",
   "version": "3.8.19"
  }
 },
 "nbformat": 4,
 "nbformat_minor": 5
}
